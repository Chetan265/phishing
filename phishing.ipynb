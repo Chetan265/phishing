{
  "nbformat": 4,
  "nbformat_minor": 0,
  "metadata": {
    "colab": {
      "name": "phishing",
      "provenance": [],
      "collapsed_sections": [],
      "toc_visible": true,
      "mount_file_id": "1XDY_zkPFEUTQuivkRoAx0Xg1ueOaG9qo",
      "authorship_tag": "ABX9TyP9Z6yNgqMAeuVsb5K/gBJe",
      "include_colab_link": true
    },
    "kernelspec": {
      "name": "python3",
      "display_name": "Python 3"
    },
    "language_info": {
      "name": "python"
    }
  },
  "cells": [
    {
      "cell_type": "markdown",
      "metadata": {
        "id": "view-in-github",
        "colab_type": "text"
      },
      "source": [
        "<a href=\"https://colab.research.google.com/github/Chetan265/phishing/blob/main/phishing.ipynb\" target=\"_parent\"><img src=\"https://colab.research.google.com/assets/colab-badge.svg\" alt=\"Open In Colab\"/></a>"
      ]
    },
    {
      "cell_type": "code",
      "metadata": {
        "id": "s2sQVcmWTpG8"
      },
      "source": [
        "import pandas as pd\n",
        "import numpy as np\n",
        "import seaborn as sb\n",
        "import matplotlib.pyplot as plt\n",
        "%matplotlib inline"
      ],
      "execution_count": 1,
      "outputs": []
    },
    {
      "cell_type": "code",
      "metadata": {
        "id": "ASjBmd4cTpDX"
      },
      "source": [
        "pd.set_option(\"display.max_rows\", None, \"display.max_columns\", None)"
      ],
      "execution_count": 2,
      "outputs": []
    },
    {
      "cell_type": "code",
      "metadata": {
        "id": "VB_CtIbzTpAF",
        "colab": {
          "base_uri": "https://localhost:8080/",
          "height": 218
        },
        "outputId": "69867eb2-7c02-44d5-d964-8d7acaafd0f0"
      },
      "source": [
        "df = pd.read_csv(\"/content/drive/MyDrive/Chetan/dataset/phishing.txt\",header = None)\n",
        "df.head()"
      ],
      "execution_count": 3,
      "outputs": [
        {
          "output_type": "execute_result",
          "data": {
            "text/html": [
              "<div>\n",
              "<style scoped>\n",
              "    .dataframe tbody tr th:only-of-type {\n",
              "        vertical-align: middle;\n",
              "    }\n",
              "\n",
              "    .dataframe tbody tr th {\n",
              "        vertical-align: top;\n",
              "    }\n",
              "\n",
              "    .dataframe thead th {\n",
              "        text-align: right;\n",
              "    }\n",
              "</style>\n",
              "<table border=\"1\" class=\"dataframe\">\n",
              "  <thead>\n",
              "    <tr style=\"text-align: right;\">\n",
              "      <th></th>\n",
              "      <th>0</th>\n",
              "      <th>1</th>\n",
              "      <th>2</th>\n",
              "      <th>3</th>\n",
              "      <th>4</th>\n",
              "      <th>5</th>\n",
              "      <th>6</th>\n",
              "      <th>7</th>\n",
              "      <th>8</th>\n",
              "      <th>9</th>\n",
              "      <th>10</th>\n",
              "      <th>11</th>\n",
              "      <th>12</th>\n",
              "      <th>13</th>\n",
              "      <th>14</th>\n",
              "      <th>15</th>\n",
              "      <th>16</th>\n",
              "      <th>17</th>\n",
              "      <th>18</th>\n",
              "      <th>19</th>\n",
              "      <th>20</th>\n",
              "      <th>21</th>\n",
              "      <th>22</th>\n",
              "      <th>23</th>\n",
              "      <th>24</th>\n",
              "      <th>25</th>\n",
              "      <th>26</th>\n",
              "      <th>27</th>\n",
              "      <th>28</th>\n",
              "      <th>29</th>\n",
              "      <th>30</th>\n",
              "    </tr>\n",
              "  </thead>\n",
              "  <tbody>\n",
              "    <tr>\n",
              "      <th>0</th>\n",
              "      <td>-1</td>\n",
              "      <td>1</td>\n",
              "      <td>1</td>\n",
              "      <td>1</td>\n",
              "      <td>-1</td>\n",
              "      <td>-1</td>\n",
              "      <td>-1</td>\n",
              "      <td>-1</td>\n",
              "      <td>-1</td>\n",
              "      <td>1</td>\n",
              "      <td>1</td>\n",
              "      <td>-1</td>\n",
              "      <td>1</td>\n",
              "      <td>-1</td>\n",
              "      <td>1</td>\n",
              "      <td>-1</td>\n",
              "      <td>-1</td>\n",
              "      <td>-1</td>\n",
              "      <td>0</td>\n",
              "      <td>1</td>\n",
              "      <td>1</td>\n",
              "      <td>1</td>\n",
              "      <td>1</td>\n",
              "      <td>-1</td>\n",
              "      <td>-1</td>\n",
              "      <td>-1</td>\n",
              "      <td>-1</td>\n",
              "      <td>1</td>\n",
              "      <td>1</td>\n",
              "      <td>-1</td>\n",
              "      <td>-1</td>\n",
              "    </tr>\n",
              "    <tr>\n",
              "      <th>1</th>\n",
              "      <td>1</td>\n",
              "      <td>1</td>\n",
              "      <td>1</td>\n",
              "      <td>1</td>\n",
              "      <td>1</td>\n",
              "      <td>-1</td>\n",
              "      <td>0</td>\n",
              "      <td>1</td>\n",
              "      <td>-1</td>\n",
              "      <td>1</td>\n",
              "      <td>1</td>\n",
              "      <td>-1</td>\n",
              "      <td>1</td>\n",
              "      <td>0</td>\n",
              "      <td>-1</td>\n",
              "      <td>-1</td>\n",
              "      <td>1</td>\n",
              "      <td>1</td>\n",
              "      <td>0</td>\n",
              "      <td>1</td>\n",
              "      <td>1</td>\n",
              "      <td>1</td>\n",
              "      <td>1</td>\n",
              "      <td>-1</td>\n",
              "      <td>-1</td>\n",
              "      <td>0</td>\n",
              "      <td>-1</td>\n",
              "      <td>1</td>\n",
              "      <td>1</td>\n",
              "      <td>1</td>\n",
              "      <td>-1</td>\n",
              "    </tr>\n",
              "    <tr>\n",
              "      <th>2</th>\n",
              "      <td>1</td>\n",
              "      <td>0</td>\n",
              "      <td>1</td>\n",
              "      <td>1</td>\n",
              "      <td>1</td>\n",
              "      <td>-1</td>\n",
              "      <td>-1</td>\n",
              "      <td>-1</td>\n",
              "      <td>-1</td>\n",
              "      <td>1</td>\n",
              "      <td>1</td>\n",
              "      <td>-1</td>\n",
              "      <td>1</td>\n",
              "      <td>0</td>\n",
              "      <td>-1</td>\n",
              "      <td>-1</td>\n",
              "      <td>-1</td>\n",
              "      <td>-1</td>\n",
              "      <td>0</td>\n",
              "      <td>1</td>\n",
              "      <td>1</td>\n",
              "      <td>1</td>\n",
              "      <td>1</td>\n",
              "      <td>1</td>\n",
              "      <td>-1</td>\n",
              "      <td>1</td>\n",
              "      <td>-1</td>\n",
              "      <td>1</td>\n",
              "      <td>0</td>\n",
              "      <td>-1</td>\n",
              "      <td>-1</td>\n",
              "    </tr>\n",
              "    <tr>\n",
              "      <th>3</th>\n",
              "      <td>1</td>\n",
              "      <td>0</td>\n",
              "      <td>1</td>\n",
              "      <td>1</td>\n",
              "      <td>1</td>\n",
              "      <td>-1</td>\n",
              "      <td>-1</td>\n",
              "      <td>-1</td>\n",
              "      <td>1</td>\n",
              "      <td>1</td>\n",
              "      <td>1</td>\n",
              "      <td>-1</td>\n",
              "      <td>-1</td>\n",
              "      <td>0</td>\n",
              "      <td>0</td>\n",
              "      <td>-1</td>\n",
              "      <td>1</td>\n",
              "      <td>1</td>\n",
              "      <td>0</td>\n",
              "      <td>1</td>\n",
              "      <td>1</td>\n",
              "      <td>1</td>\n",
              "      <td>1</td>\n",
              "      <td>-1</td>\n",
              "      <td>-1</td>\n",
              "      <td>1</td>\n",
              "      <td>-1</td>\n",
              "      <td>1</td>\n",
              "      <td>-1</td>\n",
              "      <td>1</td>\n",
              "      <td>-1</td>\n",
              "    </tr>\n",
              "    <tr>\n",
              "      <th>4</th>\n",
              "      <td>1</td>\n",
              "      <td>0</td>\n",
              "      <td>-1</td>\n",
              "      <td>1</td>\n",
              "      <td>1</td>\n",
              "      <td>-1</td>\n",
              "      <td>1</td>\n",
              "      <td>1</td>\n",
              "      <td>-1</td>\n",
              "      <td>1</td>\n",
              "      <td>1</td>\n",
              "      <td>1</td>\n",
              "      <td>1</td>\n",
              "      <td>0</td>\n",
              "      <td>0</td>\n",
              "      <td>-1</td>\n",
              "      <td>1</td>\n",
              "      <td>1</td>\n",
              "      <td>0</td>\n",
              "      <td>-1</td>\n",
              "      <td>1</td>\n",
              "      <td>-1</td>\n",
              "      <td>1</td>\n",
              "      <td>-1</td>\n",
              "      <td>-1</td>\n",
              "      <td>0</td>\n",
              "      <td>-1</td>\n",
              "      <td>1</td>\n",
              "      <td>1</td>\n",
              "      <td>1</td>\n",
              "      <td>1</td>\n",
              "    </tr>\n",
              "  </tbody>\n",
              "</table>\n",
              "</div>"
            ],
            "text/plain": [
              "   0   1   2   3   4   5   6   7   8   9   10  11  12  13  14  15  16  17  18  \\\n",
              "0  -1   1   1   1  -1  -1  -1  -1  -1   1   1  -1   1  -1   1  -1  -1  -1   0   \n",
              "1   1   1   1   1   1  -1   0   1  -1   1   1  -1   1   0  -1  -1   1   1   0   \n",
              "2   1   0   1   1   1  -1  -1  -1  -1   1   1  -1   1   0  -1  -1  -1  -1   0   \n",
              "3   1   0   1   1   1  -1  -1  -1   1   1   1  -1  -1   0   0  -1   1   1   0   \n",
              "4   1   0  -1   1   1  -1   1   1  -1   1   1   1   1   0   0  -1   1   1   0   \n",
              "\n",
              "   19  20  21  22  23  24  25  26  27  28  29  30  \n",
              "0   1   1   1   1  -1  -1  -1  -1   1   1  -1  -1  \n",
              "1   1   1   1   1  -1  -1   0  -1   1   1   1  -1  \n",
              "2   1   1   1   1   1  -1   1  -1   1   0  -1  -1  \n",
              "3   1   1   1   1  -1  -1   1  -1   1  -1   1  -1  \n",
              "4  -1   1  -1   1  -1  -1   0  -1   1   1   1   1  "
            ]
          },
          "metadata": {
            "tags": []
          },
          "execution_count": 3
        }
      ]
    },
    {
      "cell_type": "code",
      "metadata": {
        "id": "tpoUEx0TTo-o",
        "colab": {
          "base_uri": "https://localhost:8080/",
          "height": 218
        },
        "outputId": "038c7da4-f0cf-42dc-d442-2c3731a7b324"
      },
      "source": [
        "df.columns =['UsingIP', 'LongURL', 'ShortURL', 'Symbol@', 'Redirecting//','PrefixSuffix-', 'SubDomains', 'HTTPS',\n",
        "             'DomainRegLen', 'Favicon','NonStdPort', 'HTTPSDomainURL', 'RequestURL', 'AnchorURL','LinksInScriptTags',\n",
        "             'ServerFormHandler', 'InfoEmail', 'AbnormalURL','WebsiteForwarding', 'StatusBarCust', 'DisableRightClick',\n",
        "             'UsingPopupWindow', 'IframeRedirection', 'AgeofDomain','DNSRecording', 'WebsiteTraffic', 'PageRank',\n",
        "             'GoogleIndex','LinksPointingToPage', 'StatsReport', 'class']\n",
        "df.head()"
      ],
      "execution_count": 4,
      "outputs": [
        {
          "output_type": "execute_result",
          "data": {
            "text/html": [
              "<div>\n",
              "<style scoped>\n",
              "    .dataframe tbody tr th:only-of-type {\n",
              "        vertical-align: middle;\n",
              "    }\n",
              "\n",
              "    .dataframe tbody tr th {\n",
              "        vertical-align: top;\n",
              "    }\n",
              "\n",
              "    .dataframe thead th {\n",
              "        text-align: right;\n",
              "    }\n",
              "</style>\n",
              "<table border=\"1\" class=\"dataframe\">\n",
              "  <thead>\n",
              "    <tr style=\"text-align: right;\">\n",
              "      <th></th>\n",
              "      <th>UsingIP</th>\n",
              "      <th>LongURL</th>\n",
              "      <th>ShortURL</th>\n",
              "      <th>Symbol@</th>\n",
              "      <th>Redirecting//</th>\n",
              "      <th>PrefixSuffix-</th>\n",
              "      <th>SubDomains</th>\n",
              "      <th>HTTPS</th>\n",
              "      <th>DomainRegLen</th>\n",
              "      <th>Favicon</th>\n",
              "      <th>NonStdPort</th>\n",
              "      <th>HTTPSDomainURL</th>\n",
              "      <th>RequestURL</th>\n",
              "      <th>AnchorURL</th>\n",
              "      <th>LinksInScriptTags</th>\n",
              "      <th>ServerFormHandler</th>\n",
              "      <th>InfoEmail</th>\n",
              "      <th>AbnormalURL</th>\n",
              "      <th>WebsiteForwarding</th>\n",
              "      <th>StatusBarCust</th>\n",
              "      <th>DisableRightClick</th>\n",
              "      <th>UsingPopupWindow</th>\n",
              "      <th>IframeRedirection</th>\n",
              "      <th>AgeofDomain</th>\n",
              "      <th>DNSRecording</th>\n",
              "      <th>WebsiteTraffic</th>\n",
              "      <th>PageRank</th>\n",
              "      <th>GoogleIndex</th>\n",
              "      <th>LinksPointingToPage</th>\n",
              "      <th>StatsReport</th>\n",
              "      <th>class</th>\n",
              "    </tr>\n",
              "  </thead>\n",
              "  <tbody>\n",
              "    <tr>\n",
              "      <th>0</th>\n",
              "      <td>-1</td>\n",
              "      <td>1</td>\n",
              "      <td>1</td>\n",
              "      <td>1</td>\n",
              "      <td>-1</td>\n",
              "      <td>-1</td>\n",
              "      <td>-1</td>\n",
              "      <td>-1</td>\n",
              "      <td>-1</td>\n",
              "      <td>1</td>\n",
              "      <td>1</td>\n",
              "      <td>-1</td>\n",
              "      <td>1</td>\n",
              "      <td>-1</td>\n",
              "      <td>1</td>\n",
              "      <td>-1</td>\n",
              "      <td>-1</td>\n",
              "      <td>-1</td>\n",
              "      <td>0</td>\n",
              "      <td>1</td>\n",
              "      <td>1</td>\n",
              "      <td>1</td>\n",
              "      <td>1</td>\n",
              "      <td>-1</td>\n",
              "      <td>-1</td>\n",
              "      <td>-1</td>\n",
              "      <td>-1</td>\n",
              "      <td>1</td>\n",
              "      <td>1</td>\n",
              "      <td>-1</td>\n",
              "      <td>-1</td>\n",
              "    </tr>\n",
              "    <tr>\n",
              "      <th>1</th>\n",
              "      <td>1</td>\n",
              "      <td>1</td>\n",
              "      <td>1</td>\n",
              "      <td>1</td>\n",
              "      <td>1</td>\n",
              "      <td>-1</td>\n",
              "      <td>0</td>\n",
              "      <td>1</td>\n",
              "      <td>-1</td>\n",
              "      <td>1</td>\n",
              "      <td>1</td>\n",
              "      <td>-1</td>\n",
              "      <td>1</td>\n",
              "      <td>0</td>\n",
              "      <td>-1</td>\n",
              "      <td>-1</td>\n",
              "      <td>1</td>\n",
              "      <td>1</td>\n",
              "      <td>0</td>\n",
              "      <td>1</td>\n",
              "      <td>1</td>\n",
              "      <td>1</td>\n",
              "      <td>1</td>\n",
              "      <td>-1</td>\n",
              "      <td>-1</td>\n",
              "      <td>0</td>\n",
              "      <td>-1</td>\n",
              "      <td>1</td>\n",
              "      <td>1</td>\n",
              "      <td>1</td>\n",
              "      <td>-1</td>\n",
              "    </tr>\n",
              "    <tr>\n",
              "      <th>2</th>\n",
              "      <td>1</td>\n",
              "      <td>0</td>\n",
              "      <td>1</td>\n",
              "      <td>1</td>\n",
              "      <td>1</td>\n",
              "      <td>-1</td>\n",
              "      <td>-1</td>\n",
              "      <td>-1</td>\n",
              "      <td>-1</td>\n",
              "      <td>1</td>\n",
              "      <td>1</td>\n",
              "      <td>-1</td>\n",
              "      <td>1</td>\n",
              "      <td>0</td>\n",
              "      <td>-1</td>\n",
              "      <td>-1</td>\n",
              "      <td>-1</td>\n",
              "      <td>-1</td>\n",
              "      <td>0</td>\n",
              "      <td>1</td>\n",
              "      <td>1</td>\n",
              "      <td>1</td>\n",
              "      <td>1</td>\n",
              "      <td>1</td>\n",
              "      <td>-1</td>\n",
              "      <td>1</td>\n",
              "      <td>-1</td>\n",
              "      <td>1</td>\n",
              "      <td>0</td>\n",
              "      <td>-1</td>\n",
              "      <td>-1</td>\n",
              "    </tr>\n",
              "    <tr>\n",
              "      <th>3</th>\n",
              "      <td>1</td>\n",
              "      <td>0</td>\n",
              "      <td>1</td>\n",
              "      <td>1</td>\n",
              "      <td>1</td>\n",
              "      <td>-1</td>\n",
              "      <td>-1</td>\n",
              "      <td>-1</td>\n",
              "      <td>1</td>\n",
              "      <td>1</td>\n",
              "      <td>1</td>\n",
              "      <td>-1</td>\n",
              "      <td>-1</td>\n",
              "      <td>0</td>\n",
              "      <td>0</td>\n",
              "      <td>-1</td>\n",
              "      <td>1</td>\n",
              "      <td>1</td>\n",
              "      <td>0</td>\n",
              "      <td>1</td>\n",
              "      <td>1</td>\n",
              "      <td>1</td>\n",
              "      <td>1</td>\n",
              "      <td>-1</td>\n",
              "      <td>-1</td>\n",
              "      <td>1</td>\n",
              "      <td>-1</td>\n",
              "      <td>1</td>\n",
              "      <td>-1</td>\n",
              "      <td>1</td>\n",
              "      <td>-1</td>\n",
              "    </tr>\n",
              "    <tr>\n",
              "      <th>4</th>\n",
              "      <td>1</td>\n",
              "      <td>0</td>\n",
              "      <td>-1</td>\n",
              "      <td>1</td>\n",
              "      <td>1</td>\n",
              "      <td>-1</td>\n",
              "      <td>1</td>\n",
              "      <td>1</td>\n",
              "      <td>-1</td>\n",
              "      <td>1</td>\n",
              "      <td>1</td>\n",
              "      <td>1</td>\n",
              "      <td>1</td>\n",
              "      <td>0</td>\n",
              "      <td>0</td>\n",
              "      <td>-1</td>\n",
              "      <td>1</td>\n",
              "      <td>1</td>\n",
              "      <td>0</td>\n",
              "      <td>-1</td>\n",
              "      <td>1</td>\n",
              "      <td>-1</td>\n",
              "      <td>1</td>\n",
              "      <td>-1</td>\n",
              "      <td>-1</td>\n",
              "      <td>0</td>\n",
              "      <td>-1</td>\n",
              "      <td>1</td>\n",
              "      <td>1</td>\n",
              "      <td>1</td>\n",
              "      <td>1</td>\n",
              "    </tr>\n",
              "  </tbody>\n",
              "</table>\n",
              "</div>"
            ],
            "text/plain": [
              "   UsingIP  LongURL  ShortURL  Symbol@  Redirecting//  PrefixSuffix-  \\\n",
              "0       -1        1         1        1             -1             -1   \n",
              "1        1        1         1        1              1             -1   \n",
              "2        1        0         1        1              1             -1   \n",
              "3        1        0         1        1              1             -1   \n",
              "4        1        0        -1        1              1             -1   \n",
              "\n",
              "   SubDomains  HTTPS  DomainRegLen  Favicon  NonStdPort  HTTPSDomainURL  \\\n",
              "0          -1     -1            -1        1           1              -1   \n",
              "1           0      1            -1        1           1              -1   \n",
              "2          -1     -1            -1        1           1              -1   \n",
              "3          -1     -1             1        1           1              -1   \n",
              "4           1      1            -1        1           1               1   \n",
              "\n",
              "   RequestURL  AnchorURL  LinksInScriptTags  ServerFormHandler  InfoEmail  \\\n",
              "0           1         -1                  1                 -1         -1   \n",
              "1           1          0                 -1                 -1          1   \n",
              "2           1          0                 -1                 -1         -1   \n",
              "3          -1          0                  0                 -1          1   \n",
              "4           1          0                  0                 -1          1   \n",
              "\n",
              "   AbnormalURL  WebsiteForwarding  StatusBarCust  DisableRightClick  \\\n",
              "0           -1                  0              1                  1   \n",
              "1            1                  0              1                  1   \n",
              "2           -1                  0              1                  1   \n",
              "3            1                  0              1                  1   \n",
              "4            1                  0             -1                  1   \n",
              "\n",
              "   UsingPopupWindow  IframeRedirection  AgeofDomain  DNSRecording  \\\n",
              "0                 1                  1           -1            -1   \n",
              "1                 1                  1           -1            -1   \n",
              "2                 1                  1            1            -1   \n",
              "3                 1                  1           -1            -1   \n",
              "4                -1                  1           -1            -1   \n",
              "\n",
              "   WebsiteTraffic  PageRank  GoogleIndex  LinksPointingToPage  StatsReport  \\\n",
              "0              -1        -1            1                    1           -1   \n",
              "1               0        -1            1                    1            1   \n",
              "2               1        -1            1                    0           -1   \n",
              "3               1        -1            1                   -1            1   \n",
              "4               0        -1            1                    1            1   \n",
              "\n",
              "   class  \n",
              "0     -1  \n",
              "1     -1  \n",
              "2     -1  \n",
              "3     -1  \n",
              "4      1  "
            ]
          },
          "metadata": {
            "tags": []
          },
          "execution_count": 4
        }
      ]
    },
    {
      "cell_type": "code",
      "metadata": {
        "colab": {
          "base_uri": "https://localhost:8080/"
        },
        "id": "_diiFZDcSNmM",
        "outputId": "baa229b7-b648-443f-9ffc-0a9e49b8b170"
      },
      "source": [
        "df.shape"
      ],
      "execution_count": 5,
      "outputs": [
        {
          "output_type": "execute_result",
          "data": {
            "text/plain": [
              "(11055, 31)"
            ]
          },
          "metadata": {
            "tags": []
          },
          "execution_count": 5
        }
      ]
    },
    {
      "cell_type": "code",
      "metadata": {
        "colab": {
          "base_uri": "https://localhost:8080/"
        },
        "id": "YYYdjXth-eI7",
        "outputId": "23ebb231-8849-4a95-eb2f-63300195cbcd"
      },
      "source": [
        "df.info()"
      ],
      "execution_count": 6,
      "outputs": [
        {
          "output_type": "stream",
          "text": [
            "<class 'pandas.core.frame.DataFrame'>\n",
            "RangeIndex: 11055 entries, 0 to 11054\n",
            "Data columns (total 31 columns):\n",
            " #   Column               Non-Null Count  Dtype\n",
            "---  ------               --------------  -----\n",
            " 0   UsingIP              11055 non-null  int64\n",
            " 1   LongURL              11055 non-null  int64\n",
            " 2   ShortURL             11055 non-null  int64\n",
            " 3   Symbol@              11055 non-null  int64\n",
            " 4   Redirecting//        11055 non-null  int64\n",
            " 5   PrefixSuffix-        11055 non-null  int64\n",
            " 6   SubDomains           11055 non-null  int64\n",
            " 7   HTTPS                11055 non-null  int64\n",
            " 8   DomainRegLen         11055 non-null  int64\n",
            " 9   Favicon              11055 non-null  int64\n",
            " 10  NonStdPort           11055 non-null  int64\n",
            " 11  HTTPSDomainURL       11055 non-null  int64\n",
            " 12  RequestURL           11055 non-null  int64\n",
            " 13  AnchorURL            11055 non-null  int64\n",
            " 14  LinksInScriptTags    11055 non-null  int64\n",
            " 15  ServerFormHandler    11055 non-null  int64\n",
            " 16  InfoEmail            11055 non-null  int64\n",
            " 17  AbnormalURL          11055 non-null  int64\n",
            " 18  WebsiteForwarding    11055 non-null  int64\n",
            " 19  StatusBarCust        11055 non-null  int64\n",
            " 20  DisableRightClick    11055 non-null  int64\n",
            " 21  UsingPopupWindow     11055 non-null  int64\n",
            " 22  IframeRedirection    11055 non-null  int64\n",
            " 23  AgeofDomain          11055 non-null  int64\n",
            " 24  DNSRecording         11055 non-null  int64\n",
            " 25  WebsiteTraffic       11055 non-null  int64\n",
            " 26  PageRank             11055 non-null  int64\n",
            " 27  GoogleIndex          11055 non-null  int64\n",
            " 28  LinksPointingToPage  11055 non-null  int64\n",
            " 29  StatsReport          11055 non-null  int64\n",
            " 30  class                11055 non-null  int64\n",
            "dtypes: int64(31)\n",
            "memory usage: 2.6 MB\n"
          ],
          "name": "stdout"
        }
      ]
    },
    {
      "cell_type": "code",
      "metadata": {
        "colab": {
          "base_uri": "https://localhost:8080/",
          "height": 998
        },
        "id": "U5J3IZuX-eCq",
        "outputId": "cbf331ea-c6e8-4494-c8d8-0dc60dc10de0"
      },
      "source": [
        "df.corr()"
      ],
      "execution_count": 7,
      "outputs": [
        {
          "output_type": "execute_result",
          "data": {
            "text/html": [
              "<div>\n",
              "<style scoped>\n",
              "    .dataframe tbody tr th:only-of-type {\n",
              "        vertical-align: middle;\n",
              "    }\n",
              "\n",
              "    .dataframe tbody tr th {\n",
              "        vertical-align: top;\n",
              "    }\n",
              "\n",
              "    .dataframe thead th {\n",
              "        text-align: right;\n",
              "    }\n",
              "</style>\n",
              "<table border=\"1\" class=\"dataframe\">\n",
              "  <thead>\n",
              "    <tr style=\"text-align: right;\">\n",
              "      <th></th>\n",
              "      <th>UsingIP</th>\n",
              "      <th>LongURL</th>\n",
              "      <th>ShortURL</th>\n",
              "      <th>Symbol@</th>\n",
              "      <th>Redirecting//</th>\n",
              "      <th>PrefixSuffix-</th>\n",
              "      <th>SubDomains</th>\n",
              "      <th>HTTPS</th>\n",
              "      <th>DomainRegLen</th>\n",
              "      <th>Favicon</th>\n",
              "      <th>NonStdPort</th>\n",
              "      <th>HTTPSDomainURL</th>\n",
              "      <th>RequestURL</th>\n",
              "      <th>AnchorURL</th>\n",
              "      <th>LinksInScriptTags</th>\n",
              "      <th>ServerFormHandler</th>\n",
              "      <th>InfoEmail</th>\n",
              "      <th>AbnormalURL</th>\n",
              "      <th>WebsiteForwarding</th>\n",
              "      <th>StatusBarCust</th>\n",
              "      <th>DisableRightClick</th>\n",
              "      <th>UsingPopupWindow</th>\n",
              "      <th>IframeRedirection</th>\n",
              "      <th>AgeofDomain</th>\n",
              "      <th>DNSRecording</th>\n",
              "      <th>WebsiteTraffic</th>\n",
              "      <th>PageRank</th>\n",
              "      <th>GoogleIndex</th>\n",
              "      <th>LinksPointingToPage</th>\n",
              "      <th>StatsReport</th>\n",
              "      <th>class</th>\n",
              "    </tr>\n",
              "  </thead>\n",
              "  <tbody>\n",
              "    <tr>\n",
              "      <th>UsingIP</th>\n",
              "      <td>1.000000</td>\n",
              "      <td>-0.052411</td>\n",
              "      <td>0.403461</td>\n",
              "      <td>0.158699</td>\n",
              "      <td>0.397389</td>\n",
              "      <td>-0.005257</td>\n",
              "      <td>-0.080745</td>\n",
              "      <td>0.071414</td>\n",
              "      <td>-0.022739</td>\n",
              "      <td>0.087025</td>\n",
              "      <td>0.060979</td>\n",
              "      <td>0.363534</td>\n",
              "      <td>0.029773</td>\n",
              "      <td>0.099847</td>\n",
              "      <td>0.006212</td>\n",
              "      <td>-0.010962</td>\n",
              "      <td>0.077989</td>\n",
              "      <td>0.336549</td>\n",
              "      <td>-0.321181</td>\n",
              "      <td>0.084059</td>\n",
              "      <td>0.042881</td>\n",
              "      <td>0.096882</td>\n",
              "      <td>0.054694</td>\n",
              "      <td>-0.010446</td>\n",
              "      <td>-0.050733</td>\n",
              "      <td>0.002922</td>\n",
              "      <td>-0.091774</td>\n",
              "      <td>0.029153</td>\n",
              "      <td>-0.339065</td>\n",
              "      <td>-0.019103</td>\n",
              "      <td>0.094160</td>\n",
              "    </tr>\n",
              "    <tr>\n",
              "      <th>LongURL</th>\n",
              "      <td>-0.052411</td>\n",
              "      <td>1.000000</td>\n",
              "      <td>-0.097881</td>\n",
              "      <td>-0.075108</td>\n",
              "      <td>-0.081247</td>\n",
              "      <td>0.055247</td>\n",
              "      <td>0.003997</td>\n",
              "      <td>0.048754</td>\n",
              "      <td>-0.221892</td>\n",
              "      <td>-0.042497</td>\n",
              "      <td>0.000323</td>\n",
              "      <td>-0.089383</td>\n",
              "      <td>0.246348</td>\n",
              "      <td>-0.023396</td>\n",
              "      <td>0.052869</td>\n",
              "      <td>0.414196</td>\n",
              "      <td>-0.014457</td>\n",
              "      <td>-0.106761</td>\n",
              "      <td>0.046832</td>\n",
              "      <td>-0.045103</td>\n",
              "      <td>-0.013613</td>\n",
              "      <td>-0.049381</td>\n",
              "      <td>-0.013838</td>\n",
              "      <td>0.179426</td>\n",
              "      <td>-0.040823</td>\n",
              "      <td>0.008993</td>\n",
              "      <td>0.183518</td>\n",
              "      <td>0.002902</td>\n",
              "      <td>-0.022987</td>\n",
              "      <td>-0.067153</td>\n",
              "      <td>0.057430</td>\n",
              "    </tr>\n",
              "    <tr>\n",
              "      <th>ShortURL</th>\n",
              "      <td>0.403461</td>\n",
              "      <td>-0.097881</td>\n",
              "      <td>1.000000</td>\n",
              "      <td>0.104447</td>\n",
              "      <td>0.842796</td>\n",
              "      <td>-0.080471</td>\n",
              "      <td>-0.041916</td>\n",
              "      <td>-0.061426</td>\n",
              "      <td>0.060923</td>\n",
              "      <td>0.006101</td>\n",
              "      <td>0.002201</td>\n",
              "      <td>0.757838</td>\n",
              "      <td>-0.037235</td>\n",
              "      <td>0.000561</td>\n",
              "      <td>-0.133379</td>\n",
              "      <td>-0.022723</td>\n",
              "      <td>0.049328</td>\n",
              "      <td>0.739290</td>\n",
              "      <td>-0.534530</td>\n",
              "      <td>0.062383</td>\n",
              "      <td>0.038118</td>\n",
              "      <td>0.036616</td>\n",
              "      <td>0.016581</td>\n",
              "      <td>-0.052596</td>\n",
              "      <td>0.436064</td>\n",
              "      <td>-0.047074</td>\n",
              "      <td>0.014591</td>\n",
              "      <td>0.155844</td>\n",
              "      <td>-0.198410</td>\n",
              "      <td>0.085461</td>\n",
              "      <td>-0.067966</td>\n",
              "    </tr>\n",
              "    <tr>\n",
              "      <th>Symbol@</th>\n",
              "      <td>0.158699</td>\n",
              "      <td>-0.075108</td>\n",
              "      <td>0.104447</td>\n",
              "      <td>1.000000</td>\n",
              "      <td>0.086960</td>\n",
              "      <td>-0.011726</td>\n",
              "      <td>-0.058976</td>\n",
              "      <td>0.031220</td>\n",
              "      <td>0.015522</td>\n",
              "      <td>0.304899</td>\n",
              "      <td>0.364891</td>\n",
              "      <td>0.104561</td>\n",
              "      <td>0.027909</td>\n",
              "      <td>0.057914</td>\n",
              "      <td>-0.070861</td>\n",
              "      <td>-0.008672</td>\n",
              "      <td>0.370123</td>\n",
              "      <td>0.203945</td>\n",
              "      <td>-0.028160</td>\n",
              "      <td>0.279697</td>\n",
              "      <td>0.219503</td>\n",
              "      <td>0.290893</td>\n",
              "      <td>0.284410</td>\n",
              "      <td>-0.005499</td>\n",
              "      <td>-0.047872</td>\n",
              "      <td>0.032918</td>\n",
              "      <td>-0.064735</td>\n",
              "      <td>0.037061</td>\n",
              "      <td>-0.006080</td>\n",
              "      <td>-0.080357</td>\n",
              "      <td>0.052948</td>\n",
              "    </tr>\n",
              "    <tr>\n",
              "      <th>Redirecting//</th>\n",
              "      <td>0.397389</td>\n",
              "      <td>-0.081247</td>\n",
              "      <td>0.842796</td>\n",
              "      <td>0.086960</td>\n",
              "      <td>1.000000</td>\n",
              "      <td>-0.085590</td>\n",
              "      <td>-0.043079</td>\n",
              "      <td>-0.036200</td>\n",
              "      <td>0.047464</td>\n",
              "      <td>0.035100</td>\n",
              "      <td>0.025060</td>\n",
              "      <td>0.760799</td>\n",
              "      <td>-0.026368</td>\n",
              "      <td>-0.005036</td>\n",
              "      <td>-0.125583</td>\n",
              "      <td>-0.041672</td>\n",
              "      <td>0.031898</td>\n",
              "      <td>0.723724</td>\n",
              "      <td>-0.591478</td>\n",
              "      <td>0.086635</td>\n",
              "      <td>0.025863</td>\n",
              "      <td>0.054463</td>\n",
              "      <td>0.010459</td>\n",
              "      <td>-0.050107</td>\n",
              "      <td>0.431409</td>\n",
              "      <td>-0.062369</td>\n",
              "      <td>-0.003132</td>\n",
              "      <td>0.178415</td>\n",
              "      <td>-0.194165</td>\n",
              "      <td>0.070390</td>\n",
              "      <td>-0.038608</td>\n",
              "    </tr>\n",
              "    <tr>\n",
              "      <th>PrefixSuffix-</th>\n",
              "      <td>-0.005257</td>\n",
              "      <td>0.055247</td>\n",
              "      <td>-0.080471</td>\n",
              "      <td>-0.011726</td>\n",
              "      <td>-0.085590</td>\n",
              "      <td>1.000000</td>\n",
              "      <td>0.087891</td>\n",
              "      <td>0.261391</td>\n",
              "      <td>-0.096799</td>\n",
              "      <td>-0.007504</td>\n",
              "      <td>-0.022546</td>\n",
              "      <td>-0.070153</td>\n",
              "      <td>0.098675</td>\n",
              "      <td>0.348871</td>\n",
              "      <td>0.100254</td>\n",
              "      <td>0.001326</td>\n",
              "      <td>-0.045000</td>\n",
              "      <td>-0.077620</td>\n",
              "      <td>0.016271</td>\n",
              "      <td>0.012578</td>\n",
              "      <td>-0.024868</td>\n",
              "      <td>-0.014733</td>\n",
              "      <td>-0.036904</td>\n",
              "      <td>0.074116</td>\n",
              "      <td>-0.016556</td>\n",
              "      <td>0.110598</td>\n",
              "      <td>-0.006834</td>\n",
              "      <td>0.067781</td>\n",
              "      <td>0.067423</td>\n",
              "      <td>-0.002763</td>\n",
              "      <td>0.348606</td>\n",
              "    </tr>\n",
              "    <tr>\n",
              "      <th>SubDomains</th>\n",
              "      <td>-0.080745</td>\n",
              "      <td>0.003997</td>\n",
              "      <td>-0.041916</td>\n",
              "      <td>-0.058976</td>\n",
              "      <td>-0.043079</td>\n",
              "      <td>0.087891</td>\n",
              "      <td>1.000000</td>\n",
              "      <td>0.267649</td>\n",
              "      <td>-0.082839</td>\n",
              "      <td>-0.016704</td>\n",
              "      <td>0.004863</td>\n",
              "      <td>-0.037239</td>\n",
              "      <td>0.104857</td>\n",
              "      <td>0.229491</td>\n",
              "      <td>0.093646</td>\n",
              "      <td>0.096089</td>\n",
              "      <td>0.008830</td>\n",
              "      <td>-0.034908</td>\n",
              "      <td>0.031206</td>\n",
              "      <td>-0.018082</td>\n",
              "      <td>0.018230</td>\n",
              "      <td>-0.025312</td>\n",
              "      <td>0.010637</td>\n",
              "      <td>0.119254</td>\n",
              "      <td>0.125493</td>\n",
              "      <td>-0.005764</td>\n",
              "      <td>0.120730</td>\n",
              "      <td>0.057673</td>\n",
              "      <td>-0.010526</td>\n",
              "      <td>0.081627</td>\n",
              "      <td>0.298323</td>\n",
              "    </tr>\n",
              "    <tr>\n",
              "      <th>HTTPS</th>\n",
              "      <td>0.071414</td>\n",
              "      <td>0.048754</td>\n",
              "      <td>-0.061426</td>\n",
              "      <td>0.031220</td>\n",
              "      <td>-0.036200</td>\n",
              "      <td>0.261391</td>\n",
              "      <td>0.267649</td>\n",
              "      <td>1.000000</td>\n",
              "      <td>-0.193622</td>\n",
              "      <td>-0.014757</td>\n",
              "      <td>0.027473</td>\n",
              "      <td>-0.029941</td>\n",
              "      <td>0.193054</td>\n",
              "      <td>0.535786</td>\n",
              "      <td>0.176825</td>\n",
              "      <td>0.171402</td>\n",
              "      <td>0.008062</td>\n",
              "      <td>-0.046245</td>\n",
              "      <td>-0.021070</td>\n",
              "      <td>0.023586</td>\n",
              "      <td>0.015854</td>\n",
              "      <td>-0.013005</td>\n",
              "      <td>-0.002773</td>\n",
              "      <td>0.162809</td>\n",
              "      <td>0.050972</td>\n",
              "      <td>0.258768</td>\n",
              "      <td>0.074545</td>\n",
              "      <td>0.096051</td>\n",
              "      <td>-0.011710</td>\n",
              "      <td>0.063411</td>\n",
              "      <td>0.714741</td>\n",
              "    </tr>\n",
              "    <tr>\n",
              "      <th>DomainRegLen</th>\n",
              "      <td>-0.022739</td>\n",
              "      <td>-0.221892</td>\n",
              "      <td>0.060923</td>\n",
              "      <td>0.015522</td>\n",
              "      <td>0.047464</td>\n",
              "      <td>-0.096799</td>\n",
              "      <td>-0.082839</td>\n",
              "      <td>-0.193622</td>\n",
              "      <td>1.000000</td>\n",
              "      <td>0.054253</td>\n",
              "      <td>0.022478</td>\n",
              "      <td>0.059161</td>\n",
              "      <td>-0.609970</td>\n",
              "      <td>-0.160257</td>\n",
              "      <td>-0.101084</td>\n",
              "      <td>-0.136422</td>\n",
              "      <td>0.039260</td>\n",
              "      <td>0.058109</td>\n",
              "      <td>-0.016300</td>\n",
              "      <td>0.023784</td>\n",
              "      <td>0.023520</td>\n",
              "      <td>0.051410</td>\n",
              "      <td>0.004393</td>\n",
              "      <td>-0.062851</td>\n",
              "      <td>-0.010477</td>\n",
              "      <td>-0.134454</td>\n",
              "      <td>-0.059898</td>\n",
              "      <td>-0.039766</td>\n",
              "      <td>0.122672</td>\n",
              "      <td>-0.002212</td>\n",
              "      <td>-0.225789</td>\n",
              "    </tr>\n",
              "    <tr>\n",
              "      <th>Favicon</th>\n",
              "      <td>0.087025</td>\n",
              "      <td>-0.042497</td>\n",
              "      <td>0.006101</td>\n",
              "      <td>0.304899</td>\n",
              "      <td>0.035100</td>\n",
              "      <td>-0.007504</td>\n",
              "      <td>-0.016704</td>\n",
              "      <td>-0.014757</td>\n",
              "      <td>0.054253</td>\n",
              "      <td>1.000000</td>\n",
              "      <td>0.803834</td>\n",
              "      <td>0.049483</td>\n",
              "      <td>-0.004620</td>\n",
              "      <td>0.037698</td>\n",
              "      <td>-0.100341</td>\n",
              "      <td>-0.012279</td>\n",
              "      <td>0.668317</td>\n",
              "      <td>0.071848</td>\n",
              "      <td>-0.015621</td>\n",
              "      <td>0.706179</td>\n",
              "      <td>0.414382</td>\n",
              "      <td>0.939633</td>\n",
              "      <td>0.627607</td>\n",
              "      <td>-0.002628</td>\n",
              "      <td>0.088211</td>\n",
              "      <td>-0.050922</td>\n",
              "      <td>0.011699</td>\n",
              "      <td>-0.016668</td>\n",
              "      <td>-0.127243</td>\n",
              "      <td>0.300917</td>\n",
              "      <td>-0.000280</td>\n",
              "    </tr>\n",
              "    <tr>\n",
              "      <th>NonStdPort</th>\n",
              "      <td>0.060979</td>\n",
              "      <td>0.000323</td>\n",
              "      <td>0.002201</td>\n",
              "      <td>0.364891</td>\n",
              "      <td>0.025060</td>\n",
              "      <td>-0.022546</td>\n",
              "      <td>0.004863</td>\n",
              "      <td>0.027473</td>\n",
              "      <td>0.022478</td>\n",
              "      <td>0.803834</td>\n",
              "      <td>1.000000</td>\n",
              "      <td>0.004999</td>\n",
              "      <td>0.027561</td>\n",
              "      <td>0.039891</td>\n",
              "      <td>-0.066502</td>\n",
              "      <td>0.006672</td>\n",
              "      <td>0.799088</td>\n",
              "      <td>0.054126</td>\n",
              "      <td>-0.022472</td>\n",
              "      <td>0.623298</td>\n",
              "      <td>0.481631</td>\n",
              "      <td>0.748517</td>\n",
              "      <td>0.687044</td>\n",
              "      <td>0.008459</td>\n",
              "      <td>0.054849</td>\n",
              "      <td>-0.028543</td>\n",
              "      <td>0.017954</td>\n",
              "      <td>-0.005413</td>\n",
              "      <td>-0.139104</td>\n",
              "      <td>0.343987</td>\n",
              "      <td>0.036419</td>\n",
              "    </tr>\n",
              "    <tr>\n",
              "      <th>HTTPSDomainURL</th>\n",
              "      <td>0.363534</td>\n",
              "      <td>-0.089383</td>\n",
              "      <td>0.757838</td>\n",
              "      <td>0.104561</td>\n",
              "      <td>0.760799</td>\n",
              "      <td>-0.070153</td>\n",
              "      <td>-0.037239</td>\n",
              "      <td>-0.029941</td>\n",
              "      <td>0.059161</td>\n",
              "      <td>0.049483</td>\n",
              "      <td>0.004999</td>\n",
              "      <td>1.000000</td>\n",
              "      <td>-0.006620</td>\n",
              "      <td>0.011851</td>\n",
              "      <td>-0.104381</td>\n",
              "      <td>-0.009680</td>\n",
              "      <td>0.075478</td>\n",
              "      <td>0.716287</td>\n",
              "      <td>-0.460165</td>\n",
              "      <td>0.110113</td>\n",
              "      <td>0.009265</td>\n",
              "      <td>0.066957</td>\n",
              "      <td>0.017509</td>\n",
              "      <td>-0.049632</td>\n",
              "      <td>0.395387</td>\n",
              "      <td>-0.039708</td>\n",
              "      <td>0.021104</td>\n",
              "      <td>0.115450</td>\n",
              "      <td>-0.128724</td>\n",
              "      <td>0.096187</td>\n",
              "      <td>-0.039854</td>\n",
              "    </tr>\n",
              "    <tr>\n",
              "      <th>RequestURL</th>\n",
              "      <td>0.029773</td>\n",
              "      <td>0.246348</td>\n",
              "      <td>-0.037235</td>\n",
              "      <td>0.027909</td>\n",
              "      <td>-0.026368</td>\n",
              "      <td>0.098675</td>\n",
              "      <td>0.104857</td>\n",
              "      <td>0.193054</td>\n",
              "      <td>-0.609970</td>\n",
              "      <td>-0.004620</td>\n",
              "      <td>0.027561</td>\n",
              "      <td>-0.006620</td>\n",
              "      <td>1.000000</td>\n",
              "      <td>0.177693</td>\n",
              "      <td>0.067491</td>\n",
              "      <td>0.126661</td>\n",
              "      <td>0.018178</td>\n",
              "      <td>-0.036034</td>\n",
              "      <td>0.002329</td>\n",
              "      <td>0.008144</td>\n",
              "      <td>-0.020452</td>\n",
              "      <td>-0.004622</td>\n",
              "      <td>0.016934</td>\n",
              "      <td>0.090455</td>\n",
              "      <td>0.015933</td>\n",
              "      <td>0.161166</td>\n",
              "      <td>0.055734</td>\n",
              "      <td>0.046409</td>\n",
              "      <td>-0.067109</td>\n",
              "      <td>0.035412</td>\n",
              "      <td>0.253372</td>\n",
              "    </tr>\n",
              "    <tr>\n",
              "      <th>AnchorURL</th>\n",
              "      <td>0.099847</td>\n",
              "      <td>-0.023396</td>\n",
              "      <td>0.000561</td>\n",
              "      <td>0.057914</td>\n",
              "      <td>-0.005036</td>\n",
              "      <td>0.348871</td>\n",
              "      <td>0.229491</td>\n",
              "      <td>0.535786</td>\n",
              "      <td>-0.160257</td>\n",
              "      <td>0.037698</td>\n",
              "      <td>0.039891</td>\n",
              "      <td>0.011851</td>\n",
              "      <td>0.177693</td>\n",
              "      <td>1.000000</td>\n",
              "      <td>0.136283</td>\n",
              "      <td>0.114311</td>\n",
              "      <td>0.033386</td>\n",
              "      <td>-0.010585</td>\n",
              "      <td>-0.000839</td>\n",
              "      <td>0.067742</td>\n",
              "      <td>0.022168</td>\n",
              "      <td>0.041150</td>\n",
              "      <td>0.013403</td>\n",
              "      <td>0.075508</td>\n",
              "      <td>0.093288</td>\n",
              "      <td>0.326293</td>\n",
              "      <td>0.099261</td>\n",
              "      <td>0.038816</td>\n",
              "      <td>0.018651</td>\n",
              "      <td>0.077377</td>\n",
              "      <td>0.692935</td>\n",
              "    </tr>\n",
              "    <tr>\n",
              "      <th>LinksInScriptTags</th>\n",
              "      <td>0.006212</td>\n",
              "      <td>0.052869</td>\n",
              "      <td>-0.133379</td>\n",
              "      <td>-0.070861</td>\n",
              "      <td>-0.125583</td>\n",
              "      <td>0.100254</td>\n",
              "      <td>0.093646</td>\n",
              "      <td>0.176825</td>\n",
              "      <td>-0.101084</td>\n",
              "      <td>-0.100341</td>\n",
              "      <td>-0.066502</td>\n",
              "      <td>-0.104381</td>\n",
              "      <td>0.067491</td>\n",
              "      <td>0.136283</td>\n",
              "      <td>1.000000</td>\n",
              "      <td>0.066598</td>\n",
              "      <td>-0.043231</td>\n",
              "      <td>-0.116065</td>\n",
              "      <td>0.041497</td>\n",
              "      <td>-0.077670</td>\n",
              "      <td>-0.037469</td>\n",
              "      <td>-0.112282</td>\n",
              "      <td>-0.070030</td>\n",
              "      <td>0.078057</td>\n",
              "      <td>-0.038545</td>\n",
              "      <td>0.064548</td>\n",
              "      <td>-0.006450</td>\n",
              "      <td>0.045557</td>\n",
              "      <td>0.013561</td>\n",
              "      <td>-0.087343</td>\n",
              "      <td>0.248229</td>\n",
              "    </tr>\n",
              "    <tr>\n",
              "      <th>ServerFormHandler</th>\n",
              "      <td>-0.010962</td>\n",
              "      <td>0.414196</td>\n",
              "      <td>-0.022723</td>\n",
              "      <td>-0.008672</td>\n",
              "      <td>-0.041672</td>\n",
              "      <td>0.001326</td>\n",
              "      <td>0.096089</td>\n",
              "      <td>0.171402</td>\n",
              "      <td>-0.136422</td>\n",
              "      <td>-0.012279</td>\n",
              "      <td>0.006672</td>\n",
              "      <td>-0.009680</td>\n",
              "      <td>0.126661</td>\n",
              "      <td>0.114311</td>\n",
              "      <td>0.066598</td>\n",
              "      <td>1.000000</td>\n",
              "      <td>0.011473</td>\n",
              "      <td>-0.030752</td>\n",
              "      <td>0.049907</td>\n",
              "      <td>0.007579</td>\n",
              "      <td>0.008467</td>\n",
              "      <td>-0.004863</td>\n",
              "      <td>0.007067</td>\n",
              "      <td>-0.015840</td>\n",
              "      <td>0.034440</td>\n",
              "      <td>0.052706</td>\n",
              "      <td>0.001979</td>\n",
              "      <td>0.027588</td>\n",
              "      <td>-0.009068</td>\n",
              "      <td>-0.005289</td>\n",
              "      <td>0.221419</td>\n",
              "    </tr>\n",
              "    <tr>\n",
              "      <th>InfoEmail</th>\n",
              "      <td>0.077989</td>\n",
              "      <td>-0.014457</td>\n",
              "      <td>0.049328</td>\n",
              "      <td>0.370123</td>\n",
              "      <td>0.031898</td>\n",
              "      <td>-0.045000</td>\n",
              "      <td>0.008830</td>\n",
              "      <td>0.008062</td>\n",
              "      <td>0.039260</td>\n",
              "      <td>0.668317</td>\n",
              "      <td>0.799088</td>\n",
              "      <td>0.075478</td>\n",
              "      <td>0.018178</td>\n",
              "      <td>0.033386</td>\n",
              "      <td>-0.043231</td>\n",
              "      <td>0.011473</td>\n",
              "      <td>1.000000</td>\n",
              "      <td>0.195850</td>\n",
              "      <td>-0.007321</td>\n",
              "      <td>0.531656</td>\n",
              "      <td>0.398629</td>\n",
              "      <td>0.629462</td>\n",
              "      <td>0.577490</td>\n",
              "      <td>0.007357</td>\n",
              "      <td>0.064145</td>\n",
              "      <td>-0.015685</td>\n",
              "      <td>0.026208</td>\n",
              "      <td>-0.008378</td>\n",
              "      <td>-0.039956</td>\n",
              "      <td>0.352074</td>\n",
              "      <td>0.018249</td>\n",
              "    </tr>\n",
              "    <tr>\n",
              "      <th>AbnormalURL</th>\n",
              "      <td>0.336549</td>\n",
              "      <td>-0.106761</td>\n",
              "      <td>0.739290</td>\n",
              "      <td>0.203945</td>\n",
              "      <td>0.723724</td>\n",
              "      <td>-0.077620</td>\n",
              "      <td>-0.034908</td>\n",
              "      <td>-0.046245</td>\n",
              "      <td>0.058109</td>\n",
              "      <td>0.071848</td>\n",
              "      <td>0.054126</td>\n",
              "      <td>0.716287</td>\n",
              "      <td>-0.036034</td>\n",
              "      <td>-0.010585</td>\n",
              "      <td>-0.116065</td>\n",
              "      <td>-0.030752</td>\n",
              "      <td>0.195850</td>\n",
              "      <td>1.000000</td>\n",
              "      <td>-0.459187</td>\n",
              "      <td>0.117638</td>\n",
              "      <td>0.023710</td>\n",
              "      <td>0.091188</td>\n",
              "      <td>0.017590</td>\n",
              "      <td>-0.032533</td>\n",
              "      <td>0.366833</td>\n",
              "      <td>-0.052416</td>\n",
              "      <td>0.007318</td>\n",
              "      <td>0.124751</td>\n",
              "      <td>-0.161027</td>\n",
              "      <td>0.186399</td>\n",
              "      <td>-0.060488</td>\n",
              "    </tr>\n",
              "    <tr>\n",
              "      <th>WebsiteForwarding</th>\n",
              "      <td>-0.321181</td>\n",
              "      <td>0.046832</td>\n",
              "      <td>-0.534530</td>\n",
              "      <td>-0.028160</td>\n",
              "      <td>-0.591478</td>\n",
              "      <td>0.016271</td>\n",
              "      <td>0.031206</td>\n",
              "      <td>-0.021070</td>\n",
              "      <td>-0.016300</td>\n",
              "      <td>-0.015621</td>\n",
              "      <td>-0.022472</td>\n",
              "      <td>-0.460165</td>\n",
              "      <td>0.002329</td>\n",
              "      <td>-0.000839</td>\n",
              "      <td>0.041497</td>\n",
              "      <td>0.049907</td>\n",
              "      <td>-0.007321</td>\n",
              "      <td>-0.459187</td>\n",
              "      <td>1.000000</td>\n",
              "      <td>-0.034823</td>\n",
              "      <td>-0.023586</td>\n",
              "      <td>-0.026327</td>\n",
              "      <td>-0.012668</td>\n",
              "      <td>-0.022476</td>\n",
              "      <td>-0.211096</td>\n",
              "      <td>0.004631</td>\n",
              "      <td>0.052867</td>\n",
              "      <td>0.057230</td>\n",
              "      <td>0.161278</td>\n",
              "      <td>-0.059194</td>\n",
              "      <td>-0.020113</td>\n",
              "    </tr>\n",
              "    <tr>\n",
              "      <th>StatusBarCust</th>\n",
              "      <td>0.084059</td>\n",
              "      <td>-0.045103</td>\n",
              "      <td>0.062383</td>\n",
              "      <td>0.279697</td>\n",
              "      <td>0.086635</td>\n",
              "      <td>0.012578</td>\n",
              "      <td>-0.018082</td>\n",
              "      <td>0.023586</td>\n",
              "      <td>0.023784</td>\n",
              "      <td>0.706179</td>\n",
              "      <td>0.623298</td>\n",
              "      <td>0.110113</td>\n",
              "      <td>0.008144</td>\n",
              "      <td>0.067742</td>\n",
              "      <td>-0.077670</td>\n",
              "      <td>0.007579</td>\n",
              "      <td>0.531656</td>\n",
              "      <td>0.117638</td>\n",
              "      <td>-0.034823</td>\n",
              "      <td>1.000000</td>\n",
              "      <td>0.474054</td>\n",
              "      <td>0.733629</td>\n",
              "      <td>0.659478</td>\n",
              "      <td>0.013306</td>\n",
              "      <td>0.087161</td>\n",
              "      <td>-0.036531</td>\n",
              "      <td>0.015634</td>\n",
              "      <td>-0.006510</td>\n",
              "      <td>-0.038551</td>\n",
              "      <td>0.277347</td>\n",
              "      <td>0.041838</td>\n",
              "    </tr>\n",
              "    <tr>\n",
              "      <th>DisableRightClick</th>\n",
              "      <td>0.042881</td>\n",
              "      <td>-0.013613</td>\n",
              "      <td>0.038118</td>\n",
              "      <td>0.219503</td>\n",
              "      <td>0.025863</td>\n",
              "      <td>-0.024868</td>\n",
              "      <td>0.018230</td>\n",
              "      <td>0.015854</td>\n",
              "      <td>0.023520</td>\n",
              "      <td>0.414382</td>\n",
              "      <td>0.481631</td>\n",
              "      <td>0.009265</td>\n",
              "      <td>-0.020452</td>\n",
              "      <td>0.022168</td>\n",
              "      <td>-0.037469</td>\n",
              "      <td>0.008467</td>\n",
              "      <td>0.398629</td>\n",
              "      <td>0.023710</td>\n",
              "      <td>-0.023586</td>\n",
              "      <td>0.474054</td>\n",
              "      <td>1.000000</td>\n",
              "      <td>0.415268</td>\n",
              "      <td>0.655863</td>\n",
              "      <td>0.006764</td>\n",
              "      <td>0.038255</td>\n",
              "      <td>-0.013594</td>\n",
              "      <td>0.025341</td>\n",
              "      <td>-0.008066</td>\n",
              "      <td>-0.119831</td>\n",
              "      <td>0.204409</td>\n",
              "      <td>0.012653</td>\n",
              "    </tr>\n",
              "    <tr>\n",
              "      <th>UsingPopupWindow</th>\n",
              "      <td>0.096882</td>\n",
              "      <td>-0.049381</td>\n",
              "      <td>0.036616</td>\n",
              "      <td>0.290893</td>\n",
              "      <td>0.054463</td>\n",
              "      <td>-0.014733</td>\n",
              "      <td>-0.025312</td>\n",
              "      <td>-0.013005</td>\n",
              "      <td>0.051410</td>\n",
              "      <td>0.939633</td>\n",
              "      <td>0.748517</td>\n",
              "      <td>0.066957</td>\n",
              "      <td>-0.004622</td>\n",
              "      <td>0.041150</td>\n",
              "      <td>-0.112282</td>\n",
              "      <td>-0.004863</td>\n",
              "      <td>0.629462</td>\n",
              "      <td>0.091188</td>\n",
              "      <td>-0.026327</td>\n",
              "      <td>0.733629</td>\n",
              "      <td>0.415268</td>\n",
              "      <td>1.000000</td>\n",
              "      <td>0.629406</td>\n",
              "      <td>-0.000948</td>\n",
              "      <td>0.098658</td>\n",
              "      <td>-0.043190</td>\n",
              "      <td>0.017114</td>\n",
              "      <td>-0.010256</td>\n",
              "      <td>-0.121325</td>\n",
              "      <td>0.285261</td>\n",
              "      <td>0.000086</td>\n",
              "    </tr>\n",
              "    <tr>\n",
              "      <th>IframeRedirection</th>\n",
              "      <td>0.054694</td>\n",
              "      <td>-0.013838</td>\n",
              "      <td>0.016581</td>\n",
              "      <td>0.284410</td>\n",
              "      <td>0.010459</td>\n",
              "      <td>-0.036904</td>\n",
              "      <td>0.010637</td>\n",
              "      <td>-0.002773</td>\n",
              "      <td>0.004393</td>\n",
              "      <td>0.627607</td>\n",
              "      <td>0.687044</td>\n",
              "      <td>0.017509</td>\n",
              "      <td>0.016934</td>\n",
              "      <td>0.013403</td>\n",
              "      <td>-0.070030</td>\n",
              "      <td>0.007067</td>\n",
              "      <td>0.577490</td>\n",
              "      <td>0.017590</td>\n",
              "      <td>-0.012668</td>\n",
              "      <td>0.659478</td>\n",
              "      <td>0.655863</td>\n",
              "      <td>0.629406</td>\n",
              "      <td>1.000000</td>\n",
              "      <td>0.018848</td>\n",
              "      <td>0.047293</td>\n",
              "      <td>-0.022080</td>\n",
              "      <td>0.022407</td>\n",
              "      <td>-0.003519</td>\n",
              "      <td>-0.140824</td>\n",
              "      <td>0.268418</td>\n",
              "      <td>-0.003394</td>\n",
              "    </tr>\n",
              "    <tr>\n",
              "      <th>AgeofDomain</th>\n",
              "      <td>-0.010446</td>\n",
              "      <td>0.179426</td>\n",
              "      <td>-0.052596</td>\n",
              "      <td>-0.005499</td>\n",
              "      <td>-0.050107</td>\n",
              "      <td>0.074116</td>\n",
              "      <td>0.119254</td>\n",
              "      <td>0.162809</td>\n",
              "      <td>-0.062851</td>\n",
              "      <td>-0.002628</td>\n",
              "      <td>0.008459</td>\n",
              "      <td>-0.049632</td>\n",
              "      <td>0.090455</td>\n",
              "      <td>0.075508</td>\n",
              "      <td>0.078057</td>\n",
              "      <td>-0.015840</td>\n",
              "      <td>0.007357</td>\n",
              "      <td>-0.032533</td>\n",
              "      <td>-0.022476</td>\n",
              "      <td>0.013306</td>\n",
              "      <td>0.006764</td>\n",
              "      <td>-0.000948</td>\n",
              "      <td>0.018848</td>\n",
              "      <td>1.000000</td>\n",
              "      <td>-0.034082</td>\n",
              "      <td>0.089949</td>\n",
              "      <td>-0.147194</td>\n",
              "      <td>-0.028471</td>\n",
              "      <td>0.040407</td>\n",
              "      <td>0.009115</td>\n",
              "      <td>0.121496</td>\n",
              "    </tr>\n",
              "    <tr>\n",
              "      <th>DNSRecording</th>\n",
              "      <td>-0.050733</td>\n",
              "      <td>-0.040823</td>\n",
              "      <td>0.436064</td>\n",
              "      <td>-0.047872</td>\n",
              "      <td>0.431409</td>\n",
              "      <td>-0.016556</td>\n",
              "      <td>0.125493</td>\n",
              "      <td>0.050972</td>\n",
              "      <td>-0.010477</td>\n",
              "      <td>0.088211</td>\n",
              "      <td>0.054849</td>\n",
              "      <td>0.395387</td>\n",
              "      <td>0.015933</td>\n",
              "      <td>0.093288</td>\n",
              "      <td>-0.038545</td>\n",
              "      <td>0.034440</td>\n",
              "      <td>0.064145</td>\n",
              "      <td>0.366833</td>\n",
              "      <td>-0.211096</td>\n",
              "      <td>0.087161</td>\n",
              "      <td>0.038255</td>\n",
              "      <td>0.098658</td>\n",
              "      <td>0.047293</td>\n",
              "      <td>-0.034082</td>\n",
              "      <td>1.000000</td>\n",
              "      <td>0.048650</td>\n",
              "      <td>0.137860</td>\n",
              "      <td>0.137509</td>\n",
              "      <td>-0.318266</td>\n",
              "      <td>0.136860</td>\n",
              "      <td>0.075718</td>\n",
              "    </tr>\n",
              "    <tr>\n",
              "      <th>WebsiteTraffic</th>\n",
              "      <td>0.002922</td>\n",
              "      <td>0.008993</td>\n",
              "      <td>-0.047074</td>\n",
              "      <td>0.032918</td>\n",
              "      <td>-0.062369</td>\n",
              "      <td>0.110598</td>\n",
              "      <td>-0.005764</td>\n",
              "      <td>0.258768</td>\n",
              "      <td>-0.134454</td>\n",
              "      <td>-0.050922</td>\n",
              "      <td>-0.028543</td>\n",
              "      <td>-0.039708</td>\n",
              "      <td>0.161166</td>\n",
              "      <td>0.326293</td>\n",
              "      <td>0.064548</td>\n",
              "      <td>0.052706</td>\n",
              "      <td>-0.015685</td>\n",
              "      <td>-0.052416</td>\n",
              "      <td>0.004631</td>\n",
              "      <td>-0.036531</td>\n",
              "      <td>-0.013594</td>\n",
              "      <td>-0.043190</td>\n",
              "      <td>-0.022080</td>\n",
              "      <td>0.089949</td>\n",
              "      <td>0.048650</td>\n",
              "      <td>1.000000</td>\n",
              "      <td>0.030984</td>\n",
              "      <td>-0.012584</td>\n",
              "      <td>-0.019860</td>\n",
              "      <td>0.009223</td>\n",
              "      <td>0.346103</td>\n",
              "    </tr>\n",
              "    <tr>\n",
              "      <th>PageRank</th>\n",
              "      <td>-0.091774</td>\n",
              "      <td>0.183518</td>\n",
              "      <td>0.014591</td>\n",
              "      <td>-0.064735</td>\n",
              "      <td>-0.003132</td>\n",
              "      <td>-0.006834</td>\n",
              "      <td>0.120730</td>\n",
              "      <td>0.074545</td>\n",
              "      <td>-0.059898</td>\n",
              "      <td>0.011699</td>\n",
              "      <td>0.017954</td>\n",
              "      <td>0.021104</td>\n",
              "      <td>0.055734</td>\n",
              "      <td>0.099261</td>\n",
              "      <td>-0.006450</td>\n",
              "      <td>0.001979</td>\n",
              "      <td>0.026208</td>\n",
              "      <td>0.007318</td>\n",
              "      <td>0.052867</td>\n",
              "      <td>0.015634</td>\n",
              "      <td>0.025341</td>\n",
              "      <td>0.017114</td>\n",
              "      <td>0.022407</td>\n",
              "      <td>-0.147194</td>\n",
              "      <td>0.137860</td>\n",
              "      <td>0.030984</td>\n",
              "      <td>1.000000</td>\n",
              "      <td>0.032431</td>\n",
              "      <td>-0.028216</td>\n",
              "      <td>0.031049</td>\n",
              "      <td>0.104645</td>\n",
              "    </tr>\n",
              "    <tr>\n",
              "      <th>GoogleIndex</th>\n",
              "      <td>0.029153</td>\n",
              "      <td>0.002902</td>\n",
              "      <td>0.155844</td>\n",
              "      <td>0.037061</td>\n",
              "      <td>0.178415</td>\n",
              "      <td>0.067781</td>\n",
              "      <td>0.057673</td>\n",
              "      <td>0.096051</td>\n",
              "      <td>-0.039766</td>\n",
              "      <td>-0.016668</td>\n",
              "      <td>-0.005413</td>\n",
              "      <td>0.115450</td>\n",
              "      <td>0.046409</td>\n",
              "      <td>0.038816</td>\n",
              "      <td>0.045557</td>\n",
              "      <td>0.027588</td>\n",
              "      <td>-0.008378</td>\n",
              "      <td>0.124751</td>\n",
              "      <td>0.057230</td>\n",
              "      <td>-0.006510</td>\n",
              "      <td>-0.008066</td>\n",
              "      <td>-0.010256</td>\n",
              "      <td>-0.003519</td>\n",
              "      <td>-0.028471</td>\n",
              "      <td>0.137509</td>\n",
              "      <td>-0.012584</td>\n",
              "      <td>0.032431</td>\n",
              "      <td>1.000000</td>\n",
              "      <td>-0.038777</td>\n",
              "      <td>-0.005103</td>\n",
              "      <td>0.128950</td>\n",
              "    </tr>\n",
              "    <tr>\n",
              "      <th>LinksPointingToPage</th>\n",
              "      <td>-0.339065</td>\n",
              "      <td>-0.022987</td>\n",
              "      <td>-0.198410</td>\n",
              "      <td>-0.006080</td>\n",
              "      <td>-0.194165</td>\n",
              "      <td>0.067423</td>\n",
              "      <td>-0.010526</td>\n",
              "      <td>-0.011710</td>\n",
              "      <td>0.122672</td>\n",
              "      <td>-0.127243</td>\n",
              "      <td>-0.139104</td>\n",
              "      <td>-0.128724</td>\n",
              "      <td>-0.067109</td>\n",
              "      <td>0.018651</td>\n",
              "      <td>0.013561</td>\n",
              "      <td>-0.009068</td>\n",
              "      <td>-0.039956</td>\n",
              "      <td>-0.161027</td>\n",
              "      <td>0.161278</td>\n",
              "      <td>-0.038551</td>\n",
              "      <td>-0.119831</td>\n",
              "      <td>-0.121325</td>\n",
              "      <td>-0.140824</td>\n",
              "      <td>0.040407</td>\n",
              "      <td>-0.318266</td>\n",
              "      <td>-0.019860</td>\n",
              "      <td>-0.028216</td>\n",
              "      <td>-0.038777</td>\n",
              "      <td>1.000000</td>\n",
              "      <td>-0.016817</td>\n",
              "      <td>0.032574</td>\n",
              "    </tr>\n",
              "    <tr>\n",
              "      <th>StatsReport</th>\n",
              "      <td>-0.019103</td>\n",
              "      <td>-0.067153</td>\n",
              "      <td>0.085461</td>\n",
              "      <td>-0.080357</td>\n",
              "      <td>0.070390</td>\n",
              "      <td>-0.002763</td>\n",
              "      <td>0.081627</td>\n",
              "      <td>0.063411</td>\n",
              "      <td>-0.002212</td>\n",
              "      <td>0.300917</td>\n",
              "      <td>0.343987</td>\n",
              "      <td>0.096187</td>\n",
              "      <td>0.035412</td>\n",
              "      <td>0.077377</td>\n",
              "      <td>-0.087343</td>\n",
              "      <td>-0.005289</td>\n",
              "      <td>0.352074</td>\n",
              "      <td>0.186399</td>\n",
              "      <td>-0.059194</td>\n",
              "      <td>0.277347</td>\n",
              "      <td>0.204409</td>\n",
              "      <td>0.285261</td>\n",
              "      <td>0.268418</td>\n",
              "      <td>0.009115</td>\n",
              "      <td>0.136860</td>\n",
              "      <td>0.009223</td>\n",
              "      <td>0.031049</td>\n",
              "      <td>-0.005103</td>\n",
              "      <td>-0.016817</td>\n",
              "      <td>1.000000</td>\n",
              "      <td>0.079857</td>\n",
              "    </tr>\n",
              "    <tr>\n",
              "      <th>class</th>\n",
              "      <td>0.094160</td>\n",
              "      <td>0.057430</td>\n",
              "      <td>-0.067966</td>\n",
              "      <td>0.052948</td>\n",
              "      <td>-0.038608</td>\n",
              "      <td>0.348606</td>\n",
              "      <td>0.298323</td>\n",
              "      <td>0.714741</td>\n",
              "      <td>-0.225789</td>\n",
              "      <td>-0.000280</td>\n",
              "      <td>0.036419</td>\n",
              "      <td>-0.039854</td>\n",
              "      <td>0.253372</td>\n",
              "      <td>0.692935</td>\n",
              "      <td>0.248229</td>\n",
              "      <td>0.221419</td>\n",
              "      <td>0.018249</td>\n",
              "      <td>-0.060488</td>\n",
              "      <td>-0.020113</td>\n",
              "      <td>0.041838</td>\n",
              "      <td>0.012653</td>\n",
              "      <td>0.000086</td>\n",
              "      <td>-0.003394</td>\n",
              "      <td>0.121496</td>\n",
              "      <td>0.075718</td>\n",
              "      <td>0.346103</td>\n",
              "      <td>0.104645</td>\n",
              "      <td>0.128950</td>\n",
              "      <td>0.032574</td>\n",
              "      <td>0.079857</td>\n",
              "      <td>1.000000</td>\n",
              "    </tr>\n",
              "  </tbody>\n",
              "</table>\n",
              "</div>"
            ],
            "text/plain": [
              "                      UsingIP   LongURL  ShortURL   Symbol@  Redirecting//  \\\n",
              "UsingIP              1.000000 -0.052411  0.403461  0.158699       0.397389   \n",
              "LongURL             -0.052411  1.000000 -0.097881 -0.075108      -0.081247   \n",
              "ShortURL             0.403461 -0.097881  1.000000  0.104447       0.842796   \n",
              "Symbol@              0.158699 -0.075108  0.104447  1.000000       0.086960   \n",
              "Redirecting//        0.397389 -0.081247  0.842796  0.086960       1.000000   \n",
              "PrefixSuffix-       -0.005257  0.055247 -0.080471 -0.011726      -0.085590   \n",
              "SubDomains          -0.080745  0.003997 -0.041916 -0.058976      -0.043079   \n",
              "HTTPS                0.071414  0.048754 -0.061426  0.031220      -0.036200   \n",
              "DomainRegLen        -0.022739 -0.221892  0.060923  0.015522       0.047464   \n",
              "Favicon              0.087025 -0.042497  0.006101  0.304899       0.035100   \n",
              "NonStdPort           0.060979  0.000323  0.002201  0.364891       0.025060   \n",
              "HTTPSDomainURL       0.363534 -0.089383  0.757838  0.104561       0.760799   \n",
              "RequestURL           0.029773  0.246348 -0.037235  0.027909      -0.026368   \n",
              "AnchorURL            0.099847 -0.023396  0.000561  0.057914      -0.005036   \n",
              "LinksInScriptTags    0.006212  0.052869 -0.133379 -0.070861      -0.125583   \n",
              "ServerFormHandler   -0.010962  0.414196 -0.022723 -0.008672      -0.041672   \n",
              "InfoEmail            0.077989 -0.014457  0.049328  0.370123       0.031898   \n",
              "AbnormalURL          0.336549 -0.106761  0.739290  0.203945       0.723724   \n",
              "WebsiteForwarding   -0.321181  0.046832 -0.534530 -0.028160      -0.591478   \n",
              "StatusBarCust        0.084059 -0.045103  0.062383  0.279697       0.086635   \n",
              "DisableRightClick    0.042881 -0.013613  0.038118  0.219503       0.025863   \n",
              "UsingPopupWindow     0.096882 -0.049381  0.036616  0.290893       0.054463   \n",
              "IframeRedirection    0.054694 -0.013838  0.016581  0.284410       0.010459   \n",
              "AgeofDomain         -0.010446  0.179426 -0.052596 -0.005499      -0.050107   \n",
              "DNSRecording        -0.050733 -0.040823  0.436064 -0.047872       0.431409   \n",
              "WebsiteTraffic       0.002922  0.008993 -0.047074  0.032918      -0.062369   \n",
              "PageRank            -0.091774  0.183518  0.014591 -0.064735      -0.003132   \n",
              "GoogleIndex          0.029153  0.002902  0.155844  0.037061       0.178415   \n",
              "LinksPointingToPage -0.339065 -0.022987 -0.198410 -0.006080      -0.194165   \n",
              "StatsReport         -0.019103 -0.067153  0.085461 -0.080357       0.070390   \n",
              "class                0.094160  0.057430 -0.067966  0.052948      -0.038608   \n",
              "\n",
              "                     PrefixSuffix-  SubDomains     HTTPS  DomainRegLen  \\\n",
              "UsingIP                  -0.005257   -0.080745  0.071414     -0.022739   \n",
              "LongURL                   0.055247    0.003997  0.048754     -0.221892   \n",
              "ShortURL                 -0.080471   -0.041916 -0.061426      0.060923   \n",
              "Symbol@                  -0.011726   -0.058976  0.031220      0.015522   \n",
              "Redirecting//            -0.085590   -0.043079 -0.036200      0.047464   \n",
              "PrefixSuffix-             1.000000    0.087891  0.261391     -0.096799   \n",
              "SubDomains                0.087891    1.000000  0.267649     -0.082839   \n",
              "HTTPS                     0.261391    0.267649  1.000000     -0.193622   \n",
              "DomainRegLen             -0.096799   -0.082839 -0.193622      1.000000   \n",
              "Favicon                  -0.007504   -0.016704 -0.014757      0.054253   \n",
              "NonStdPort               -0.022546    0.004863  0.027473      0.022478   \n",
              "HTTPSDomainURL           -0.070153   -0.037239 -0.029941      0.059161   \n",
              "RequestURL                0.098675    0.104857  0.193054     -0.609970   \n",
              "AnchorURL                 0.348871    0.229491  0.535786     -0.160257   \n",
              "LinksInScriptTags         0.100254    0.093646  0.176825     -0.101084   \n",
              "ServerFormHandler         0.001326    0.096089  0.171402     -0.136422   \n",
              "InfoEmail                -0.045000    0.008830  0.008062      0.039260   \n",
              "AbnormalURL              -0.077620   -0.034908 -0.046245      0.058109   \n",
              "WebsiteForwarding         0.016271    0.031206 -0.021070     -0.016300   \n",
              "StatusBarCust             0.012578   -0.018082  0.023586      0.023784   \n",
              "DisableRightClick        -0.024868    0.018230  0.015854      0.023520   \n",
              "UsingPopupWindow         -0.014733   -0.025312 -0.013005      0.051410   \n",
              "IframeRedirection        -0.036904    0.010637 -0.002773      0.004393   \n",
              "AgeofDomain               0.074116    0.119254  0.162809     -0.062851   \n",
              "DNSRecording             -0.016556    0.125493  0.050972     -0.010477   \n",
              "WebsiteTraffic            0.110598   -0.005764  0.258768     -0.134454   \n",
              "PageRank                 -0.006834    0.120730  0.074545     -0.059898   \n",
              "GoogleIndex               0.067781    0.057673  0.096051     -0.039766   \n",
              "LinksPointingToPage       0.067423   -0.010526 -0.011710      0.122672   \n",
              "StatsReport              -0.002763    0.081627  0.063411     -0.002212   \n",
              "class                     0.348606    0.298323  0.714741     -0.225789   \n",
              "\n",
              "                      Favicon  NonStdPort  HTTPSDomainURL  RequestURL  \\\n",
              "UsingIP              0.087025    0.060979        0.363534    0.029773   \n",
              "LongURL             -0.042497    0.000323       -0.089383    0.246348   \n",
              "ShortURL             0.006101    0.002201        0.757838   -0.037235   \n",
              "Symbol@              0.304899    0.364891        0.104561    0.027909   \n",
              "Redirecting//        0.035100    0.025060        0.760799   -0.026368   \n",
              "PrefixSuffix-       -0.007504   -0.022546       -0.070153    0.098675   \n",
              "SubDomains          -0.016704    0.004863       -0.037239    0.104857   \n",
              "HTTPS               -0.014757    0.027473       -0.029941    0.193054   \n",
              "DomainRegLen         0.054253    0.022478        0.059161   -0.609970   \n",
              "Favicon              1.000000    0.803834        0.049483   -0.004620   \n",
              "NonStdPort           0.803834    1.000000        0.004999    0.027561   \n",
              "HTTPSDomainURL       0.049483    0.004999        1.000000   -0.006620   \n",
              "RequestURL          -0.004620    0.027561       -0.006620    1.000000   \n",
              "AnchorURL            0.037698    0.039891        0.011851    0.177693   \n",
              "LinksInScriptTags   -0.100341   -0.066502       -0.104381    0.067491   \n",
              "ServerFormHandler   -0.012279    0.006672       -0.009680    0.126661   \n",
              "InfoEmail            0.668317    0.799088        0.075478    0.018178   \n",
              "AbnormalURL          0.071848    0.054126        0.716287   -0.036034   \n",
              "WebsiteForwarding   -0.015621   -0.022472       -0.460165    0.002329   \n",
              "StatusBarCust        0.706179    0.623298        0.110113    0.008144   \n",
              "DisableRightClick    0.414382    0.481631        0.009265   -0.020452   \n",
              "UsingPopupWindow     0.939633    0.748517        0.066957   -0.004622   \n",
              "IframeRedirection    0.627607    0.687044        0.017509    0.016934   \n",
              "AgeofDomain         -0.002628    0.008459       -0.049632    0.090455   \n",
              "DNSRecording         0.088211    0.054849        0.395387    0.015933   \n",
              "WebsiteTraffic      -0.050922   -0.028543       -0.039708    0.161166   \n",
              "PageRank             0.011699    0.017954        0.021104    0.055734   \n",
              "GoogleIndex         -0.016668   -0.005413        0.115450    0.046409   \n",
              "LinksPointingToPage -0.127243   -0.139104       -0.128724   -0.067109   \n",
              "StatsReport          0.300917    0.343987        0.096187    0.035412   \n",
              "class               -0.000280    0.036419       -0.039854    0.253372   \n",
              "\n",
              "                     AnchorURL  LinksInScriptTags  ServerFormHandler  \\\n",
              "UsingIP               0.099847           0.006212          -0.010962   \n",
              "LongURL              -0.023396           0.052869           0.414196   \n",
              "ShortURL              0.000561          -0.133379          -0.022723   \n",
              "Symbol@               0.057914          -0.070861          -0.008672   \n",
              "Redirecting//        -0.005036          -0.125583          -0.041672   \n",
              "PrefixSuffix-         0.348871           0.100254           0.001326   \n",
              "SubDomains            0.229491           0.093646           0.096089   \n",
              "HTTPS                 0.535786           0.176825           0.171402   \n",
              "DomainRegLen         -0.160257          -0.101084          -0.136422   \n",
              "Favicon               0.037698          -0.100341          -0.012279   \n",
              "NonStdPort            0.039891          -0.066502           0.006672   \n",
              "HTTPSDomainURL        0.011851          -0.104381          -0.009680   \n",
              "RequestURL            0.177693           0.067491           0.126661   \n",
              "AnchorURL             1.000000           0.136283           0.114311   \n",
              "LinksInScriptTags     0.136283           1.000000           0.066598   \n",
              "ServerFormHandler     0.114311           0.066598           1.000000   \n",
              "InfoEmail             0.033386          -0.043231           0.011473   \n",
              "AbnormalURL          -0.010585          -0.116065          -0.030752   \n",
              "WebsiteForwarding    -0.000839           0.041497           0.049907   \n",
              "StatusBarCust         0.067742          -0.077670           0.007579   \n",
              "DisableRightClick     0.022168          -0.037469           0.008467   \n",
              "UsingPopupWindow      0.041150          -0.112282          -0.004863   \n",
              "IframeRedirection     0.013403          -0.070030           0.007067   \n",
              "AgeofDomain           0.075508           0.078057          -0.015840   \n",
              "DNSRecording          0.093288          -0.038545           0.034440   \n",
              "WebsiteTraffic        0.326293           0.064548           0.052706   \n",
              "PageRank              0.099261          -0.006450           0.001979   \n",
              "GoogleIndex           0.038816           0.045557           0.027588   \n",
              "LinksPointingToPage   0.018651           0.013561          -0.009068   \n",
              "StatsReport           0.077377          -0.087343          -0.005289   \n",
              "class                 0.692935           0.248229           0.221419   \n",
              "\n",
              "                     InfoEmail  AbnormalURL  WebsiteForwarding  StatusBarCust  \\\n",
              "UsingIP               0.077989     0.336549          -0.321181       0.084059   \n",
              "LongURL              -0.014457    -0.106761           0.046832      -0.045103   \n",
              "ShortURL              0.049328     0.739290          -0.534530       0.062383   \n",
              "Symbol@               0.370123     0.203945          -0.028160       0.279697   \n",
              "Redirecting//         0.031898     0.723724          -0.591478       0.086635   \n",
              "PrefixSuffix-        -0.045000    -0.077620           0.016271       0.012578   \n",
              "SubDomains            0.008830    -0.034908           0.031206      -0.018082   \n",
              "HTTPS                 0.008062    -0.046245          -0.021070       0.023586   \n",
              "DomainRegLen          0.039260     0.058109          -0.016300       0.023784   \n",
              "Favicon               0.668317     0.071848          -0.015621       0.706179   \n",
              "NonStdPort            0.799088     0.054126          -0.022472       0.623298   \n",
              "HTTPSDomainURL        0.075478     0.716287          -0.460165       0.110113   \n",
              "RequestURL            0.018178    -0.036034           0.002329       0.008144   \n",
              "AnchorURL             0.033386    -0.010585          -0.000839       0.067742   \n",
              "LinksInScriptTags    -0.043231    -0.116065           0.041497      -0.077670   \n",
              "ServerFormHandler     0.011473    -0.030752           0.049907       0.007579   \n",
              "InfoEmail             1.000000     0.195850          -0.007321       0.531656   \n",
              "AbnormalURL           0.195850     1.000000          -0.459187       0.117638   \n",
              "WebsiteForwarding    -0.007321    -0.459187           1.000000      -0.034823   \n",
              "StatusBarCust         0.531656     0.117638          -0.034823       1.000000   \n",
              "DisableRightClick     0.398629     0.023710          -0.023586       0.474054   \n",
              "UsingPopupWindow      0.629462     0.091188          -0.026327       0.733629   \n",
              "IframeRedirection     0.577490     0.017590          -0.012668       0.659478   \n",
              "AgeofDomain           0.007357    -0.032533          -0.022476       0.013306   \n",
              "DNSRecording          0.064145     0.366833          -0.211096       0.087161   \n",
              "WebsiteTraffic       -0.015685    -0.052416           0.004631      -0.036531   \n",
              "PageRank              0.026208     0.007318           0.052867       0.015634   \n",
              "GoogleIndex          -0.008378     0.124751           0.057230      -0.006510   \n",
              "LinksPointingToPage  -0.039956    -0.161027           0.161278      -0.038551   \n",
              "StatsReport           0.352074     0.186399          -0.059194       0.277347   \n",
              "class                 0.018249    -0.060488          -0.020113       0.041838   \n",
              "\n",
              "                     DisableRightClick  UsingPopupWindow  IframeRedirection  \\\n",
              "UsingIP                       0.042881          0.096882           0.054694   \n",
              "LongURL                      -0.013613         -0.049381          -0.013838   \n",
              "ShortURL                      0.038118          0.036616           0.016581   \n",
              "Symbol@                       0.219503          0.290893           0.284410   \n",
              "Redirecting//                 0.025863          0.054463           0.010459   \n",
              "PrefixSuffix-                -0.024868         -0.014733          -0.036904   \n",
              "SubDomains                    0.018230         -0.025312           0.010637   \n",
              "HTTPS                         0.015854         -0.013005          -0.002773   \n",
              "DomainRegLen                  0.023520          0.051410           0.004393   \n",
              "Favicon                       0.414382          0.939633           0.627607   \n",
              "NonStdPort                    0.481631          0.748517           0.687044   \n",
              "HTTPSDomainURL                0.009265          0.066957           0.017509   \n",
              "RequestURL                   -0.020452         -0.004622           0.016934   \n",
              "AnchorURL                     0.022168          0.041150           0.013403   \n",
              "LinksInScriptTags            -0.037469         -0.112282          -0.070030   \n",
              "ServerFormHandler             0.008467         -0.004863           0.007067   \n",
              "InfoEmail                     0.398629          0.629462           0.577490   \n",
              "AbnormalURL                   0.023710          0.091188           0.017590   \n",
              "WebsiteForwarding            -0.023586         -0.026327          -0.012668   \n",
              "StatusBarCust                 0.474054          0.733629           0.659478   \n",
              "DisableRightClick             1.000000          0.415268           0.655863   \n",
              "UsingPopupWindow              0.415268          1.000000           0.629406   \n",
              "IframeRedirection             0.655863          0.629406           1.000000   \n",
              "AgeofDomain                   0.006764         -0.000948           0.018848   \n",
              "DNSRecording                  0.038255          0.098658           0.047293   \n",
              "WebsiteTraffic               -0.013594         -0.043190          -0.022080   \n",
              "PageRank                      0.025341          0.017114           0.022407   \n",
              "GoogleIndex                  -0.008066         -0.010256          -0.003519   \n",
              "LinksPointingToPage          -0.119831         -0.121325          -0.140824   \n",
              "StatsReport                   0.204409          0.285261           0.268418   \n",
              "class                         0.012653          0.000086          -0.003394   \n",
              "\n",
              "                     AgeofDomain  DNSRecording  WebsiteTraffic  PageRank  \\\n",
              "UsingIP                -0.010446     -0.050733        0.002922 -0.091774   \n",
              "LongURL                 0.179426     -0.040823        0.008993  0.183518   \n",
              "ShortURL               -0.052596      0.436064       -0.047074  0.014591   \n",
              "Symbol@                -0.005499     -0.047872        0.032918 -0.064735   \n",
              "Redirecting//          -0.050107      0.431409       -0.062369 -0.003132   \n",
              "PrefixSuffix-           0.074116     -0.016556        0.110598 -0.006834   \n",
              "SubDomains              0.119254      0.125493       -0.005764  0.120730   \n",
              "HTTPS                   0.162809      0.050972        0.258768  0.074545   \n",
              "DomainRegLen           -0.062851     -0.010477       -0.134454 -0.059898   \n",
              "Favicon                -0.002628      0.088211       -0.050922  0.011699   \n",
              "NonStdPort              0.008459      0.054849       -0.028543  0.017954   \n",
              "HTTPSDomainURL         -0.049632      0.395387       -0.039708  0.021104   \n",
              "RequestURL              0.090455      0.015933        0.161166  0.055734   \n",
              "AnchorURL               0.075508      0.093288        0.326293  0.099261   \n",
              "LinksInScriptTags       0.078057     -0.038545        0.064548 -0.006450   \n",
              "ServerFormHandler      -0.015840      0.034440        0.052706  0.001979   \n",
              "InfoEmail               0.007357      0.064145       -0.015685  0.026208   \n",
              "AbnormalURL            -0.032533      0.366833       -0.052416  0.007318   \n",
              "WebsiteForwarding      -0.022476     -0.211096        0.004631  0.052867   \n",
              "StatusBarCust           0.013306      0.087161       -0.036531  0.015634   \n",
              "DisableRightClick       0.006764      0.038255       -0.013594  0.025341   \n",
              "UsingPopupWindow       -0.000948      0.098658       -0.043190  0.017114   \n",
              "IframeRedirection       0.018848      0.047293       -0.022080  0.022407   \n",
              "AgeofDomain             1.000000     -0.034082        0.089949 -0.147194   \n",
              "DNSRecording           -0.034082      1.000000        0.048650  0.137860   \n",
              "WebsiteTraffic          0.089949      0.048650        1.000000  0.030984   \n",
              "PageRank               -0.147194      0.137860        0.030984  1.000000   \n",
              "GoogleIndex            -0.028471      0.137509       -0.012584  0.032431   \n",
              "LinksPointingToPage     0.040407     -0.318266       -0.019860 -0.028216   \n",
              "StatsReport             0.009115      0.136860        0.009223  0.031049   \n",
              "class                   0.121496      0.075718        0.346103  0.104645   \n",
              "\n",
              "                     GoogleIndex  LinksPointingToPage  StatsReport     class  \n",
              "UsingIP                 0.029153            -0.339065    -0.019103  0.094160  \n",
              "LongURL                 0.002902            -0.022987    -0.067153  0.057430  \n",
              "ShortURL                0.155844            -0.198410     0.085461 -0.067966  \n",
              "Symbol@                 0.037061            -0.006080    -0.080357  0.052948  \n",
              "Redirecting//           0.178415            -0.194165     0.070390 -0.038608  \n",
              "PrefixSuffix-           0.067781             0.067423    -0.002763  0.348606  \n",
              "SubDomains              0.057673            -0.010526     0.081627  0.298323  \n",
              "HTTPS                   0.096051            -0.011710     0.063411  0.714741  \n",
              "DomainRegLen           -0.039766             0.122672    -0.002212 -0.225789  \n",
              "Favicon                -0.016668            -0.127243     0.300917 -0.000280  \n",
              "NonStdPort             -0.005413            -0.139104     0.343987  0.036419  \n",
              "HTTPSDomainURL          0.115450            -0.128724     0.096187 -0.039854  \n",
              "RequestURL              0.046409            -0.067109     0.035412  0.253372  \n",
              "AnchorURL               0.038816             0.018651     0.077377  0.692935  \n",
              "LinksInScriptTags       0.045557             0.013561    -0.087343  0.248229  \n",
              "ServerFormHandler       0.027588            -0.009068    -0.005289  0.221419  \n",
              "InfoEmail              -0.008378            -0.039956     0.352074  0.018249  \n",
              "AbnormalURL             0.124751            -0.161027     0.186399 -0.060488  \n",
              "WebsiteForwarding       0.057230             0.161278    -0.059194 -0.020113  \n",
              "StatusBarCust          -0.006510            -0.038551     0.277347  0.041838  \n",
              "DisableRightClick      -0.008066            -0.119831     0.204409  0.012653  \n",
              "UsingPopupWindow       -0.010256            -0.121325     0.285261  0.000086  \n",
              "IframeRedirection      -0.003519            -0.140824     0.268418 -0.003394  \n",
              "AgeofDomain            -0.028471             0.040407     0.009115  0.121496  \n",
              "DNSRecording            0.137509            -0.318266     0.136860  0.075718  \n",
              "WebsiteTraffic         -0.012584            -0.019860     0.009223  0.346103  \n",
              "PageRank                0.032431            -0.028216     0.031049  0.104645  \n",
              "GoogleIndex             1.000000            -0.038777    -0.005103  0.128950  \n",
              "LinksPointingToPage    -0.038777             1.000000    -0.016817  0.032574  \n",
              "StatsReport            -0.005103            -0.016817     1.000000  0.079857  \n",
              "class                   0.128950             0.032574     0.079857  1.000000  "
            ]
          },
          "metadata": {
            "tags": []
          },
          "execution_count": 7
        }
      ]
    },
    {
      "cell_type": "code",
      "metadata": {
        "id": "47_yJAfM-d_K"
      },
      "source": [
        "from sklearn.model_selection import train_test_split,GridSearchCV\n",
        "from sklearn.preprocessing import StandardScaler"
      ],
      "execution_count": 142,
      "outputs": []
    },
    {
      "cell_type": "code",
      "metadata": {
        "id": "VD-xMWu7-vay"
      },
      "source": [
        "X = df.drop(columns = ['class'])\n",
        "y = df['class']"
      ],
      "execution_count": 143,
      "outputs": []
    },
    {
      "cell_type": "code",
      "metadata": {
        "id": "OvJgEg-j-ziQ"
      },
      "source": [
        "x_train,x_test,y_train,y_test = train_test_split(X,y,test_size = 0.3,random_state = 265)"
      ],
      "execution_count": 145,
      "outputs": []
    },
    {
      "cell_type": "code",
      "metadata": {
        "id": "iD6MflAe-zeq"
      },
      "source": [
        "scaler = StandardScaler()\n",
        "x_train = scaler.fit_transform(x_train)\n",
        "x_test = scaler.transform(x_test)"
      ],
      "execution_count": 146,
      "outputs": []
    },
    {
      "cell_type": "code",
      "metadata": {
        "colab": {
          "base_uri": "https://localhost:8080/"
        },
        "id": "pN0b9v7I-zc5",
        "outputId": "439cb1db-cba7-4d96-fb55-753a48a7628e"
      },
      "source": [
        "from sklearn.linear_model import LogisticRegression\n",
        "log_reg = LogisticRegression()\n",
        "log_reg.fit(x_train,y_train)"
      ],
      "execution_count": 12,
      "outputs": [
        {
          "output_type": "execute_result",
          "data": {
            "text/plain": [
              "LogisticRegression(C=1.0, class_weight=None, dual=False, fit_intercept=True,\n",
              "                   intercept_scaling=1, l1_ratio=None, max_iter=100,\n",
              "                   multi_class='auto', n_jobs=None, penalty='l2',\n",
              "                   random_state=None, solver='lbfgs', tol=0.0001, verbose=0,\n",
              "                   warm_start=False)"
            ]
          },
          "metadata": {
            "tags": []
          },
          "execution_count": 12
        }
      ]
    },
    {
      "cell_type": "code",
      "metadata": {
        "colab": {
          "base_uri": "https://localhost:8080/"
        },
        "id": "a2dkuvvJ-zWI",
        "outputId": "406733a2-03ff-4b28-fd21-ea6a0ef1e1d5"
      },
      "source": [
        "y_pred = log_reg.predict(x_test);y_pred"
      ],
      "execution_count": 13,
      "outputs": [
        {
          "output_type": "execute_result",
          "data": {
            "text/plain": [
              "array([-1,  1, -1, ...,  1,  1,  1])"
            ]
          },
          "metadata": {
            "tags": []
          },
          "execution_count": 13
        }
      ]
    },
    {
      "cell_type": "code",
      "metadata": {
        "colab": {
          "base_uri": "https://localhost:8080/"
        },
        "id": "pSvD9Fg5_NNg",
        "outputId": "a94fc55b-a02d-4e20-99e7-b114fc5abf6a"
      },
      "source": [
        "from sklearn.metrics import confusion_matrix,accuracy_score,classification_report\n",
        "mat_log = confusion_matrix(y_test,y_pred);mat_log\n"
      ],
      "execution_count": 14,
      "outputs": [
        {
          "output_type": "execute_result",
          "data": {
            "text/plain": [
              "array([[1317,  163],\n",
              "       [  87, 1750]])"
            ]
          },
          "metadata": {
            "tags": []
          },
          "execution_count": 14
        }
      ]
    },
    {
      "cell_type": "code",
      "metadata": {
        "colab": {
          "base_uri": "https://localhost:8080/"
        },
        "id": "8dF9_ArX_NJZ",
        "outputId": "0a36ca43-7ade-4ca4-f46c-518ba7e1d7db"
      },
      "source": [
        "print(classification_report(y_test,y_pred))"
      ],
      "execution_count": 15,
      "outputs": [
        {
          "output_type": "stream",
          "text": [
            "              precision    recall  f1-score   support\n",
            "\n",
            "          -1       0.94      0.89      0.91      1480\n",
            "           1       0.91      0.95      0.93      1837\n",
            "\n",
            "    accuracy                           0.92      3317\n",
            "   macro avg       0.93      0.92      0.92      3317\n",
            "weighted avg       0.93      0.92      0.92      3317\n",
            "\n"
          ],
          "name": "stdout"
        }
      ]
    },
    {
      "cell_type": "code",
      "metadata": {
        "colab": {
          "base_uri": "https://localhost:8080/"
        },
        "id": "QS3shyZ4_NGU",
        "outputId": "3f0e4940-7b63-408d-97cb-8bb81f8723fb"
      },
      "source": [
        "accuracy = accuracy_score(y_test,y_pred);accuracy "
      ],
      "execution_count": 16,
      "outputs": [
        {
          "output_type": "execute_result",
          "data": {
            "text/plain": [
              "0.924630690382876"
            ]
          },
          "metadata": {
            "tags": []
          },
          "execution_count": 16
        }
      ]
    },
    {
      "cell_type": "code",
      "metadata": {
        "colab": {
          "base_uri": "https://localhost:8080/"
        },
        "id": "NIkpSkWa_NDs",
        "outputId": "44a470a4-419e-45d6-ae1f-016365a823b9"
      },
      "source": [
        "from sklearn.metrics import roc_curve,roc_auc_score\n",
        "auc = roc_auc_score(y_test,y_pred);auc"
      ],
      "execution_count": 17,
      "outputs": [
        {
          "output_type": "execute_result",
          "data": {
            "text/plain": [
              "0.9212525195309625"
            ]
          },
          "metadata": {
            "tags": []
          },
          "execution_count": 17
        }
      ]
    },
    {
      "cell_type": "code",
      "metadata": {
        "colab": {
          "base_uri": "https://localhost:8080/"
        },
        "id": "yYRiH_tF_NBE",
        "outputId": "229a0b0f-93c8-4a9d-d202-ee217d611be9"
      },
      "source": [
        "y_pred_prob = log_reg.predict_proba(x_test);y_pred_prob"
      ],
      "execution_count": 18,
      "outputs": [
        {
          "output_type": "execute_result",
          "data": {
            "text/plain": [
              "array([[6.50163589e-01, 3.49836411e-01],\n",
              "       [1.19580933e-01, 8.80419067e-01],\n",
              "       [9.99937061e-01, 6.29393565e-05],\n",
              "       ...,\n",
              "       [2.72088262e-02, 9.72791174e-01],\n",
              "       [5.13362538e-03, 9.94866375e-01],\n",
              "       [1.69643171e-01, 8.30356829e-01]])"
            ]
          },
          "metadata": {
            "tags": []
          },
          "execution_count": 18
        }
      ]
    },
    {
      "cell_type": "code",
      "metadata": {
        "colab": {
          "base_uri": "https://localhost:8080/",
          "height": 313
        },
        "id": "VZJ5bkfD_M-e",
        "outputId": "d7b1509d-d7b4-4a2c-c6cb-52301fd502c5"
      },
      "source": [
        "fpr,tpr,thresholds = roc_curve(y_test,y_pred_prob[:,1])\n",
        "\n",
        "# ROC curve\n",
        "plt.plot(fpr, tpr, color='orange', label='ROC')\n",
        "plt.plot([0, 1], [0, 1], color='darkblue', linestyle='--',label='ROC curve (area = %0.2f)' % auc)\n",
        "plt.xlabel('False Positive Rate')\n",
        "plt.ylabel('True Positive Rate')\n",
        "plt.title('Receiver Operating Characteristic (ROC) Curve')\n",
        "plt.legend()\n",
        "plt.show()\n",
        "print(roc_auc_score(y_test, y_pred))"
      ],
      "execution_count": 19,
      "outputs": [
        {
          "output_type": "display_data",
          "data": {
            "image/png": "[encoded data removed]",
            "text/plain": [
              "<Figure size 432x288 with 1 Axes>"
            ]
          },
          "metadata": {
            "tags": [],
            "needs_background": "light"
          }
        },
        {
          "output_type": "stream",
          "text": [
            "0.9212525195309625\n"
          ],
          "name": "stdout"
        }
      ]
    },
    {
      "cell_type": "markdown",
      "metadata": {
        "id": "xsDX-uk__rxO"
      },
      "source": [
        "# Decision Tree"
      ]
    },
    {
      "cell_type": "code",
      "metadata": {
        "id": "YPziNcw-_xXs"
      },
      "source": [
        "from sklearn.tree import DecisionTreeClassifier,export_graphviz\n",
        "from sklearn.ensemble import RandomForestClassifier\n",
        "from sklearn import tree"
      ],
      "execution_count": 20,
      "outputs": []
    },
    {
      "cell_type": "code",
      "metadata": {
        "colab": {
          "base_uri": "https://localhost:8080/"
        },
        "id": "xFXy_G2l_2_J",
        "outputId": "d48ef97a-626b-4d41-f6d3-a61718987ad2"
      },
      "source": [
        "dt = DecisionTreeClassifier(random_state=265)\n",
        "dt.fit(x_train,y_train)"
      ],
      "execution_count": 21,
      "outputs": [
        {
          "output_type": "execute_result",
          "data": {
            "text/plain": [
              "DecisionTreeClassifier(ccp_alpha=0.0, class_weight=None, criterion='gini',\n",
              "                       max_depth=None, max_features=None, max_leaf_nodes=None,\n",
              "                       min_impurity_decrease=0.0, min_impurity_split=None,\n",
              "                       min_samples_leaf=1, min_samples_split=2,\n",
              "                       min_weight_fraction_leaf=0.0, presort='deprecated',\n",
              "                       random_state=265, splitter='best')"
            ]
          },
          "metadata": {
            "tags": []
          },
          "execution_count": 21
        }
      ]
    },
    {
      "cell_type": "code",
      "metadata": {
        "colab": {
          "base_uri": "https://localhost:8080/"
        },
        "id": "7qwlJScN_27W",
        "outputId": "bc84ca90-00f5-4fc5-8a37-154c3eae5e40"
      },
      "source": [
        "y_pred = dt.predict(x_test);y_pred"
      ],
      "execution_count": 22,
      "outputs": [
        {
          "output_type": "execute_result",
          "data": {
            "text/plain": [
              "array([ 1,  1, -1, ...,  1,  1, -1])"
            ]
          },
          "metadata": {
            "tags": []
          },
          "execution_count": 22
        }
      ]
    },
    {
      "cell_type": "code",
      "metadata": {
        "colab": {
          "base_uri": "https://localhost:8080/"
        },
        "id": "zoUJdHjB_24a",
        "outputId": "2f7aec28-6eee-4e66-e407-7732e5a622cf"
      },
      "source": [
        "mat_dt = confusion_matrix(y_test,y_pred);mat_dt"
      ],
      "execution_count": 23,
      "outputs": [
        {
          "output_type": "execute_result",
          "data": {
            "text/plain": [
              "array([[1420,   60],\n",
              "       [  75, 1762]])"
            ]
          },
          "metadata": {
            "tags": []
          },
          "execution_count": 23
        }
      ]
    },
    {
      "cell_type": "code",
      "metadata": {
        "colab": {
          "base_uri": "https://localhost:8080/"
        },
        "id": "iiDfjYQH_22b",
        "outputId": "414d24e4-04f6-492c-ca46-175447ce9760"
      },
      "source": [
        "print(classification_report(y_test,y_pred))"
      ],
      "execution_count": 24,
      "outputs": [
        {
          "output_type": "stream",
          "text": [
            "              precision    recall  f1-score   support\n",
            "\n",
            "          -1       0.95      0.96      0.95      1480\n",
            "           1       0.97      0.96      0.96      1837\n",
            "\n",
            "    accuracy                           0.96      3317\n",
            "   macro avg       0.96      0.96      0.96      3317\n",
            "weighted avg       0.96      0.96      0.96      3317\n",
            "\n"
          ],
          "name": "stdout"
        }
      ]
    },
    {
      "cell_type": "code",
      "metadata": {
        "colab": {
          "base_uri": "https://localhost:8080/"
        },
        "id": "e-93PO7tAN4c",
        "outputId": "3243c4f7-4f1d-4218-c256-eec6e09a7545"
      },
      "source": [
        "accuracy_score(y_test,y_pred)"
      ],
      "execution_count": 25,
      "outputs": [
        {
          "output_type": "execute_result",
          "data": {
            "text/plain": [
              "0.9593005728067531"
            ]
          },
          "metadata": {
            "tags": []
          },
          "execution_count": 25
        }
      ]
    },
    {
      "cell_type": "code",
      "metadata": {
        "colab": {
          "base_uri": "https://localhost:8080/"
        },
        "id": "qIvmYM6XAN0y",
        "outputId": "4ab47604-4752-4b8e-eec1-91345526f2df"
      },
      "source": [
        "auc = roc_auc_score(y_test,y_pred);auc"
      ],
      "execution_count": 26,
      "outputs": [
        {
          "output_type": "execute_result",
          "data": {
            "text/plain": [
              "0.9593160117112213"
            ]
          },
          "metadata": {
            "tags": []
          },
          "execution_count": 26
        }
      ]
    },
    {
      "cell_type": "code",
      "metadata": {
        "colab": {
          "base_uri": "https://localhost:8080/"
        },
        "id": "q_3yelFNANy_",
        "outputId": "805a4363-8f65-420c-b0fa-210ba3c73289"
      },
      "source": [
        "y_pred_prob_dt = dt.predict_proba(x_test);y_pred_prob_dt"
      ],
      "execution_count": 27,
      "outputs": [
        {
          "output_type": "execute_result",
          "data": {
            "text/plain": [
              "array([[0. , 1. ],\n",
              "       [0. , 1. ],\n",
              "       [1. , 0. ],\n",
              "       ...,\n",
              "       [0. , 1. ],\n",
              "       [0. , 1. ],\n",
              "       [0.5, 0.5]])"
            ]
          },
          "metadata": {
            "tags": []
          },
          "execution_count": 27
        }
      ]
    },
    {
      "cell_type": "code",
      "metadata": {
        "colab": {
          "base_uri": "https://localhost:8080/",
          "height": 313
        },
        "id": "o1sBu6U-ANv2",
        "outputId": "705da391-397e-4b6d-99f0-bfcceb0ffb42"
      },
      "source": [
        "fpr,tpr,thresholds = roc_curve(y_test,y_pred_prob_dt[:,1])\n",
        "\n",
        "# ROC curve\n",
        "plt.plot(fpr, tpr, color='orange', label='ROC')\n",
        "plt.plot([0, 1], [0, 1], color='darkblue', linestyle='--',label='ROC curve (area = %0.2f)' % auc)\n",
        "plt.xlabel('False Positive Rate')\n",
        "plt.ylabel('True Positive Rate')\n",
        "plt.title('Receiver Operating Characteristic (ROC) Curve')\n",
        "plt.legend()\n",
        "plt.show()\n",
        "print(roc_auc_score(y_test, y_pred))"
      ],
      "execution_count": 28,
      "outputs": [
        {
          "output_type": "display_data",
          "data": {
            "image/png": "[encoded data removed]",
            "text/plain": [
              "<Figure size 432x288 with 1 Axes>"
            ]
          },
          "metadata": {
            "tags": [],
            "needs_background": "light"
          }
        },
        {
          "output_type": "stream",
          "text": [
            "0.9593160117112213\n"
          ],
          "name": "stdout"
        }
      ]
    },
    {
      "cell_type": "code",
      "metadata": {
        "id": "yq8SKNcJANsK"
      },
      "source": [
        "leaves = [1,2,4,5,10,20,30,40,80,100,200,150]"
      ],
      "execution_count": 29,
      "outputs": []
    },
    {
      "cell_type": "code",
      "metadata": {
        "id": "EFuFuDTEANqI"
      },
      "source": [
        "grid_param_dt = {\n",
        "    'criterion': ['gini', 'entropy'],\n",
        "    'max_features' : ['auto','log2'],\n",
        "    'min_samples_leaf':leaves\n",
        "}"
      ],
      "execution_count": 30,
      "outputs": []
    },
    {
      "cell_type": "code",
      "metadata": {
        "colab": {
          "base_uri": "https://localhost:8080/"
        },
        "id": "zae7uUOeA6XY",
        "outputId": "10a80dec-cf80-4d98-8622-dec80d9402ce"
      },
      "source": [
        "dt1 = GridSearchCV(estimator=dt,param_grid=grid_param_dt,cv=5,n_jobs =-1,verbose = 3)\n",
        "dt1.fit(x_train,y_train)\n",
        "dt1.best_params_"
      ],
      "execution_count": 31,
      "outputs": [
        {
          "output_type": "stream",
          "text": [
            "Fitting 5 folds for each of 48 candidates, totalling 240 fits\n"
          ],
          "name": "stdout"
        },
        {
          "output_type": "stream",
          "text": [
            "[Parallel(n_jobs=-1)]: Using backend LokyBackend with 2 concurrent workers.\n",
            "[Parallel(n_jobs=-1)]: Done  58 tasks      | elapsed:    1.9s\n",
            "[Parallel(n_jobs=-1)]: Done 240 out of 240 | elapsed:    3.1s finished\n"
          ],
          "name": "stderr"
        },
        {
          "output_type": "execute_result",
          "data": {
            "text/plain": [
              "{'criterion': 'gini', 'max_features': 'auto', 'min_samples_leaf': 1}"
            ]
          },
          "metadata": {
            "tags": []
          },
          "execution_count": 31
        }
      ]
    },
    {
      "cell_type": "code",
      "metadata": {
        "colab": {
          "base_uri": "https://localhost:8080/"
        },
        "id": "PEQGK-6gA6S0",
        "outputId": "adb36605-55bf-4aa8-cbd7-e19fb6d0a5e5"
      },
      "source": [
        "dt1 = DecisionTreeClassifier(criterion = 'gini', max_features = 'auto', min_samples_leaf = 1,random_state=265)\n",
        "dt1.fit(x_train,y_train)"
      ],
      "execution_count": 32,
      "outputs": [
        {
          "output_type": "execute_result",
          "data": {
            "text/plain": [
              "DecisionTreeClassifier(ccp_alpha=0.0, class_weight=None, criterion='gini',\n",
              "                       max_depth=None, max_features='auto', max_leaf_nodes=None,\n",
              "                       min_impurity_decrease=0.0, min_impurity_split=None,\n",
              "                       min_samples_leaf=1, min_samples_split=2,\n",
              "                       min_weight_fraction_leaf=0.0, presort='deprecated',\n",
              "                       random_state=265, splitter='best')"
            ]
          },
          "metadata": {
            "tags": []
          },
          "execution_count": 32
        }
      ]
    },
    {
      "cell_type": "code",
      "metadata": {
        "colab": {
          "base_uri": "https://localhost:8080/"
        },
        "id": "Jlry122-Bhgv",
        "outputId": "78f708c8-2d1b-4a49-e16b-63e63dca303e"
      },
      "source": [
        "y_pred_dt1 = dt1.predict(x_test);y_pred_dt1"
      ],
      "execution_count": 33,
      "outputs": [
        {
          "output_type": "execute_result",
          "data": {
            "text/plain": [
              "array([ 1,  1, -1, ...,  1,  1, -1])"
            ]
          },
          "metadata": {
            "tags": []
          },
          "execution_count": 33
        }
      ]
    },
    {
      "cell_type": "code",
      "metadata": {
        "colab": {
          "base_uri": "https://localhost:8080/"
        },
        "id": "cMtN8DLFA6Ra",
        "outputId": "d4e5b0aa-257f-4469-ab5e-2f4b726a2c47"
      },
      "source": [
        "accuracy_score(y_test,y_pred_dt1)"
      ],
      "execution_count": 34,
      "outputs": [
        {
          "output_type": "execute_result",
          "data": {
            "text/plain": [
              "0.9568887548990052"
            ]
          },
          "metadata": {
            "tags": []
          },
          "execution_count": 34
        }
      ]
    },
    {
      "cell_type": "code",
      "metadata": {
        "colab": {
          "base_uri": "https://localhost:8080/"
        },
        "id": "py5ZhXXWA6OT",
        "outputId": "93499717-a1da-42af-c26f-a74cd443bdb1"
      },
      "source": [
        "confusion_matrix(y_test,y_pred_dt1)"
      ],
      "execution_count": 35,
      "outputs": [
        {
          "output_type": "execute_result",
          "data": {
            "text/plain": [
              "array([[1401,   79],\n",
              "       [  64, 1773]])"
            ]
          },
          "metadata": {
            "tags": []
          },
          "execution_count": 35
        }
      ]
    },
    {
      "cell_type": "code",
      "metadata": {
        "colab": {
          "base_uri": "https://localhost:8080/"
        },
        "id": "X5JFdmKxCVA4",
        "outputId": "7cad0813-5a8e-4676-8e47-700d7ebdfa14"
      },
      "source": [
        "auc_dt1 = roc_auc_score(y_test,y_pred_dt1);auc_dt1"
      ],
      "execution_count": 36,
      "outputs": [
        {
          "output_type": "execute_result",
          "data": {
            "text/plain": [
              "0.9558911047683504"
            ]
          },
          "metadata": {
            "tags": []
          },
          "execution_count": 36
        }
      ]
    },
    {
      "cell_type": "code",
      "metadata": {
        "colab": {
          "base_uri": "https://localhost:8080/"
        },
        "id": "o2o2sCM4CGbn",
        "outputId": "45d06933-2a96-4946-fbfc-e3b7374be90d"
      },
      "source": [
        "y_pred_prob_dt1 = dt1.predict_proba(x_test);y_pred_prob_dt1"
      ],
      "execution_count": 37,
      "outputs": [
        {
          "output_type": "execute_result",
          "data": {
            "text/plain": [
              "array([[0., 1.],\n",
              "       [0., 1.],\n",
              "       [1., 0.],\n",
              "       ...,\n",
              "       [0., 1.],\n",
              "       [0., 1.],\n",
              "       [1., 0.]])"
            ]
          },
          "metadata": {
            "tags": []
          },
          "execution_count": 37
        }
      ]
    },
    {
      "cell_type": "code",
      "metadata": {
        "colab": {
          "base_uri": "https://localhost:8080/",
          "height": 313
        },
        "id": "Uo56AEEWA6Ls",
        "outputId": "09e703f1-d0fa-41ba-daed-d6dc87cd4622"
      },
      "source": [
        "fpr,tpr,thresholds = roc_curve(y_test,y_pred_prob_dt1[:,1])\n",
        "\n",
        "# ROC curve\n",
        "plt.plot(fpr, tpr, color='orange', label='ROC')\n",
        "plt.plot([0, 1], [0, 1], color='darkblue', linestyle='--',label='ROC curve (area = %0.2f)' % auc_dt1)\n",
        "plt.xlabel('False Positive Rate')\n",
        "plt.ylabel('True Positive Rate')\n",
        "plt.title('Receiver Operating Characteristic (ROC) Curve')\n",
        "plt.legend()\n",
        "plt.show()\n",
        "print(roc_auc_score(y_test, y_pred_dt1))"
      ],
      "execution_count": 38,
      "outputs": [
        {
          "output_type": "display_data",
          "data": {
            "image/png": "[encoded data removed]",
            "text/plain": [
              "<Figure size 432x288 with 1 Axes>"
            ]
          },
          "metadata": {
            "tags": [],
            "needs_background": "light"
          }
        },
        {
          "output_type": "stream",
          "text": [
            "0.9558911047683504\n"
          ],
          "name": "stdout"
        }
      ]
    },
    {
      "cell_type": "markdown",
      "metadata": {
        "id": "1PfcvFcZCkFl"
      },
      "source": [
        "## Random Forest"
      ]
    },
    {
      "cell_type": "code",
      "metadata": {
        "colab": {
          "base_uri": "https://localhost:8080/"
        },
        "id": "1JHbGUyTA6JC",
        "outputId": "94687c39-9bc1-494f-d45b-44a6ea66e712"
      },
      "source": [
        "rf = RandomForestClassifier(random_state = 265)\n",
        "rf.fit(x_train,y_train)"
      ],
      "execution_count": 39,
      "outputs": [
        {
          "output_type": "execute_result",
          "data": {
            "text/plain": [
              "RandomForestClassifier(bootstrap=True, ccp_alpha=0.0, class_weight=None,\n",
              "                       criterion='gini', max_depth=None, max_features='auto',\n",
              "                       max_leaf_nodes=None, max_samples=None,\n",
              "                       min_impurity_decrease=0.0, min_impurity_split=None,\n",
              "                       min_samples_leaf=1, min_samples_split=2,\n",
              "                       min_weight_fraction_leaf=0.0, n_estimators=100,\n",
              "                       n_jobs=None, oob_score=False, random_state=265,\n",
              "                       verbose=0, warm_start=False)"
            ]
          },
          "metadata": {
            "tags": []
          },
          "execution_count": 39
        }
      ]
    },
    {
      "cell_type": "code",
      "metadata": {
        "colab": {
          "base_uri": "https://localhost:8080/"
        },
        "id": "Zu0rme5HA6GR",
        "outputId": "010a0b67-41fd-4d70-b3f3-3f12d43f1c05"
      },
      "source": [
        "y_pred_rf = rf.predict(x_test);y_pred_rf"
      ],
      "execution_count": 40,
      "outputs": [
        {
          "output_type": "execute_result",
          "data": {
            "text/plain": [
              "array([ 1,  1, -1, ...,  1,  1,  1])"
            ]
          },
          "metadata": {
            "tags": []
          },
          "execution_count": 40
        }
      ]
    },
    {
      "cell_type": "code",
      "metadata": {
        "colab": {
          "base_uri": "https://localhost:8080/"
        },
        "id": "b8H77yEwA6DW",
        "outputId": "8ec6259a-a003-462e-fd8b-164794ffd621"
      },
      "source": [
        "accuracy_score(y_test,y_pred_rf)"
      ],
      "execution_count": 41,
      "outputs": [
        {
          "output_type": "execute_result",
          "data": {
            "text/plain": [
              "0.9683448899608079"
            ]
          },
          "metadata": {
            "tags": []
          },
          "execution_count": 41
        }
      ]
    },
    {
      "cell_type": "code",
      "metadata": {
        "colab": {
          "base_uri": "https://localhost:8080/"
        },
        "id": "j45aIXtpA6Ax",
        "outputId": "13818b1f-b863-455f-a906-17e1a4ef7177"
      },
      "source": [
        "confusion_matrix(y_test,y_pred_rf)"
      ],
      "execution_count": 42,
      "outputs": [
        {
          "output_type": "execute_result",
          "data": {
            "text/plain": [
              "array([[1417,   63],\n",
              "       [  42, 1795]])"
            ]
          },
          "metadata": {
            "tags": []
          },
          "execution_count": 42
        }
      ]
    },
    {
      "cell_type": "code",
      "metadata": {
        "colab": {
          "base_uri": "https://localhost:8080/"
        },
        "id": "XkQ46rGsA594",
        "outputId": "57578469-0365-455d-833e-4d4a02a1da02"
      },
      "source": [
        "print(classification_report(y_test,y_pred_rf))"
      ],
      "execution_count": 43,
      "outputs": [
        {
          "output_type": "stream",
          "text": [
            "              precision    recall  f1-score   support\n",
            "\n",
            "          -1       0.97      0.96      0.96      1480\n",
            "           1       0.97      0.98      0.97      1837\n",
            "\n",
            "    accuracy                           0.97      3317\n",
            "   macro avg       0.97      0.97      0.97      3317\n",
            "weighted avg       0.97      0.97      0.97      3317\n",
            "\n"
          ],
          "name": "stdout"
        }
      ]
    },
    {
      "cell_type": "code",
      "metadata": {
        "colab": {
          "base_uri": "https://localhost:8080/"
        },
        "id": "VYfX54e7A57K",
        "outputId": "3b636932-5c60-4b3b-d08a-7a7024d7db84"
      },
      "source": [
        "auc_rf = roc_auc_score(y_test,y_pred_rf);auc_rf"
      ],
      "execution_count": 44,
      "outputs": [
        {
          "output_type": "execute_result",
          "data": {
            "text/plain": [
              "0.9672845341258515"
            ]
          },
          "metadata": {
            "tags": []
          },
          "execution_count": 44
        }
      ]
    },
    {
      "cell_type": "code",
      "metadata": {
        "colab": {
          "base_uri": "https://localhost:8080/"
        },
        "id": "XKezUORQA55q",
        "outputId": "174edea5-42a4-4b7f-e844-a09f88c96947"
      },
      "source": [
        "y_pred_prob_rf = rf.predict_proba(x_test);y_pred_prob_rf"
      ],
      "execution_count": 45,
      "outputs": [
        {
          "output_type": "execute_result",
          "data": {
            "text/plain": [
              "array([[0.26      , 0.74      ],\n",
              "       [0.05      , 0.95      ],\n",
              "       [1.        , 0.        ],\n",
              "       ...,\n",
              "       [0.03      , 0.97      ],\n",
              "       [0.        , 1.        ],\n",
              "       [0.25916667, 0.74083333]])"
            ]
          },
          "metadata": {
            "tags": []
          },
          "execution_count": 45
        }
      ]
    },
    {
      "cell_type": "code",
      "metadata": {
        "colab": {
          "base_uri": "https://localhost:8080/",
          "height": 313
        },
        "id": "LaM9aAZbA52B",
        "outputId": "ab1cf409-a6b7-4e74-8c60-57a7ed0f4442"
      },
      "source": [
        "fpr,tpr,thresholds = roc_curve(y_test,y_pred_prob_rf[:,1])\n",
        "\n",
        "# ROC curve\n",
        "plt.plot(fpr, tpr, color='orange', label='ROC')\n",
        "plt.plot([0, 1], [0, 1], color='darkblue', linestyle='--',label='ROC curve (area = %0.2f)' % auc_rf)\n",
        "plt.xlabel('False Positive Rate')\n",
        "plt.ylabel('True Positive Rate')\n",
        "plt.title('Receiver Operating Characteristic (ROC) Curve')\n",
        "plt.legend()\n",
        "plt.show()\n",
        "print(roc_auc_score(y_test, y_pred_rf))"
      ],
      "execution_count": 46,
      "outputs": [
        {
          "output_type": "display_data",
          "data": {
            "image/png": "[encoded data removed]",
            "text/plain": [
              "<Figure size 432x288 with 1 Axes>"
            ]
          },
          "metadata": {
            "tags": [],
            "needs_background": "light"
          }
        },
        {
          "output_type": "stream",
          "text": [
            "0.9672845341258515\n"
          ],
          "name": "stdout"
        }
      ]
    },
    {
      "cell_type": "code",
      "metadata": {
        "id": "5ly87jWJDbNO"
      },
      "source": [
        "leaves = [1,2,4,5,10,20,30,40,80,100,200,150]"
      ],
      "execution_count": 47,
      "outputs": []
    },
    {
      "cell_type": "code",
      "metadata": {
        "id": "g42KYOwdA5zf"
      },
      "source": [
        "grid_param_rand = {\n",
        "    \"n_estimators\" : [10,20,30,40,50,60,70,80,100],\n",
        "    'criterion': ['gini', 'entropy'],\n",
        "    'max_features' : ['auto','log2'],\n",
        "    'min_samples_leaf':leaves\n",
        "}"
      ],
      "execution_count": 48,
      "outputs": []
    },
    {
      "cell_type": "code",
      "metadata": {
        "colab": {
          "base_uri": "https://localhost:8080/"
        },
        "id": "jFn_sYAJA5xF",
        "outputId": "1ae04b81-12ec-4cd9-bbe1-0f5092c3c118"
      },
      "source": [
        "rf1 = GridSearchCV(estimator=rf,param_grid=grid_param_rand,cv=5,n_jobs =-1,verbose = 3)\n",
        "rf1.fit(x_train,y_train)\n",
        "rf1.best_params_"
      ],
      "execution_count": 49,
      "outputs": [
        {
          "output_type": "stream",
          "text": [
            "Fitting 5 folds for each of 432 candidates, totalling 2160 fits\n"
          ],
          "name": "stdout"
        },
        {
          "output_type": "stream",
          "text": [
            "[Parallel(n_jobs=-1)]: Using backend LokyBackend with 2 concurrent workers.\n",
            "[Parallel(n_jobs=-1)]: Done  50 tasks      | elapsed:    9.7s\n",
            "[Parallel(n_jobs=-1)]: Done 146 tasks      | elapsed:   27.7s\n",
            "[Parallel(n_jobs=-1)]: Done 306 tasks      | elapsed:   56.2s\n",
            "[Parallel(n_jobs=-1)]: Done 530 tasks      | elapsed:  1.5min\n",
            "[Parallel(n_jobs=-1)]: Done 818 tasks      | elapsed:  2.3min\n",
            "[Parallel(n_jobs=-1)]: Done 1170 tasks      | elapsed:  3.3min\n",
            "[Parallel(n_jobs=-1)]: Done 1586 tasks      | elapsed:  4.4min\n",
            "[Parallel(n_jobs=-1)]: Done 2066 tasks      | elapsed:  5.8min\n",
            "[Parallel(n_jobs=-1)]: Done 2160 out of 2160 | elapsed:  6.0min finished\n"
          ],
          "name": "stderr"
        },
        {
          "output_type": "execute_result",
          "data": {
            "text/plain": [
              "{'criterion': 'gini',\n",
              " 'max_features': 'log2',\n",
              " 'min_samples_leaf': 1,\n",
              " 'n_estimators': 100}"
            ]
          },
          "metadata": {
            "tags": []
          },
          "execution_count": 49
        }
      ]
    },
    {
      "cell_type": "code",
      "metadata": {
        "colab": {
          "base_uri": "https://localhost:8080/"
        },
        "id": "j8EPvMiIA5uW",
        "outputId": "13cf47e2-7d36-44d6-aa94-37f9180e0579"
      },
      "source": [
        "rf1 = RandomForestClassifier(criterion = \"gini\", max_features = \"log2\", n_estimators = 100,min_samples_leaf = 1,random_state = 265)\n",
        "rf1.fit(x_train,y_train)"
      ],
      "execution_count": 50,
      "outputs": [
        {
          "output_type": "execute_result",
          "data": {
            "text/plain": [
              "RandomForestClassifier(bootstrap=True, ccp_alpha=0.0, class_weight=None,\n",
              "                       criterion='gini', max_depth=None, max_features='log2',\n",
              "                       max_leaf_nodes=None, max_samples=None,\n",
              "                       min_impurity_decrease=0.0, min_impurity_split=None,\n",
              "                       min_samples_leaf=1, min_samples_split=2,\n",
              "                       min_weight_fraction_leaf=0.0, n_estimators=100,\n",
              "                       n_jobs=None, oob_score=False, random_state=265,\n",
              "                       verbose=0, warm_start=False)"
            ]
          },
          "metadata": {
            "tags": []
          },
          "execution_count": 50
        }
      ]
    },
    {
      "cell_type": "code",
      "metadata": {
        "colab": {
          "base_uri": "https://localhost:8080/"
        },
        "id": "N5_DrcNBA5rx",
        "outputId": "8c6b5c35-6bdb-4a68-d08f-bcb99dfc5074"
      },
      "source": [
        "y_pred_rf1 = rf1.predict(x_test);y_pred_rf1"
      ],
      "execution_count": 51,
      "outputs": [
        {
          "output_type": "execute_result",
          "data": {
            "text/plain": [
              "array([ 1,  1, -1, ...,  1,  1,  1])"
            ]
          },
          "metadata": {
            "tags": []
          },
          "execution_count": 51
        }
      ]
    },
    {
      "cell_type": "code",
      "metadata": {
        "colab": {
          "base_uri": "https://localhost:8080/"
        },
        "id": "gBfccGMxA5o4",
        "outputId": "98f2588a-82b4-4002-c2b1-b060e5af17d9"
      },
      "source": [
        "accuracy_score(y_test,y_pred_rf1)"
      ],
      "execution_count": 52,
      "outputs": [
        {
          "output_type": "execute_result",
          "data": {
            "text/plain": [
              "0.970756707868556"
            ]
          },
          "metadata": {
            "tags": []
          },
          "execution_count": 52
        }
      ]
    },
    {
      "cell_type": "code",
      "metadata": {
        "colab": {
          "base_uri": "https://localhost:8080/"
        },
        "id": "8VKUkZe2A5m8",
        "outputId": "7f846603-337b-4e0b-e126-5fa1e25dbb50"
      },
      "source": [
        "confusion_matrix(y_test,y_pred_rf1)"
      ],
      "execution_count": 53,
      "outputs": [
        {
          "output_type": "execute_result",
          "data": {
            "text/plain": [
              "array([[1418,   62],\n",
              "       [  35, 1802]])"
            ]
          },
          "metadata": {
            "tags": []
          },
          "execution_count": 53
        }
      ]
    },
    {
      "cell_type": "code",
      "metadata": {
        "colab": {
          "base_uri": "https://localhost:8080/"
        },
        "id": "gWbgu1FgA4lo",
        "outputId": "29aa14e3-bf7d-4af0-950c-ffe7a41b4d88"
      },
      "source": [
        "print(classification_report(y_test,y_pred_rf1))"
      ],
      "execution_count": 54,
      "outputs": [
        {
          "output_type": "stream",
          "text": [
            "              precision    recall  f1-score   support\n",
            "\n",
            "          -1       0.98      0.96      0.97      1480\n",
            "           1       0.97      0.98      0.97      1837\n",
            "\n",
            "    accuracy                           0.97      3317\n",
            "   macro avg       0.97      0.97      0.97      3317\n",
            "weighted avg       0.97      0.97      0.97      3317\n",
            "\n"
          ],
          "name": "stdout"
        }
      ]
    },
    {
      "cell_type": "code",
      "metadata": {
        "colab": {
          "base_uri": "https://localhost:8080/"
        },
        "id": "tIGQVfgdHUcq",
        "outputId": "c5015792-deed-4452-d2c7-c8fe922782e5"
      },
      "source": [
        "auc_rf1 = roc_auc_score(y_test,y_pred_rf1);auc_rf1"
      ],
      "execution_count": 55,
      "outputs": [
        {
          "output_type": "execute_result",
          "data": {
            "text/plain": [
              "0.9695276523120835"
            ]
          },
          "metadata": {
            "tags": []
          },
          "execution_count": 55
        }
      ]
    },
    {
      "cell_type": "code",
      "metadata": {
        "colab": {
          "base_uri": "https://localhost:8080/"
        },
        "id": "0SxM3f9PHUYd",
        "outputId": "936fd458-cd40-4952-c951-84b72904ad27"
      },
      "source": [
        "y_pred_prob_rf1 = rf1.predict_proba(x_test);y_pred_prob_rf1"
      ],
      "execution_count": 56,
      "outputs": [
        {
          "output_type": "execute_result",
          "data": {
            "text/plain": [
              "array([[0.3       , 0.7       ],\n",
              "       [0.02      , 0.98      ],\n",
              "       [0.99      , 0.01      ],\n",
              "       ...,\n",
              "       [0.01      , 0.99      ],\n",
              "       [0.        , 1.        ],\n",
              "       [0.34483333, 0.65516667]])"
            ]
          },
          "metadata": {
            "tags": []
          },
          "execution_count": 56
        }
      ]
    },
    {
      "cell_type": "code",
      "metadata": {
        "colab": {
          "base_uri": "https://localhost:8080/",
          "height": 313
        },
        "id": "dqMtweQ3HUVe",
        "outputId": "4f96340a-213a-4ccb-cdb4-cb2ca5a957ae"
      },
      "source": [
        "fpr,tpr,thresholds = roc_curve(y_test,y_pred_prob_rf1[:,1])\n",
        "\n",
        "# ROC curve\n",
        "plt.plot(fpr, tpr, color='orange', label='ROC')\n",
        "plt.plot([0, 1], [0, 1], color='darkblue', linestyle='--',label='ROC curve (area = %0.2f)' % auc_rf1)\n",
        "plt.xlabel('False Positive Rate')\n",
        "plt.ylabel('True Positive Rate')\n",
        "plt.title('Receiver Operating Characteristic (ROC) Curve')\n",
        "plt.legend()\n",
        "plt.show()\n",
        "print(roc_auc_score(y_test, y_pred_rf1))"
      ],
      "execution_count": 57,
      "outputs": [
        {
          "output_type": "display_data",
          "data": {
            "image/png": "[encoded data removed]",
            "text/plain": [
              "<Figure size 432x288 with 1 Axes>"
            ]
          },
          "metadata": {
            "tags": [],
            "needs_background": "light"
          }
        },
        {
          "output_type": "stream",
          "text": [
            "0.9695276523120835\n"
          ],
          "name": "stdout"
        }
      ]
    },
    {
      "cell_type": "markdown",
      "metadata": {
        "id": "x-lzB-TBHn3N"
      },
      "source": [
        "## Ada Boost"
      ]
    },
    {
      "cell_type": "code",
      "metadata": {
        "colab": {
          "base_uri": "https://localhost:8080/"
        },
        "id": "eIUw_JyzHUSW",
        "outputId": "3bc03681-29d4-48f8-9a3f-dec82b2f3dab"
      },
      "source": [
        "from sklearn.ensemble import AdaBoostClassifier\n",
        "ada = AdaBoostClassifier(random_state = 265)\n",
        "ada.fit(x_train,y_train)"
      ],
      "execution_count": 58,
      "outputs": [
        {
          "output_type": "execute_result",
          "data": {
            "text/plain": [
              "AdaBoostClassifier(algorithm='SAMME.R', base_estimator=None, learning_rate=1.0,\n",
              "                   n_estimators=50, random_state=265)"
            ]
          },
          "metadata": {
            "tags": []
          },
          "execution_count": 58
        }
      ]
    },
    {
      "cell_type": "code",
      "metadata": {
        "colab": {
          "base_uri": "https://localhost:8080/"
        },
        "id": "caMpk2_iHUPq",
        "outputId": "1eff2b26-18a8-4b08-888d-f75f97607b12"
      },
      "source": [
        "y_pred_ada = ada.predict(x_test);y_pred_ada"
      ],
      "execution_count": 59,
      "outputs": [
        {
          "output_type": "execute_result",
          "data": {
            "text/plain": [
              "array([ 1,  1, -1, ...,  1,  1,  1])"
            ]
          },
          "metadata": {
            "tags": []
          },
          "execution_count": 59
        }
      ]
    },
    {
      "cell_type": "code",
      "metadata": {
        "colab": {
          "base_uri": "https://localhost:8080/"
        },
        "id": "qIkXSZCfHUNY",
        "outputId": "1975d0d2-66f4-44b4-ce91-47cda7e4e126"
      },
      "source": [
        "accuracy_score(y_test,y_pred_ada)"
      ],
      "execution_count": 60,
      "outputs": [
        {
          "output_type": "execute_result",
          "data": {
            "text/plain": [
              "0.93186614410612"
            ]
          },
          "metadata": {
            "tags": []
          },
          "execution_count": 60
        }
      ]
    },
    {
      "cell_type": "code",
      "metadata": {
        "colab": {
          "base_uri": "https://localhost:8080/"
        },
        "id": "M_Ff41fxHULA",
        "outputId": "5727a9cf-ac8d-43d8-f39c-00c89c2c2266"
      },
      "source": [
        "confusion_matrix(y_test,y_pred_ada)"
      ],
      "execution_count": 61,
      "outputs": [
        {
          "output_type": "execute_result",
          "data": {
            "text/plain": [
              "array([[1331,  149],\n",
              "       [  77, 1760]])"
            ]
          },
          "metadata": {
            "tags": []
          },
          "execution_count": 61
        }
      ]
    },
    {
      "cell_type": "code",
      "metadata": {
        "colab": {
          "base_uri": "https://localhost:8080/"
        },
        "id": "H9tjSOFGH6ps",
        "outputId": "656712eb-ab7c-4502-fdac-358fb3d213f4"
      },
      "source": [
        "print(classification_report(y_test,y_pred_ada))"
      ],
      "execution_count": 62,
      "outputs": [
        {
          "output_type": "stream",
          "text": [
            "              precision    recall  f1-score   support\n",
            "\n",
            "          -1       0.95      0.90      0.92      1480\n",
            "           1       0.92      0.96      0.94      1837\n",
            "\n",
            "    accuracy                           0.93      3317\n",
            "   macro avg       0.93      0.93      0.93      3317\n",
            "weighted avg       0.93      0.93      0.93      3317\n",
            "\n"
          ],
          "name": "stdout"
        }
      ]
    },
    {
      "cell_type": "code",
      "metadata": {
        "colab": {
          "base_uri": "https://localhost:8080/"
        },
        "id": "Gn3SYTVLH6lk",
        "outputId": "f6268381-0f22-466d-97a9-c0d2f61e61fe"
      },
      "source": [
        "auc_ada = roc_auc_score(y_test,y_pred_ada);auc_ada"
      ],
      "execution_count": 63,
      "outputs": [
        {
          "output_type": "execute_result",
          "data": {
            "text/plain": [
              "0.9287040783298268"
            ]
          },
          "metadata": {
            "tags": []
          },
          "execution_count": 63
        }
      ]
    },
    {
      "cell_type": "code",
      "metadata": {
        "colab": {
          "base_uri": "https://localhost:8080/"
        },
        "id": "GX4HrnC9H6i5",
        "outputId": "1f3f69a9-cc20-4de3-d228-96e70504425f"
      },
      "source": [
        "y_pred_prob_ada = ada.predict_proba(x_test);y_pred_prob_ada"
      ],
      "execution_count": 64,
      "outputs": [
        {
          "output_type": "execute_result",
          "data": {
            "text/plain": [
              "array([[0.49584394, 0.50415606],\n",
              "       [0.49362549, 0.50637451],\n",
              "       [0.55840491, 0.44159509],\n",
              "       ...,\n",
              "       [0.47564546, 0.52435454],\n",
              "       [0.46346901, 0.53653099],\n",
              "       [0.49264145, 0.50735855]])"
            ]
          },
          "metadata": {
            "tags": []
          },
          "execution_count": 64
        }
      ]
    },
    {
      "cell_type": "code",
      "metadata": {
        "colab": {
          "base_uri": "https://localhost:8080/",
          "height": 313
        },
        "id": "eXWafz5-H6ev",
        "outputId": "5f0587d4-e88b-4942-dd2c-8064d3d1c77c"
      },
      "source": [
        "fpr,tpr,thresholds = roc_curve(y_test,y_pred_prob_ada[:,1])\n",
        "\n",
        "# ROC curve\n",
        "plt.plot(fpr, tpr, color='orange', label='ROC')\n",
        "plt.plot([0, 1], [0, 1], color='darkblue', linestyle='--',label='ROC curve (area = %0.2f)' % auc_ada)\n",
        "plt.xlabel('False Positive Rate')\n",
        "plt.ylabel('True Positive Rate')\n",
        "plt.title('Receiver Operating Characteristic (ROC) Curve')\n",
        "plt.legend()\n",
        "plt.show()\n",
        "print(roc_auc_score(y_test, y_pred_ada))"
      ],
      "execution_count": 65,
      "outputs": [
        {
          "output_type": "display_data",
          "data": {
            "image/png": "[encoded data removed]",
            "text/plain": [
              "<Figure size 432x288 with 1 Axes>"
            ]
          },
          "metadata": {
            "tags": [],
            "needs_background": "light"
          }
        },
        {
          "output_type": "stream",
          "text": [
            "0.9287040783298268\n"
          ],
          "name": "stdout"
        }
      ]
    },
    {
      "cell_type": "code",
      "metadata": {
        "id": "GByCj30cH6cU"
      },
      "source": [
        "grid_param_ada={'n_estimators':[25,50,100,250,500,1000,2000],'learning_rate':[.001,0.0001,0.00001,0.01,.1,1]}"
      ],
      "execution_count": 66,
      "outputs": []
    },
    {
      "cell_type": "code",
      "metadata": {
        "colab": {
          "base_uri": "https://localhost:8080/"
        },
        "id": "QGAsz3gsM3mC",
        "outputId": "6ef50842-e423-42f2-f1e4-9d67d51c24aa"
      },
      "source": [
        "grid_search_ada = GridSearchCV(estimator=ada,param_grid=grid_param_ada,cv=5,n_jobs =-1,verbose = 3)\n",
        "grid_search_ada.fit(x_train,y_train)\n",
        "grid_search_ada.best_params_"
      ],
      "execution_count": 67,
      "outputs": [
        {
          "output_type": "stream",
          "text": [
            "Fitting 5 folds for each of 42 candidates, totalling 210 fits\n"
          ],
          "name": "stdout"
        },
        {
          "output_type": "stream",
          "text": [
            "[Parallel(n_jobs=-1)]: Using backend LokyBackend with 2 concurrent workers.\n",
            "[Parallel(n_jobs=-1)]: Done  28 tasks      | elapsed:   43.1s\n",
            "[Parallel(n_jobs=-1)]: Done 124 tasks      | elapsed:  5.3min\n",
            "[Parallel(n_jobs=-1)]: Done 210 out of 210 | elapsed: 10.2min finished\n"
          ],
          "name": "stderr"
        },
        {
          "output_type": "execute_result",
          "data": {
            "text/plain": [
              "{'learning_rate': 0.1, 'n_estimators': 1000}"
            ]
          },
          "metadata": {
            "tags": []
          },
          "execution_count": 67
        }
      ]
    },
    {
      "cell_type": "code",
      "metadata": {
        "colab": {
          "base_uri": "https://localhost:8080/"
        },
        "id": "9EO5rS9sM3hY",
        "outputId": "510eab4f-2679-4832-9001-9b8dc0badc53"
      },
      "source": [
        "ada1 = AdaBoostClassifier( n_estimators = 1000,learning_rate = 0.1,random_state=265)\n",
        "ada1.fit(x_train,y_train)"
      ],
      "execution_count": 68,
      "outputs": [
        {
          "output_type": "execute_result",
          "data": {
            "text/plain": [
              "AdaBoostClassifier(algorithm='SAMME.R', base_estimator=None, learning_rate=0.1,\n",
              "                   n_estimators=1000, random_state=265)"
            ]
          },
          "metadata": {
            "tags": []
          },
          "execution_count": 68
        }
      ]
    },
    {
      "cell_type": "code",
      "metadata": {
        "colab": {
          "base_uri": "https://localhost:8080/"
        },
        "id": "j_DcZbX3M3er",
        "outputId": "b8c9eedb-7b76-427c-afe2-4ad274cbf61f"
      },
      "source": [
        "y_pred_ada1 = ada1.predict(x_test);y_pred_ada1"
      ],
      "execution_count": 69,
      "outputs": [
        {
          "output_type": "execute_result",
          "data": {
            "text/plain": [
              "array([ 1,  1, -1, ...,  1,  1,  1])"
            ]
          },
          "metadata": {
            "tags": []
          },
          "execution_count": 69
        }
      ]
    },
    {
      "cell_type": "code",
      "metadata": {
        "colab": {
          "base_uri": "https://localhost:8080/"
        },
        "id": "FVgOGaKKM3ce",
        "outputId": "5e9cb0ac-1c94-4ca7-d4d3-2f60adae2928"
      },
      "source": [
        "conf_mat_ada1 = confusion_matrix(y_test,y_pred_ada1);conf_mat_ada1"
      ],
      "execution_count": 70,
      "outputs": [
        {
          "output_type": "execute_result",
          "data": {
            "text/plain": [
              "array([[1333,  147],\n",
              "       [  75, 1762]])"
            ]
          },
          "metadata": {
            "tags": []
          },
          "execution_count": 70
        }
      ]
    },
    {
      "cell_type": "code",
      "metadata": {
        "colab": {
          "base_uri": "https://localhost:8080/"
        },
        "id": "8jP9NkzeQYe2",
        "outputId": "1bfe3c22-7fd9-4db6-9572-5fe0862bf6b2"
      },
      "source": [
        "print(classification_report(y_test,y_pred_ada1))"
      ],
      "execution_count": 71,
      "outputs": [
        {
          "output_type": "stream",
          "text": [
            "              precision    recall  f1-score   support\n",
            "\n",
            "          -1       0.95      0.90      0.92      1480\n",
            "           1       0.92      0.96      0.94      1837\n",
            "\n",
            "    accuracy                           0.93      3317\n",
            "   macro avg       0.93      0.93      0.93      3317\n",
            "weighted avg       0.93      0.93      0.93      3317\n",
            "\n"
          ],
          "name": "stdout"
        }
      ]
    },
    {
      "cell_type": "code",
      "metadata": {
        "colab": {
          "base_uri": "https://localhost:8080/"
        },
        "id": "ZACBBZi2QYcl",
        "outputId": "aa28139e-9698-4d04-d796-d10e26f2f75c"
      },
      "source": [
        "accuracy_score(y_test,y_pred_ada1)"
      ],
      "execution_count": 72,
      "outputs": [
        {
          "output_type": "execute_result",
          "data": {
            "text/plain": [
              "0.933072053059994"
            ]
          },
          "metadata": {
            "tags": []
          },
          "execution_count": 72
        }
      ]
    },
    {
      "cell_type": "code",
      "metadata": {
        "colab": {
          "base_uri": "https://localhost:8080/"
        },
        "id": "BCGGGVHHQYZW",
        "outputId": "aeb8764a-8652-43c4-b61e-86d242fd1b6e"
      },
      "source": [
        "auc_ada1 = roc_auc_score(y_test,y_pred_ada1);auc_ada1"
      ],
      "execution_count": 73,
      "outputs": [
        {
          "output_type": "execute_result",
          "data": {
            "text/plain": [
              "0.9299241198193293"
            ]
          },
          "metadata": {
            "tags": []
          },
          "execution_count": 73
        }
      ]
    },
    {
      "cell_type": "code",
      "metadata": {
        "colab": {
          "base_uri": "https://localhost:8080/"
        },
        "id": "ySI0BhjZQYWr",
        "outputId": "2343a510-09a1-4301-c1ff-b101da50aa3c"
      },
      "source": [
        "y_pred_prob_ada1 = ada1.predict_proba(x_test);y_pred_prob_ada1"
      ],
      "execution_count": 74,
      "outputs": [
        {
          "output_type": "execute_result",
          "data": {
            "text/plain": [
              "array([[0.4982843 , 0.5017157 ],\n",
              "       [0.49641299, 0.50358701],\n",
              "       [0.52907607, 0.47092393],\n",
              "       ...,\n",
              "       [0.48836939, 0.51163061],\n",
              "       [0.48260057, 0.51739943],\n",
              "       [0.49683718, 0.50316282]])"
            ]
          },
          "metadata": {
            "tags": []
          },
          "execution_count": 74
        }
      ]
    },
    {
      "cell_type": "code",
      "metadata": {
        "colab": {
          "base_uri": "https://localhost:8080/",
          "height": 313
        },
        "id": "_EnQ8YeXQYUV",
        "outputId": "de80d4ea-f408-4de7-9b79-e6ca23bbf216"
      },
      "source": [
        "fpr,tpr,thresholds = roc_curve(y_test,y_pred_prob_ada1[:,1])\n",
        "\n",
        "# ROC curve\n",
        "plt.plot(fpr, tpr, color='orange', label='ROC')\n",
        "plt.plot([0, 1], [0, 1], color='darkblue', linestyle='--',label='ROC curve (area = %0.2f)' % auc_ada1)\n",
        "plt.xlabel('False Positive Rate')\n",
        "plt.ylabel('True Positive Rate')\n",
        "plt.title('Receiver Operating Characteristic (ROC) Curve')\n",
        "plt.legend()\n",
        "plt.show()\n",
        "print(roc_auc_score(y_test, y_pred_ada1))"
      ],
      "execution_count": 75,
      "outputs": [
        {
          "output_type": "display_data",
          "data": {
            "image/png": "[encoded data removed]",
            "text/plain": [
              "<Figure size 432x288 with 1 Axes>"
            ]
          },
          "metadata": {
            "tags": [],
            "needs_background": "light"
          }
        },
        {
          "output_type": "stream",
          "text": [
            "0.9299241198193293\n"
          ],
          "name": "stdout"
        }
      ]
    },
    {
      "cell_type": "markdown",
      "metadata": {
        "id": "0wAOoYGgRY35"
      },
      "source": [
        "## Gradient Boosting"
      ]
    },
    {
      "cell_type": "code",
      "metadata": {
        "colab": {
          "base_uri": "https://localhost:8080/"
        },
        "id": "uTvvGTL1QYRv",
        "outputId": "c958fa3d-99bb-4992-d025-f353e5f35859"
      },
      "source": [
        "from sklearn.ensemble import GradientBoostingClassifier\n",
        "gbr = GradientBoostingClassifier(random_state = 265)\n",
        "gbr.fit(x_train,y_train)"
      ],
      "execution_count": 76,
      "outputs": [
        {
          "output_type": "execute_result",
          "data": {
            "text/plain": [
              "GradientBoostingClassifier(ccp_alpha=0.0, criterion='friedman_mse', init=None,\n",
              "                           learning_rate=0.1, loss='deviance', max_depth=3,\n",
              "                           max_features=None, max_leaf_nodes=None,\n",
              "                           min_impurity_decrease=0.0, min_impurity_split=None,\n",
              "                           min_samples_leaf=1, min_samples_split=2,\n",
              "                           min_weight_fraction_leaf=0.0, n_estimators=100,\n",
              "                           n_iter_no_change=None, presort='deprecated',\n",
              "                           random_state=265, subsample=1.0, tol=0.0001,\n",
              "                           validation_fraction=0.1, verbose=0,\n",
              "                           warm_start=False)"
            ]
          },
          "metadata": {
            "tags": []
          },
          "execution_count": 76
        }
      ]
    },
    {
      "cell_type": "code",
      "metadata": {
        "colab": {
          "base_uri": "https://localhost:8080/"
        },
        "id": "1XduCOUdQYPk",
        "outputId": "d98e42ed-ddc7-4f56-9134-d28dab65c170"
      },
      "source": [
        "y_pred_gbr = gbr.predict(x_test);y_pred_gbr"
      ],
      "execution_count": 77,
      "outputs": [
        {
          "output_type": "execute_result",
          "data": {
            "text/plain": [
              "array([-1,  1, -1, ...,  1,  1,  1])"
            ]
          },
          "metadata": {
            "tags": []
          },
          "execution_count": 77
        }
      ]
    },
    {
      "cell_type": "code",
      "metadata": {
        "colab": {
          "base_uri": "https://localhost:8080/"
        },
        "id": "vXX_1N4lQYNi",
        "outputId": "e866f14a-42e9-4b16-b184-182e935d0f10"
      },
      "source": [
        "confusion_matrix(y_test,y_pred_gbr)"
      ],
      "execution_count": 78,
      "outputs": [
        {
          "output_type": "execute_result",
          "data": {
            "text/plain": [
              "array([[1366,  114],\n",
              "       [  66, 1771]])"
            ]
          },
          "metadata": {
            "tags": []
          },
          "execution_count": 78
        }
      ]
    },
    {
      "cell_type": "code",
      "metadata": {
        "colab": {
          "base_uri": "https://localhost:8080/"
        },
        "id": "jWDChPoHQYKd",
        "outputId": "e8ee66ec-0771-4980-ce8e-c8ff018dfbeb"
      },
      "source": [
        "accuracy_score(y_test,y_pred_gbr)"
      ],
      "execution_count": 79,
      "outputs": [
        {
          "output_type": "execute_result",
          "data": {
            "text/plain": [
              "0.9457340970756708"
            ]
          },
          "metadata": {
            "tags": []
          },
          "execution_count": 79
        }
      ]
    },
    {
      "cell_type": "code",
      "metadata": {
        "colab": {
          "base_uri": "https://localhost:8080/"
        },
        "id": "HhwjlyEjUMz3",
        "outputId": "8a36c1ae-3802-4a9c-fca3-b1df96e7d504"
      },
      "source": [
        "print(classification_report(y_test,y_pred_gbr))"
      ],
      "execution_count": 80,
      "outputs": [
        {
          "output_type": "stream",
          "text": [
            "              precision    recall  f1-score   support\n",
            "\n",
            "          -1       0.95      0.92      0.94      1480\n",
            "           1       0.94      0.96      0.95      1837\n",
            "\n",
            "    accuracy                           0.95      3317\n",
            "   macro avg       0.95      0.94      0.94      3317\n",
            "weighted avg       0.95      0.95      0.95      3317\n",
            "\n"
          ],
          "name": "stdout"
        }
      ]
    },
    {
      "cell_type": "code",
      "metadata": {
        "colab": {
          "base_uri": "https://localhost:8080/"
        },
        "id": "mkYfri_7ZOB8",
        "outputId": "b8e5361b-ad9c-4706-ef5e-dd06d976757b"
      },
      "source": [
        "auc_gbr = roc_auc_score(y_test,y_pred_gbr);auc_gbr"
      ],
      "execution_count": 81,
      "outputs": [
        {
          "output_type": "execute_result",
          "data": {
            "text/plain": [
              "0.943522414630199"
            ]
          },
          "metadata": {
            "tags": []
          },
          "execution_count": 81
        }
      ]
    },
    {
      "cell_type": "code",
      "metadata": {
        "colab": {
          "base_uri": "https://localhost:8080/"
        },
        "id": "vWAzQL6EZep2",
        "outputId": "00811f64-cc7d-4dd7-c1f7-cb429742fd6d"
      },
      "source": [
        "y_pred_prob_gbr = gbr.predict_proba(x_test);y_pred_prob_gbr"
      ],
      "execution_count": 82,
      "outputs": [
        {
          "output_type": "execute_result",
          "data": {
            "text/plain": [
              "array([[0.52047841, 0.47952159],\n",
              "       [0.18289061, 0.81710939],\n",
              "       [0.9985963 , 0.0014037 ],\n",
              "       ...,\n",
              "       [0.01178186, 0.98821814],\n",
              "       [0.00595749, 0.99404251],\n",
              "       [0.32465835, 0.67534165]])"
            ]
          },
          "metadata": {
            "tags": []
          },
          "execution_count": 82
        }
      ]
    },
    {
      "cell_type": "code",
      "metadata": {
        "colab": {
          "base_uri": "https://localhost:8080/",
          "height": 313
        },
        "id": "fuXt6GKKZtzB",
        "outputId": "e4dd40ea-0267-4689-9064-31990eefff60"
      },
      "source": [
        "fpr,tpr,thresholds = roc_curve(y_test,y_pred_prob_gbr[:,1])\n",
        "\n",
        "# ROC curve\n",
        "plt.plot(fpr, tpr, color='orange', label='ROC')\n",
        "plt.plot([0, 1], [0, 1], color='darkblue', linestyle='--',label='ROC curve (area = %0.2f)' % auc_gbr)\n",
        "plt.xlabel('False Positive Rate')\n",
        "plt.ylabel('True Positive Rate')\n",
        "plt.title('Receiver Operating Characteristic (ROC) Curve')\n",
        "plt.legend()\n",
        "plt.show()\n",
        "print(roc_auc_score(y_test, y_pred_gbr))"
      ],
      "execution_count": 83,
      "outputs": [
        {
          "output_type": "display_data",
          "data": {
            "image/png": "[encoded data removed]",
            "text/plain": [
              "<Figure size 432x288 with 1 Axes>"
            ]
          },
          "metadata": {
            "tags": [],
            "needs_background": "light"
          }
        },
        {
          "output_type": "stream",
          "text": [
            "0.943522414630199\n"
          ],
          "name": "stdout"
        }
      ]
    },
    {
      "cell_type": "code",
      "metadata": {
        "id": "f7XSo3s1UMwg"
      },
      "source": [
        "grid_param_gbr={'n_estimators':[25,50,100,250,500,1000,2000],'learning_rate':[.001,0.0001,0.00001,0.01,.1,1]}"
      ],
      "execution_count": 84,
      "outputs": []
    },
    {
      "cell_type": "code",
      "metadata": {
        "colab": {
          "base_uri": "https://localhost:8080/"
        },
        "id": "7uB1gmGhUwdh",
        "outputId": "dac1368b-aa5a-4992-a490-e0e477468777"
      },
      "source": [
        "grid_search_gbr = GridSearchCV(estimator=gbr,param_grid=grid_param_gbr,cv=5,n_jobs =-1,verbose = 3)\n",
        "grid_search_gbr.fit(x_train,y_train)\n",
        "grid_search_gbr.best_params_"
      ],
      "execution_count": 85,
      "outputs": [
        {
          "output_type": "stream",
          "text": [
            "Fitting 5 folds for each of 42 candidates, totalling 210 fits\n"
          ],
          "name": "stdout"
        },
        {
          "output_type": "stream",
          "text": [
            "[Parallel(n_jobs=-1)]: Using backend LokyBackend with 2 concurrent workers.\n",
            "[Parallel(n_jobs=-1)]: Done  28 tasks      | elapsed:   46.8s\n",
            "[Parallel(n_jobs=-1)]: Done 124 tasks      | elapsed:  5.6min\n",
            "[Parallel(n_jobs=-1)]: Done 210 out of 210 | elapsed: 11.1min finished\n"
          ],
          "name": "stderr"
        },
        {
          "output_type": "execute_result",
          "data": {
            "text/plain": [
              "{'learning_rate': 1, 'n_estimators': 1000}"
            ]
          },
          "metadata": {
            "tags": []
          },
          "execution_count": 85
        }
      ]
    },
    {
      "cell_type": "code",
      "metadata": {
        "colab": {
          "base_uri": "https://localhost:8080/"
        },
        "id": "9ojtpyeFUMuA",
        "outputId": "e35defe6-dd97-4137-d2ec-7c109a19021f"
      },
      "source": [
        "gbr1 = GradientBoostingClassifier( n_estimators = 1000,learning_rate = 1,random_state=265)\n",
        "gbr1.fit(x_train,y_train)"
      ],
      "execution_count": 86,
      "outputs": [
        {
          "output_type": "execute_result",
          "data": {
            "text/plain": [
              "GradientBoostingClassifier(ccp_alpha=0.0, criterion='friedman_mse', init=None,\n",
              "                           learning_rate=1, loss='deviance', max_depth=3,\n",
              "                           max_features=None, max_leaf_nodes=None,\n",
              "                           min_impurity_decrease=0.0, min_impurity_split=None,\n",
              "                           min_samples_leaf=1, min_samples_split=2,\n",
              "                           min_weight_fraction_leaf=0.0, n_estimators=1000,\n",
              "                           n_iter_no_change=None, presort='deprecated',\n",
              "                           random_state=265, subsample=1.0, tol=0.0001,\n",
              "                           validation_fraction=0.1, verbose=0,\n",
              "                           warm_start=False)"
            ]
          },
          "metadata": {
            "tags": []
          },
          "execution_count": 86
        }
      ]
    },
    {
      "cell_type": "code",
      "metadata": {
        "colab": {
          "base_uri": "https://localhost:8080/"
        },
        "id": "Bl0vJQV4UMrh",
        "outputId": "35c5f63d-2547-4f70-819b-c40106180702"
      },
      "source": [
        "y_pred_gbr1 = gbr1.predict(x_test);y_pred_gbr1"
      ],
      "execution_count": 87,
      "outputs": [
        {
          "output_type": "execute_result",
          "data": {
            "text/plain": [
              "array([ 1,  1, -1, ...,  1,  1,  1])"
            ]
          },
          "metadata": {
            "tags": []
          },
          "execution_count": 87
        }
      ]
    },
    {
      "cell_type": "code",
      "metadata": {
        "colab": {
          "base_uri": "https://localhost:8080/"
        },
        "id": "RiFW9EMLUMox",
        "outputId": "4bfa4196-c9d7-448c-b7ab-c8dbf8b441e4"
      },
      "source": [
        "confusion_matrix(y_test,y_pred_gbr1)"
      ],
      "execution_count": 88,
      "outputs": [
        {
          "output_type": "execute_result",
          "data": {
            "text/plain": [
              "array([[1414,   66],\n",
              "       [  43, 1794]])"
            ]
          },
          "metadata": {
            "tags": []
          },
          "execution_count": 88
        }
      ]
    },
    {
      "cell_type": "code",
      "metadata": {
        "colab": {
          "base_uri": "https://localhost:8080/"
        },
        "id": "9DHJdIuXYsXv",
        "outputId": "aac8ac6c-cf21-4c86-bb16-155ef10d8352"
      },
      "source": [
        "accuracy_score(y_test,y_pred_gbr1)"
      ],
      "execution_count": 89,
      "outputs": [
        {
          "output_type": "execute_result",
          "data": {
            "text/plain": [
              "0.967138981006934"
            ]
          },
          "metadata": {
            "tags": []
          },
          "execution_count": 89
        }
      ]
    },
    {
      "cell_type": "code",
      "metadata": {
        "colab": {
          "base_uri": "https://localhost:8080/"
        },
        "id": "mQ3rJuZuUMl0",
        "outputId": "11c1faef-99b4-4cb7-8d8e-af289ab9a629"
      },
      "source": [
        "print(classification_report(y_test,y_pred_gbr1))"
      ],
      "execution_count": 90,
      "outputs": [
        {
          "output_type": "stream",
          "text": [
            "              precision    recall  f1-score   support\n",
            "\n",
            "          -1       0.97      0.96      0.96      1480\n",
            "           1       0.96      0.98      0.97      1837\n",
            "\n",
            "    accuracy                           0.97      3317\n",
            "   macro avg       0.97      0.97      0.97      3317\n",
            "weighted avg       0.97      0.97      0.97      3317\n",
            "\n"
          ],
          "name": "stdout"
        }
      ]
    },
    {
      "cell_type": "code",
      "metadata": {
        "colab": {
          "base_uri": "https://localhost:8080/"
        },
        "id": "PMbKN-7JUMjK",
        "outputId": "904e03a0-79b2-4218-bd63-883595194b9b"
      },
      "source": [
        "auc_gbr1 = roc_auc_score(y_test,y_pred_gbr1);auc_gbr1"
      ],
      "execution_count": 91,
      "outputs": [
        {
          "output_type": "execute_result",
          "data": {
            "text/plain": [
              "0.9659988377054245"
            ]
          },
          "metadata": {
            "tags": []
          },
          "execution_count": 91
        }
      ]
    },
    {
      "cell_type": "code",
      "metadata": {
        "colab": {
          "base_uri": "https://localhost:8080/"
        },
        "id": "vukrAIX2UMf7",
        "outputId": "c07504db-8faf-4c52-95ca-d1cc98cebe46"
      },
      "source": [
        "y_pred_prob_gbr1 = gbr1.predict_proba(x_test);y_pred_prob_gbr1"
      ],
      "execution_count": 92,
      "outputs": [
        {
          "output_type": "execute_result",
          "data": {
            "text/plain": [
              "array([[6.61885410e-03, 9.93381146e-01],\n",
              "       [2.62285249e-05, 9.99973771e-01],\n",
              "       [1.00000000e+00, 1.96942411e-38],\n",
              "       ...,\n",
              "       [1.73168966e-07, 9.99999827e-01],\n",
              "       [1.69041225e-10, 1.00000000e+00],\n",
              "       [3.91533032e-05, 9.99960847e-01]])"
            ]
          },
          "metadata": {
            "tags": []
          },
          "execution_count": 92
        }
      ]
    },
    {
      "cell_type": "code",
      "metadata": {
        "colab": {
          "base_uri": "https://localhost:8080/",
          "height": 313
        },
        "id": "TmJYJ20pUMdS",
        "outputId": "29224331-4b32-4f27-d13e-aaada7f4d6aa"
      },
      "source": [
        "fpr,tpr,thresholds = roc_curve(y_test,y_pred_prob_gbr1[:,1])\n",
        "\n",
        "# ROC curve\n",
        "plt.plot(fpr, tpr, color='orange', label='ROC')\n",
        "plt.plot([0, 1], [0, 1], color='darkblue', linestyle='--',label='ROC curve (area = %0.2f)' % auc_gbr1)\n",
        "plt.xlabel('False Positive Rate')\n",
        "plt.ylabel('True Positive Rate')\n",
        "plt.title('Receiver Operating Characteristic (ROC) Curve')\n",
        "plt.legend()\n",
        "plt.show()\n",
        "print(roc_auc_score(y_test, y_pred_gbr1))"
      ],
      "execution_count": 93,
      "outputs": [
        {
          "output_type": "display_data",
          "data": {
            "image/png": "[encoded data removed]",
            "text/plain": [
              "<Figure size 432x288 with 1 Axes>"
            ]
          },
          "metadata": {
            "tags": [],
            "needs_background": "light"
          }
        },
        {
          "output_type": "stream",
          "text": [
            "0.9659988377054245\n"
          ],
          "name": "stdout"
        }
      ]
    },
    {
      "cell_type": "markdown",
      "metadata": {
        "id": "f07h-Tx9aKJo"
      },
      "source": [
        "## XG Boost"
      ]
    },
    {
      "cell_type": "code",
      "metadata": {
        "colab": {
          "base_uri": "https://localhost:8080/"
        },
        "id": "FeQlwMMVUMaO",
        "outputId": "8344f35b-582c-4231-a701-050a3d895d0e"
      },
      "source": [
        "from xgboost import XGBClassifier\n",
        "xgb = XGBClassifier(random_state = 265)\n",
        "xgb.fit(x_train,y_train)"
      ],
      "execution_count": 94,
      "outputs": [
        {
          "output_type": "execute_result",
          "data": {
            "text/plain": [
              "XGBClassifier(base_score=0.5, booster='gbtree', colsample_bylevel=1,\n",
              "              colsample_bynode=1, colsample_bytree=1, gamma=0,\n",
              "              learning_rate=0.1, max_delta_step=0, max_depth=3,\n",
              "              min_child_weight=1, missing=None, n_estimators=100, n_jobs=1,\n",
              "              nthread=None, objective='binary:logistic', random_state=265,\n",
              "              reg_alpha=0, reg_lambda=1, scale_pos_weight=1, seed=None,\n",
              "              silent=None, subsample=1, verbosity=1)"
            ]
          },
          "metadata": {
            "tags": []
          },
          "execution_count": 94
        }
      ]
    },
    {
      "cell_type": "code",
      "metadata": {
        "colab": {
          "base_uri": "https://localhost:8080/"
        },
        "id": "xtkE5hFnUMYT",
        "outputId": "5b41a8ef-f564-4e62-a9c2-482df0437ab6"
      },
      "source": [
        "y_pred_xgb = xgb.predict(x_test);y_pred_xgb"
      ],
      "execution_count": 95,
      "outputs": [
        {
          "output_type": "execute_result",
          "data": {
            "text/plain": [
              "array([-1,  1, -1, ...,  1,  1,  1])"
            ]
          },
          "metadata": {
            "tags": []
          },
          "execution_count": 95
        }
      ]
    },
    {
      "cell_type": "code",
      "metadata": {
        "colab": {
          "base_uri": "https://localhost:8080/"
        },
        "id": "HZtCp364UMUt",
        "outputId": "a1c55002-3fbf-4181-90aa-be5aa5da7169"
      },
      "source": [
        "accuracy_score(y_test,y_pred_xgb)"
      ],
      "execution_count": 96,
      "outputs": [
        {
          "output_type": "execute_result",
          "data": {
            "text/plain": [
              "0.9430208019294544"
            ]
          },
          "metadata": {
            "tags": []
          },
          "execution_count": 96
        }
      ]
    },
    {
      "cell_type": "code",
      "metadata": {
        "colab": {
          "base_uri": "https://localhost:8080/"
        },
        "id": "YwuZ2AW0UMSH",
        "outputId": "edf7894e-dc93-4c22-e715-0344c2ace778"
      },
      "source": [
        "confusion_matrix(y_test,y_pred_xgb)"
      ],
      "execution_count": 97,
      "outputs": [
        {
          "output_type": "execute_result",
          "data": {
            "text/plain": [
              "array([[1355,  125],\n",
              "       [  64, 1773]])"
            ]
          },
          "metadata": {
            "tags": []
          },
          "execution_count": 97
        }
      ]
    },
    {
      "cell_type": "code",
      "metadata": {
        "colab": {
          "base_uri": "https://localhost:8080/"
        },
        "id": "tyK5xSV3UMQI",
        "outputId": "170d5058-210a-47b4-f783-2be1f0ef8b15"
      },
      "source": [
        "print(classification_report(y_test,y_pred_xgb))"
      ],
      "execution_count": 98,
      "outputs": [
        {
          "output_type": "stream",
          "text": [
            "              precision    recall  f1-score   support\n",
            "\n",
            "          -1       0.95      0.92      0.93      1480\n",
            "           1       0.93      0.97      0.95      1837\n",
            "\n",
            "    accuracy                           0.94      3317\n",
            "   macro avg       0.94      0.94      0.94      3317\n",
            "weighted avg       0.94      0.94      0.94      3317\n",
            "\n"
          ],
          "name": "stdout"
        }
      ]
    },
    {
      "cell_type": "code",
      "metadata": {
        "colab": {
          "base_uri": "https://localhost:8080/"
        },
        "id": "6mQZ8VUqUMNy",
        "outputId": "db790398-c0d1-4425-9509-be3fa07794b5"
      },
      "source": [
        "auc_xgb = roc_auc_score(y_test,y_pred_xgb);auc_xgb"
      ],
      "execution_count": 99,
      "outputs": [
        {
          "output_type": "execute_result",
          "data": {
            "text/plain": [
              "0.9403505642278097"
            ]
          },
          "metadata": {
            "tags": []
          },
          "execution_count": 99
        }
      ]
    },
    {
      "cell_type": "code",
      "metadata": {
        "colab": {
          "base_uri": "https://localhost:8080/"
        },
        "id": "SySMwgupQYIg",
        "outputId": "70262339-25bf-4940-ea51-82d773e3a04c"
      },
      "source": [
        "y_pred_prob_xgb = xgb.predict_proba(x_test);y_pred_prob_xgb"
      ],
      "execution_count": 100,
      "outputs": [
        {
          "output_type": "execute_result",
          "data": {
            "text/plain": [
              "array([[5.6160891e-01, 4.3839109e-01],\n",
              "       [1.7710221e-01, 8.2289779e-01],\n",
              "       [9.9948430e-01, 5.1572121e-04],\n",
              "       ...,\n",
              "       [1.0400057e-02, 9.8959994e-01],\n",
              "       [6.8179965e-03, 9.9318200e-01],\n",
              "       [3.5713685e-01, 6.4286315e-01]], dtype=float32)"
            ]
          },
          "metadata": {
            "tags": []
          },
          "execution_count": 100
        }
      ]
    },
    {
      "cell_type": "code",
      "metadata": {
        "colab": {
          "base_uri": "https://localhost:8080/",
          "height": 313
        },
        "id": "nHLsnVxCczcf",
        "outputId": "72a8fb90-c14a-4d4a-ca3d-4929669963c6"
      },
      "source": [
        "fpr,tpr,thresholds = roc_curve(y_test,y_pred_prob_xgb[:,1])\n",
        "\n",
        "# ROC curve\n",
        "plt.plot(fpr, tpr, color='orange', label='ROC')\n",
        "plt.plot([0, 1], [0, 1], color='darkblue', linestyle='--',label='ROC curve (area = %0.2f)' % auc_xgb)\n",
        "plt.xlabel('False Positive Rate')\n",
        "plt.ylabel('True Positive Rate')\n",
        "plt.title('Receiver Operating Characteristic (ROC) Curve')\n",
        "plt.legend()\n",
        "plt.show()\n",
        "print(roc_auc_score(y_test, y_pred_xgb))"
      ],
      "execution_count": 101,
      "outputs": [
        {
          "output_type": "display_data",
          "data": {
            "image/png": "[encoded data removed]",
            "text/plain": [
              "<Figure size 432x288 with 1 Axes>"
            ]
          },
          "metadata": {
            "tags": [],
            "needs_background": "light"
          }
        },
        {
          "output_type": "stream",
          "text": [
            "0.9403505642278097\n"
          ],
          "name": "stdout"
        }
      ]
    },
    {
      "cell_type": "code",
      "metadata": {
        "id": "9-aRlCWOdKwo"
      },
      "source": [
        "grid_param_xgb={'n_estimators':[25,50,100,250,500,1000,2000],'learning_rate':[.001,0.0001,0.00001,0.01,.1,1]}"
      ],
      "execution_count": 102,
      "outputs": []
    },
    {
      "cell_type": "code",
      "metadata": {
        "colab": {
          "base_uri": "https://localhost:8080/"
        },
        "id": "tjQ6g6VLdKtM",
        "outputId": "b0dda7f2-bfc4-41ca-db5e-c16575614e4f"
      },
      "source": [
        "grid_search_xgb = GridSearchCV(estimator=xgb,param_grid=grid_param_xgb,cv=5,n_jobs =-1,verbose = 3)\n",
        "grid_search_xgb.fit(x_train,y_train)\n",
        "grid_search_xgb.best_params_"
      ],
      "execution_count": 103,
      "outputs": [
        {
          "output_type": "stream",
          "text": [
            "Fitting 5 folds for each of 42 candidates, totalling 210 fits\n"
          ],
          "name": "stdout"
        },
        {
          "output_type": "stream",
          "text": [
            "[Parallel(n_jobs=-1)]: Using backend LokyBackend with 2 concurrent workers.\n",
            "[Parallel(n_jobs=-1)]: Done  28 tasks      | elapsed:   33.9s\n",
            "[Parallel(n_jobs=-1)]: Done 124 tasks      | elapsed:  4.1min\n",
            "[Parallel(n_jobs=-1)]: Done 210 out of 210 | elapsed:  8.0min finished\n"
          ],
          "name": "stderr"
        },
        {
          "output_type": "execute_result",
          "data": {
            "text/plain": [
              "{'learning_rate': 1, 'n_estimators': 2000}"
            ]
          },
          "metadata": {
            "tags": []
          },
          "execution_count": 103
        }
      ]
    },
    {
      "cell_type": "code",
      "metadata": {
        "colab": {
          "base_uri": "https://localhost:8080/"
        },
        "id": "sL-H40CmdKqq",
        "outputId": "b4f94539-6fb0-4790-b56f-c06fcf8427b4"
      },
      "source": [
        "xgb1 = GradientBoostingClassifier( n_estimators = 2000,learning_rate = 1,random_state=265)\n",
        "xgb1.fit(x_train,y_train)"
      ],
      "execution_count": 104,
      "outputs": [
        {
          "output_type": "execute_result",
          "data": {
            "text/plain": [
              "GradientBoostingClassifier(ccp_alpha=0.0, criterion='friedman_mse', init=None,\n",
              "                           learning_rate=1, loss='deviance', max_depth=3,\n",
              "                           max_features=None, max_leaf_nodes=None,\n",
              "                           min_impurity_decrease=0.0, min_impurity_split=None,\n",
              "                           min_samples_leaf=1, min_samples_split=2,\n",
              "                           min_weight_fraction_leaf=0.0, n_estimators=2000,\n",
              "                           n_iter_no_change=None, presort='deprecated',\n",
              "                           random_state=265, subsample=1.0, tol=0.0001,\n",
              "                           validation_fraction=0.1, verbose=0,\n",
              "                           warm_start=False)"
            ]
          },
          "metadata": {
            "tags": []
          },
          "execution_count": 104
        }
      ]
    },
    {
      "cell_type": "code",
      "metadata": {
        "colab": {
          "base_uri": "https://localhost:8080/"
        },
        "id": "wJEwGi6bgVjj",
        "outputId": "70f388a3-c100-4eb7-ceb0-29f6ed7c73ef"
      },
      "source": [
        "y_pred_xgb1 = xgb1.predict(x_test);y_pred_xgb1"
      ],
      "execution_count": 105,
      "outputs": [
        {
          "output_type": "execute_result",
          "data": {
            "text/plain": [
              "array([ 1,  1, -1, ...,  1,  1,  1])"
            ]
          },
          "metadata": {
            "tags": []
          },
          "execution_count": 105
        }
      ]
    },
    {
      "cell_type": "code",
      "metadata": {
        "colab": {
          "base_uri": "https://localhost:8080/"
        },
        "id": "iCAXOSsCgVft",
        "outputId": "4105410a-0a96-44de-9254-3a9f53f8d685"
      },
      "source": [
        "confusion_matrix(y_test,y_pred_xgb1)"
      ],
      "execution_count": 106,
      "outputs": [
        {
          "output_type": "execute_result",
          "data": {
            "text/plain": [
              "array([[1416,   64],\n",
              "       [  55, 1782]])"
            ]
          },
          "metadata": {
            "tags": []
          },
          "execution_count": 106
        }
      ]
    },
    {
      "cell_type": "code",
      "metadata": {
        "colab": {
          "base_uri": "https://localhost:8080/"
        },
        "id": "4GiGCq1UgVdI",
        "outputId": "e1c89e1a-0ea0-4282-d027-a4ac46af617e"
      },
      "source": [
        "accuracy_score(y_test,y_pred_xgb1)"
      ],
      "execution_count": 107,
      "outputs": [
        {
          "output_type": "execute_result",
          "data": {
            "text/plain": [
              "0.964124208622249"
            ]
          },
          "metadata": {
            "tags": []
          },
          "execution_count": 107
        }
      ]
    },
    {
      "cell_type": "code",
      "metadata": {
        "colab": {
          "base_uri": "https://localhost:8080/"
        },
        "id": "YRByuai8gVam",
        "outputId": "d1651d0c-aef3-4ae0-beb9-e7814fcf569e"
      },
      "source": [
        "print(classification_report(y_test,y_pred_xgb1))"
      ],
      "execution_count": 108,
      "outputs": [
        {
          "output_type": "stream",
          "text": [
            "              precision    recall  f1-score   support\n",
            "\n",
            "          -1       0.96      0.96      0.96      1480\n",
            "           1       0.97      0.97      0.97      1837\n",
            "\n",
            "    accuracy                           0.96      3317\n",
            "   macro avg       0.96      0.96      0.96      3317\n",
            "weighted avg       0.96      0.96      0.96      3317\n",
            "\n"
          ],
          "name": "stdout"
        }
      ]
    },
    {
      "cell_type": "code",
      "metadata": {
        "colab": {
          "base_uri": "https://localhost:8080/"
        },
        "id": "inm2L1klgVYh",
        "outputId": "b1600bfc-019b-4f42-cdbd-43039686f7a3"
      },
      "source": [
        "auc_xgb1 = roc_auc_score(y_test,y_pred_xgb1);auc_xgb1"
      ],
      "execution_count": 109,
      "outputs": [
        {
          "output_type": "execute_result",
          "data": {
            "text/plain": [
              "0.9634083184981388"
            ]
          },
          "metadata": {
            "tags": []
          },
          "execution_count": 109
        }
      ]
    },
    {
      "cell_type": "code",
      "metadata": {
        "colab": {
          "base_uri": "https://localhost:8080/"
        },
        "id": "TP8csn1DgVVj",
        "outputId": "cea102ac-b2e2-4b0a-8854-e9b79e6426d1"
      },
      "source": [
        "y_pred_prob_xgb1 = xgb1.predict_proba(x_test);y_pred_prob_xgb1"
      ],
      "execution_count": 110,
      "outputs": [
        {
          "output_type": "execute_result",
          "data": {
            "text/plain": [
              "array([[9.55162734e-04, 9.99044837e-01],\n",
              "       [1.33082645e-05, 9.99986692e-01],\n",
              "       [1.00000000e+00, 8.89134456e-78],\n",
              "       ...,\n",
              "       [2.19168239e-10, 1.00000000e+00],\n",
              "       [2.62012634e-14, 1.00000000e+00],\n",
              "       [1.14161596e-06, 9.99998858e-01]])"
            ]
          },
          "metadata": {
            "tags": []
          },
          "execution_count": 110
        }
      ]
    },
    {
      "cell_type": "code",
      "metadata": {
        "colab": {
          "base_uri": "https://localhost:8080/",
          "height": 313
        },
        "id": "02U8LjDbgVTA",
        "outputId": "ae0304d0-7614-4e4e-de06-609957946099"
      },
      "source": [
        "fpr,tpr,thresholds = roc_curve(y_test,y_pred_prob_xgb1[:,1])\n",
        "\n",
        "# ROC curve\n",
        "plt.plot(fpr, tpr, color='orange', label='ROC')\n",
        "plt.plot([0, 1], [0, 1], color='darkblue', linestyle='--',label='ROC curve (area = %0.2f)' % auc_xgb1)\n",
        "plt.xlabel('False Positive Rate')\n",
        "plt.ylabel('True Positive Rate')\n",
        "plt.title('Receiver Operating Characteristic (ROC) Curve')\n",
        "plt.legend()\n",
        "plt.show()\n",
        "print(roc_auc_score(y_test, y_pred_xgb1))"
      ],
      "execution_count": 111,
      "outputs": [
        {
          "output_type": "display_data",
          "data": {
            "image/png": "[encoded data removed]",
            "text/plain": [
              "<Figure size 432x288 with 1 Axes>"
            ]
          },
          "metadata": {
            "tags": [],
            "needs_background": "light"
          }
        },
        {
          "output_type": "stream",
          "text": [
            "0.9634083184981388\n"
          ],
          "name": "stdout"
        }
      ]
    },
    {
      "cell_type": "markdown",
      "metadata": {
        "id": "vwPs1yNOnamZ"
      },
      "source": [
        "## KNN"
      ]
    },
    {
      "cell_type": "code",
      "metadata": {
        "colab": {
          "base_uri": "https://localhost:8080/"
        },
        "id": "_2uz942NgVQr",
        "outputId": "b2196a0c-273d-464f-a1d6-1765df96dfe4"
      },
      "source": [
        "from sklearn.neighbors import KNeighborsClassifier\n",
        "knn = KNeighborsClassifier()\n",
        "knn.fit(x_train,y_train)"
      ],
      "execution_count": 112,
      "outputs": [
        {
          "output_type": "execute_result",
          "data": {
            "text/plain": [
              "KNeighborsClassifier(algorithm='auto', leaf_size=30, metric='minkowski',\n",
              "                     metric_params=None, n_jobs=None, n_neighbors=5, p=2,\n",
              "                     weights='uniform')"
            ]
          },
          "metadata": {
            "tags": []
          },
          "execution_count": 112
        }
      ]
    },
    {
      "cell_type": "code",
      "metadata": {
        "colab": {
          "base_uri": "https://localhost:8080/"
        },
        "id": "McGntd14iDAd",
        "outputId": "75277bd5-e49b-4683-93d3-e6aec47cec72"
      },
      "source": [
        "y_pred_knn = knn.predict(x_test);y_pred_knn"
      ],
      "execution_count": 113,
      "outputs": [
        {
          "output_type": "execute_result",
          "data": {
            "text/plain": [
              "array([-1,  1, -1, ...,  1,  1,  1])"
            ]
          },
          "metadata": {
            "tags": []
          },
          "execution_count": 113
        }
      ]
    },
    {
      "cell_type": "code",
      "metadata": {
        "colab": {
          "base_uri": "https://localhost:8080/"
        },
        "id": "SoJIuLlNgVOB",
        "outputId": "fb431780-415b-44c9-c476-206f512a7b14"
      },
      "source": [
        "confusion_matrix(y_test,y_pred_knn)"
      ],
      "execution_count": 114,
      "outputs": [
        {
          "output_type": "execute_result",
          "data": {
            "text/plain": [
              "array([[1357,  123],\n",
              "       [  90, 1747]])"
            ]
          },
          "metadata": {
            "tags": []
          },
          "execution_count": 114
        }
      ]
    },
    {
      "cell_type": "code",
      "metadata": {
        "colab": {
          "base_uri": "https://localhost:8080/"
        },
        "id": "EqL48us3gVLr",
        "outputId": "d4d02ab1-4d76-44bf-e119-3e10cf3a66ed"
      },
      "source": [
        "print(classification_report(y_test,y_pred_knn))"
      ],
      "execution_count": 115,
      "outputs": [
        {
          "output_type": "stream",
          "text": [
            "              precision    recall  f1-score   support\n",
            "\n",
            "          -1       0.94      0.92      0.93      1480\n",
            "           1       0.93      0.95      0.94      1837\n",
            "\n",
            "    accuracy                           0.94      3317\n",
            "   macro avg       0.94      0.93      0.93      3317\n",
            "weighted avg       0.94      0.94      0.94      3317\n",
            "\n"
          ],
          "name": "stdout"
        }
      ]
    },
    {
      "cell_type": "code",
      "metadata": {
        "colab": {
          "base_uri": "https://localhost:8080/"
        },
        "id": "IPP7X0sRgVJk",
        "outputId": "6a1886cc-4bf0-44aa-b917-43a432ca3f88"
      },
      "source": [
        "auc_knn = roc_auc_score(y_test,y_pred_knn);auc_knn"
      ],
      "execution_count": 116,
      "outputs": [
        {
          "output_type": "execute_result",
          "data": {
            "text/plain": [
              "0.9339494843237358"
            ]
          },
          "metadata": {
            "tags": []
          },
          "execution_count": 116
        }
      ]
    },
    {
      "cell_type": "code",
      "metadata": {
        "colab": {
          "base_uri": "https://localhost:8080/"
        },
        "id": "1sAV2ntAivA9",
        "outputId": "a67365b3-faae-431b-e2b9-4215b1fab408"
      },
      "source": [
        "y_pred_prob_knn = knn.predict_proba(x_test);y_pred_prob_knn"
      ],
      "execution_count": 117,
      "outputs": [
        {
          "output_type": "execute_result",
          "data": {
            "text/plain": [
              "array([[0.6, 0.4],\n",
              "       [0. , 1. ],\n",
              "       [1. , 0. ],\n",
              "       ...,\n",
              "       [0. , 1. ],\n",
              "       [0. , 1. ],\n",
              "       [0. , 1. ]])"
            ]
          },
          "metadata": {
            "tags": []
          },
          "execution_count": 117
        }
      ]
    },
    {
      "cell_type": "code",
      "metadata": {
        "colab": {
          "base_uri": "https://localhost:8080/",
          "height": 313
        },
        "id": "2dmXNJJjiu9f",
        "outputId": "30903008-2e3a-4e1c-8f65-b3233dcbbb5f"
      },
      "source": [
        "fpr,tpr,thresholds = roc_curve(y_test,y_pred_prob_knn[:,1])\n",
        "\n",
        "# ROC curve\n",
        "plt.plot(fpr, tpr, color='orange', label='ROC')\n",
        "plt.plot([0, 1], [0, 1], color='darkblue', linestyle='--',label='ROC curve (area = %0.2f)' % auc_knn)\n",
        "plt.xlabel('False Positive Rate')\n",
        "plt.ylabel('True Positive Rate')\n",
        "plt.title('Receiver Operating Characteristic (ROC) Curve')\n",
        "plt.legend()\n",
        "plt.show()\n",
        "print(roc_auc_score(y_test, y_pred_knn))"
      ],
      "execution_count": 118,
      "outputs": [
        {
          "output_type": "display_data",
          "data": {
            "image/png": "[encoded data removed]",
            "text/plain": [
              "<Figure size 432x288 with 1 Axes>"
            ]
          },
          "metadata": {
            "tags": [],
            "needs_background": "light"
          }
        },
        {
          "output_type": "stream",
          "text": [
            "0.9339494843237358\n"
          ],
          "name": "stdout"
        }
      ]
    },
    {
      "cell_type": "code",
      "metadata": {
        "id": "fl4fYO9niu6E"
      },
      "source": [
        "param_grid = { 'algorithm' : ['ball_tree', 'kd_tree', 'brute'],\n",
        "               'leaf_size' : [18,20,25,27,30,32,34,35],\n",
        "               'n_neighbors' : [3,5,7,9,10,11,12,13]\n",
        "              }"
      ],
      "execution_count": 119,
      "outputs": []
    },
    {
      "cell_type": "code",
      "metadata": {
        "colab": {
          "base_uri": "https://localhost:8080/"
        },
        "id": "dtiEhxweiu3P",
        "outputId": "c4ccc178-caff-4cc0-e0d8-421949636067"
      },
      "source": [
        "grid_knn = GridSearchCV(knn, param_grid,verbose=3)\n",
        "grid_knn.fit(x_train,y_train)\n",
        "grid_knn.best_params_\n"
      ],
      "execution_count": 120,
      "outputs": [
        {
          "output_type": "stream",
          "text": [
            "Fitting 5 folds for each of 192 candidates, totalling 960 fits\n",
            "[CV] algorithm=ball_tree, leaf_size=18, n_neighbors=3 ................\n"
          ],
          "name": "stdout"
        },
        {
          "output_type": "stream",
          "text": [
            "[Parallel(n_jobs=1)]: Using backend SequentialBackend with 1 concurrent workers.\n"
          ],
          "name": "stderr"
        },
        {
          "output_type": "stream",
          "text": [
            "[CV]  algorithm=ball_tree, leaf_size=18, n_neighbors=3, score=0.940, total=   0.6s\n",
            "[CV] algorithm=ball_tree, leaf_size=18, n_neighbors=3 ................\n"
          ],
          "name": "stdout"
        },
        {
          "output_type": "stream",
          "text": [
            "[Parallel(n_jobs=1)]: Done   1 out of   1 | elapsed:    0.6s remaining:    0.0s\n"
          ],
          "name": "stderr"
        },
        {
          "output_type": "stream",
          "text": [
            "[CV]  algorithm=ball_tree, leaf_size=18, n_neighbors=3, score=0.944, total=   0.6s\n",
            "[CV] algorithm=ball_tree, leaf_size=18, n_neighbors=3 ................\n"
          ],
          "name": "stdout"
        },
        {
          "output_type": "stream",
          "text": [
            "[Parallel(n_jobs=1)]: Done   2 out of   2 | elapsed:    1.2s remaining:    0.0s\n"
          ],
          "name": "stderr"
        },
        {
          "output_type": "stream",
          "text": [
            "[CV]  algorithm=ball_tree, leaf_size=18, n_neighbors=3, score=0.940, total=   0.6s\n",
            "[CV] algorithm=ball_tree, leaf_size=18, n_neighbors=3 ................\n",
            "[CV]  algorithm=ball_tree, leaf_size=18, n_neighbors=3, score=0.939, total=   0.6s\n",
            "[CV] algorithm=ball_tree, leaf_size=18, n_neighbors=3 ................\n",
            "[CV]  algorithm=ball_tree, leaf_size=18, n_neighbors=3, score=0.940, total=   0.6s\n",
            "[CV] algorithm=ball_tree, leaf_size=18, n_neighbors=5 ................\n",
            "[CV]  algorithm=ball_tree, leaf_size=18, n_neighbors=5, score=0.937, total=   0.6s\n",
            "[CV] algorithm=ball_tree, leaf_size=18, n_neighbors=5 ................\n",
            "[CV]  algorithm=ball_tree, leaf_size=18, n_neighbors=5, score=0.939, total=   0.6s\n",
            "[CV] algorithm=ball_tree, leaf_size=18, n_neighbors=5 ................\n",
            "[CV]  algorithm=ball_tree, leaf_size=18, n_neighbors=5, score=0.931, total=   0.6s\n",
            "[CV] algorithm=ball_tree, leaf_size=18, n_neighbors=5 ................\n",
            "[CV]  algorithm=ball_tree, leaf_size=18, n_neighbors=5, score=0.937, total=   0.6s\n",
            "[CV] algorithm=ball_tree, leaf_size=18, n_neighbors=5 ................\n",
            "[CV]  algorithm=ball_tree, leaf_size=18, n_neighbors=5, score=0.934, total=   0.6s\n",
            "[CV] algorithm=ball_tree, leaf_size=18, n_neighbors=7 ................\n",
            "[CV]  algorithm=ball_tree, leaf_size=18, n_neighbors=7, score=0.933, total=   0.6s\n",
            "[CV] algorithm=ball_tree, leaf_size=18, n_neighbors=7 ................\n",
            "[CV]  algorithm=ball_tree, leaf_size=18, n_neighbors=7, score=0.939, total=   0.6s\n",
            "[CV] algorithm=ball_tree, leaf_size=18, n_neighbors=7 ................\n",
            "[CV]  algorithm=ball_tree, leaf_size=18, n_neighbors=7, score=0.932, total=   0.6s\n",
            "[CV] algorithm=ball_tree, leaf_size=18, n_neighbors=7 ................\n",
            "[CV]  algorithm=ball_tree, leaf_size=18, n_neighbors=7, score=0.930, total=   0.6s\n",
            "[CV] algorithm=ball_tree, leaf_size=18, n_neighbors=7 ................\n",
            "[CV]  algorithm=ball_tree, leaf_size=18, n_neighbors=7, score=0.924, total=   0.6s\n",
            "[CV] algorithm=ball_tree, leaf_size=18, n_neighbors=9 ................\n",
            "[CV]  algorithm=ball_tree, leaf_size=18, n_neighbors=9, score=0.930, total=   0.6s\n",
            "[CV] algorithm=ball_tree, leaf_size=18, n_neighbors=9 ................\n",
            "[CV]  algorithm=ball_tree, leaf_size=18, n_neighbors=9, score=0.938, total=   0.6s\n",
            "[CV] algorithm=ball_tree, leaf_size=18, n_neighbors=9 ................\n",
            "[CV]  algorithm=ball_tree, leaf_size=18, n_neighbors=9, score=0.929, total=   0.6s\n",
            "[CV] algorithm=ball_tree, leaf_size=18, n_neighbors=9 ................\n",
            "[CV]  algorithm=ball_tree, leaf_size=18, n_neighbors=9, score=0.936, total=   0.6s\n",
            "[CV] algorithm=ball_tree, leaf_size=18, n_neighbors=9 ................\n",
            "[CV]  algorithm=ball_tree, leaf_size=18, n_neighbors=9, score=0.930, total=   0.6s\n",
            "[CV] algorithm=ball_tree, leaf_size=18, n_neighbors=10 ...............\n",
            "[CV]  algorithm=ball_tree, leaf_size=18, n_neighbors=10, score=0.928, total=   0.6s\n",
            "[CV] algorithm=ball_tree, leaf_size=18, n_neighbors=10 ...............\n",
            "[CV]  algorithm=ball_tree, leaf_size=18, n_neighbors=10, score=0.935, total=   0.6s\n",
            "[CV] algorithm=ball_tree, leaf_size=18, n_neighbors=10 ...............\n",
            "[CV]  algorithm=ball_tree, leaf_size=18, n_neighbors=10, score=0.932, total=   0.6s\n",
            "[CV] algorithm=ball_tree, leaf_size=18, n_neighbors=10 ...............\n",
            "[CV]  algorithm=ball_tree, leaf_size=18, n_neighbors=10, score=0.930, total=   0.6s\n",
            "[CV] algorithm=ball_tree, leaf_size=18, n_neighbors=10 ...............\n",
            "[CV]  algorithm=ball_tree, leaf_size=18, n_neighbors=10, score=0.922, total=   0.6s\n",
            "[CV] algorithm=ball_tree, leaf_size=18, n_neighbors=11 ...............\n",
            "[CV]  algorithm=ball_tree, leaf_size=18, n_neighbors=11, score=0.932, total=   0.6s\n",
            "[CV] algorithm=ball_tree, leaf_size=18, n_neighbors=11 ...............\n",
            "[CV]  algorithm=ball_tree, leaf_size=18, n_neighbors=11, score=0.941, total=   0.6s\n",
            "[CV] algorithm=ball_tree, leaf_size=18, n_neighbors=11 ...............\n",
            "[CV]  algorithm=ball_tree, leaf_size=18, n_neighbors=11, score=0.928, total=   0.6s\n",
            "[CV] algorithm=ball_tree, leaf_size=18, n_neighbors=11 ...............\n",
            "[CV]  algorithm=ball_tree, leaf_size=18, n_neighbors=11, score=0.937, total=   0.6s\n",
            "[CV] algorithm=ball_tree, leaf_size=18, n_neighbors=11 ...............\n",
            "[CV]  algorithm=ball_tree, leaf_size=18, n_neighbors=11, score=0.923, total=   0.6s\n",
            "[CV] algorithm=ball_tree, leaf_size=18, n_neighbors=12 ...............\n",
            "[CV]  algorithm=ball_tree, leaf_size=18, n_neighbors=12, score=0.927, total=   0.6s\n",
            "[CV] algorithm=ball_tree, leaf_size=18, n_neighbors=12 ...............\n",
            "[CV]  algorithm=ball_tree, leaf_size=18, n_neighbors=12, score=0.939, total=   0.6s\n",
            "[CV] algorithm=ball_tree, leaf_size=18, n_neighbors=12 ...............\n",
            "[CV]  algorithm=ball_tree, leaf_size=18, n_neighbors=12, score=0.930, total=   0.6s\n",
            "[CV] algorithm=ball_tree, leaf_size=18, n_neighbors=12 ...............\n",
            "[CV]  algorithm=ball_tree, leaf_size=18, n_neighbors=12, score=0.933, total=   0.6s\n",
            "[CV] algorithm=ball_tree, leaf_size=18, n_neighbors=12 ...............\n",
            "[CV]  algorithm=ball_tree, leaf_size=18, n_neighbors=12, score=0.918, total=   0.6s\n",
            "[CV] algorithm=ball_tree, leaf_size=18, n_neighbors=13 ...............\n",
            "[CV]  algorithm=ball_tree, leaf_size=18, n_neighbors=13, score=0.926, total=   0.6s\n",
            "[CV] algorithm=ball_tree, leaf_size=18, n_neighbors=13 ...............\n",
            "[CV]  algorithm=ball_tree, leaf_size=18, n_neighbors=13, score=0.941, total=   0.6s\n",
            "[CV] algorithm=ball_tree, leaf_size=18, n_neighbors=13 ...............\n",
            "[CV]  algorithm=ball_tree, leaf_size=18, n_neighbors=13, score=0.928, total=   0.6s\n",
            "[CV] algorithm=ball_tree, leaf_size=18, n_neighbors=13 ...............\n",
            "[CV]  algorithm=ball_tree, leaf_size=18, n_neighbors=13, score=0.938, total=   0.6s\n",
            "[CV] algorithm=ball_tree, leaf_size=18, n_neighbors=13 ...............\n",
            "[CV]  algorithm=ball_tree, leaf_size=18, n_neighbors=13, score=0.920, total=   0.6s\n",
            "[CV] algorithm=ball_tree, leaf_size=20, n_neighbors=3 ................\n",
            "[CV]  algorithm=ball_tree, leaf_size=20, n_neighbors=3, score=0.940, total=   0.5s\n",
            "[CV] algorithm=ball_tree, leaf_size=20, n_neighbors=3 ................\n",
            "[CV]  algorithm=ball_tree, leaf_size=20, n_neighbors=3, score=0.944, total=   0.5s\n",
            "[CV] algorithm=ball_tree, leaf_size=20, n_neighbors=3 ................\n",
            "[CV]  algorithm=ball_tree, leaf_size=20, n_neighbors=3, score=0.940, total=   0.5s\n",
            "[CV] algorithm=ball_tree, leaf_size=20, n_neighbors=3 ................\n",
            "[CV]  algorithm=ball_tree, leaf_size=20, n_neighbors=3, score=0.939, total=   0.6s\n",
            "[CV] algorithm=ball_tree, leaf_size=20, n_neighbors=3 ................\n",
            "[CV]  algorithm=ball_tree, leaf_size=20, n_neighbors=3, score=0.940, total=   0.6s\n",
            "[CV] algorithm=ball_tree, leaf_size=20, n_neighbors=5 ................\n",
            "[CV]  algorithm=ball_tree, leaf_size=20, n_neighbors=5, score=0.937, total=   0.6s\n",
            "[CV] algorithm=ball_tree, leaf_size=20, n_neighbors=5 ................\n",
            "[CV]  algorithm=ball_tree, leaf_size=20, n_neighbors=5, score=0.939, total=   0.6s\n",
            "[CV] algorithm=ball_tree, leaf_size=20, n_neighbors=5 ................\n",
            "[CV]  algorithm=ball_tree, leaf_size=20, n_neighbors=5, score=0.931, total=   0.6s\n",
            "[CV] algorithm=ball_tree, leaf_size=20, n_neighbors=5 ................\n",
            "[CV]  algorithm=ball_tree, leaf_size=20, n_neighbors=5, score=0.937, total=   0.6s\n",
            "[CV] algorithm=ball_tree, leaf_size=20, n_neighbors=5 ................\n",
            "[CV]  algorithm=ball_tree, leaf_size=20, n_neighbors=5, score=0.934, total=   0.6s\n",
            "[CV] algorithm=ball_tree, leaf_size=20, n_neighbors=7 ................\n",
            "[CV]  algorithm=ball_tree, leaf_size=20, n_neighbors=7, score=0.933, total=   0.6s\n",
            "[CV] algorithm=ball_tree, leaf_size=20, n_neighbors=7 ................\n",
            "[CV]  algorithm=ball_tree, leaf_size=20, n_neighbors=7, score=0.939, total=   0.6s\n",
            "[CV] algorithm=ball_tree, leaf_size=20, n_neighbors=7 ................\n",
            "[CV]  algorithm=ball_tree, leaf_size=20, n_neighbors=7, score=0.932, total=   0.6s\n",
            "[CV] algorithm=ball_tree, leaf_size=20, n_neighbors=7 ................\n",
            "[CV]  algorithm=ball_tree, leaf_size=20, n_neighbors=7, score=0.930, total=   0.6s\n",
            "[CV] algorithm=ball_tree, leaf_size=20, n_neighbors=7 ................\n",
            "[CV]  algorithm=ball_tree, leaf_size=20, n_neighbors=7, score=0.924, total=   0.6s\n",
            "[CV] algorithm=ball_tree, leaf_size=20, n_neighbors=9 ................\n",
            "[CV]  algorithm=ball_tree, leaf_size=20, n_neighbors=9, score=0.930, total=   0.6s\n",
            "[CV] algorithm=ball_tree, leaf_size=20, n_neighbors=9 ................\n",
            "[CV]  algorithm=ball_tree, leaf_size=20, n_neighbors=9, score=0.938, total=   0.6s\n",
            "[CV] algorithm=ball_tree, leaf_size=20, n_neighbors=9 ................\n",
            "[CV]  algorithm=ball_tree, leaf_size=20, n_neighbors=9, score=0.929, total=   0.6s\n",
            "[CV] algorithm=ball_tree, leaf_size=20, n_neighbors=9 ................\n",
            "[CV]  algorithm=ball_tree, leaf_size=20, n_neighbors=9, score=0.936, total=   0.6s\n",
            "[CV] algorithm=ball_tree, leaf_size=20, n_neighbors=9 ................\n",
            "[CV]  algorithm=ball_tree, leaf_size=20, n_neighbors=9, score=0.930, total=   0.6s\n",
            "[CV] algorithm=ball_tree, leaf_size=20, n_neighbors=10 ...............\n",
            "[CV]  algorithm=ball_tree, leaf_size=20, n_neighbors=10, score=0.928, total=   0.6s\n",
            "[CV] algorithm=ball_tree, leaf_size=20, n_neighbors=10 ...............\n",
            "[CV]  algorithm=ball_tree, leaf_size=20, n_neighbors=10, score=0.935, total=   0.6s\n",
            "[CV] algorithm=ball_tree, leaf_size=20, n_neighbors=10 ...............\n",
            "[CV]  algorithm=ball_tree, leaf_size=20, n_neighbors=10, score=0.932, total=   0.6s\n",
            "[CV] algorithm=ball_tree, leaf_size=20, n_neighbors=10 ...............\n",
            "[CV]  algorithm=ball_tree, leaf_size=20, n_neighbors=10, score=0.930, total=   0.6s\n",
            "[CV] algorithm=ball_tree, leaf_size=20, n_neighbors=10 ...............\n",
            "[CV]  algorithm=ball_tree, leaf_size=20, n_neighbors=10, score=0.922, total=   0.6s\n",
            "[CV] algorithm=ball_tree, leaf_size=20, n_neighbors=11 ...............\n",
            "[CV]  algorithm=ball_tree, leaf_size=20, n_neighbors=11, score=0.932, total=   0.6s\n",
            "[CV] algorithm=ball_tree, leaf_size=20, n_neighbors=11 ...............\n",
            "[CV]  algorithm=ball_tree, leaf_size=20, n_neighbors=11, score=0.941, total=   0.6s\n",
            "[CV] algorithm=ball_tree, leaf_size=20, n_neighbors=11 ...............\n",
            "[CV]  algorithm=ball_tree, leaf_size=20, n_neighbors=11, score=0.928, total=   0.6s\n",
            "[CV] algorithm=ball_tree, leaf_size=20, n_neighbors=11 ...............\n",
            "[CV]  algorithm=ball_tree, leaf_size=20, n_neighbors=11, score=0.937, total=   0.6s\n",
            "[CV] algorithm=ball_tree, leaf_size=20, n_neighbors=11 ...............\n",
            "[CV]  algorithm=ball_tree, leaf_size=20, n_neighbors=11, score=0.923, total=   0.6s\n",
            "[CV] algorithm=ball_tree, leaf_size=20, n_neighbors=12 ...............\n",
            "[CV]  algorithm=ball_tree, leaf_size=20, n_neighbors=12, score=0.927, total=   0.6s\n",
            "[CV] algorithm=ball_tree, leaf_size=20, n_neighbors=12 ...............\n",
            "[CV]  algorithm=ball_tree, leaf_size=20, n_neighbors=12, score=0.939, total=   0.6s\n",
            "[CV] algorithm=ball_tree, leaf_size=20, n_neighbors=12 ...............\n",
            "[CV]  algorithm=ball_tree, leaf_size=20, n_neighbors=12, score=0.930, total=   0.6s\n",
            "[CV] algorithm=ball_tree, leaf_size=20, n_neighbors=12 ...............\n",
            "[CV]  algorithm=ball_tree, leaf_size=20, n_neighbors=12, score=0.933, total=   0.6s\n",
            "[CV] algorithm=ball_tree, leaf_size=20, n_neighbors=12 ...............\n",
            "[CV]  algorithm=ball_tree, leaf_size=20, n_neighbors=12, score=0.918, total=   0.6s\n",
            "[CV] algorithm=ball_tree, leaf_size=20, n_neighbors=13 ...............\n",
            "[CV]  algorithm=ball_tree, leaf_size=20, n_neighbors=13, score=0.926, total=   0.6s\n",
            "[CV] algorithm=ball_tree, leaf_size=20, n_neighbors=13 ...............\n",
            "[CV]  algorithm=ball_tree, leaf_size=20, n_neighbors=13, score=0.941, total=   0.6s\n",
            "[CV] algorithm=ball_tree, leaf_size=20, n_neighbors=13 ...............\n",
            "[CV]  algorithm=ball_tree, leaf_size=20, n_neighbors=13, score=0.928, total=   0.6s\n",
            "[CV] algorithm=ball_tree, leaf_size=20, n_neighbors=13 ...............\n",
            "[CV]  algorithm=ball_tree, leaf_size=20, n_neighbors=13, score=0.938, total=   0.6s\n",
            "[CV] algorithm=ball_tree, leaf_size=20, n_neighbors=13 ...............\n",
            "[CV]  algorithm=ball_tree, leaf_size=20, n_neighbors=13, score=0.920, total=   0.6s\n",
            "[CV] algorithm=ball_tree, leaf_size=25, n_neighbors=3 ................\n",
            "[CV]  algorithm=ball_tree, leaf_size=25, n_neighbors=3, score=0.940, total=   0.5s\n",
            "[CV] algorithm=ball_tree, leaf_size=25, n_neighbors=3 ................\n",
            "[CV]  algorithm=ball_tree, leaf_size=25, n_neighbors=3, score=0.944, total=   0.5s\n",
            "[CV] algorithm=ball_tree, leaf_size=25, n_neighbors=3 ................\n",
            "[CV]  algorithm=ball_tree, leaf_size=25, n_neighbors=3, score=0.940, total=   0.5s\n",
            "[CV] algorithm=ball_tree, leaf_size=25, n_neighbors=3 ................\n",
            "[CV]  algorithm=ball_tree, leaf_size=25, n_neighbors=3, score=0.939, total=   0.5s\n",
            "[CV] algorithm=ball_tree, leaf_size=25, n_neighbors=3 ................\n",
            "[CV]  algorithm=ball_tree, leaf_size=25, n_neighbors=3, score=0.940, total=   0.5s\n",
            "[CV] algorithm=ball_tree, leaf_size=25, n_neighbors=5 ................\n",
            "[CV]  algorithm=ball_tree, leaf_size=25, n_neighbors=5, score=0.937, total=   0.5s\n",
            "[CV] algorithm=ball_tree, leaf_size=25, n_neighbors=5 ................\n",
            "[CV]  algorithm=ball_tree, leaf_size=25, n_neighbors=5, score=0.940, total=   0.5s\n",
            "[CV] algorithm=ball_tree, leaf_size=25, n_neighbors=5 ................\n",
            "[CV]  algorithm=ball_tree, leaf_size=25, n_neighbors=5, score=0.931, total=   0.5s\n",
            "[CV] algorithm=ball_tree, leaf_size=25, n_neighbors=5 ................\n",
            "[CV]  algorithm=ball_tree, leaf_size=25, n_neighbors=5, score=0.937, total=   0.5s\n",
            "[CV] algorithm=ball_tree, leaf_size=25, n_neighbors=5 ................\n",
            "[CV]  algorithm=ball_tree, leaf_size=25, n_neighbors=5, score=0.935, total=   0.5s\n",
            "[CV] algorithm=ball_tree, leaf_size=25, n_neighbors=7 ................\n",
            "[CV]  algorithm=ball_tree, leaf_size=25, n_neighbors=7, score=0.932, total=   0.5s\n",
            "[CV] algorithm=ball_tree, leaf_size=25, n_neighbors=7 ................\n",
            "[CV]  algorithm=ball_tree, leaf_size=25, n_neighbors=7, score=0.939, total=   0.5s\n",
            "[CV] algorithm=ball_tree, leaf_size=25, n_neighbors=7 ................\n",
            "[CV]  algorithm=ball_tree, leaf_size=25, n_neighbors=7, score=0.931, total=   0.6s\n",
            "[CV] algorithm=ball_tree, leaf_size=25, n_neighbors=7 ................\n",
            "[CV]  algorithm=ball_tree, leaf_size=25, n_neighbors=7, score=0.930, total=   0.5s\n",
            "[CV] algorithm=ball_tree, leaf_size=25, n_neighbors=7 ................\n",
            "[CV]  algorithm=ball_tree, leaf_size=25, n_neighbors=7, score=0.926, total=   0.5s\n",
            "[CV] algorithm=ball_tree, leaf_size=25, n_neighbors=9 ................\n",
            "[CV]  algorithm=ball_tree, leaf_size=25, n_neighbors=9, score=0.930, total=   0.5s\n",
            "[CV] algorithm=ball_tree, leaf_size=25, n_neighbors=9 ................\n",
            "[CV]  algorithm=ball_tree, leaf_size=25, n_neighbors=9, score=0.938, total=   0.6s\n",
            "[CV] algorithm=ball_tree, leaf_size=25, n_neighbors=9 ................\n",
            "[CV]  algorithm=ball_tree, leaf_size=25, n_neighbors=9, score=0.930, total=   0.5s\n",
            "[CV] algorithm=ball_tree, leaf_size=25, n_neighbors=9 ................\n",
            "[CV]  algorithm=ball_tree, leaf_size=25, n_neighbors=9, score=0.935, total=   0.5s\n",
            "[CV] algorithm=ball_tree, leaf_size=25, n_neighbors=9 ................\n",
            "[CV]  algorithm=ball_tree, leaf_size=25, n_neighbors=9, score=0.930, total=   0.5s\n",
            "[CV] algorithm=ball_tree, leaf_size=25, n_neighbors=10 ...............\n",
            "[CV]  algorithm=ball_tree, leaf_size=25, n_neighbors=10, score=0.928, total=   0.6s\n",
            "[CV] algorithm=ball_tree, leaf_size=25, n_neighbors=10 ...............\n",
            "[CV]  algorithm=ball_tree, leaf_size=25, n_neighbors=10, score=0.935, total=   0.6s\n",
            "[CV] algorithm=ball_tree, leaf_size=25, n_neighbors=10 ...............\n",
            "[CV]  algorithm=ball_tree, leaf_size=25, n_neighbors=10, score=0.932, total=   0.5s\n",
            "[CV] algorithm=ball_tree, leaf_size=25, n_neighbors=10 ...............\n",
            "[CV]  algorithm=ball_tree, leaf_size=25, n_neighbors=10, score=0.930, total=   0.5s\n",
            "[CV] algorithm=ball_tree, leaf_size=25, n_neighbors=10 ...............\n",
            "[CV]  algorithm=ball_tree, leaf_size=25, n_neighbors=10, score=0.922, total=   0.5s\n",
            "[CV] algorithm=ball_tree, leaf_size=25, n_neighbors=11 ...............\n",
            "[CV]  algorithm=ball_tree, leaf_size=25, n_neighbors=11, score=0.932, total=   0.5s\n",
            "[CV] algorithm=ball_tree, leaf_size=25, n_neighbors=11 ...............\n",
            "[CV]  algorithm=ball_tree, leaf_size=25, n_neighbors=11, score=0.941, total=   0.5s\n",
            "[CV] algorithm=ball_tree, leaf_size=25, n_neighbors=11 ...............\n",
            "[CV]  algorithm=ball_tree, leaf_size=25, n_neighbors=11, score=0.928, total=   0.5s\n",
            "[CV] algorithm=ball_tree, leaf_size=25, n_neighbors=11 ...............\n",
            "[CV]  algorithm=ball_tree, leaf_size=25, n_neighbors=11, score=0.937, total=   0.5s\n",
            "[CV] algorithm=ball_tree, leaf_size=25, n_neighbors=11 ...............\n",
            "[CV]  algorithm=ball_tree, leaf_size=25, n_neighbors=11, score=0.924, total=   0.6s\n",
            "[CV] algorithm=ball_tree, leaf_size=25, n_neighbors=12 ...............\n",
            "[CV]  algorithm=ball_tree, leaf_size=25, n_neighbors=12, score=0.928, total=   0.6s\n",
            "[CV] algorithm=ball_tree, leaf_size=25, n_neighbors=12 ...............\n",
            "[CV]  algorithm=ball_tree, leaf_size=25, n_neighbors=12, score=0.939, total=   0.5s\n",
            "[CV] algorithm=ball_tree, leaf_size=25, n_neighbors=12 ...............\n",
            "[CV]  algorithm=ball_tree, leaf_size=25, n_neighbors=12, score=0.930, total=   0.5s\n",
            "[CV] algorithm=ball_tree, leaf_size=25, n_neighbors=12 ...............\n",
            "[CV]  algorithm=ball_tree, leaf_size=25, n_neighbors=12, score=0.933, total=   0.5s\n",
            "[CV] algorithm=ball_tree, leaf_size=25, n_neighbors=12 ...............\n",
            "[CV]  algorithm=ball_tree, leaf_size=25, n_neighbors=12, score=0.918, total=   0.5s\n",
            "[CV] algorithm=ball_tree, leaf_size=25, n_neighbors=13 ...............\n",
            "[CV]  algorithm=ball_tree, leaf_size=25, n_neighbors=13, score=0.926, total=   0.5s\n",
            "[CV] algorithm=ball_tree, leaf_size=25, n_neighbors=13 ...............\n",
            "[CV]  algorithm=ball_tree, leaf_size=25, n_neighbors=13, score=0.941, total=   0.5s\n",
            "[CV] algorithm=ball_tree, leaf_size=25, n_neighbors=13 ...............\n",
            "[CV]  algorithm=ball_tree, leaf_size=25, n_neighbors=13, score=0.929, total=   0.5s\n",
            "[CV] algorithm=ball_tree, leaf_size=25, n_neighbors=13 ...............\n",
            "[CV]  algorithm=ball_tree, leaf_size=25, n_neighbors=13, score=0.938, total=   0.6s\n",
            "[CV] algorithm=ball_tree, leaf_size=25, n_neighbors=13 ...............\n",
            "[CV]  algorithm=ball_tree, leaf_size=25, n_neighbors=13, score=0.920, total=   0.5s\n",
            "[CV] algorithm=ball_tree, leaf_size=27, n_neighbors=3 ................\n",
            "[CV]  algorithm=ball_tree, leaf_size=27, n_neighbors=3, score=0.940, total=   0.5s\n",
            "[CV] algorithm=ball_tree, leaf_size=27, n_neighbors=3 ................\n",
            "[CV]  algorithm=ball_tree, leaf_size=27, n_neighbors=3, score=0.944, total=   0.5s\n",
            "[CV] algorithm=ball_tree, leaf_size=27, n_neighbors=3 ................\n",
            "[CV]  algorithm=ball_tree, leaf_size=27, n_neighbors=3, score=0.940, total=   0.5s\n",
            "[CV] algorithm=ball_tree, leaf_size=27, n_neighbors=3 ................\n",
            "[CV]  algorithm=ball_tree, leaf_size=27, n_neighbors=3, score=0.939, total=   0.5s\n",
            "[CV] algorithm=ball_tree, leaf_size=27, n_neighbors=3 ................\n",
            "[CV]  algorithm=ball_tree, leaf_size=27, n_neighbors=3, score=0.940, total=   0.5s\n",
            "[CV] algorithm=ball_tree, leaf_size=27, n_neighbors=5 ................\n",
            "[CV]  algorithm=ball_tree, leaf_size=27, n_neighbors=5, score=0.937, total=   0.5s\n",
            "[CV] algorithm=ball_tree, leaf_size=27, n_neighbors=5 ................\n",
            "[CV]  algorithm=ball_tree, leaf_size=27, n_neighbors=5, score=0.940, total=   0.5s\n",
            "[CV] algorithm=ball_tree, leaf_size=27, n_neighbors=5 ................\n",
            "[CV]  algorithm=ball_tree, leaf_size=27, n_neighbors=5, score=0.931, total=   0.5s\n",
            "[CV] algorithm=ball_tree, leaf_size=27, n_neighbors=5 ................\n",
            "[CV]  algorithm=ball_tree, leaf_size=27, n_neighbors=5, score=0.937, total=   0.5s\n",
            "[CV] algorithm=ball_tree, leaf_size=27, n_neighbors=5 ................\n",
            "[CV]  algorithm=ball_tree, leaf_size=27, n_neighbors=5, score=0.935, total=   0.5s\n",
            "[CV] algorithm=ball_tree, leaf_size=27, n_neighbors=7 ................\n",
            "[CV]  algorithm=ball_tree, leaf_size=27, n_neighbors=7, score=0.932, total=   0.5s\n",
            "[CV] algorithm=ball_tree, leaf_size=27, n_neighbors=7 ................\n",
            "[CV]  algorithm=ball_tree, leaf_size=27, n_neighbors=7, score=0.939, total=   0.6s\n",
            "[CV] algorithm=ball_tree, leaf_size=27, n_neighbors=7 ................\n",
            "[CV]  algorithm=ball_tree, leaf_size=27, n_neighbors=7, score=0.931, total=   0.5s\n",
            "[CV] algorithm=ball_tree, leaf_size=27, n_neighbors=7 ................\n",
            "[CV]  algorithm=ball_tree, leaf_size=27, n_neighbors=7, score=0.930, total=   0.5s\n",
            "[CV] algorithm=ball_tree, leaf_size=27, n_neighbors=7 ................\n",
            "[CV]  algorithm=ball_tree, leaf_size=27, n_neighbors=7, score=0.926, total=   0.5s\n",
            "[CV] algorithm=ball_tree, leaf_size=27, n_neighbors=9 ................\n",
            "[CV]  algorithm=ball_tree, leaf_size=27, n_neighbors=9, score=0.930, total=   0.5s\n",
            "[CV] algorithm=ball_tree, leaf_size=27, n_neighbors=9 ................\n",
            "[CV]  algorithm=ball_tree, leaf_size=27, n_neighbors=9, score=0.938, total=   0.5s\n",
            "[CV] algorithm=ball_tree, leaf_size=27, n_neighbors=9 ................\n",
            "[CV]  algorithm=ball_tree, leaf_size=27, n_neighbors=9, score=0.930, total=   0.5s\n",
            "[CV] algorithm=ball_tree, leaf_size=27, n_neighbors=9 ................\n",
            "[CV]  algorithm=ball_tree, leaf_size=27, n_neighbors=9, score=0.935, total=   0.5s\n",
            "[CV] algorithm=ball_tree, leaf_size=27, n_neighbors=9 ................\n",
            "[CV]  algorithm=ball_tree, leaf_size=27, n_neighbors=9, score=0.930, total=   0.5s\n",
            "[CV] algorithm=ball_tree, leaf_size=27, n_neighbors=10 ...............\n",
            "[CV]  algorithm=ball_tree, leaf_size=27, n_neighbors=10, score=0.928, total=   0.5s\n",
            "[CV] algorithm=ball_tree, leaf_size=27, n_neighbors=10 ...............\n",
            "[CV]  algorithm=ball_tree, leaf_size=27, n_neighbors=10, score=0.935, total=   0.5s\n",
            "[CV] algorithm=ball_tree, leaf_size=27, n_neighbors=10 ...............\n",
            "[CV]  algorithm=ball_tree, leaf_size=27, n_neighbors=10, score=0.932, total=   0.5s\n",
            "[CV] algorithm=ball_tree, leaf_size=27, n_neighbors=10 ...............\n",
            "[CV]  algorithm=ball_tree, leaf_size=27, n_neighbors=10, score=0.930, total=   0.5s\n",
            "[CV] algorithm=ball_tree, leaf_size=27, n_neighbors=10 ...............\n",
            "[CV]  algorithm=ball_tree, leaf_size=27, n_neighbors=10, score=0.922, total=   0.5s\n",
            "[CV] algorithm=ball_tree, leaf_size=27, n_neighbors=11 ...............\n",
            "[CV]  algorithm=ball_tree, leaf_size=27, n_neighbors=11, score=0.932, total=   0.5s\n",
            "[CV] algorithm=ball_tree, leaf_size=27, n_neighbors=11 ...............\n",
            "[CV]  algorithm=ball_tree, leaf_size=27, n_neighbors=11, score=0.941, total=   0.6s\n",
            "[CV] algorithm=ball_tree, leaf_size=27, n_neighbors=11 ...............\n",
            "[CV]  algorithm=ball_tree, leaf_size=27, n_neighbors=11, score=0.928, total=   0.5s\n",
            "[CV] algorithm=ball_tree, leaf_size=27, n_neighbors=11 ...............\n",
            "[CV]  algorithm=ball_tree, leaf_size=27, n_neighbors=11, score=0.937, total=   0.5s\n",
            "[CV] algorithm=ball_tree, leaf_size=27, n_neighbors=11 ...............\n",
            "[CV]  algorithm=ball_tree, leaf_size=27, n_neighbors=11, score=0.924, total=   0.5s\n",
            "[CV] algorithm=ball_tree, leaf_size=27, n_neighbors=12 ...............\n",
            "[CV]  algorithm=ball_tree, leaf_size=27, n_neighbors=12, score=0.928, total=   0.5s\n",
            "[CV] algorithm=ball_tree, leaf_size=27, n_neighbors=12 ...............\n",
            "[CV]  algorithm=ball_tree, leaf_size=27, n_neighbors=12, score=0.939, total=   0.5s\n",
            "[CV] algorithm=ball_tree, leaf_size=27, n_neighbors=12 ...............\n",
            "[CV]  algorithm=ball_tree, leaf_size=27, n_neighbors=12, score=0.930, total=   0.5s\n",
            "[CV] algorithm=ball_tree, leaf_size=27, n_neighbors=12 ...............\n",
            "[CV]  algorithm=ball_tree, leaf_size=27, n_neighbors=12, score=0.933, total=   0.5s\n",
            "[CV] algorithm=ball_tree, leaf_size=27, n_neighbors=12 ...............\n",
            "[CV]  algorithm=ball_tree, leaf_size=27, n_neighbors=12, score=0.918, total=   0.5s\n",
            "[CV] algorithm=ball_tree, leaf_size=27, n_neighbors=13 ...............\n",
            "[CV]  algorithm=ball_tree, leaf_size=27, n_neighbors=13, score=0.926, total=   0.5s\n",
            "[CV] algorithm=ball_tree, leaf_size=27, n_neighbors=13 ...............\n",
            "[CV]  algorithm=ball_tree, leaf_size=27, n_neighbors=13, score=0.941, total=   0.6s\n",
            "[CV] algorithm=ball_tree, leaf_size=27, n_neighbors=13 ...............\n",
            "[CV]  algorithm=ball_tree, leaf_size=27, n_neighbors=13, score=0.929, total=   0.5s\n",
            "[CV] algorithm=ball_tree, leaf_size=27, n_neighbors=13 ...............\n",
            "[CV]  algorithm=ball_tree, leaf_size=27, n_neighbors=13, score=0.938, total=   0.6s\n",
            "[CV] algorithm=ball_tree, leaf_size=27, n_neighbors=13 ...............\n",
            "[CV]  algorithm=ball_tree, leaf_size=27, n_neighbors=13, score=0.920, total=   0.5s\n",
            "[CV] algorithm=ball_tree, leaf_size=30, n_neighbors=3 ................\n",
            "[CV]  algorithm=ball_tree, leaf_size=30, n_neighbors=3, score=0.940, total=   0.5s\n",
            "[CV] algorithm=ball_tree, leaf_size=30, n_neighbors=3 ................\n",
            "[CV]  algorithm=ball_tree, leaf_size=30, n_neighbors=3, score=0.944, total=   0.5s\n",
            "[CV] algorithm=ball_tree, leaf_size=30, n_neighbors=3 ................\n",
            "[CV]  algorithm=ball_tree, leaf_size=30, n_neighbors=3, score=0.940, total=   0.5s\n",
            "[CV] algorithm=ball_tree, leaf_size=30, n_neighbors=3 ................\n",
            "[CV]  algorithm=ball_tree, leaf_size=30, n_neighbors=3, score=0.939, total=   0.5s\n",
            "[CV] algorithm=ball_tree, leaf_size=30, n_neighbors=3 ................\n",
            "[CV]  algorithm=ball_tree, leaf_size=30, n_neighbors=3, score=0.940, total=   0.5s\n",
            "[CV] algorithm=ball_tree, leaf_size=30, n_neighbors=5 ................\n",
            "[CV]  algorithm=ball_tree, leaf_size=30, n_neighbors=5, score=0.937, total=   0.5s\n",
            "[CV] algorithm=ball_tree, leaf_size=30, n_neighbors=5 ................\n",
            "[CV]  algorithm=ball_tree, leaf_size=30, n_neighbors=5, score=0.940, total=   0.5s\n",
            "[CV] algorithm=ball_tree, leaf_size=30, n_neighbors=5 ................\n",
            "[CV]  algorithm=ball_tree, leaf_size=30, n_neighbors=5, score=0.931, total=   0.5s\n",
            "[CV] algorithm=ball_tree, leaf_size=30, n_neighbors=5 ................\n",
            "[CV]  algorithm=ball_tree, leaf_size=30, n_neighbors=5, score=0.937, total=   0.5s\n",
            "[CV] algorithm=ball_tree, leaf_size=30, n_neighbors=5 ................\n",
            "[CV]  algorithm=ball_tree, leaf_size=30, n_neighbors=5, score=0.935, total=   0.5s\n",
            "[CV] algorithm=ball_tree, leaf_size=30, n_neighbors=7 ................\n",
            "[CV]  algorithm=ball_tree, leaf_size=30, n_neighbors=7, score=0.932, total=   0.5s\n",
            "[CV] algorithm=ball_tree, leaf_size=30, n_neighbors=7 ................\n",
            "[CV]  algorithm=ball_tree, leaf_size=30, n_neighbors=7, score=0.939, total=   0.5s\n",
            "[CV] algorithm=ball_tree, leaf_size=30, n_neighbors=7 ................\n",
            "[CV]  algorithm=ball_tree, leaf_size=30, n_neighbors=7, score=0.931, total=   0.5s\n",
            "[CV] algorithm=ball_tree, leaf_size=30, n_neighbors=7 ................\n",
            "[CV]  algorithm=ball_tree, leaf_size=30, n_neighbors=7, score=0.930, total=   0.5s\n",
            "[CV] algorithm=ball_tree, leaf_size=30, n_neighbors=7 ................\n",
            "[CV]  algorithm=ball_tree, leaf_size=30, n_neighbors=7, score=0.926, total=   0.5s\n",
            "[CV] algorithm=ball_tree, leaf_size=30, n_neighbors=9 ................\n",
            "[CV]  algorithm=ball_tree, leaf_size=30, n_neighbors=9, score=0.930, total=   0.5s\n",
            "[CV] algorithm=ball_tree, leaf_size=30, n_neighbors=9 ................\n",
            "[CV]  algorithm=ball_tree, leaf_size=30, n_neighbors=9, score=0.938, total=   0.5s\n",
            "[CV] algorithm=ball_tree, leaf_size=30, n_neighbors=9 ................\n",
            "[CV]  algorithm=ball_tree, leaf_size=30, n_neighbors=9, score=0.930, total=   0.5s\n",
            "[CV] algorithm=ball_tree, leaf_size=30, n_neighbors=9 ................\n",
            "[CV]  algorithm=ball_tree, leaf_size=30, n_neighbors=9, score=0.935, total=   0.5s\n",
            "[CV] algorithm=ball_tree, leaf_size=30, n_neighbors=9 ................\n",
            "[CV]  algorithm=ball_tree, leaf_size=30, n_neighbors=9, score=0.930, total=   0.5s\n",
            "[CV] algorithm=ball_tree, leaf_size=30, n_neighbors=10 ...............\n",
            "[CV]  algorithm=ball_tree, leaf_size=30, n_neighbors=10, score=0.928, total=   0.5s\n",
            "[CV] algorithm=ball_tree, leaf_size=30, n_neighbors=10 ...............\n",
            "[CV]  algorithm=ball_tree, leaf_size=30, n_neighbors=10, score=0.935, total=   0.5s\n",
            "[CV] algorithm=ball_tree, leaf_size=30, n_neighbors=10 ...............\n",
            "[CV]  algorithm=ball_tree, leaf_size=30, n_neighbors=10, score=0.932, total=   0.6s\n",
            "[CV] algorithm=ball_tree, leaf_size=30, n_neighbors=10 ...............\n",
            "[CV]  algorithm=ball_tree, leaf_size=30, n_neighbors=10, score=0.930, total=   0.5s\n",
            "[CV] algorithm=ball_tree, leaf_size=30, n_neighbors=10 ...............\n",
            "[CV]  algorithm=ball_tree, leaf_size=30, n_neighbors=10, score=0.922, total=   0.5s\n",
            "[CV] algorithm=ball_tree, leaf_size=30, n_neighbors=11 ...............\n",
            "[CV]  algorithm=ball_tree, leaf_size=30, n_neighbors=11, score=0.932, total=   0.6s\n",
            "[CV] algorithm=ball_tree, leaf_size=30, n_neighbors=11 ...............\n",
            "[CV]  algorithm=ball_tree, leaf_size=30, n_neighbors=11, score=0.941, total=   0.6s\n",
            "[CV] algorithm=ball_tree, leaf_size=30, n_neighbors=11 ...............\n",
            "[CV]  algorithm=ball_tree, leaf_size=30, n_neighbors=11, score=0.928, total=   0.5s\n",
            "[CV] algorithm=ball_tree, leaf_size=30, n_neighbors=11 ...............\n",
            "[CV]  algorithm=ball_tree, leaf_size=30, n_neighbors=11, score=0.937, total=   0.6s\n",
            "[CV] algorithm=ball_tree, leaf_size=30, n_neighbors=11 ...............\n",
            "[CV]  algorithm=ball_tree, leaf_size=30, n_neighbors=11, score=0.924, total=   0.5s\n",
            "[CV] algorithm=ball_tree, leaf_size=30, n_neighbors=12 ...............\n",
            "[CV]  algorithm=ball_tree, leaf_size=30, n_neighbors=12, score=0.928, total=   0.5s\n",
            "[CV] algorithm=ball_tree, leaf_size=30, n_neighbors=12 ...............\n",
            "[CV]  algorithm=ball_tree, leaf_size=30, n_neighbors=12, score=0.939, total=   0.5s\n",
            "[CV] algorithm=ball_tree, leaf_size=30, n_neighbors=12 ...............\n",
            "[CV]  algorithm=ball_tree, leaf_size=30, n_neighbors=12, score=0.930, total=   0.5s\n",
            "[CV] algorithm=ball_tree, leaf_size=30, n_neighbors=12 ...............\n",
            "[CV]  algorithm=ball_tree, leaf_size=30, n_neighbors=12, score=0.933, total=   0.5s\n",
            "[CV] algorithm=ball_tree, leaf_size=30, n_neighbors=12 ...............\n",
            "[CV]  algorithm=ball_tree, leaf_size=30, n_neighbors=12, score=0.918, total=   0.5s\n",
            "[CV] algorithm=ball_tree, leaf_size=30, n_neighbors=13 ...............\n",
            "[CV]  algorithm=ball_tree, leaf_size=30, n_neighbors=13, score=0.926, total=   0.6s\n",
            "[CV] algorithm=ball_tree, leaf_size=30, n_neighbors=13 ...............\n",
            "[CV]  algorithm=ball_tree, leaf_size=30, n_neighbors=13, score=0.941, total=   0.5s\n",
            "[CV] algorithm=ball_tree, leaf_size=30, n_neighbors=13 ...............\n",
            "[CV]  algorithm=ball_tree, leaf_size=30, n_neighbors=13, score=0.929, total=   0.6s\n",
            "[CV] algorithm=ball_tree, leaf_size=30, n_neighbors=13 ...............\n",
            "[CV]  algorithm=ball_tree, leaf_size=30, n_neighbors=13, score=0.938, total=   0.5s\n",
            "[CV] algorithm=ball_tree, leaf_size=30, n_neighbors=13 ...............\n",
            "[CV]  algorithm=ball_tree, leaf_size=30, n_neighbors=13, score=0.920, total=   0.5s\n",
            "[CV] algorithm=ball_tree, leaf_size=32, n_neighbors=3 ................\n",
            "[CV]  algorithm=ball_tree, leaf_size=32, n_neighbors=3, score=0.940, total=   0.5s\n",
            "[CV] algorithm=ball_tree, leaf_size=32, n_neighbors=3 ................\n",
            "[CV]  algorithm=ball_tree, leaf_size=32, n_neighbors=3, score=0.944, total=   0.5s\n",
            "[CV] algorithm=ball_tree, leaf_size=32, n_neighbors=3 ................\n",
            "[CV]  algorithm=ball_tree, leaf_size=32, n_neighbors=3, score=0.940, total=   0.5s\n",
            "[CV] algorithm=ball_tree, leaf_size=32, n_neighbors=3 ................\n",
            "[CV]  algorithm=ball_tree, leaf_size=32, n_neighbors=3, score=0.939, total=   0.5s\n",
            "[CV] algorithm=ball_tree, leaf_size=32, n_neighbors=3 ................\n",
            "[CV]  algorithm=ball_tree, leaf_size=32, n_neighbors=3, score=0.940, total=   0.5s\n",
            "[CV] algorithm=ball_tree, leaf_size=32, n_neighbors=5 ................\n",
            "[CV]  algorithm=ball_tree, leaf_size=32, n_neighbors=5, score=0.937, total=   0.5s\n",
            "[CV] algorithm=ball_tree, leaf_size=32, n_neighbors=5 ................\n",
            "[CV]  algorithm=ball_tree, leaf_size=32, n_neighbors=5, score=0.940, total=   0.5s\n",
            "[CV] algorithm=ball_tree, leaf_size=32, n_neighbors=5 ................\n",
            "[CV]  algorithm=ball_tree, leaf_size=32, n_neighbors=5, score=0.931, total=   0.5s\n",
            "[CV] algorithm=ball_tree, leaf_size=32, n_neighbors=5 ................\n",
            "[CV]  algorithm=ball_tree, leaf_size=32, n_neighbors=5, score=0.937, total=   0.5s\n",
            "[CV] algorithm=ball_tree, leaf_size=32, n_neighbors=5 ................\n",
            "[CV]  algorithm=ball_tree, leaf_size=32, n_neighbors=5, score=0.935, total=   0.5s\n",
            "[CV] algorithm=ball_tree, leaf_size=32, n_neighbors=7 ................\n",
            "[CV]  algorithm=ball_tree, leaf_size=32, n_neighbors=7, score=0.932, total=   0.5s\n",
            "[CV] algorithm=ball_tree, leaf_size=32, n_neighbors=7 ................\n",
            "[CV]  algorithm=ball_tree, leaf_size=32, n_neighbors=7, score=0.939, total=   0.5s\n",
            "[CV] algorithm=ball_tree, leaf_size=32, n_neighbors=7 ................\n",
            "[CV]  algorithm=ball_tree, leaf_size=32, n_neighbors=7, score=0.931, total=   0.5s\n",
            "[CV] algorithm=ball_tree, leaf_size=32, n_neighbors=7 ................\n",
            "[CV]  algorithm=ball_tree, leaf_size=32, n_neighbors=7, score=0.930, total=   0.5s\n",
            "[CV] algorithm=ball_tree, leaf_size=32, n_neighbors=7 ................\n",
            "[CV]  algorithm=ball_tree, leaf_size=32, n_neighbors=7, score=0.926, total=   0.5s\n",
            "[CV] algorithm=ball_tree, leaf_size=32, n_neighbors=9 ................\n",
            "[CV]  algorithm=ball_tree, leaf_size=32, n_neighbors=9, score=0.930, total=   0.5s\n",
            "[CV] algorithm=ball_tree, leaf_size=32, n_neighbors=9 ................\n",
            "[CV]  algorithm=ball_tree, leaf_size=32, n_neighbors=9, score=0.938, total=   0.5s\n",
            "[CV] algorithm=ball_tree, leaf_size=32, n_neighbors=9 ................\n",
            "[CV]  algorithm=ball_tree, leaf_size=32, n_neighbors=9, score=0.930, total=   0.5s\n",
            "[CV] algorithm=ball_tree, leaf_size=32, n_neighbors=9 ................\n",
            "[CV]  algorithm=ball_tree, leaf_size=32, n_neighbors=9, score=0.935, total=   0.5s\n",
            "[CV] algorithm=ball_tree, leaf_size=32, n_neighbors=9 ................\n",
            "[CV]  algorithm=ball_tree, leaf_size=32, n_neighbors=9, score=0.930, total=   0.6s\n",
            "[CV] algorithm=ball_tree, leaf_size=32, n_neighbors=10 ...............\n",
            "[CV]  algorithm=ball_tree, leaf_size=32, n_neighbors=10, score=0.928, total=   0.6s\n",
            "[CV] algorithm=ball_tree, leaf_size=32, n_neighbors=10 ...............\n",
            "[CV]  algorithm=ball_tree, leaf_size=32, n_neighbors=10, score=0.935, total=   0.5s\n",
            "[CV] algorithm=ball_tree, leaf_size=32, n_neighbors=10 ...............\n",
            "[CV]  algorithm=ball_tree, leaf_size=32, n_neighbors=10, score=0.932, total=   0.5s\n",
            "[CV] algorithm=ball_tree, leaf_size=32, n_neighbors=10 ...............\n",
            "[CV]  algorithm=ball_tree, leaf_size=32, n_neighbors=10, score=0.930, total=   0.5s\n",
            "[CV] algorithm=ball_tree, leaf_size=32, n_neighbors=10 ...............\n",
            "[CV]  algorithm=ball_tree, leaf_size=32, n_neighbors=10, score=0.922, total=   0.5s\n",
            "[CV] algorithm=ball_tree, leaf_size=32, n_neighbors=11 ...............\n",
            "[CV]  algorithm=ball_tree, leaf_size=32, n_neighbors=11, score=0.932, total=   0.6s\n",
            "[CV] algorithm=ball_tree, leaf_size=32, n_neighbors=11 ...............\n",
            "[CV]  algorithm=ball_tree, leaf_size=32, n_neighbors=11, score=0.941, total=   0.5s\n",
            "[CV] algorithm=ball_tree, leaf_size=32, n_neighbors=11 ...............\n",
            "[CV]  algorithm=ball_tree, leaf_size=32, n_neighbors=11, score=0.928, total=   0.5s\n",
            "[CV] algorithm=ball_tree, leaf_size=32, n_neighbors=11 ...............\n",
            "[CV]  algorithm=ball_tree, leaf_size=32, n_neighbors=11, score=0.937, total=   0.5s\n",
            "[CV] algorithm=ball_tree, leaf_size=32, n_neighbors=11 ...............\n",
            "[CV]  algorithm=ball_tree, leaf_size=32, n_neighbors=11, score=0.924, total=   0.5s\n",
            "[CV] algorithm=ball_tree, leaf_size=32, n_neighbors=12 ...............\n",
            "[CV]  algorithm=ball_tree, leaf_size=32, n_neighbors=12, score=0.928, total=   0.5s\n",
            "[CV] algorithm=ball_tree, leaf_size=32, n_neighbors=12 ...............\n",
            "[CV]  algorithm=ball_tree, leaf_size=32, n_neighbors=12, score=0.939, total=   0.5s\n",
            "[CV] algorithm=ball_tree, leaf_size=32, n_neighbors=12 ...............\n",
            "[CV]  algorithm=ball_tree, leaf_size=32, n_neighbors=12, score=0.930, total=   0.5s\n",
            "[CV] algorithm=ball_tree, leaf_size=32, n_neighbors=12 ...............\n",
            "[CV]  algorithm=ball_tree, leaf_size=32, n_neighbors=12, score=0.933, total=   0.6s\n",
            "[CV] algorithm=ball_tree, leaf_size=32, n_neighbors=12 ...............\n",
            "[CV]  algorithm=ball_tree, leaf_size=32, n_neighbors=12, score=0.918, total=   0.5s\n",
            "[CV] algorithm=ball_tree, leaf_size=32, n_neighbors=13 ...............\n",
            "[CV]  algorithm=ball_tree, leaf_size=32, n_neighbors=13, score=0.926, total=   0.5s\n",
            "[CV] algorithm=ball_tree, leaf_size=32, n_neighbors=13 ...............\n",
            "[CV]  algorithm=ball_tree, leaf_size=32, n_neighbors=13, score=0.941, total=   0.5s\n",
            "[CV] algorithm=ball_tree, leaf_size=32, n_neighbors=13 ...............\n",
            "[CV]  algorithm=ball_tree, leaf_size=32, n_neighbors=13, score=0.929, total=   0.5s\n",
            "[CV] algorithm=ball_tree, leaf_size=32, n_neighbors=13 ...............\n",
            "[CV]  algorithm=ball_tree, leaf_size=32, n_neighbors=13, score=0.938, total=   0.5s\n",
            "[CV] algorithm=ball_tree, leaf_size=32, n_neighbors=13 ...............\n",
            "[CV]  algorithm=ball_tree, leaf_size=32, n_neighbors=13, score=0.920, total=   0.5s\n",
            "[CV] algorithm=ball_tree, leaf_size=34, n_neighbors=3 ................\n",
            "[CV]  algorithm=ball_tree, leaf_size=34, n_neighbors=3, score=0.940, total=   0.5s\n",
            "[CV] algorithm=ball_tree, leaf_size=34, n_neighbors=3 ................\n",
            "[CV]  algorithm=ball_tree, leaf_size=34, n_neighbors=3, score=0.944, total=   0.5s\n",
            "[CV] algorithm=ball_tree, leaf_size=34, n_neighbors=3 ................\n",
            "[CV]  algorithm=ball_tree, leaf_size=34, n_neighbors=3, score=0.940, total=   0.5s\n",
            "[CV] algorithm=ball_tree, leaf_size=34, n_neighbors=3 ................\n",
            "[CV]  algorithm=ball_tree, leaf_size=34, n_neighbors=3, score=0.939, total=   0.5s\n",
            "[CV] algorithm=ball_tree, leaf_size=34, n_neighbors=3 ................\n",
            "[CV]  algorithm=ball_tree, leaf_size=34, n_neighbors=3, score=0.940, total=   0.5s\n",
            "[CV] algorithm=ball_tree, leaf_size=34, n_neighbors=5 ................\n",
            "[CV]  algorithm=ball_tree, leaf_size=34, n_neighbors=5, score=0.937, total=   0.5s\n",
            "[CV] algorithm=ball_tree, leaf_size=34, n_neighbors=5 ................\n",
            "[CV]  algorithm=ball_tree, leaf_size=34, n_neighbors=5, score=0.940, total=   0.5s\n",
            "[CV] algorithm=ball_tree, leaf_size=34, n_neighbors=5 ................\n",
            "[CV]  algorithm=ball_tree, leaf_size=34, n_neighbors=5, score=0.931, total=   0.5s\n",
            "[CV] algorithm=ball_tree, leaf_size=34, n_neighbors=5 ................\n",
            "[CV]  algorithm=ball_tree, leaf_size=34, n_neighbors=5, score=0.937, total=   0.5s\n",
            "[CV] algorithm=ball_tree, leaf_size=34, n_neighbors=5 ................\n",
            "[CV]  algorithm=ball_tree, leaf_size=34, n_neighbors=5, score=0.935, total=   0.5s\n",
            "[CV] algorithm=ball_tree, leaf_size=34, n_neighbors=7 ................\n",
            "[CV]  algorithm=ball_tree, leaf_size=34, n_neighbors=7, score=0.932, total=   0.5s\n",
            "[CV] algorithm=ball_tree, leaf_size=34, n_neighbors=7 ................\n",
            "[CV]  algorithm=ball_tree, leaf_size=34, n_neighbors=7, score=0.939, total=   0.5s\n",
            "[CV] algorithm=ball_tree, leaf_size=34, n_neighbors=7 ................\n",
            "[CV]  algorithm=ball_tree, leaf_size=34, n_neighbors=7, score=0.931, total=   0.5s\n",
            "[CV] algorithm=ball_tree, leaf_size=34, n_neighbors=7 ................\n",
            "[CV]  algorithm=ball_tree, leaf_size=34, n_neighbors=7, score=0.930, total=   0.5s\n",
            "[CV] algorithm=ball_tree, leaf_size=34, n_neighbors=7 ................\n",
            "[CV]  algorithm=ball_tree, leaf_size=34, n_neighbors=7, score=0.926, total=   0.5s\n",
            "[CV] algorithm=ball_tree, leaf_size=34, n_neighbors=9 ................\n",
            "[CV]  algorithm=ball_tree, leaf_size=34, n_neighbors=9, score=0.930, total=   0.5s\n",
            "[CV] algorithm=ball_tree, leaf_size=34, n_neighbors=9 ................\n",
            "[CV]  algorithm=ball_tree, leaf_size=34, n_neighbors=9, score=0.938, total=   0.5s\n",
            "[CV] algorithm=ball_tree, leaf_size=34, n_neighbors=9 ................\n",
            "[CV]  algorithm=ball_tree, leaf_size=34, n_neighbors=9, score=0.930, total=   0.6s\n",
            "[CV] algorithm=ball_tree, leaf_size=34, n_neighbors=9 ................\n",
            "[CV]  algorithm=ball_tree, leaf_size=34, n_neighbors=9, score=0.935, total=   0.5s\n",
            "[CV] algorithm=ball_tree, leaf_size=34, n_neighbors=9 ................\n",
            "[CV]  algorithm=ball_tree, leaf_size=34, n_neighbors=9, score=0.930, total=   0.5s\n",
            "[CV] algorithm=ball_tree, leaf_size=34, n_neighbors=10 ...............\n",
            "[CV]  algorithm=ball_tree, leaf_size=34, n_neighbors=10, score=0.928, total=   0.6s\n",
            "[CV] algorithm=ball_tree, leaf_size=34, n_neighbors=10 ...............\n",
            "[CV]  algorithm=ball_tree, leaf_size=34, n_neighbors=10, score=0.935, total=   0.5s\n",
            "[CV] algorithm=ball_tree, leaf_size=34, n_neighbors=10 ...............\n",
            "[CV]  algorithm=ball_tree, leaf_size=34, n_neighbors=10, score=0.932, total=   0.5s\n",
            "[CV] algorithm=ball_tree, leaf_size=34, n_neighbors=10 ...............\n",
            "[CV]  algorithm=ball_tree, leaf_size=34, n_neighbors=10, score=0.930, total=   0.5s\n",
            "[CV] algorithm=ball_tree, leaf_size=34, n_neighbors=10 ...............\n",
            "[CV]  algorithm=ball_tree, leaf_size=34, n_neighbors=10, score=0.922, total=   0.5s\n",
            "[CV] algorithm=ball_tree, leaf_size=34, n_neighbors=11 ...............\n",
            "[CV]  algorithm=ball_tree, leaf_size=34, n_neighbors=11, score=0.932, total=   0.5s\n",
            "[CV] algorithm=ball_tree, leaf_size=34, n_neighbors=11 ...............\n",
            "[CV]  algorithm=ball_tree, leaf_size=34, n_neighbors=11, score=0.941, total=   0.5s\n",
            "[CV] algorithm=ball_tree, leaf_size=34, n_neighbors=11 ...............\n",
            "[CV]  algorithm=ball_tree, leaf_size=34, n_neighbors=11, score=0.928, total=   0.6s\n",
            "[CV] algorithm=ball_tree, leaf_size=34, n_neighbors=11 ...............\n",
            "[CV]  algorithm=ball_tree, leaf_size=34, n_neighbors=11, score=0.937, total=   0.5s\n",
            "[CV] algorithm=ball_tree, leaf_size=34, n_neighbors=11 ...............\n",
            "[CV]  algorithm=ball_tree, leaf_size=34, n_neighbors=11, score=0.924, total=   0.5s\n",
            "[CV] algorithm=ball_tree, leaf_size=34, n_neighbors=12 ...............\n",
            "[CV]  algorithm=ball_tree, leaf_size=34, n_neighbors=12, score=0.928, total=   0.6s\n",
            "[CV] algorithm=ball_tree, leaf_size=34, n_neighbors=12 ...............\n",
            "[CV]  algorithm=ball_tree, leaf_size=34, n_neighbors=12, score=0.939, total=   0.5s\n",
            "[CV] algorithm=ball_tree, leaf_size=34, n_neighbors=12 ...............\n",
            "[CV]  algorithm=ball_tree, leaf_size=34, n_neighbors=12, score=0.930, total=   0.6s\n",
            "[CV] algorithm=ball_tree, leaf_size=34, n_neighbors=12 ...............\n",
            "[CV]  algorithm=ball_tree, leaf_size=34, n_neighbors=12, score=0.933, total=   0.5s\n",
            "[CV] algorithm=ball_tree, leaf_size=34, n_neighbors=12 ...............\n",
            "[CV]  algorithm=ball_tree, leaf_size=34, n_neighbors=12, score=0.918, total=   0.5s\n",
            "[CV] algorithm=ball_tree, leaf_size=34, n_neighbors=13 ...............\n",
            "[CV]  algorithm=ball_tree, leaf_size=34, n_neighbors=13, score=0.926, total=   0.5s\n",
            "[CV] algorithm=ball_tree, leaf_size=34, n_neighbors=13 ...............\n",
            "[CV]  algorithm=ball_tree, leaf_size=34, n_neighbors=13, score=0.941, total=   0.5s\n",
            "[CV] algorithm=ball_tree, leaf_size=34, n_neighbors=13 ...............\n",
            "[CV]  algorithm=ball_tree, leaf_size=34, n_neighbors=13, score=0.929, total=   0.5s\n",
            "[CV] algorithm=ball_tree, leaf_size=34, n_neighbors=13 ...............\n",
            "[CV]  algorithm=ball_tree, leaf_size=34, n_neighbors=13, score=0.938, total=   0.5s\n",
            "[CV] algorithm=ball_tree, leaf_size=34, n_neighbors=13 ...............\n",
            "[CV]  algorithm=ball_tree, leaf_size=34, n_neighbors=13, score=0.920, total=   0.5s\n",
            "[CV] algorithm=ball_tree, leaf_size=35, n_neighbors=3 ................\n",
            "[CV]  algorithm=ball_tree, leaf_size=35, n_neighbors=3, score=0.940, total=   0.5s\n",
            "[CV] algorithm=ball_tree, leaf_size=35, n_neighbors=3 ................\n",
            "[CV]  algorithm=ball_tree, leaf_size=35, n_neighbors=3, score=0.944, total=   0.5s\n",
            "[CV] algorithm=ball_tree, leaf_size=35, n_neighbors=3 ................\n",
            "[CV]  algorithm=ball_tree, leaf_size=35, n_neighbors=3, score=0.940, total=   0.5s\n",
            "[CV] algorithm=ball_tree, leaf_size=35, n_neighbors=3 ................\n",
            "[CV]  algorithm=ball_tree, leaf_size=35, n_neighbors=3, score=0.939, total=   0.5s\n",
            "[CV] algorithm=ball_tree, leaf_size=35, n_neighbors=3 ................\n",
            "[CV]  algorithm=ball_tree, leaf_size=35, n_neighbors=3, score=0.940, total=   0.5s\n",
            "[CV] algorithm=ball_tree, leaf_size=35, n_neighbors=5 ................\n",
            "[CV]  algorithm=ball_tree, leaf_size=35, n_neighbors=5, score=0.937, total=   0.5s\n",
            "[CV] algorithm=ball_tree, leaf_size=35, n_neighbors=5 ................\n",
            "[CV]  algorithm=ball_tree, leaf_size=35, n_neighbors=5, score=0.940, total=   0.5s\n",
            "[CV] algorithm=ball_tree, leaf_size=35, n_neighbors=5 ................\n",
            "[CV]  algorithm=ball_tree, leaf_size=35, n_neighbors=5, score=0.931, total=   0.5s\n",
            "[CV] algorithm=ball_tree, leaf_size=35, n_neighbors=5 ................\n",
            "[CV]  algorithm=ball_tree, leaf_size=35, n_neighbors=5, score=0.937, total=   0.5s\n",
            "[CV] algorithm=ball_tree, leaf_size=35, n_neighbors=5 ................\n",
            "[CV]  algorithm=ball_tree, leaf_size=35, n_neighbors=5, score=0.935, total=   0.5s\n",
            "[CV] algorithm=ball_tree, leaf_size=35, n_neighbors=7 ................\n",
            "[CV]  algorithm=ball_tree, leaf_size=35, n_neighbors=7, score=0.932, total=   0.5s\n",
            "[CV] algorithm=ball_tree, leaf_size=35, n_neighbors=7 ................\n",
            "[CV]  algorithm=ball_tree, leaf_size=35, n_neighbors=7, score=0.939, total=   0.5s\n",
            "[CV] algorithm=ball_tree, leaf_size=35, n_neighbors=7 ................\n",
            "[CV]  algorithm=ball_tree, leaf_size=35, n_neighbors=7, score=0.931, total=   0.5s\n",
            "[CV] algorithm=ball_tree, leaf_size=35, n_neighbors=7 ................\n",
            "[CV]  algorithm=ball_tree, leaf_size=35, n_neighbors=7, score=0.930, total=   0.5s\n",
            "[CV] algorithm=ball_tree, leaf_size=35, n_neighbors=7 ................\n",
            "[CV]  algorithm=ball_tree, leaf_size=35, n_neighbors=7, score=0.926, total=   0.5s\n",
            "[CV] algorithm=ball_tree, leaf_size=35, n_neighbors=9 ................\n",
            "[CV]  algorithm=ball_tree, leaf_size=35, n_neighbors=9, score=0.930, total=   0.5s\n",
            "[CV] algorithm=ball_tree, leaf_size=35, n_neighbors=9 ................\n",
            "[CV]  algorithm=ball_tree, leaf_size=35, n_neighbors=9, score=0.938, total=   0.5s\n",
            "[CV] algorithm=ball_tree, leaf_size=35, n_neighbors=9 ................\n",
            "[CV]  algorithm=ball_tree, leaf_size=35, n_neighbors=9, score=0.930, total=   0.6s\n",
            "[CV] algorithm=ball_tree, leaf_size=35, n_neighbors=9 ................\n",
            "[CV]  algorithm=ball_tree, leaf_size=35, n_neighbors=9, score=0.935, total=   0.5s\n",
            "[CV] algorithm=ball_tree, leaf_size=35, n_neighbors=9 ................\n",
            "[CV]  algorithm=ball_tree, leaf_size=35, n_neighbors=9, score=0.930, total=   0.5s\n",
            "[CV] algorithm=ball_tree, leaf_size=35, n_neighbors=10 ...............\n",
            "[CV]  algorithm=ball_tree, leaf_size=35, n_neighbors=10, score=0.928, total=   0.5s\n",
            "[CV] algorithm=ball_tree, leaf_size=35, n_neighbors=10 ...............\n",
            "[CV]  algorithm=ball_tree, leaf_size=35, n_neighbors=10, score=0.935, total=   0.6s\n",
            "[CV] algorithm=ball_tree, leaf_size=35, n_neighbors=10 ...............\n",
            "[CV]  algorithm=ball_tree, leaf_size=35, n_neighbors=10, score=0.932, total=   0.5s\n",
            "[CV] algorithm=ball_tree, leaf_size=35, n_neighbors=10 ...............\n",
            "[CV]  algorithm=ball_tree, leaf_size=35, n_neighbors=10, score=0.930, total=   0.5s\n",
            "[CV] algorithm=ball_tree, leaf_size=35, n_neighbors=10 ...............\n",
            "[CV]  algorithm=ball_tree, leaf_size=35, n_neighbors=10, score=0.922, total=   0.5s\n",
            "[CV] algorithm=ball_tree, leaf_size=35, n_neighbors=11 ...............\n",
            "[CV]  algorithm=ball_tree, leaf_size=35, n_neighbors=11, score=0.932, total=   0.5s\n",
            "[CV] algorithm=ball_tree, leaf_size=35, n_neighbors=11 ...............\n",
            "[CV]  algorithm=ball_tree, leaf_size=35, n_neighbors=11, score=0.941, total=   0.5s\n",
            "[CV] algorithm=ball_tree, leaf_size=35, n_neighbors=11 ...............\n",
            "[CV]  algorithm=ball_tree, leaf_size=35, n_neighbors=11, score=0.928, total=   0.5s\n",
            "[CV] algorithm=ball_tree, leaf_size=35, n_neighbors=11 ...............\n",
            "[CV]  algorithm=ball_tree, leaf_size=35, n_neighbors=11, score=0.937, total=   0.5s\n",
            "[CV] algorithm=ball_tree, leaf_size=35, n_neighbors=11 ...............\n",
            "[CV]  algorithm=ball_tree, leaf_size=35, n_neighbors=11, score=0.924, total=   0.6s\n",
            "[CV] algorithm=ball_tree, leaf_size=35, n_neighbors=12 ...............\n",
            "[CV]  algorithm=ball_tree, leaf_size=35, n_neighbors=12, score=0.928, total=   0.6s\n",
            "[CV] algorithm=ball_tree, leaf_size=35, n_neighbors=12 ...............\n",
            "[CV]  algorithm=ball_tree, leaf_size=35, n_neighbors=12, score=0.939, total=   0.5s\n",
            "[CV] algorithm=ball_tree, leaf_size=35, n_neighbors=12 ...............\n",
            "[CV]  algorithm=ball_tree, leaf_size=35, n_neighbors=12, score=0.930, total=   0.6s\n",
            "[CV] algorithm=ball_tree, leaf_size=35, n_neighbors=12 ...............\n",
            "[CV]  algorithm=ball_tree, leaf_size=35, n_neighbors=12, score=0.933, total=   0.5s\n",
            "[CV] algorithm=ball_tree, leaf_size=35, n_neighbors=12 ...............\n",
            "[CV]  algorithm=ball_tree, leaf_size=35, n_neighbors=12, score=0.918, total=   0.5s\n",
            "[CV] algorithm=ball_tree, leaf_size=35, n_neighbors=13 ...............\n",
            "[CV]  algorithm=ball_tree, leaf_size=35, n_neighbors=13, score=0.926, total=   0.6s\n",
            "[CV] algorithm=ball_tree, leaf_size=35, n_neighbors=13 ...............\n",
            "[CV]  algorithm=ball_tree, leaf_size=35, n_neighbors=13, score=0.941, total=   0.5s\n",
            "[CV] algorithm=ball_tree, leaf_size=35, n_neighbors=13 ...............\n",
            "[CV]  algorithm=ball_tree, leaf_size=35, n_neighbors=13, score=0.929, total=   0.5s\n",
            "[CV] algorithm=ball_tree, leaf_size=35, n_neighbors=13 ...............\n",
            "[CV]  algorithm=ball_tree, leaf_size=35, n_neighbors=13, score=0.938, total=   0.5s\n",
            "[CV] algorithm=ball_tree, leaf_size=35, n_neighbors=13 ...............\n",
            "[CV]  algorithm=ball_tree, leaf_size=35, n_neighbors=13, score=0.920, total=   0.5s\n",
            "[CV] algorithm=kd_tree, leaf_size=18, n_neighbors=3 ..................\n",
            "[CV]  algorithm=kd_tree, leaf_size=18, n_neighbors=3, score=0.940, total=   0.7s\n",
            "[CV] algorithm=kd_tree, leaf_size=18, n_neighbors=3 ..................\n",
            "[CV]  algorithm=kd_tree, leaf_size=18, n_neighbors=3, score=0.944, total=   0.7s\n",
            "[CV] algorithm=kd_tree, leaf_size=18, n_neighbors=3 ..................\n",
            "[CV]  algorithm=kd_tree, leaf_size=18, n_neighbors=3, score=0.940, total=   0.7s\n",
            "[CV] algorithm=kd_tree, leaf_size=18, n_neighbors=3 ..................\n",
            "[CV]  algorithm=kd_tree, leaf_size=18, n_neighbors=3, score=0.939, total=   0.7s\n",
            "[CV] algorithm=kd_tree, leaf_size=18, n_neighbors=3 ..................\n",
            "[CV]  algorithm=kd_tree, leaf_size=18, n_neighbors=3, score=0.939, total=   0.7s\n",
            "[CV] algorithm=kd_tree, leaf_size=18, n_neighbors=5 ..................\n",
            "[CV]  algorithm=kd_tree, leaf_size=18, n_neighbors=5, score=0.939, total=   0.7s\n",
            "[CV] algorithm=kd_tree, leaf_size=18, n_neighbors=5 ..................\n",
            "[CV]  algorithm=kd_tree, leaf_size=18, n_neighbors=5, score=0.940, total=   0.7s\n",
            "[CV] algorithm=kd_tree, leaf_size=18, n_neighbors=5 ..................\n",
            "[CV]  algorithm=kd_tree, leaf_size=18, n_neighbors=5, score=0.931, total=   0.7s\n",
            "[CV] algorithm=kd_tree, leaf_size=18, n_neighbors=5 ..................\n",
            "[CV]  algorithm=kd_tree, leaf_size=18, n_neighbors=5, score=0.937, total=   0.7s\n",
            "[CV] algorithm=kd_tree, leaf_size=18, n_neighbors=5 ..................\n",
            "[CV]  algorithm=kd_tree, leaf_size=18, n_neighbors=5, score=0.935, total=   0.7s\n",
            "[CV] algorithm=kd_tree, leaf_size=18, n_neighbors=7 ..................\n",
            "[CV]  algorithm=kd_tree, leaf_size=18, n_neighbors=7, score=0.933, total=   0.8s\n",
            "[CV] algorithm=kd_tree, leaf_size=18, n_neighbors=7 ..................\n",
            "[CV]  algorithm=kd_tree, leaf_size=18, n_neighbors=7, score=0.938, total=   0.7s\n",
            "[CV] algorithm=kd_tree, leaf_size=18, n_neighbors=7 ..................\n",
            "[CV]  algorithm=kd_tree, leaf_size=18, n_neighbors=7, score=0.932, total=   0.7s\n",
            "[CV] algorithm=kd_tree, leaf_size=18, n_neighbors=7 ..................\n",
            "[CV]  algorithm=kd_tree, leaf_size=18, n_neighbors=7, score=0.930, total=   0.7s\n",
            "[CV] algorithm=kd_tree, leaf_size=18, n_neighbors=7 ..................\n",
            "[CV]  algorithm=kd_tree, leaf_size=18, n_neighbors=7, score=0.925, total=   0.7s\n",
            "[CV] algorithm=kd_tree, leaf_size=18, n_neighbors=9 ..................\n",
            "[CV]  algorithm=kd_tree, leaf_size=18, n_neighbors=9, score=0.930, total=   0.7s\n",
            "[CV] algorithm=kd_tree, leaf_size=18, n_neighbors=9 ..................\n",
            "[CV]  algorithm=kd_tree, leaf_size=18, n_neighbors=9, score=0.938, total=   0.7s\n",
            "[CV] algorithm=kd_tree, leaf_size=18, n_neighbors=9 ..................\n",
            "[CV]  algorithm=kd_tree, leaf_size=18, n_neighbors=9, score=0.930, total=   0.7s\n",
            "[CV] algorithm=kd_tree, leaf_size=18, n_neighbors=9 ..................\n",
            "[CV]  algorithm=kd_tree, leaf_size=18, n_neighbors=9, score=0.936, total=   0.7s\n",
            "[CV] algorithm=kd_tree, leaf_size=18, n_neighbors=9 ..................\n",
            "[CV]  algorithm=kd_tree, leaf_size=18, n_neighbors=9, score=0.930, total=   0.7s\n",
            "[CV] algorithm=kd_tree, leaf_size=18, n_neighbors=10 .................\n",
            "[CV]  algorithm=kd_tree, leaf_size=18, n_neighbors=10, score=0.928, total=   0.7s\n",
            "[CV] algorithm=kd_tree, leaf_size=18, n_neighbors=10 .................\n",
            "[CV]  algorithm=kd_tree, leaf_size=18, n_neighbors=10, score=0.935, total=   0.7s\n",
            "[CV] algorithm=kd_tree, leaf_size=18, n_neighbors=10 .................\n",
            "[CV]  algorithm=kd_tree, leaf_size=18, n_neighbors=10, score=0.932, total=   0.7s\n",
            "[CV] algorithm=kd_tree, leaf_size=18, n_neighbors=10 .................\n",
            "[CV]  algorithm=kd_tree, leaf_size=18, n_neighbors=10, score=0.930, total=   0.7s\n",
            "[CV] algorithm=kd_tree, leaf_size=18, n_neighbors=10 .................\n",
            "[CV]  algorithm=kd_tree, leaf_size=18, n_neighbors=10, score=0.923, total=   0.8s\n",
            "[CV] algorithm=kd_tree, leaf_size=18, n_neighbors=11 .................\n",
            "[CV]  algorithm=kd_tree, leaf_size=18, n_neighbors=11, score=0.932, total=   0.7s\n",
            "[CV] algorithm=kd_tree, leaf_size=18, n_neighbors=11 .................\n",
            "[CV]  algorithm=kd_tree, leaf_size=18, n_neighbors=11, score=0.939, total=   0.8s\n",
            "[CV] algorithm=kd_tree, leaf_size=18, n_neighbors=11 .................\n",
            "[CV]  algorithm=kd_tree, leaf_size=18, n_neighbors=11, score=0.928, total=   0.8s\n",
            "[CV] algorithm=kd_tree, leaf_size=18, n_neighbors=11 .................\n",
            "[CV]  algorithm=kd_tree, leaf_size=18, n_neighbors=11, score=0.935, total=   0.7s\n",
            "[CV] algorithm=kd_tree, leaf_size=18, n_neighbors=11 .................\n",
            "[CV]  algorithm=kd_tree, leaf_size=18, n_neighbors=11, score=0.924, total=   0.7s\n",
            "[CV] algorithm=kd_tree, leaf_size=18, n_neighbors=12 .................\n",
            "[CV]  algorithm=kd_tree, leaf_size=18, n_neighbors=12, score=0.929, total=   0.8s\n",
            "[CV] algorithm=kd_tree, leaf_size=18, n_neighbors=12 .................\n",
            "[CV]  algorithm=kd_tree, leaf_size=18, n_neighbors=12, score=0.939, total=   0.8s\n",
            "[CV] algorithm=kd_tree, leaf_size=18, n_neighbors=12 .................\n",
            "[CV]  algorithm=kd_tree, leaf_size=18, n_neighbors=12, score=0.930, total=   0.7s\n",
            "[CV] algorithm=kd_tree, leaf_size=18, n_neighbors=12 .................\n",
            "[CV]  algorithm=kd_tree, leaf_size=18, n_neighbors=12, score=0.933, total=   0.8s\n",
            "[CV] algorithm=kd_tree, leaf_size=18, n_neighbors=12 .................\n",
            "[CV]  algorithm=kd_tree, leaf_size=18, n_neighbors=12, score=0.919, total=   0.8s\n",
            "[CV] algorithm=kd_tree, leaf_size=18, n_neighbors=13 .................\n",
            "[CV]  algorithm=kd_tree, leaf_size=18, n_neighbors=13, score=0.926, total=   0.8s\n",
            "[CV] algorithm=kd_tree, leaf_size=18, n_neighbors=13 .................\n",
            "[CV]  algorithm=kd_tree, leaf_size=18, n_neighbors=13, score=0.941, total=   0.8s\n",
            "[CV] algorithm=kd_tree, leaf_size=18, n_neighbors=13 .................\n",
            "[CV]  algorithm=kd_tree, leaf_size=18, n_neighbors=13, score=0.927, total=   0.8s\n",
            "[CV] algorithm=kd_tree, leaf_size=18, n_neighbors=13 .................\n",
            "[CV]  algorithm=kd_tree, leaf_size=18, n_neighbors=13, score=0.938, total=   0.7s\n",
            "[CV] algorithm=kd_tree, leaf_size=18, n_neighbors=13 .................\n",
            "[CV]  algorithm=kd_tree, leaf_size=18, n_neighbors=13, score=0.920, total=   0.8s\n",
            "[CV] algorithm=kd_tree, leaf_size=20, n_neighbors=3 ..................\n",
            "[CV]  algorithm=kd_tree, leaf_size=20, n_neighbors=3, score=0.940, total=   0.7s\n",
            "[CV] algorithm=kd_tree, leaf_size=20, n_neighbors=3 ..................\n",
            "[CV]  algorithm=kd_tree, leaf_size=20, n_neighbors=3, score=0.944, total=   0.7s\n",
            "[CV] algorithm=kd_tree, leaf_size=20, n_neighbors=3 ..................\n",
            "[CV]  algorithm=kd_tree, leaf_size=20, n_neighbors=3, score=0.940, total=   0.7s\n",
            "[CV] algorithm=kd_tree, leaf_size=20, n_neighbors=3 ..................\n",
            "[CV]  algorithm=kd_tree, leaf_size=20, n_neighbors=3, score=0.939, total=   0.7s\n",
            "[CV] algorithm=kd_tree, leaf_size=20, n_neighbors=3 ..................\n",
            "[CV]  algorithm=kd_tree, leaf_size=20, n_neighbors=3, score=0.939, total=   0.7s\n",
            "[CV] algorithm=kd_tree, leaf_size=20, n_neighbors=5 ..................\n",
            "[CV]  algorithm=kd_tree, leaf_size=20, n_neighbors=5, score=0.939, total=   0.7s\n",
            "[CV] algorithm=kd_tree, leaf_size=20, n_neighbors=5 ..................\n",
            "[CV]  algorithm=kd_tree, leaf_size=20, n_neighbors=5, score=0.940, total=   0.7s\n",
            "[CV] algorithm=kd_tree, leaf_size=20, n_neighbors=5 ..................\n",
            "[CV]  algorithm=kd_tree, leaf_size=20, n_neighbors=5, score=0.931, total=   0.7s\n",
            "[CV] algorithm=kd_tree, leaf_size=20, n_neighbors=5 ..................\n",
            "[CV]  algorithm=kd_tree, leaf_size=20, n_neighbors=5, score=0.937, total=   0.7s\n",
            "[CV] algorithm=kd_tree, leaf_size=20, n_neighbors=5 ..................\n",
            "[CV]  algorithm=kd_tree, leaf_size=20, n_neighbors=5, score=0.935, total=   0.7s\n",
            "[CV] algorithm=kd_tree, leaf_size=20, n_neighbors=7 ..................\n",
            "[CV]  algorithm=kd_tree, leaf_size=20, n_neighbors=7, score=0.933, total=   0.7s\n",
            "[CV] algorithm=kd_tree, leaf_size=20, n_neighbors=7 ..................\n",
            "[CV]  algorithm=kd_tree, leaf_size=20, n_neighbors=7, score=0.938, total=   0.7s\n",
            "[CV] algorithm=kd_tree, leaf_size=20, n_neighbors=7 ..................\n",
            "[CV]  algorithm=kd_tree, leaf_size=20, n_neighbors=7, score=0.932, total=   0.7s\n",
            "[CV] algorithm=kd_tree, leaf_size=20, n_neighbors=7 ..................\n",
            "[CV]  algorithm=kd_tree, leaf_size=20, n_neighbors=7, score=0.930, total=   0.7s\n",
            "[CV] algorithm=kd_tree, leaf_size=20, n_neighbors=7 ..................\n",
            "[CV]  algorithm=kd_tree, leaf_size=20, n_neighbors=7, score=0.925, total=   0.7s\n",
            "[CV] algorithm=kd_tree, leaf_size=20, n_neighbors=9 ..................\n",
            "[CV]  algorithm=kd_tree, leaf_size=20, n_neighbors=9, score=0.930, total=   0.8s\n",
            "[CV] algorithm=kd_tree, leaf_size=20, n_neighbors=9 ..................\n",
            "[CV]  algorithm=kd_tree, leaf_size=20, n_neighbors=9, score=0.938, total=   0.7s\n",
            "[CV] algorithm=kd_tree, leaf_size=20, n_neighbors=9 ..................\n",
            "[CV]  algorithm=kd_tree, leaf_size=20, n_neighbors=9, score=0.930, total=   0.7s\n",
            "[CV] algorithm=kd_tree, leaf_size=20, n_neighbors=9 ..................\n",
            "[CV]  algorithm=kd_tree, leaf_size=20, n_neighbors=9, score=0.936, total=   0.8s\n",
            "[CV] algorithm=kd_tree, leaf_size=20, n_neighbors=9 ..................\n",
            "[CV]  algorithm=kd_tree, leaf_size=20, n_neighbors=9, score=0.930, total=   0.7s\n",
            "[CV] algorithm=kd_tree, leaf_size=20, n_neighbors=10 .................\n",
            "[CV]  algorithm=kd_tree, leaf_size=20, n_neighbors=10, score=0.928, total=   0.8s\n",
            "[CV] algorithm=kd_tree, leaf_size=20, n_neighbors=10 .................\n",
            "[CV]  algorithm=kd_tree, leaf_size=20, n_neighbors=10, score=0.935, total=   0.7s\n",
            "[CV] algorithm=kd_tree, leaf_size=20, n_neighbors=10 .................\n",
            "[CV]  algorithm=kd_tree, leaf_size=20, n_neighbors=10, score=0.932, total=   0.8s\n",
            "[CV] algorithm=kd_tree, leaf_size=20, n_neighbors=10 .................\n",
            "[CV]  algorithm=kd_tree, leaf_size=20, n_neighbors=10, score=0.930, total=   0.8s\n",
            "[CV] algorithm=kd_tree, leaf_size=20, n_neighbors=10 .................\n",
            "[CV]  algorithm=kd_tree, leaf_size=20, n_neighbors=10, score=0.923, total=   0.8s\n",
            "[CV] algorithm=kd_tree, leaf_size=20, n_neighbors=11 .................\n",
            "[CV]  algorithm=kd_tree, leaf_size=20, n_neighbors=11, score=0.932, total=   0.8s\n",
            "[CV] algorithm=kd_tree, leaf_size=20, n_neighbors=11 .................\n",
            "[CV]  algorithm=kd_tree, leaf_size=20, n_neighbors=11, score=0.939, total=   0.7s\n",
            "[CV] algorithm=kd_tree, leaf_size=20, n_neighbors=11 .................\n",
            "[CV]  algorithm=kd_tree, leaf_size=20, n_neighbors=11, score=0.928, total=   0.8s\n",
            "[CV] algorithm=kd_tree, leaf_size=20, n_neighbors=11 .................\n",
            "[CV]  algorithm=kd_tree, leaf_size=20, n_neighbors=11, score=0.935, total=   0.8s\n",
            "[CV] algorithm=kd_tree, leaf_size=20, n_neighbors=11 .................\n",
            "[CV]  algorithm=kd_tree, leaf_size=20, n_neighbors=11, score=0.924, total=   0.7s\n",
            "[CV] algorithm=kd_tree, leaf_size=20, n_neighbors=12 .................\n",
            "[CV]  algorithm=kd_tree, leaf_size=20, n_neighbors=12, score=0.929, total=   0.7s\n",
            "[CV] algorithm=kd_tree, leaf_size=20, n_neighbors=12 .................\n",
            "[CV]  algorithm=kd_tree, leaf_size=20, n_neighbors=12, score=0.939, total=   0.8s\n",
            "[CV] algorithm=kd_tree, leaf_size=20, n_neighbors=12 .................\n",
            "[CV]  algorithm=kd_tree, leaf_size=20, n_neighbors=12, score=0.930, total=   0.7s\n",
            "[CV] algorithm=kd_tree, leaf_size=20, n_neighbors=12 .................\n",
            "[CV]  algorithm=kd_tree, leaf_size=20, n_neighbors=12, score=0.933, total=   0.8s\n",
            "[CV] algorithm=kd_tree, leaf_size=20, n_neighbors=12 .................\n",
            "[CV]  algorithm=kd_tree, leaf_size=20, n_neighbors=12, score=0.919, total=   0.8s\n",
            "[CV] algorithm=kd_tree, leaf_size=20, n_neighbors=13 .................\n",
            "[CV]  algorithm=kd_tree, leaf_size=20, n_neighbors=13, score=0.926, total=   0.8s\n",
            "[CV] algorithm=kd_tree, leaf_size=20, n_neighbors=13 .................\n",
            "[CV]  algorithm=kd_tree, leaf_size=20, n_neighbors=13, score=0.941, total=   0.8s\n",
            "[CV] algorithm=kd_tree, leaf_size=20, n_neighbors=13 .................\n",
            "[CV]  algorithm=kd_tree, leaf_size=20, n_neighbors=13, score=0.927, total=   0.8s\n",
            "[CV] algorithm=kd_tree, leaf_size=20, n_neighbors=13 .................\n",
            "[CV]  algorithm=kd_tree, leaf_size=20, n_neighbors=13, score=0.938, total=   0.7s\n",
            "[CV] algorithm=kd_tree, leaf_size=20, n_neighbors=13 .................\n",
            "[CV]  algorithm=kd_tree, leaf_size=20, n_neighbors=13, score=0.920, total=   0.8s\n",
            "[CV] algorithm=kd_tree, leaf_size=25, n_neighbors=3 ..................\n",
            "[CV]  algorithm=kd_tree, leaf_size=25, n_neighbors=3, score=0.940, total=   0.6s\n",
            "[CV] algorithm=kd_tree, leaf_size=25, n_neighbors=3 ..................\n",
            "[CV]  algorithm=kd_tree, leaf_size=25, n_neighbors=3, score=0.944, total=   0.6s\n",
            "[CV] algorithm=kd_tree, leaf_size=25, n_neighbors=3 ..................\n",
            "[CV]  algorithm=kd_tree, leaf_size=25, n_neighbors=3, score=0.940, total=   0.6s\n",
            "[CV] algorithm=kd_tree, leaf_size=25, n_neighbors=3 ..................\n",
            "[CV]  algorithm=kd_tree, leaf_size=25, n_neighbors=3, score=0.939, total=   0.6s\n",
            "[CV] algorithm=kd_tree, leaf_size=25, n_neighbors=3 ..................\n",
            "[CV]  algorithm=kd_tree, leaf_size=25, n_neighbors=3, score=0.940, total=   0.6s\n",
            "[CV] algorithm=kd_tree, leaf_size=25, n_neighbors=5 ..................\n",
            "[CV]  algorithm=kd_tree, leaf_size=25, n_neighbors=5, score=0.939, total=   0.6s\n",
            "[CV] algorithm=kd_tree, leaf_size=25, n_neighbors=5 ..................\n",
            "[CV]  algorithm=kd_tree, leaf_size=25, n_neighbors=5, score=0.939, total=   0.6s\n",
            "[CV] algorithm=kd_tree, leaf_size=25, n_neighbors=5 ..................\n",
            "[CV]  algorithm=kd_tree, leaf_size=25, n_neighbors=5, score=0.931, total=   0.6s\n",
            "[CV] algorithm=kd_tree, leaf_size=25, n_neighbors=5 ..................\n",
            "[CV]  algorithm=kd_tree, leaf_size=25, n_neighbors=5, score=0.937, total=   0.6s\n",
            "[CV] algorithm=kd_tree, leaf_size=25, n_neighbors=5 ..................\n",
            "[CV]  algorithm=kd_tree, leaf_size=25, n_neighbors=5, score=0.935, total=   0.6s\n",
            "[CV] algorithm=kd_tree, leaf_size=25, n_neighbors=7 ..................\n",
            "[CV]  algorithm=kd_tree, leaf_size=25, n_neighbors=7, score=0.933, total=   0.7s\n",
            "[CV] algorithm=kd_tree, leaf_size=25, n_neighbors=7 ..................\n",
            "[CV]  algorithm=kd_tree, leaf_size=25, n_neighbors=7, score=0.938, total=   0.7s\n",
            "[CV] algorithm=kd_tree, leaf_size=25, n_neighbors=7 ..................\n",
            "[CV]  algorithm=kd_tree, leaf_size=25, n_neighbors=7, score=0.932, total=   0.7s\n",
            "[CV] algorithm=kd_tree, leaf_size=25, n_neighbors=7 ..................\n",
            "[CV]  algorithm=kd_tree, leaf_size=25, n_neighbors=7, score=0.929, total=   0.7s\n",
            "[CV] algorithm=kd_tree, leaf_size=25, n_neighbors=7 ..................\n",
            "[CV]  algorithm=kd_tree, leaf_size=25, n_neighbors=7, score=0.926, total=   0.6s\n",
            "[CV] algorithm=kd_tree, leaf_size=25, n_neighbors=9 ..................\n",
            "[CV]  algorithm=kd_tree, leaf_size=25, n_neighbors=9, score=0.931, total=   0.6s\n",
            "[CV] algorithm=kd_tree, leaf_size=25, n_neighbors=9 ..................\n",
            "[CV]  algorithm=kd_tree, leaf_size=25, n_neighbors=9, score=0.938, total=   0.6s\n",
            "[CV] algorithm=kd_tree, leaf_size=25, n_neighbors=9 ..................\n",
            "[CV]  algorithm=kd_tree, leaf_size=25, n_neighbors=9, score=0.930, total=   0.6s\n",
            "[CV] algorithm=kd_tree, leaf_size=25, n_neighbors=9 ..................\n",
            "[CV]  algorithm=kd_tree, leaf_size=25, n_neighbors=9, score=0.936, total=   0.6s\n",
            "[CV] algorithm=kd_tree, leaf_size=25, n_neighbors=9 ..................\n",
            "[CV]  algorithm=kd_tree, leaf_size=25, n_neighbors=9, score=0.930, total=   0.6s\n",
            "[CV] algorithm=kd_tree, leaf_size=25, n_neighbors=10 .................\n",
            "[CV]  algorithm=kd_tree, leaf_size=25, n_neighbors=10, score=0.929, total=   0.6s\n",
            "[CV] algorithm=kd_tree, leaf_size=25, n_neighbors=10 .................\n",
            "[CV]  algorithm=kd_tree, leaf_size=25, n_neighbors=10, score=0.935, total=   0.6s\n",
            "[CV] algorithm=kd_tree, leaf_size=25, n_neighbors=10 .................\n",
            "[CV]  algorithm=kd_tree, leaf_size=25, n_neighbors=10, score=0.932, total=   0.6s\n",
            "[CV] algorithm=kd_tree, leaf_size=25, n_neighbors=10 .................\n",
            "[CV]  algorithm=kd_tree, leaf_size=25, n_neighbors=10, score=0.930, total=   0.6s\n",
            "[CV] algorithm=kd_tree, leaf_size=25, n_neighbors=10 .................\n",
            "[CV]  algorithm=kd_tree, leaf_size=25, n_neighbors=10, score=0.922, total=   0.6s\n",
            "[CV] algorithm=kd_tree, leaf_size=25, n_neighbors=11 .................\n",
            "[CV]  algorithm=kd_tree, leaf_size=25, n_neighbors=11, score=0.931, total=   0.7s\n",
            "[CV] algorithm=kd_tree, leaf_size=25, n_neighbors=11 .................\n",
            "[CV]  algorithm=kd_tree, leaf_size=25, n_neighbors=11, score=0.941, total=   0.6s\n",
            "[CV] algorithm=kd_tree, leaf_size=25, n_neighbors=11 .................\n",
            "[CV]  algorithm=kd_tree, leaf_size=25, n_neighbors=11, score=0.928, total=   0.6s\n",
            "[CV] algorithm=kd_tree, leaf_size=25, n_neighbors=11 .................\n",
            "[CV]  algorithm=kd_tree, leaf_size=25, n_neighbors=11, score=0.936, total=   0.6s\n",
            "[CV] algorithm=kd_tree, leaf_size=25, n_neighbors=11 .................\n",
            "[CV]  algorithm=kd_tree, leaf_size=25, n_neighbors=11, score=0.923, total=   0.6s\n",
            "[CV] algorithm=kd_tree, leaf_size=25, n_neighbors=12 .................\n",
            "[CV]  algorithm=kd_tree, leaf_size=25, n_neighbors=12, score=0.928, total=   0.6s\n",
            "[CV] algorithm=kd_tree, leaf_size=25, n_neighbors=12 .................\n",
            "[CV]  algorithm=kd_tree, leaf_size=25, n_neighbors=12, score=0.939, total=   0.6s\n",
            "[CV] algorithm=kd_tree, leaf_size=25, n_neighbors=12 .................\n",
            "[CV]  algorithm=kd_tree, leaf_size=25, n_neighbors=12, score=0.930, total=   0.6s\n",
            "[CV] algorithm=kd_tree, leaf_size=25, n_neighbors=12 .................\n",
            "[CV]  algorithm=kd_tree, leaf_size=25, n_neighbors=12, score=0.933, total=   0.6s\n",
            "[CV] algorithm=kd_tree, leaf_size=25, n_neighbors=12 .................\n",
            "[CV]  algorithm=kd_tree, leaf_size=25, n_neighbors=12, score=0.918, total=   0.6s\n",
            "[CV] algorithm=kd_tree, leaf_size=25, n_neighbors=13 .................\n",
            "[CV]  algorithm=kd_tree, leaf_size=25, n_neighbors=13, score=0.927, total=   0.6s\n",
            "[CV] algorithm=kd_tree, leaf_size=25, n_neighbors=13 .................\n",
            "[CV]  algorithm=kd_tree, leaf_size=25, n_neighbors=13, score=0.941, total=   0.6s\n",
            "[CV] algorithm=kd_tree, leaf_size=25, n_neighbors=13 .................\n",
            "[CV]  algorithm=kd_tree, leaf_size=25, n_neighbors=13, score=0.927, total=   0.6s\n",
            "[CV] algorithm=kd_tree, leaf_size=25, n_neighbors=13 .................\n",
            "[CV]  algorithm=kd_tree, leaf_size=25, n_neighbors=13, score=0.938, total=   0.7s\n",
            "[CV] algorithm=kd_tree, leaf_size=25, n_neighbors=13 .................\n",
            "[CV]  algorithm=kd_tree, leaf_size=25, n_neighbors=13, score=0.921, total=   0.6s\n",
            "[CV] algorithm=kd_tree, leaf_size=27, n_neighbors=3 ..................\n",
            "[CV]  algorithm=kd_tree, leaf_size=27, n_neighbors=3, score=0.940, total=   0.6s\n",
            "[CV] algorithm=kd_tree, leaf_size=27, n_neighbors=3 ..................\n",
            "[CV]  algorithm=kd_tree, leaf_size=27, n_neighbors=3, score=0.944, total=   0.6s\n",
            "[CV] algorithm=kd_tree, leaf_size=27, n_neighbors=3 ..................\n",
            "[CV]  algorithm=kd_tree, leaf_size=27, n_neighbors=3, score=0.940, total=   0.6s\n",
            "[CV] algorithm=kd_tree, leaf_size=27, n_neighbors=3 ..................\n",
            "[CV]  algorithm=kd_tree, leaf_size=27, n_neighbors=3, score=0.939, total=   0.6s\n",
            "[CV] algorithm=kd_tree, leaf_size=27, n_neighbors=3 ..................\n",
            "[CV]  algorithm=kd_tree, leaf_size=27, n_neighbors=3, score=0.940, total=   0.6s\n",
            "[CV] algorithm=kd_tree, leaf_size=27, n_neighbors=5 ..................\n",
            "[CV]  algorithm=kd_tree, leaf_size=27, n_neighbors=5, score=0.939, total=   0.6s\n",
            "[CV] algorithm=kd_tree, leaf_size=27, n_neighbors=5 ..................\n",
            "[CV]  algorithm=kd_tree, leaf_size=27, n_neighbors=5, score=0.939, total=   0.6s\n",
            "[CV] algorithm=kd_tree, leaf_size=27, n_neighbors=5 ..................\n",
            "[CV]  algorithm=kd_tree, leaf_size=27, n_neighbors=5, score=0.931, total=   0.6s\n",
            "[CV] algorithm=kd_tree, leaf_size=27, n_neighbors=5 ..................\n",
            "[CV]  algorithm=kd_tree, leaf_size=27, n_neighbors=5, score=0.937, total=   0.6s\n",
            "[CV] algorithm=kd_tree, leaf_size=27, n_neighbors=5 ..................\n",
            "[CV]  algorithm=kd_tree, leaf_size=27, n_neighbors=5, score=0.935, total=   0.6s\n",
            "[CV] algorithm=kd_tree, leaf_size=27, n_neighbors=7 ..................\n",
            "[CV]  algorithm=kd_tree, leaf_size=27, n_neighbors=7, score=0.933, total=   0.7s\n",
            "[CV] algorithm=kd_tree, leaf_size=27, n_neighbors=7 ..................\n",
            "[CV]  algorithm=kd_tree, leaf_size=27, n_neighbors=7, score=0.938, total=   0.6s\n",
            "[CV] algorithm=kd_tree, leaf_size=27, n_neighbors=7 ..................\n",
            "[CV]  algorithm=kd_tree, leaf_size=27, n_neighbors=7, score=0.932, total=   0.6s\n",
            "[CV] algorithm=kd_tree, leaf_size=27, n_neighbors=7 ..................\n",
            "[CV]  algorithm=kd_tree, leaf_size=27, n_neighbors=7, score=0.929, total=   0.6s\n",
            "[CV] algorithm=kd_tree, leaf_size=27, n_neighbors=7 ..................\n",
            "[CV]  algorithm=kd_tree, leaf_size=27, n_neighbors=7, score=0.926, total=   0.6s\n",
            "[CV] algorithm=kd_tree, leaf_size=27, n_neighbors=9 ..................\n",
            "[CV]  algorithm=kd_tree, leaf_size=27, n_neighbors=9, score=0.931, total=   0.6s\n",
            "[CV] algorithm=kd_tree, leaf_size=27, n_neighbors=9 ..................\n",
            "[CV]  algorithm=kd_tree, leaf_size=27, n_neighbors=9, score=0.938, total=   0.6s\n",
            "[CV] algorithm=kd_tree, leaf_size=27, n_neighbors=9 ..................\n",
            "[CV]  algorithm=kd_tree, leaf_size=27, n_neighbors=9, score=0.930, total=   0.6s\n",
            "[CV] algorithm=kd_tree, leaf_size=27, n_neighbors=9 ..................\n",
            "[CV]  algorithm=kd_tree, leaf_size=27, n_neighbors=9, score=0.936, total=   0.6s\n",
            "[CV] algorithm=kd_tree, leaf_size=27, n_neighbors=9 ..................\n",
            "[CV]  algorithm=kd_tree, leaf_size=27, n_neighbors=9, score=0.930, total=   0.6s\n",
            "[CV] algorithm=kd_tree, leaf_size=27, n_neighbors=10 .................\n",
            "[CV]  algorithm=kd_tree, leaf_size=27, n_neighbors=10, score=0.929, total=   0.6s\n",
            "[CV] algorithm=kd_tree, leaf_size=27, n_neighbors=10 .................\n",
            "[CV]  algorithm=kd_tree, leaf_size=27, n_neighbors=10, score=0.935, total=   0.6s\n",
            "[CV] algorithm=kd_tree, leaf_size=27, n_neighbors=10 .................\n",
            "[CV]  algorithm=kd_tree, leaf_size=27, n_neighbors=10, score=0.932, total=   0.7s\n",
            "[CV] algorithm=kd_tree, leaf_size=27, n_neighbors=10 .................\n",
            "[CV]  algorithm=kd_tree, leaf_size=27, n_neighbors=10, score=0.930, total=   0.6s\n",
            "[CV] algorithm=kd_tree, leaf_size=27, n_neighbors=10 .................\n",
            "[CV]  algorithm=kd_tree, leaf_size=27, n_neighbors=10, score=0.922, total=   0.6s\n",
            "[CV] algorithm=kd_tree, leaf_size=27, n_neighbors=11 .................\n",
            "[CV]  algorithm=kd_tree, leaf_size=27, n_neighbors=11, score=0.931, total=   0.6s\n",
            "[CV] algorithm=kd_tree, leaf_size=27, n_neighbors=11 .................\n",
            "[CV]  algorithm=kd_tree, leaf_size=27, n_neighbors=11, score=0.941, total=   0.6s\n",
            "[CV] algorithm=kd_tree, leaf_size=27, n_neighbors=11 .................\n",
            "[CV]  algorithm=kd_tree, leaf_size=27, n_neighbors=11, score=0.928, total=   0.6s\n",
            "[CV] algorithm=kd_tree, leaf_size=27, n_neighbors=11 .................\n",
            "[CV]  algorithm=kd_tree, leaf_size=27, n_neighbors=11, score=0.936, total=   0.6s\n",
            "[CV] algorithm=kd_tree, leaf_size=27, n_neighbors=11 .................\n",
            "[CV]  algorithm=kd_tree, leaf_size=27, n_neighbors=11, score=0.923, total=   0.6s\n",
            "[CV] algorithm=kd_tree, leaf_size=27, n_neighbors=12 .................\n",
            "[CV]  algorithm=kd_tree, leaf_size=27, n_neighbors=12, score=0.928, total=   0.6s\n",
            "[CV] algorithm=kd_tree, leaf_size=27, n_neighbors=12 .................\n",
            "[CV]  algorithm=kd_tree, leaf_size=27, n_neighbors=12, score=0.939, total=   0.6s\n",
            "[CV] algorithm=kd_tree, leaf_size=27, n_neighbors=12 .................\n",
            "[CV]  algorithm=kd_tree, leaf_size=27, n_neighbors=12, score=0.930, total=   0.6s\n",
            "[CV] algorithm=kd_tree, leaf_size=27, n_neighbors=12 .................\n",
            "[CV]  algorithm=kd_tree, leaf_size=27, n_neighbors=12, score=0.933, total=   0.6s\n",
            "[CV] algorithm=kd_tree, leaf_size=27, n_neighbors=12 .................\n",
            "[CV]  algorithm=kd_tree, leaf_size=27, n_neighbors=12, score=0.918, total=   0.6s\n",
            "[CV] algorithm=kd_tree, leaf_size=27, n_neighbors=13 .................\n",
            "[CV]  algorithm=kd_tree, leaf_size=27, n_neighbors=13, score=0.927, total=   0.6s\n",
            "[CV] algorithm=kd_tree, leaf_size=27, n_neighbors=13 .................\n",
            "[CV]  algorithm=kd_tree, leaf_size=27, n_neighbors=13, score=0.941, total=   0.6s\n",
            "[CV] algorithm=kd_tree, leaf_size=27, n_neighbors=13 .................\n",
            "[CV]  algorithm=kd_tree, leaf_size=27, n_neighbors=13, score=0.927, total=   0.6s\n",
            "[CV] algorithm=kd_tree, leaf_size=27, n_neighbors=13 .................\n",
            "[CV]  algorithm=kd_tree, leaf_size=27, n_neighbors=13, score=0.938, total=   0.6s\n",
            "[CV] algorithm=kd_tree, leaf_size=27, n_neighbors=13 .................\n",
            "[CV]  algorithm=kd_tree, leaf_size=27, n_neighbors=13, score=0.921, total=   0.6s\n",
            "[CV] algorithm=kd_tree, leaf_size=30, n_neighbors=3 ..................\n",
            "[CV]  algorithm=kd_tree, leaf_size=30, n_neighbors=3, score=0.940, total=   0.6s\n",
            "[CV] algorithm=kd_tree, leaf_size=30, n_neighbors=3 ..................\n",
            "[CV]  algorithm=kd_tree, leaf_size=30, n_neighbors=3, score=0.944, total=   0.6s\n",
            "[CV] algorithm=kd_tree, leaf_size=30, n_neighbors=3 ..................\n",
            "[CV]  algorithm=kd_tree, leaf_size=30, n_neighbors=3, score=0.940, total=   0.6s\n",
            "[CV] algorithm=kd_tree, leaf_size=30, n_neighbors=3 ..................\n",
            "[CV]  algorithm=kd_tree, leaf_size=30, n_neighbors=3, score=0.939, total=   0.6s\n",
            "[CV] algorithm=kd_tree, leaf_size=30, n_neighbors=3 ..................\n",
            "[CV]  algorithm=kd_tree, leaf_size=30, n_neighbors=3, score=0.940, total=   0.6s\n",
            "[CV] algorithm=kd_tree, leaf_size=30, n_neighbors=5 ..................\n",
            "[CV]  algorithm=kd_tree, leaf_size=30, n_neighbors=5, score=0.939, total=   0.6s\n",
            "[CV] algorithm=kd_tree, leaf_size=30, n_neighbors=5 ..................\n",
            "[CV]  algorithm=kd_tree, leaf_size=30, n_neighbors=5, score=0.939, total=   0.6s\n",
            "[CV] algorithm=kd_tree, leaf_size=30, n_neighbors=5 ..................\n",
            "[CV]  algorithm=kd_tree, leaf_size=30, n_neighbors=5, score=0.931, total=   0.6s\n",
            "[CV] algorithm=kd_tree, leaf_size=30, n_neighbors=5 ..................\n",
            "[CV]  algorithm=kd_tree, leaf_size=30, n_neighbors=5, score=0.937, total=   0.6s\n",
            "[CV] algorithm=kd_tree, leaf_size=30, n_neighbors=5 ..................\n",
            "[CV]  algorithm=kd_tree, leaf_size=30, n_neighbors=5, score=0.935, total=   0.6s\n",
            "[CV] algorithm=kd_tree, leaf_size=30, n_neighbors=7 ..................\n",
            "[CV]  algorithm=kd_tree, leaf_size=30, n_neighbors=7, score=0.933, total=   0.6s\n",
            "[CV] algorithm=kd_tree, leaf_size=30, n_neighbors=7 ..................\n",
            "[CV]  algorithm=kd_tree, leaf_size=30, n_neighbors=7, score=0.938, total=   0.6s\n",
            "[CV] algorithm=kd_tree, leaf_size=30, n_neighbors=7 ..................\n",
            "[CV]  algorithm=kd_tree, leaf_size=30, n_neighbors=7, score=0.932, total=   0.6s\n",
            "[CV] algorithm=kd_tree, leaf_size=30, n_neighbors=7 ..................\n",
            "[CV]  algorithm=kd_tree, leaf_size=30, n_neighbors=7, score=0.929, total=   0.6s\n",
            "[CV] algorithm=kd_tree, leaf_size=30, n_neighbors=7 ..................\n",
            "[CV]  algorithm=kd_tree, leaf_size=30, n_neighbors=7, score=0.926, total=   0.6s\n",
            "[CV] algorithm=kd_tree, leaf_size=30, n_neighbors=9 ..................\n",
            "[CV]  algorithm=kd_tree, leaf_size=30, n_neighbors=9, score=0.931, total=   0.6s\n",
            "[CV] algorithm=kd_tree, leaf_size=30, n_neighbors=9 ..................\n",
            "[CV]  algorithm=kd_tree, leaf_size=30, n_neighbors=9, score=0.938, total=   0.6s\n",
            "[CV] algorithm=kd_tree, leaf_size=30, n_neighbors=9 ..................\n",
            "[CV]  algorithm=kd_tree, leaf_size=30, n_neighbors=9, score=0.930, total=   0.6s\n",
            "[CV] algorithm=kd_tree, leaf_size=30, n_neighbors=9 ..................\n",
            "[CV]  algorithm=kd_tree, leaf_size=30, n_neighbors=9, score=0.936, total=   0.6s\n",
            "[CV] algorithm=kd_tree, leaf_size=30, n_neighbors=9 ..................\n",
            "[CV]  algorithm=kd_tree, leaf_size=30, n_neighbors=9, score=0.930, total=   0.6s\n",
            "[CV] algorithm=kd_tree, leaf_size=30, n_neighbors=10 .................\n",
            "[CV]  algorithm=kd_tree, leaf_size=30, n_neighbors=10, score=0.929, total=   0.6s\n",
            "[CV] algorithm=kd_tree, leaf_size=30, n_neighbors=10 .................\n",
            "[CV]  algorithm=kd_tree, leaf_size=30, n_neighbors=10, score=0.935, total=   0.6s\n",
            "[CV] algorithm=kd_tree, leaf_size=30, n_neighbors=10 .................\n",
            "[CV]  algorithm=kd_tree, leaf_size=30, n_neighbors=10, score=0.932, total=   0.6s\n",
            "[CV] algorithm=kd_tree, leaf_size=30, n_neighbors=10 .................\n",
            "[CV]  algorithm=kd_tree, leaf_size=30, n_neighbors=10, score=0.930, total=   0.6s\n",
            "[CV] algorithm=kd_tree, leaf_size=30, n_neighbors=10 .................\n",
            "[CV]  algorithm=kd_tree, leaf_size=30, n_neighbors=10, score=0.922, total=   0.6s\n",
            "[CV] algorithm=kd_tree, leaf_size=30, n_neighbors=11 .................\n",
            "[CV]  algorithm=kd_tree, leaf_size=30, n_neighbors=11, score=0.931, total=   0.6s\n",
            "[CV] algorithm=kd_tree, leaf_size=30, n_neighbors=11 .................\n",
            "[CV]  algorithm=kd_tree, leaf_size=30, n_neighbors=11, score=0.941, total=   0.6s\n",
            "[CV] algorithm=kd_tree, leaf_size=30, n_neighbors=11 .................\n",
            "[CV]  algorithm=kd_tree, leaf_size=30, n_neighbors=11, score=0.928, total=   0.6s\n",
            "[CV] algorithm=kd_tree, leaf_size=30, n_neighbors=11 .................\n",
            "[CV]  algorithm=kd_tree, leaf_size=30, n_neighbors=11, score=0.936, total=   0.6s\n",
            "[CV] algorithm=kd_tree, leaf_size=30, n_neighbors=11 .................\n",
            "[CV]  algorithm=kd_tree, leaf_size=30, n_neighbors=11, score=0.923, total=   0.6s\n",
            "[CV] algorithm=kd_tree, leaf_size=30, n_neighbors=12 .................\n",
            "[CV]  algorithm=kd_tree, leaf_size=30, n_neighbors=12, score=0.928, total=   0.6s\n",
            "[CV] algorithm=kd_tree, leaf_size=30, n_neighbors=12 .................\n",
            "[CV]  algorithm=kd_tree, leaf_size=30, n_neighbors=12, score=0.939, total=   0.6s\n",
            "[CV] algorithm=kd_tree, leaf_size=30, n_neighbors=12 .................\n",
            "[CV]  algorithm=kd_tree, leaf_size=30, n_neighbors=12, score=0.930, total=   0.6s\n",
            "[CV] algorithm=kd_tree, leaf_size=30, n_neighbors=12 .................\n",
            "[CV]  algorithm=kd_tree, leaf_size=30, n_neighbors=12, score=0.933, total=   0.6s\n",
            "[CV] algorithm=kd_tree, leaf_size=30, n_neighbors=12 .................\n",
            "[CV]  algorithm=kd_tree, leaf_size=30, n_neighbors=12, score=0.918, total=   0.6s\n",
            "[CV] algorithm=kd_tree, leaf_size=30, n_neighbors=13 .................\n",
            "[CV]  algorithm=kd_tree, leaf_size=30, n_neighbors=13, score=0.927, total=   0.6s\n",
            "[CV] algorithm=kd_tree, leaf_size=30, n_neighbors=13 .................\n",
            "[CV]  algorithm=kd_tree, leaf_size=30, n_neighbors=13, score=0.941, total=   0.6s\n",
            "[CV] algorithm=kd_tree, leaf_size=30, n_neighbors=13 .................\n",
            "[CV]  algorithm=kd_tree, leaf_size=30, n_neighbors=13, score=0.927, total=   0.6s\n",
            "[CV] algorithm=kd_tree, leaf_size=30, n_neighbors=13 .................\n",
            "[CV]  algorithm=kd_tree, leaf_size=30, n_neighbors=13, score=0.938, total=   0.6s\n",
            "[CV] algorithm=kd_tree, leaf_size=30, n_neighbors=13 .................\n",
            "[CV]  algorithm=kd_tree, leaf_size=30, n_neighbors=13, score=0.921, total=   0.6s\n",
            "[CV] algorithm=kd_tree, leaf_size=32, n_neighbors=3 ..................\n",
            "[CV]  algorithm=kd_tree, leaf_size=32, n_neighbors=3, score=0.940, total=   0.6s\n",
            "[CV] algorithm=kd_tree, leaf_size=32, n_neighbors=3 ..................\n",
            "[CV]  algorithm=kd_tree, leaf_size=32, n_neighbors=3, score=0.944, total=   0.6s\n",
            "[CV] algorithm=kd_tree, leaf_size=32, n_neighbors=3 ..................\n",
            "[CV]  algorithm=kd_tree, leaf_size=32, n_neighbors=3, score=0.940, total=   0.6s\n",
            "[CV] algorithm=kd_tree, leaf_size=32, n_neighbors=3 ..................\n",
            "[CV]  algorithm=kd_tree, leaf_size=32, n_neighbors=3, score=0.939, total=   0.6s\n",
            "[CV] algorithm=kd_tree, leaf_size=32, n_neighbors=3 ..................\n",
            "[CV]  algorithm=kd_tree, leaf_size=32, n_neighbors=3, score=0.940, total=   0.6s\n",
            "[CV] algorithm=kd_tree, leaf_size=32, n_neighbors=5 ..................\n",
            "[CV]  algorithm=kd_tree, leaf_size=32, n_neighbors=5, score=0.939, total=   0.6s\n",
            "[CV] algorithm=kd_tree, leaf_size=32, n_neighbors=5 ..................\n",
            "[CV]  algorithm=kd_tree, leaf_size=32, n_neighbors=5, score=0.939, total=   0.6s\n",
            "[CV] algorithm=kd_tree, leaf_size=32, n_neighbors=5 ..................\n",
            "[CV]  algorithm=kd_tree, leaf_size=32, n_neighbors=5, score=0.931, total=   0.6s\n",
            "[CV] algorithm=kd_tree, leaf_size=32, n_neighbors=5 ..................\n",
            "[CV]  algorithm=kd_tree, leaf_size=32, n_neighbors=5, score=0.937, total=   0.6s\n",
            "[CV] algorithm=kd_tree, leaf_size=32, n_neighbors=5 ..................\n",
            "[CV]  algorithm=kd_tree, leaf_size=32, n_neighbors=5, score=0.935, total=   0.6s\n",
            "[CV] algorithm=kd_tree, leaf_size=32, n_neighbors=7 ..................\n",
            "[CV]  algorithm=kd_tree, leaf_size=32, n_neighbors=7, score=0.933, total=   0.6s\n",
            "[CV] algorithm=kd_tree, leaf_size=32, n_neighbors=7 ..................\n",
            "[CV]  algorithm=kd_tree, leaf_size=32, n_neighbors=7, score=0.938, total=   0.6s\n",
            "[CV] algorithm=kd_tree, leaf_size=32, n_neighbors=7 ..................\n",
            "[CV]  algorithm=kd_tree, leaf_size=32, n_neighbors=7, score=0.932, total=   0.6s\n",
            "[CV] algorithm=kd_tree, leaf_size=32, n_neighbors=7 ..................\n",
            "[CV]  algorithm=kd_tree, leaf_size=32, n_neighbors=7, score=0.929, total=   0.6s\n",
            "[CV] algorithm=kd_tree, leaf_size=32, n_neighbors=7 ..................\n",
            "[CV]  algorithm=kd_tree, leaf_size=32, n_neighbors=7, score=0.926, total=   0.6s\n",
            "[CV] algorithm=kd_tree, leaf_size=32, n_neighbors=9 ..................\n",
            "[CV]  algorithm=kd_tree, leaf_size=32, n_neighbors=9, score=0.931, total=   0.6s\n",
            "[CV] algorithm=kd_tree, leaf_size=32, n_neighbors=9 ..................\n",
            "[CV]  algorithm=kd_tree, leaf_size=32, n_neighbors=9, score=0.938, total=   0.6s\n",
            "[CV] algorithm=kd_tree, leaf_size=32, n_neighbors=9 ..................\n",
            "[CV]  algorithm=kd_tree, leaf_size=32, n_neighbors=9, score=0.930, total=   0.6s\n",
            "[CV] algorithm=kd_tree, leaf_size=32, n_neighbors=9 ..................\n",
            "[CV]  algorithm=kd_tree, leaf_size=32, n_neighbors=9, score=0.936, total=   0.6s\n",
            "[CV] algorithm=kd_tree, leaf_size=32, n_neighbors=9 ..................\n",
            "[CV]  algorithm=kd_tree, leaf_size=32, n_neighbors=9, score=0.930, total=   0.6s\n",
            "[CV] algorithm=kd_tree, leaf_size=32, n_neighbors=10 .................\n",
            "[CV]  algorithm=kd_tree, leaf_size=32, n_neighbors=10, score=0.929, total=   0.6s\n",
            "[CV] algorithm=kd_tree, leaf_size=32, n_neighbors=10 .................\n",
            "[CV]  algorithm=kd_tree, leaf_size=32, n_neighbors=10, score=0.935, total=   0.6s\n",
            "[CV] algorithm=kd_tree, leaf_size=32, n_neighbors=10 .................\n",
            "[CV]  algorithm=kd_tree, leaf_size=32, n_neighbors=10, score=0.932, total=   0.6s\n",
            "[CV] algorithm=kd_tree, leaf_size=32, n_neighbors=10 .................\n",
            "[CV]  algorithm=kd_tree, leaf_size=32, n_neighbors=10, score=0.930, total=   0.6s\n",
            "[CV] algorithm=kd_tree, leaf_size=32, n_neighbors=10 .................\n",
            "[CV]  algorithm=kd_tree, leaf_size=32, n_neighbors=10, score=0.922, total=   0.6s\n",
            "[CV] algorithm=kd_tree, leaf_size=32, n_neighbors=11 .................\n",
            "[CV]  algorithm=kd_tree, leaf_size=32, n_neighbors=11, score=0.931, total=   0.6s\n",
            "[CV] algorithm=kd_tree, leaf_size=32, n_neighbors=11 .................\n",
            "[CV]  algorithm=kd_tree, leaf_size=32, n_neighbors=11, score=0.941, total=   0.6s\n",
            "[CV] algorithm=kd_tree, leaf_size=32, n_neighbors=11 .................\n",
            "[CV]  algorithm=kd_tree, leaf_size=32, n_neighbors=11, score=0.928, total=   0.6s\n",
            "[CV] algorithm=kd_tree, leaf_size=32, n_neighbors=11 .................\n",
            "[CV]  algorithm=kd_tree, leaf_size=32, n_neighbors=11, score=0.936, total=   0.6s\n",
            "[CV] algorithm=kd_tree, leaf_size=32, n_neighbors=11 .................\n",
            "[CV]  algorithm=kd_tree, leaf_size=32, n_neighbors=11, score=0.923, total=   0.6s\n",
            "[CV] algorithm=kd_tree, leaf_size=32, n_neighbors=12 .................\n",
            "[CV]  algorithm=kd_tree, leaf_size=32, n_neighbors=12, score=0.928, total=   0.6s\n",
            "[CV] algorithm=kd_tree, leaf_size=32, n_neighbors=12 .................\n",
            "[CV]  algorithm=kd_tree, leaf_size=32, n_neighbors=12, score=0.939, total=   0.6s\n",
            "[CV] algorithm=kd_tree, leaf_size=32, n_neighbors=12 .................\n",
            "[CV]  algorithm=kd_tree, leaf_size=32, n_neighbors=12, score=0.930, total=   0.6s\n",
            "[CV] algorithm=kd_tree, leaf_size=32, n_neighbors=12 .................\n",
            "[CV]  algorithm=kd_tree, leaf_size=32, n_neighbors=12, score=0.933, total=   0.6s\n",
            "[CV] algorithm=kd_tree, leaf_size=32, n_neighbors=12 .................\n",
            "[CV]  algorithm=kd_tree, leaf_size=32, n_neighbors=12, score=0.918, total=   0.6s\n",
            "[CV] algorithm=kd_tree, leaf_size=32, n_neighbors=13 .................\n",
            "[CV]  algorithm=kd_tree, leaf_size=32, n_neighbors=13, score=0.927, total=   0.6s\n",
            "[CV] algorithm=kd_tree, leaf_size=32, n_neighbors=13 .................\n",
            "[CV]  algorithm=kd_tree, leaf_size=32, n_neighbors=13, score=0.941, total=   0.6s\n",
            "[CV] algorithm=kd_tree, leaf_size=32, n_neighbors=13 .................\n",
            "[CV]  algorithm=kd_tree, leaf_size=32, n_neighbors=13, score=0.927, total=   0.6s\n",
            "[CV] algorithm=kd_tree, leaf_size=32, n_neighbors=13 .................\n",
            "[CV]  algorithm=kd_tree, leaf_size=32, n_neighbors=13, score=0.938, total=   0.6s\n",
            "[CV] algorithm=kd_tree, leaf_size=32, n_neighbors=13 .................\n",
            "[CV]  algorithm=kd_tree, leaf_size=32, n_neighbors=13, score=0.921, total=   0.6s\n",
            "[CV] algorithm=kd_tree, leaf_size=34, n_neighbors=3 ..................\n",
            "[CV]  algorithm=kd_tree, leaf_size=34, n_neighbors=3, score=0.940, total=   0.6s\n",
            "[CV] algorithm=kd_tree, leaf_size=34, n_neighbors=3 ..................\n",
            "[CV]  algorithm=kd_tree, leaf_size=34, n_neighbors=3, score=0.944, total=   0.6s\n",
            "[CV] algorithm=kd_tree, leaf_size=34, n_neighbors=3 ..................\n",
            "[CV]  algorithm=kd_tree, leaf_size=34, n_neighbors=3, score=0.940, total=   0.6s\n",
            "[CV] algorithm=kd_tree, leaf_size=34, n_neighbors=3 ..................\n",
            "[CV]  algorithm=kd_tree, leaf_size=34, n_neighbors=3, score=0.939, total=   0.6s\n",
            "[CV] algorithm=kd_tree, leaf_size=34, n_neighbors=3 ..................\n",
            "[CV]  algorithm=kd_tree, leaf_size=34, n_neighbors=3, score=0.940, total=   0.6s\n",
            "[CV] algorithm=kd_tree, leaf_size=34, n_neighbors=5 ..................\n",
            "[CV]  algorithm=kd_tree, leaf_size=34, n_neighbors=5, score=0.939, total=   0.6s\n",
            "[CV] algorithm=kd_tree, leaf_size=34, n_neighbors=5 ..................\n",
            "[CV]  algorithm=kd_tree, leaf_size=34, n_neighbors=5, score=0.939, total=   0.6s\n",
            "[CV] algorithm=kd_tree, leaf_size=34, n_neighbors=5 ..................\n",
            "[CV]  algorithm=kd_tree, leaf_size=34, n_neighbors=5, score=0.931, total=   0.6s\n",
            "[CV] algorithm=kd_tree, leaf_size=34, n_neighbors=5 ..................\n",
            "[CV]  algorithm=kd_tree, leaf_size=34, n_neighbors=5, score=0.937, total=   0.6s\n",
            "[CV] algorithm=kd_tree, leaf_size=34, n_neighbors=5 ..................\n",
            "[CV]  algorithm=kd_tree, leaf_size=34, n_neighbors=5, score=0.935, total=   0.6s\n",
            "[CV] algorithm=kd_tree, leaf_size=34, n_neighbors=7 ..................\n",
            "[CV]  algorithm=kd_tree, leaf_size=34, n_neighbors=7, score=0.933, total=   0.6s\n",
            "[CV] algorithm=kd_tree, leaf_size=34, n_neighbors=7 ..................\n",
            "[CV]  algorithm=kd_tree, leaf_size=34, n_neighbors=7, score=0.938, total=   0.6s\n",
            "[CV] algorithm=kd_tree, leaf_size=34, n_neighbors=7 ..................\n",
            "[CV]  algorithm=kd_tree, leaf_size=34, n_neighbors=7, score=0.932, total=   0.6s\n",
            "[CV] algorithm=kd_tree, leaf_size=34, n_neighbors=7 ..................\n",
            "[CV]  algorithm=kd_tree, leaf_size=34, n_neighbors=7, score=0.929, total=   0.6s\n",
            "[CV] algorithm=kd_tree, leaf_size=34, n_neighbors=7 ..................\n",
            "[CV]  algorithm=kd_tree, leaf_size=34, n_neighbors=7, score=0.926, total=   0.6s\n",
            "[CV] algorithm=kd_tree, leaf_size=34, n_neighbors=9 ..................\n",
            "[CV]  algorithm=kd_tree, leaf_size=34, n_neighbors=9, score=0.931, total=   0.6s\n",
            "[CV] algorithm=kd_tree, leaf_size=34, n_neighbors=9 ..................\n",
            "[CV]  algorithm=kd_tree, leaf_size=34, n_neighbors=9, score=0.938, total=   0.6s\n",
            "[CV] algorithm=kd_tree, leaf_size=34, n_neighbors=9 ..................\n",
            "[CV]  algorithm=kd_tree, leaf_size=34, n_neighbors=9, score=0.930, total=   0.6s\n",
            "[CV] algorithm=kd_tree, leaf_size=34, n_neighbors=9 ..................\n",
            "[CV]  algorithm=kd_tree, leaf_size=34, n_neighbors=9, score=0.936, total=   0.6s\n",
            "[CV] algorithm=kd_tree, leaf_size=34, n_neighbors=9 ..................\n",
            "[CV]  algorithm=kd_tree, leaf_size=34, n_neighbors=9, score=0.930, total=   0.6s\n",
            "[CV] algorithm=kd_tree, leaf_size=34, n_neighbors=10 .................\n",
            "[CV]  algorithm=kd_tree, leaf_size=34, n_neighbors=10, score=0.929, total=   0.6s\n",
            "[CV] algorithm=kd_tree, leaf_size=34, n_neighbors=10 .................\n",
            "[CV]  algorithm=kd_tree, leaf_size=34, n_neighbors=10, score=0.935, total=   0.6s\n",
            "[CV] algorithm=kd_tree, leaf_size=34, n_neighbors=10 .................\n",
            "[CV]  algorithm=kd_tree, leaf_size=34, n_neighbors=10, score=0.932, total=   0.6s\n",
            "[CV] algorithm=kd_tree, leaf_size=34, n_neighbors=10 .................\n",
            "[CV]  algorithm=kd_tree, leaf_size=34, n_neighbors=10, score=0.930, total=   0.6s\n",
            "[CV] algorithm=kd_tree, leaf_size=34, n_neighbors=10 .................\n",
            "[CV]  algorithm=kd_tree, leaf_size=34, n_neighbors=10, score=0.922, total=   0.6s\n",
            "[CV] algorithm=kd_tree, leaf_size=34, n_neighbors=11 .................\n",
            "[CV]  algorithm=kd_tree, leaf_size=34, n_neighbors=11, score=0.931, total=   0.6s\n",
            "[CV] algorithm=kd_tree, leaf_size=34, n_neighbors=11 .................\n",
            "[CV]  algorithm=kd_tree, leaf_size=34, n_neighbors=11, score=0.941, total=   0.6s\n",
            "[CV] algorithm=kd_tree, leaf_size=34, n_neighbors=11 .................\n",
            "[CV]  algorithm=kd_tree, leaf_size=34, n_neighbors=11, score=0.928, total=   0.6s\n",
            "[CV] algorithm=kd_tree, leaf_size=34, n_neighbors=11 .................\n",
            "[CV]  algorithm=kd_tree, leaf_size=34, n_neighbors=11, score=0.936, total=   0.6s\n",
            "[CV] algorithm=kd_tree, leaf_size=34, n_neighbors=11 .................\n",
            "[CV]  algorithm=kd_tree, leaf_size=34, n_neighbors=11, score=0.923, total=   0.6s\n",
            "[CV] algorithm=kd_tree, leaf_size=34, n_neighbors=12 .................\n",
            "[CV]  algorithm=kd_tree, leaf_size=34, n_neighbors=12, score=0.928, total=   0.6s\n",
            "[CV] algorithm=kd_tree, leaf_size=34, n_neighbors=12 .................\n",
            "[CV]  algorithm=kd_tree, leaf_size=34, n_neighbors=12, score=0.939, total=   0.6s\n",
            "[CV] algorithm=kd_tree, leaf_size=34, n_neighbors=12 .................\n",
            "[CV]  algorithm=kd_tree, leaf_size=34, n_neighbors=12, score=0.930, total=   0.6s\n",
            "[CV] algorithm=kd_tree, leaf_size=34, n_neighbors=12 .................\n",
            "[CV]  algorithm=kd_tree, leaf_size=34, n_neighbors=12, score=0.933, total=   0.6s\n",
            "[CV] algorithm=kd_tree, leaf_size=34, n_neighbors=12 .................\n",
            "[CV]  algorithm=kd_tree, leaf_size=34, n_neighbors=12, score=0.918, total=   0.6s\n",
            "[CV] algorithm=kd_tree, leaf_size=34, n_neighbors=13 .................\n",
            "[CV]  algorithm=kd_tree, leaf_size=34, n_neighbors=13, score=0.927, total=   0.6s\n",
            "[CV] algorithm=kd_tree, leaf_size=34, n_neighbors=13 .................\n",
            "[CV]  algorithm=kd_tree, leaf_size=34, n_neighbors=13, score=0.941, total=   0.6s\n",
            "[CV] algorithm=kd_tree, leaf_size=34, n_neighbors=13 .................\n",
            "[CV]  algorithm=kd_tree, leaf_size=34, n_neighbors=13, score=0.927, total=   0.6s\n",
            "[CV] algorithm=kd_tree, leaf_size=34, n_neighbors=13 .................\n",
            "[CV]  algorithm=kd_tree, leaf_size=34, n_neighbors=13, score=0.938, total=   0.6s\n",
            "[CV] algorithm=kd_tree, leaf_size=34, n_neighbors=13 .................\n",
            "[CV]  algorithm=kd_tree, leaf_size=34, n_neighbors=13, score=0.921, total=   0.6s\n",
            "[CV] algorithm=kd_tree, leaf_size=35, n_neighbors=3 ..................\n",
            "[CV]  algorithm=kd_tree, leaf_size=35, n_neighbors=3, score=0.940, total=   0.6s\n",
            "[CV] algorithm=kd_tree, leaf_size=35, n_neighbors=3 ..................\n",
            "[CV]  algorithm=kd_tree, leaf_size=35, n_neighbors=3, score=0.944, total=   0.6s\n",
            "[CV] algorithm=kd_tree, leaf_size=35, n_neighbors=3 ..................\n",
            "[CV]  algorithm=kd_tree, leaf_size=35, n_neighbors=3, score=0.940, total=   0.6s\n",
            "[CV] algorithm=kd_tree, leaf_size=35, n_neighbors=3 ..................\n",
            "[CV]  algorithm=kd_tree, leaf_size=35, n_neighbors=3, score=0.939, total=   0.6s\n",
            "[CV] algorithm=kd_tree, leaf_size=35, n_neighbors=3 ..................\n",
            "[CV]  algorithm=kd_tree, leaf_size=35, n_neighbors=3, score=0.940, total=   0.6s\n",
            "[CV] algorithm=kd_tree, leaf_size=35, n_neighbors=5 ..................\n",
            "[CV]  algorithm=kd_tree, leaf_size=35, n_neighbors=5, score=0.939, total=   0.6s\n",
            "[CV] algorithm=kd_tree, leaf_size=35, n_neighbors=5 ..................\n",
            "[CV]  algorithm=kd_tree, leaf_size=35, n_neighbors=5, score=0.939, total=   0.6s\n",
            "[CV] algorithm=kd_tree, leaf_size=35, n_neighbors=5 ..................\n",
            "[CV]  algorithm=kd_tree, leaf_size=35, n_neighbors=5, score=0.931, total=   0.6s\n",
            "[CV] algorithm=kd_tree, leaf_size=35, n_neighbors=5 ..................\n",
            "[CV]  algorithm=kd_tree, leaf_size=35, n_neighbors=5, score=0.937, total=   0.7s\n",
            "[CV] algorithm=kd_tree, leaf_size=35, n_neighbors=5 ..................\n",
            "[CV]  algorithm=kd_tree, leaf_size=35, n_neighbors=5, score=0.935, total=   0.7s\n",
            "[CV] algorithm=kd_tree, leaf_size=35, n_neighbors=7 ..................\n",
            "[CV]  algorithm=kd_tree, leaf_size=35, n_neighbors=7, score=0.933, total=   0.6s\n",
            "[CV] algorithm=kd_tree, leaf_size=35, n_neighbors=7 ..................\n",
            "[CV]  algorithm=kd_tree, leaf_size=35, n_neighbors=7, score=0.938, total=   0.6s\n",
            "[CV] algorithm=kd_tree, leaf_size=35, n_neighbors=7 ..................\n",
            "[CV]  algorithm=kd_tree, leaf_size=35, n_neighbors=7, score=0.932, total=   0.6s\n",
            "[CV] algorithm=kd_tree, leaf_size=35, n_neighbors=7 ..................\n",
            "[CV]  algorithm=kd_tree, leaf_size=35, n_neighbors=7, score=0.929, total=   0.6s\n",
            "[CV] algorithm=kd_tree, leaf_size=35, n_neighbors=7 ..................\n",
            "[CV]  algorithm=kd_tree, leaf_size=35, n_neighbors=7, score=0.926, total=   0.6s\n",
            "[CV] algorithm=kd_tree, leaf_size=35, n_neighbors=9 ..................\n",
            "[CV]  algorithm=kd_tree, leaf_size=35, n_neighbors=9, score=0.931, total=   0.6s\n",
            "[CV] algorithm=kd_tree, leaf_size=35, n_neighbors=9 ..................\n",
            "[CV]  algorithm=kd_tree, leaf_size=35, n_neighbors=9, score=0.938, total=   0.6s\n",
            "[CV] algorithm=kd_tree, leaf_size=35, n_neighbors=9 ..................\n",
            "[CV]  algorithm=kd_tree, leaf_size=35, n_neighbors=9, score=0.930, total=   0.6s\n",
            "[CV] algorithm=kd_tree, leaf_size=35, n_neighbors=9 ..................\n",
            "[CV]  algorithm=kd_tree, leaf_size=35, n_neighbors=9, score=0.936, total=   0.6s\n",
            "[CV] algorithm=kd_tree, leaf_size=35, n_neighbors=9 ..................\n",
            "[CV]  algorithm=kd_tree, leaf_size=35, n_neighbors=9, score=0.930, total=   0.6s\n",
            "[CV] algorithm=kd_tree, leaf_size=35, n_neighbors=10 .................\n",
            "[CV]  algorithm=kd_tree, leaf_size=35, n_neighbors=10, score=0.929, total=   0.6s\n",
            "[CV] algorithm=kd_tree, leaf_size=35, n_neighbors=10 .................\n",
            "[CV]  algorithm=kd_tree, leaf_size=35, n_neighbors=10, score=0.935, total=   0.6s\n",
            "[CV] algorithm=kd_tree, leaf_size=35, n_neighbors=10 .................\n",
            "[CV]  algorithm=kd_tree, leaf_size=35, n_neighbors=10, score=0.932, total=   0.6s\n",
            "[CV] algorithm=kd_tree, leaf_size=35, n_neighbors=10 .................\n",
            "[CV]  algorithm=kd_tree, leaf_size=35, n_neighbors=10, score=0.930, total=   0.6s\n",
            "[CV] algorithm=kd_tree, leaf_size=35, n_neighbors=10 .................\n",
            "[CV]  algorithm=kd_tree, leaf_size=35, n_neighbors=10, score=0.922, total=   0.6s\n",
            "[CV] algorithm=kd_tree, leaf_size=35, n_neighbors=11 .................\n",
            "[CV]  algorithm=kd_tree, leaf_size=35, n_neighbors=11, score=0.931, total=   0.6s\n",
            "[CV] algorithm=kd_tree, leaf_size=35, n_neighbors=11 .................\n",
            "[CV]  algorithm=kd_tree, leaf_size=35, n_neighbors=11, score=0.941, total=   0.6s\n",
            "[CV] algorithm=kd_tree, leaf_size=35, n_neighbors=11 .................\n",
            "[CV]  algorithm=kd_tree, leaf_size=35, n_neighbors=11, score=0.928, total=   0.6s\n",
            "[CV] algorithm=kd_tree, leaf_size=35, n_neighbors=11 .................\n",
            "[CV]  algorithm=kd_tree, leaf_size=35, n_neighbors=11, score=0.936, total=   0.6s\n",
            "[CV] algorithm=kd_tree, leaf_size=35, n_neighbors=11 .................\n",
            "[CV]  algorithm=kd_tree, leaf_size=35, n_neighbors=11, score=0.923, total=   0.6s\n",
            "[CV] algorithm=kd_tree, leaf_size=35, n_neighbors=12 .................\n",
            "[CV]  algorithm=kd_tree, leaf_size=35, n_neighbors=12, score=0.928, total=   0.7s\n",
            "[CV] algorithm=kd_tree, leaf_size=35, n_neighbors=12 .................\n",
            "[CV]  algorithm=kd_tree, leaf_size=35, n_neighbors=12, score=0.939, total=   0.6s\n",
            "[CV] algorithm=kd_tree, leaf_size=35, n_neighbors=12 .................\n",
            "[CV]  algorithm=kd_tree, leaf_size=35, n_neighbors=12, score=0.930, total=   0.7s\n",
            "[CV] algorithm=kd_tree, leaf_size=35, n_neighbors=12 .................\n",
            "[CV]  algorithm=kd_tree, leaf_size=35, n_neighbors=12, score=0.933, total=   0.7s\n",
            "[CV] algorithm=kd_tree, leaf_size=35, n_neighbors=12 .................\n",
            "[CV]  algorithm=kd_tree, leaf_size=35, n_neighbors=12, score=0.918, total=   0.6s\n",
            "[CV] algorithm=kd_tree, leaf_size=35, n_neighbors=13 .................\n",
            "[CV]  algorithm=kd_tree, leaf_size=35, n_neighbors=13, score=0.927, total=   0.6s\n",
            "[CV] algorithm=kd_tree, leaf_size=35, n_neighbors=13 .................\n",
            "[CV]  algorithm=kd_tree, leaf_size=35, n_neighbors=13, score=0.941, total=   0.7s\n",
            "[CV] algorithm=kd_tree, leaf_size=35, n_neighbors=13 .................\n",
            "[CV]  algorithm=kd_tree, leaf_size=35, n_neighbors=13, score=0.927, total=   0.7s\n",
            "[CV] algorithm=kd_tree, leaf_size=35, n_neighbors=13 .................\n",
            "[CV]  algorithm=kd_tree, leaf_size=35, n_neighbors=13, score=0.938, total=   0.6s\n",
            "[CV] algorithm=kd_tree, leaf_size=35, n_neighbors=13 .................\n",
            "[CV]  algorithm=kd_tree, leaf_size=35, n_neighbors=13, score=0.921, total=   0.7s\n",
            "[CV] algorithm=brute, leaf_size=18, n_neighbors=3 ....................\n",
            "[CV]  algorithm=brute, leaf_size=18, n_neighbors=3, score=0.940, total=   0.3s\n",
            "[CV] algorithm=brute, leaf_size=18, n_neighbors=3 ....................\n",
            "[CV]  algorithm=brute, leaf_size=18, n_neighbors=3, score=0.944, total=   0.2s\n",
            "[CV] algorithm=brute, leaf_size=18, n_neighbors=3 ....................\n",
            "[CV]  algorithm=brute, leaf_size=18, n_neighbors=3, score=0.938, total=   0.2s\n",
            "[CV] algorithm=brute, leaf_size=18, n_neighbors=3 ....................\n",
            "[CV]  algorithm=brute, leaf_size=18, n_neighbors=3, score=0.939, total=   0.2s\n",
            "[CV] algorithm=brute, leaf_size=18, n_neighbors=3 ....................\n",
            "[CV]  algorithm=brute, leaf_size=18, n_neighbors=3, score=0.942, total=   0.2s\n",
            "[CV] algorithm=brute, leaf_size=18, n_neighbors=5 ....................\n",
            "[CV]  algorithm=brute, leaf_size=18, n_neighbors=5, score=0.937, total=   0.3s\n",
            "[CV] algorithm=brute, leaf_size=18, n_neighbors=5 ....................\n",
            "[CV]  algorithm=brute, leaf_size=18, n_neighbors=5, score=0.941, total=   0.3s\n",
            "[CV] algorithm=brute, leaf_size=18, n_neighbors=5 ....................\n",
            "[CV]  algorithm=brute, leaf_size=18, n_neighbors=5, score=0.931, total=   0.3s\n",
            "[CV] algorithm=brute, leaf_size=18, n_neighbors=5 ....................\n",
            "[CV]  algorithm=brute, leaf_size=18, n_neighbors=5, score=0.937, total=   0.3s\n",
            "[CV] algorithm=brute, leaf_size=18, n_neighbors=5 ....................\n",
            "[CV]  algorithm=brute, leaf_size=18, n_neighbors=5, score=0.933, total=   0.3s\n",
            "[CV] algorithm=brute, leaf_size=18, n_neighbors=7 ....................\n",
            "[CV]  algorithm=brute, leaf_size=18, n_neighbors=7, score=0.932, total=   0.3s\n",
            "[CV] algorithm=brute, leaf_size=18, n_neighbors=7 ....................\n",
            "[CV]  algorithm=brute, leaf_size=18, n_neighbors=7, score=0.938, total=   0.3s\n",
            "[CV] algorithm=brute, leaf_size=18, n_neighbors=7 ....................\n",
            "[CV]  algorithm=brute, leaf_size=18, n_neighbors=7, score=0.932, total=   0.3s\n",
            "[CV] algorithm=brute, leaf_size=18, n_neighbors=7 ....................\n",
            "[CV]  algorithm=brute, leaf_size=18, n_neighbors=7, score=0.928, total=   0.3s\n",
            "[CV] algorithm=brute, leaf_size=18, n_neighbors=7 ....................\n",
            "[CV]  algorithm=brute, leaf_size=18, n_neighbors=7, score=0.926, total=   0.3s\n",
            "[CV] algorithm=brute, leaf_size=18, n_neighbors=9 ....................\n",
            "[CV]  algorithm=brute, leaf_size=18, n_neighbors=9, score=0.930, total=   0.3s\n",
            "[CV] algorithm=brute, leaf_size=18, n_neighbors=9 ....................\n",
            "[CV]  algorithm=brute, leaf_size=18, n_neighbors=9, score=0.939, total=   0.3s\n",
            "[CV] algorithm=brute, leaf_size=18, n_neighbors=9 ....................\n",
            "[CV]  algorithm=brute, leaf_size=18, n_neighbors=9, score=0.930, total=   0.3s\n",
            "[CV] algorithm=brute, leaf_size=18, n_neighbors=9 ....................\n",
            "[CV]  algorithm=brute, leaf_size=18, n_neighbors=9, score=0.935, total=   0.3s\n",
            "[CV] algorithm=brute, leaf_size=18, n_neighbors=9 ....................\n",
            "[CV]  algorithm=brute, leaf_size=18, n_neighbors=9, score=0.928, total=   0.3s\n",
            "[CV] algorithm=brute, leaf_size=18, n_neighbors=10 ...................\n",
            "[CV]  algorithm=brute, leaf_size=18, n_neighbors=10, score=0.928, total=   0.3s\n",
            "[CV] algorithm=brute, leaf_size=18, n_neighbors=10 ...................\n",
            "[CV]  algorithm=brute, leaf_size=18, n_neighbors=10, score=0.934, total=   0.3s\n",
            "[CV] algorithm=brute, leaf_size=18, n_neighbors=10 ...................\n",
            "[CV]  algorithm=brute, leaf_size=18, n_neighbors=10, score=0.932, total=   0.3s\n",
            "[CV] algorithm=brute, leaf_size=18, n_neighbors=10 ...................\n",
            "[CV]  algorithm=brute, leaf_size=18, n_neighbors=10, score=0.931, total=   0.3s\n",
            "[CV] algorithm=brute, leaf_size=18, n_neighbors=10 ...................\n",
            "[CV]  algorithm=brute, leaf_size=18, n_neighbors=10, score=0.922, total=   0.3s\n",
            "[CV] algorithm=brute, leaf_size=18, n_neighbors=11 ...................\n",
            "[CV]  algorithm=brute, leaf_size=18, n_neighbors=11, score=0.932, total=   0.3s\n",
            "[CV] algorithm=brute, leaf_size=18, n_neighbors=11 ...................\n",
            "[CV]  algorithm=brute, leaf_size=18, n_neighbors=11, score=0.940, total=   0.3s\n",
            "[CV] algorithm=brute, leaf_size=18, n_neighbors=11 ...................\n",
            "[CV]  algorithm=brute, leaf_size=18, n_neighbors=11, score=0.928, total=   0.3s\n",
            "[CV] algorithm=brute, leaf_size=18, n_neighbors=11 ...................\n",
            "[CV]  algorithm=brute, leaf_size=18, n_neighbors=11, score=0.937, total=   0.3s\n",
            "[CV] algorithm=brute, leaf_size=18, n_neighbors=11 ...................\n",
            "[CV]  algorithm=brute, leaf_size=18, n_neighbors=11, score=0.924, total=   0.3s\n",
            "[CV] algorithm=brute, leaf_size=18, n_neighbors=12 ...................\n",
            "[CV]  algorithm=brute, leaf_size=18, n_neighbors=12, score=0.928, total=   0.3s\n",
            "[CV] algorithm=brute, leaf_size=18, n_neighbors=12 ...................\n",
            "[CV]  algorithm=brute, leaf_size=18, n_neighbors=12, score=0.939, total=   0.3s\n",
            "[CV] algorithm=brute, leaf_size=18, n_neighbors=12 ...................\n",
            "[CV]  algorithm=brute, leaf_size=18, n_neighbors=12, score=0.930, total=   0.3s\n",
            "[CV] algorithm=brute, leaf_size=18, n_neighbors=12 ...................\n",
            "[CV]  algorithm=brute, leaf_size=18, n_neighbors=12, score=0.935, total=   0.3s\n",
            "[CV] algorithm=brute, leaf_size=18, n_neighbors=12 ...................\n",
            "[CV]  algorithm=brute, leaf_size=18, n_neighbors=12, score=0.917, total=   0.3s\n",
            "[CV] algorithm=brute, leaf_size=18, n_neighbors=13 ...................\n",
            "[CV]  algorithm=brute, leaf_size=18, n_neighbors=13, score=0.926, total=   0.3s\n",
            "[CV] algorithm=brute, leaf_size=18, n_neighbors=13 ...................\n",
            "[CV]  algorithm=brute, leaf_size=18, n_neighbors=13, score=0.941, total=   0.3s\n",
            "[CV] algorithm=brute, leaf_size=18, n_neighbors=13 ...................\n",
            "[CV]  algorithm=brute, leaf_size=18, n_neighbors=13, score=0.927, total=   0.3s\n",
            "[CV] algorithm=brute, leaf_size=18, n_neighbors=13 ...................\n",
            "[CV]  algorithm=brute, leaf_size=18, n_neighbors=13, score=0.938, total=   0.3s\n",
            "[CV] algorithm=brute, leaf_size=18, n_neighbors=13 ...................\n",
            "[CV]  algorithm=brute, leaf_size=18, n_neighbors=13, score=0.922, total=   0.3s\n",
            "[CV] algorithm=brute, leaf_size=20, n_neighbors=3 ....................\n",
            "[CV]  algorithm=brute, leaf_size=20, n_neighbors=3, score=0.940, total=   0.2s\n",
            "[CV] algorithm=brute, leaf_size=20, n_neighbors=3 ....................\n",
            "[CV]  algorithm=brute, leaf_size=20, n_neighbors=3, score=0.944, total=   0.2s\n",
            "[CV] algorithm=brute, leaf_size=20, n_neighbors=3 ....................\n",
            "[CV]  algorithm=brute, leaf_size=20, n_neighbors=3, score=0.938, total=   0.2s\n",
            "[CV] algorithm=brute, leaf_size=20, n_neighbors=3 ....................\n",
            "[CV]  algorithm=brute, leaf_size=20, n_neighbors=3, score=0.939, total=   0.2s\n",
            "[CV] algorithm=brute, leaf_size=20, n_neighbors=3 ....................\n",
            "[CV]  algorithm=brute, leaf_size=20, n_neighbors=3, score=0.942, total=   0.2s\n",
            "[CV] algorithm=brute, leaf_size=20, n_neighbors=5 ....................\n",
            "[CV]  algorithm=brute, leaf_size=20, n_neighbors=5, score=0.937, total=   0.3s\n",
            "[CV] algorithm=brute, leaf_size=20, n_neighbors=5 ....................\n",
            "[CV]  algorithm=brute, leaf_size=20, n_neighbors=5, score=0.941, total=   0.3s\n",
            "[CV] algorithm=brute, leaf_size=20, n_neighbors=5 ....................\n",
            "[CV]  algorithm=brute, leaf_size=20, n_neighbors=5, score=0.931, total=   0.3s\n",
            "[CV] algorithm=brute, leaf_size=20, n_neighbors=5 ....................\n",
            "[CV]  algorithm=brute, leaf_size=20, n_neighbors=5, score=0.937, total=   0.3s\n",
            "[CV] algorithm=brute, leaf_size=20, n_neighbors=5 ....................\n",
            "[CV]  algorithm=brute, leaf_size=20, n_neighbors=5, score=0.933, total=   0.3s\n",
            "[CV] algorithm=brute, leaf_size=20, n_neighbors=7 ....................\n",
            "[CV]  algorithm=brute, leaf_size=20, n_neighbors=7, score=0.932, total=   0.3s\n",
            "[CV] algorithm=brute, leaf_size=20, n_neighbors=7 ....................\n",
            "[CV]  algorithm=brute, leaf_size=20, n_neighbors=7, score=0.938, total=   0.3s\n",
            "[CV] algorithm=brute, leaf_size=20, n_neighbors=7 ....................\n",
            "[CV]  algorithm=brute, leaf_size=20, n_neighbors=7, score=0.932, total=   0.3s\n",
            "[CV] algorithm=brute, leaf_size=20, n_neighbors=7 ....................\n",
            "[CV]  algorithm=brute, leaf_size=20, n_neighbors=7, score=0.928, total=   0.3s\n",
            "[CV] algorithm=brute, leaf_size=20, n_neighbors=7 ....................\n",
            "[CV]  algorithm=brute, leaf_size=20, n_neighbors=7, score=0.926, total=   0.3s\n",
            "[CV] algorithm=brute, leaf_size=20, n_neighbors=9 ....................\n",
            "[CV]  algorithm=brute, leaf_size=20, n_neighbors=9, score=0.930, total=   0.3s\n",
            "[CV] algorithm=brute, leaf_size=20, n_neighbors=9 ....................\n",
            "[CV]  algorithm=brute, leaf_size=20, n_neighbors=9, score=0.939, total=   0.3s\n",
            "[CV] algorithm=brute, leaf_size=20, n_neighbors=9 ....................\n",
            "[CV]  algorithm=brute, leaf_size=20, n_neighbors=9, score=0.930, total=   0.3s\n",
            "[CV] algorithm=brute, leaf_size=20, n_neighbors=9 ....................\n",
            "[CV]  algorithm=brute, leaf_size=20, n_neighbors=9, score=0.935, total=   0.3s\n",
            "[CV] algorithm=brute, leaf_size=20, n_neighbors=9 ....................\n",
            "[CV]  algorithm=brute, leaf_size=20, n_neighbors=9, score=0.928, total=   0.3s\n",
            "[CV] algorithm=brute, leaf_size=20, n_neighbors=10 ...................\n",
            "[CV]  algorithm=brute, leaf_size=20, n_neighbors=10, score=0.928, total=   0.3s\n",
            "[CV] algorithm=brute, leaf_size=20, n_neighbors=10 ...................\n",
            "[CV]  algorithm=brute, leaf_size=20, n_neighbors=10, score=0.934, total=   0.3s\n",
            "[CV] algorithm=brute, leaf_size=20, n_neighbors=10 ...................\n",
            "[CV]  algorithm=brute, leaf_size=20, n_neighbors=10, score=0.932, total=   0.3s\n",
            "[CV] algorithm=brute, leaf_size=20, n_neighbors=10 ...................\n",
            "[CV]  algorithm=brute, leaf_size=20, n_neighbors=10, score=0.931, total=   0.3s\n",
            "[CV] algorithm=brute, leaf_size=20, n_neighbors=10 ...................\n",
            "[CV]  algorithm=brute, leaf_size=20, n_neighbors=10, score=0.922, total=   0.3s\n",
            "[CV] algorithm=brute, leaf_size=20, n_neighbors=11 ...................\n",
            "[CV]  algorithm=brute, leaf_size=20, n_neighbors=11, score=0.932, total=   0.3s\n",
            "[CV] algorithm=brute, leaf_size=20, n_neighbors=11 ...................\n",
            "[CV]  algorithm=brute, leaf_size=20, n_neighbors=11, score=0.940, total=   0.3s\n",
            "[CV] algorithm=brute, leaf_size=20, n_neighbors=11 ...................\n",
            "[CV]  algorithm=brute, leaf_size=20, n_neighbors=11, score=0.928, total=   0.3s\n",
            "[CV] algorithm=brute, leaf_size=20, n_neighbors=11 ...................\n",
            "[CV]  algorithm=brute, leaf_size=20, n_neighbors=11, score=0.937, total=   0.3s\n",
            "[CV] algorithm=brute, leaf_size=20, n_neighbors=11 ...................\n",
            "[CV]  algorithm=brute, leaf_size=20, n_neighbors=11, score=0.924, total=   0.3s\n",
            "[CV] algorithm=brute, leaf_size=20, n_neighbors=12 ...................\n",
            "[CV]  algorithm=brute, leaf_size=20, n_neighbors=12, score=0.928, total=   0.3s\n",
            "[CV] algorithm=brute, leaf_size=20, n_neighbors=12 ...................\n",
            "[CV]  algorithm=brute, leaf_size=20, n_neighbors=12, score=0.939, total=   0.3s\n",
            "[CV] algorithm=brute, leaf_size=20, n_neighbors=12 ...................\n",
            "[CV]  algorithm=brute, leaf_size=20, n_neighbors=12, score=0.930, total=   0.3s\n",
            "[CV] algorithm=brute, leaf_size=20, n_neighbors=12 ...................\n",
            "[CV]  algorithm=brute, leaf_size=20, n_neighbors=12, score=0.935, total=   0.3s\n",
            "[CV] algorithm=brute, leaf_size=20, n_neighbors=12 ...................\n",
            "[CV]  algorithm=brute, leaf_size=20, n_neighbors=12, score=0.917, total=   0.3s\n",
            "[CV] algorithm=brute, leaf_size=20, n_neighbors=13 ...................\n",
            "[CV]  algorithm=brute, leaf_size=20, n_neighbors=13, score=0.926, total=   0.3s\n",
            "[CV] algorithm=brute, leaf_size=20, n_neighbors=13 ...................\n",
            "[CV]  algorithm=brute, leaf_size=20, n_neighbors=13, score=0.941, total=   0.3s\n",
            "[CV] algorithm=brute, leaf_size=20, n_neighbors=13 ...................\n",
            "[CV]  algorithm=brute, leaf_size=20, n_neighbors=13, score=0.927, total=   0.3s\n",
            "[CV] algorithm=brute, leaf_size=20, n_neighbors=13 ...................\n",
            "[CV]  algorithm=brute, leaf_size=20, n_neighbors=13, score=0.938, total=   0.3s\n",
            "[CV] algorithm=brute, leaf_size=20, n_neighbors=13 ...................\n",
            "[CV]  algorithm=brute, leaf_size=20, n_neighbors=13, score=0.922, total=   0.3s\n",
            "[CV] algorithm=brute, leaf_size=25, n_neighbors=3 ....................\n",
            "[CV]  algorithm=brute, leaf_size=25, n_neighbors=3, score=0.940, total=   0.2s\n",
            "[CV] algorithm=brute, leaf_size=25, n_neighbors=3 ....................\n",
            "[CV]  algorithm=brute, leaf_size=25, n_neighbors=3, score=0.944, total=   0.2s\n",
            "[CV] algorithm=brute, leaf_size=25, n_neighbors=3 ....................\n",
            "[CV]  algorithm=brute, leaf_size=25, n_neighbors=3, score=0.938, total=   0.2s\n",
            "[CV] algorithm=brute, leaf_size=25, n_neighbors=3 ....................\n",
            "[CV]  algorithm=brute, leaf_size=25, n_neighbors=3, score=0.939, total=   0.3s\n",
            "[CV] algorithm=brute, leaf_size=25, n_neighbors=3 ....................\n",
            "[CV]  algorithm=brute, leaf_size=25, n_neighbors=3, score=0.942, total=   0.2s\n",
            "[CV] algorithm=brute, leaf_size=25, n_neighbors=5 ....................\n",
            "[CV]  algorithm=brute, leaf_size=25, n_neighbors=5, score=0.937, total=   0.3s\n",
            "[CV] algorithm=brute, leaf_size=25, n_neighbors=5 ....................\n",
            "[CV]  algorithm=brute, leaf_size=25, n_neighbors=5, score=0.941, total=   0.3s\n",
            "[CV] algorithm=brute, leaf_size=25, n_neighbors=5 ....................\n",
            "[CV]  algorithm=brute, leaf_size=25, n_neighbors=5, score=0.931, total=   0.3s\n",
            "[CV] algorithm=brute, leaf_size=25, n_neighbors=5 ....................\n",
            "[CV]  algorithm=brute, leaf_size=25, n_neighbors=5, score=0.937, total=   0.3s\n",
            "[CV] algorithm=brute, leaf_size=25, n_neighbors=5 ....................\n",
            "[CV]  algorithm=brute, leaf_size=25, n_neighbors=5, score=0.933, total=   0.3s\n",
            "[CV] algorithm=brute, leaf_size=25, n_neighbors=7 ....................\n",
            "[CV]  algorithm=brute, leaf_size=25, n_neighbors=7, score=0.932, total=   0.3s\n",
            "[CV] algorithm=brute, leaf_size=25, n_neighbors=7 ....................\n",
            "[CV]  algorithm=brute, leaf_size=25, n_neighbors=7, score=0.938, total=   0.3s\n",
            "[CV] algorithm=brute, leaf_size=25, n_neighbors=7 ....................\n",
            "[CV]  algorithm=brute, leaf_size=25, n_neighbors=7, score=0.932, total=   0.3s\n",
            "[CV] algorithm=brute, leaf_size=25, n_neighbors=7 ....................\n",
            "[CV]  algorithm=brute, leaf_size=25, n_neighbors=7, score=0.928, total=   0.3s\n",
            "[CV] algorithm=brute, leaf_size=25, n_neighbors=7 ....................\n",
            "[CV]  algorithm=brute, leaf_size=25, n_neighbors=7, score=0.926, total=   0.3s\n",
            "[CV] algorithm=brute, leaf_size=25, n_neighbors=9 ....................\n",
            "[CV]  algorithm=brute, leaf_size=25, n_neighbors=9, score=0.930, total=   0.3s\n",
            "[CV] algorithm=brute, leaf_size=25, n_neighbors=9 ....................\n",
            "[CV]  algorithm=brute, leaf_size=25, n_neighbors=9, score=0.939, total=   0.3s\n",
            "[CV] algorithm=brute, leaf_size=25, n_neighbors=9 ....................\n",
            "[CV]  algorithm=brute, leaf_size=25, n_neighbors=9, score=0.930, total=   0.3s\n",
            "[CV] algorithm=brute, leaf_size=25, n_neighbors=9 ....................\n",
            "[CV]  algorithm=brute, leaf_size=25, n_neighbors=9, score=0.935, total=   0.3s\n",
            "[CV] algorithm=brute, leaf_size=25, n_neighbors=9 ....................\n",
            "[CV]  algorithm=brute, leaf_size=25, n_neighbors=9, score=0.928, total=   0.3s\n",
            "[CV] algorithm=brute, leaf_size=25, n_neighbors=10 ...................\n",
            "[CV]  algorithm=brute, leaf_size=25, n_neighbors=10, score=0.928, total=   0.3s\n",
            "[CV] algorithm=brute, leaf_size=25, n_neighbors=10 ...................\n",
            "[CV]  algorithm=brute, leaf_size=25, n_neighbors=10, score=0.934, total=   0.3s\n",
            "[CV] algorithm=brute, leaf_size=25, n_neighbors=10 ...................\n",
            "[CV]  algorithm=brute, leaf_size=25, n_neighbors=10, score=0.932, total=   0.3s\n",
            "[CV] algorithm=brute, leaf_size=25, n_neighbors=10 ...................\n",
            "[CV]  algorithm=brute, leaf_size=25, n_neighbors=10, score=0.931, total=   0.3s\n",
            "[CV] algorithm=brute, leaf_size=25, n_neighbors=10 ...................\n",
            "[CV]  algorithm=brute, leaf_size=25, n_neighbors=10, score=0.922, total=   0.3s\n",
            "[CV] algorithm=brute, leaf_size=25, n_neighbors=11 ...................\n",
            "[CV]  algorithm=brute, leaf_size=25, n_neighbors=11, score=0.932, total=   0.3s\n",
            "[CV] algorithm=brute, leaf_size=25, n_neighbors=11 ...................\n",
            "[CV]  algorithm=brute, leaf_size=25, n_neighbors=11, score=0.940, total=   0.3s\n",
            "[CV] algorithm=brute, leaf_size=25, n_neighbors=11 ...................\n",
            "[CV]  algorithm=brute, leaf_size=25, n_neighbors=11, score=0.928, total=   0.3s\n",
            "[CV] algorithm=brute, leaf_size=25, n_neighbors=11 ...................\n",
            "[CV]  algorithm=brute, leaf_size=25, n_neighbors=11, score=0.937, total=   0.3s\n",
            "[CV] algorithm=brute, leaf_size=25, n_neighbors=11 ...................\n",
            "[CV]  algorithm=brute, leaf_size=25, n_neighbors=11, score=0.924, total=   0.3s\n",
            "[CV] algorithm=brute, leaf_size=25, n_neighbors=12 ...................\n",
            "[CV]  algorithm=brute, leaf_size=25, n_neighbors=12, score=0.928, total=   0.3s\n",
            "[CV] algorithm=brute, leaf_size=25, n_neighbors=12 ...................\n",
            "[CV]  algorithm=brute, leaf_size=25, n_neighbors=12, score=0.939, total=   0.3s\n",
            "[CV] algorithm=brute, leaf_size=25, n_neighbors=12 ...................\n",
            "[CV]  algorithm=brute, leaf_size=25, n_neighbors=12, score=0.930, total=   0.3s\n",
            "[CV] algorithm=brute, leaf_size=25, n_neighbors=12 ...................\n",
            "[CV]  algorithm=brute, leaf_size=25, n_neighbors=12, score=0.935, total=   0.3s\n",
            "[CV] algorithm=brute, leaf_size=25, n_neighbors=12 ...................\n",
            "[CV]  algorithm=brute, leaf_size=25, n_neighbors=12, score=0.917, total=   0.3s\n",
            "[CV] algorithm=brute, leaf_size=25, n_neighbors=13 ...................\n",
            "[CV]  algorithm=brute, leaf_size=25, n_neighbors=13, score=0.926, total=   0.3s\n",
            "[CV] algorithm=brute, leaf_size=25, n_neighbors=13 ...................\n",
            "[CV]  algorithm=brute, leaf_size=25, n_neighbors=13, score=0.941, total=   0.3s\n",
            "[CV] algorithm=brute, leaf_size=25, n_neighbors=13 ...................\n",
            "[CV]  algorithm=brute, leaf_size=25, n_neighbors=13, score=0.927, total=   0.3s\n",
            "[CV] algorithm=brute, leaf_size=25, n_neighbors=13 ...................\n",
            "[CV]  algorithm=brute, leaf_size=25, n_neighbors=13, score=0.938, total=   0.3s\n",
            "[CV] algorithm=brute, leaf_size=25, n_neighbors=13 ...................\n",
            "[CV]  algorithm=brute, leaf_size=25, n_neighbors=13, score=0.922, total=   0.3s\n",
            "[CV] algorithm=brute, leaf_size=27, n_neighbors=3 ....................\n",
            "[CV]  algorithm=brute, leaf_size=27, n_neighbors=3, score=0.940, total=   0.2s\n",
            "[CV] algorithm=brute, leaf_size=27, n_neighbors=3 ....................\n",
            "[CV]  algorithm=brute, leaf_size=27, n_neighbors=3, score=0.944, total=   0.2s\n",
            "[CV] algorithm=brute, leaf_size=27, n_neighbors=3 ....................\n",
            "[CV]  algorithm=brute, leaf_size=27, n_neighbors=3, score=0.938, total=   0.2s\n",
            "[CV] algorithm=brute, leaf_size=27, n_neighbors=3 ....................\n",
            "[CV]  algorithm=brute, leaf_size=27, n_neighbors=3, score=0.939, total=   0.2s\n",
            "[CV] algorithm=brute, leaf_size=27, n_neighbors=3 ....................\n",
            "[CV]  algorithm=brute, leaf_size=27, n_neighbors=3, score=0.942, total=   0.2s\n",
            "[CV] algorithm=brute, leaf_size=27, n_neighbors=5 ....................\n",
            "[CV]  algorithm=brute, leaf_size=27, n_neighbors=5, score=0.937, total=   0.3s\n",
            "[CV] algorithm=brute, leaf_size=27, n_neighbors=5 ....................\n",
            "[CV]  algorithm=brute, leaf_size=27, n_neighbors=5, score=0.941, total=   0.3s\n",
            "[CV] algorithm=brute, leaf_size=27, n_neighbors=5 ....................\n",
            "[CV]  algorithm=brute, leaf_size=27, n_neighbors=5, score=0.931, total=   0.3s\n",
            "[CV] algorithm=brute, leaf_size=27, n_neighbors=5 ....................\n",
            "[CV]  algorithm=brute, leaf_size=27, n_neighbors=5, score=0.937, total=   0.3s\n",
            "[CV] algorithm=brute, leaf_size=27, n_neighbors=5 ....................\n",
            "[CV]  algorithm=brute, leaf_size=27, n_neighbors=5, score=0.933, total=   0.3s\n",
            "[CV] algorithm=brute, leaf_size=27, n_neighbors=7 ....................\n",
            "[CV]  algorithm=brute, leaf_size=27, n_neighbors=7, score=0.932, total=   0.3s\n",
            "[CV] algorithm=brute, leaf_size=27, n_neighbors=7 ....................\n",
            "[CV]  algorithm=brute, leaf_size=27, n_neighbors=7, score=0.938, total=   0.3s\n",
            "[CV] algorithm=brute, leaf_size=27, n_neighbors=7 ....................\n",
            "[CV]  algorithm=brute, leaf_size=27, n_neighbors=7, score=0.932, total=   0.3s\n",
            "[CV] algorithm=brute, leaf_size=27, n_neighbors=7 ....................\n",
            "[CV]  algorithm=brute, leaf_size=27, n_neighbors=7, score=0.928, total=   0.3s\n",
            "[CV] algorithm=brute, leaf_size=27, n_neighbors=7 ....................\n",
            "[CV]  algorithm=brute, leaf_size=27, n_neighbors=7, score=0.926, total=   0.3s\n",
            "[CV] algorithm=brute, leaf_size=27, n_neighbors=9 ....................\n",
            "[CV]  algorithm=brute, leaf_size=27, n_neighbors=9, score=0.930, total=   0.3s\n",
            "[CV] algorithm=brute, leaf_size=27, n_neighbors=9 ....................\n",
            "[CV]  algorithm=brute, leaf_size=27, n_neighbors=9, score=0.939, total=   0.3s\n",
            "[CV] algorithm=brute, leaf_size=27, n_neighbors=9 ....................\n",
            "[CV]  algorithm=brute, leaf_size=27, n_neighbors=9, score=0.930, total=   0.3s\n",
            "[CV] algorithm=brute, leaf_size=27, n_neighbors=9 ....................\n",
            "[CV]  algorithm=brute, leaf_size=27, n_neighbors=9, score=0.935, total=   0.3s\n",
            "[CV] algorithm=brute, leaf_size=27, n_neighbors=9 ....................\n",
            "[CV]  algorithm=brute, leaf_size=27, n_neighbors=9, score=0.928, total=   0.3s\n",
            "[CV] algorithm=brute, leaf_size=27, n_neighbors=10 ...................\n",
            "[CV]  algorithm=brute, leaf_size=27, n_neighbors=10, score=0.928, total=   0.3s\n",
            "[CV] algorithm=brute, leaf_size=27, n_neighbors=10 ...................\n",
            "[CV]  algorithm=brute, leaf_size=27, n_neighbors=10, score=0.934, total=   0.3s\n",
            "[CV] algorithm=brute, leaf_size=27, n_neighbors=10 ...................\n",
            "[CV]  algorithm=brute, leaf_size=27, n_neighbors=10, score=0.932, total=   0.3s\n",
            "[CV] algorithm=brute, leaf_size=27, n_neighbors=10 ...................\n",
            "[CV]  algorithm=brute, leaf_size=27, n_neighbors=10, score=0.931, total=   0.3s\n",
            "[CV] algorithm=brute, leaf_size=27, n_neighbors=10 ...................\n",
            "[CV]  algorithm=brute, leaf_size=27, n_neighbors=10, score=0.922, total=   0.3s\n",
            "[CV] algorithm=brute, leaf_size=27, n_neighbors=11 ...................\n",
            "[CV]  algorithm=brute, leaf_size=27, n_neighbors=11, score=0.932, total=   0.3s\n",
            "[CV] algorithm=brute, leaf_size=27, n_neighbors=11 ...................\n",
            "[CV]  algorithm=brute, leaf_size=27, n_neighbors=11, score=0.940, total=   0.3s\n",
            "[CV] algorithm=brute, leaf_size=27, n_neighbors=11 ...................\n",
            "[CV]  algorithm=brute, leaf_size=27, n_neighbors=11, score=0.928, total=   0.3s\n",
            "[CV] algorithm=brute, leaf_size=27, n_neighbors=11 ...................\n",
            "[CV]  algorithm=brute, leaf_size=27, n_neighbors=11, score=0.937, total=   0.3s\n",
            "[CV] algorithm=brute, leaf_size=27, n_neighbors=11 ...................\n",
            "[CV]  algorithm=brute, leaf_size=27, n_neighbors=11, score=0.924, total=   0.3s\n",
            "[CV] algorithm=brute, leaf_size=27, n_neighbors=12 ...................\n",
            "[CV]  algorithm=brute, leaf_size=27, n_neighbors=12, score=0.928, total=   0.3s\n",
            "[CV] algorithm=brute, leaf_size=27, n_neighbors=12 ...................\n",
            "[CV]  algorithm=brute, leaf_size=27, n_neighbors=12, score=0.939, total=   0.3s\n",
            "[CV] algorithm=brute, leaf_size=27, n_neighbors=12 ...................\n",
            "[CV]  algorithm=brute, leaf_size=27, n_neighbors=12, score=0.930, total=   0.3s\n",
            "[CV] algorithm=brute, leaf_size=27, n_neighbors=12 ...................\n",
            "[CV]  algorithm=brute, leaf_size=27, n_neighbors=12, score=0.935, total=   0.3s\n",
            "[CV] algorithm=brute, leaf_size=27, n_neighbors=12 ...................\n",
            "[CV]  algorithm=brute, leaf_size=27, n_neighbors=12, score=0.917, total=   0.3s\n",
            "[CV] algorithm=brute, leaf_size=27, n_neighbors=13 ...................\n",
            "[CV]  algorithm=brute, leaf_size=27, n_neighbors=13, score=0.926, total=   0.3s\n",
            "[CV] algorithm=brute, leaf_size=27, n_neighbors=13 ...................\n",
            "[CV]  algorithm=brute, leaf_size=27, n_neighbors=13, score=0.941, total=   0.3s\n",
            "[CV] algorithm=brute, leaf_size=27, n_neighbors=13 ...................\n",
            "[CV]  algorithm=brute, leaf_size=27, n_neighbors=13, score=0.927, total=   0.3s\n",
            "[CV] algorithm=brute, leaf_size=27, n_neighbors=13 ...................\n",
            "[CV]  algorithm=brute, leaf_size=27, n_neighbors=13, score=0.938, total=   0.3s\n",
            "[CV] algorithm=brute, leaf_size=27, n_neighbors=13 ...................\n",
            "[CV]  algorithm=brute, leaf_size=27, n_neighbors=13, score=0.922, total=   0.3s\n",
            "[CV] algorithm=brute, leaf_size=30, n_neighbors=3 ....................\n",
            "[CV]  algorithm=brute, leaf_size=30, n_neighbors=3, score=0.940, total=   0.3s\n",
            "[CV] algorithm=brute, leaf_size=30, n_neighbors=3 ....................\n",
            "[CV]  algorithm=brute, leaf_size=30, n_neighbors=3, score=0.944, total=   0.2s\n",
            "[CV] algorithm=brute, leaf_size=30, n_neighbors=3 ....................\n",
            "[CV]  algorithm=brute, leaf_size=30, n_neighbors=3, score=0.938, total=   0.2s\n",
            "[CV] algorithm=brute, leaf_size=30, n_neighbors=3 ....................\n",
            "[CV]  algorithm=brute, leaf_size=30, n_neighbors=3, score=0.939, total=   0.2s\n",
            "[CV] algorithm=brute, leaf_size=30, n_neighbors=3 ....................\n",
            "[CV]  algorithm=brute, leaf_size=30, n_neighbors=3, score=0.942, total=   0.2s\n",
            "[CV] algorithm=brute, leaf_size=30, n_neighbors=5 ....................\n",
            "[CV]  algorithm=brute, leaf_size=30, n_neighbors=5, score=0.937, total=   0.3s\n",
            "[CV] algorithm=brute, leaf_size=30, n_neighbors=5 ....................\n",
            "[CV]  algorithm=brute, leaf_size=30, n_neighbors=5, score=0.941, total=   0.3s\n",
            "[CV] algorithm=brute, leaf_size=30, n_neighbors=5 ....................\n",
            "[CV]  algorithm=brute, leaf_size=30, n_neighbors=5, score=0.931, total=   0.3s\n",
            "[CV] algorithm=brute, leaf_size=30, n_neighbors=5 ....................\n",
            "[CV]  algorithm=brute, leaf_size=30, n_neighbors=5, score=0.937, total=   0.3s\n",
            "[CV] algorithm=brute, leaf_size=30, n_neighbors=5 ....................\n",
            "[CV]  algorithm=brute, leaf_size=30, n_neighbors=5, score=0.933, total=   0.3s\n",
            "[CV] algorithm=brute, leaf_size=30, n_neighbors=7 ....................\n",
            "[CV]  algorithm=brute, leaf_size=30, n_neighbors=7, score=0.932, total=   0.3s\n",
            "[CV] algorithm=brute, leaf_size=30, n_neighbors=7 ....................\n",
            "[CV]  algorithm=brute, leaf_size=30, n_neighbors=7, score=0.938, total=   0.3s\n",
            "[CV] algorithm=brute, leaf_size=30, n_neighbors=7 ....................\n",
            "[CV]  algorithm=brute, leaf_size=30, n_neighbors=7, score=0.932, total=   0.3s\n",
            "[CV] algorithm=brute, leaf_size=30, n_neighbors=7 ....................\n",
            "[CV]  algorithm=brute, leaf_size=30, n_neighbors=7, score=0.928, total=   0.3s\n",
            "[CV] algorithm=brute, leaf_size=30, n_neighbors=7 ....................\n",
            "[CV]  algorithm=brute, leaf_size=30, n_neighbors=7, score=0.926, total=   0.3s\n",
            "[CV] algorithm=brute, leaf_size=30, n_neighbors=9 ....................\n",
            "[CV]  algorithm=brute, leaf_size=30, n_neighbors=9, score=0.930, total=   0.3s\n",
            "[CV] algorithm=brute, leaf_size=30, n_neighbors=9 ....................\n",
            "[CV]  algorithm=brute, leaf_size=30, n_neighbors=9, score=0.939, total=   0.3s\n",
            "[CV] algorithm=brute, leaf_size=30, n_neighbors=9 ....................\n",
            "[CV]  algorithm=brute, leaf_size=30, n_neighbors=9, score=0.930, total=   0.3s\n",
            "[CV] algorithm=brute, leaf_size=30, n_neighbors=9 ....................\n",
            "[CV]  algorithm=brute, leaf_size=30, n_neighbors=9, score=0.935, total=   0.3s\n",
            "[CV] algorithm=brute, leaf_size=30, n_neighbors=9 ....................\n",
            "[CV]  algorithm=brute, leaf_size=30, n_neighbors=9, score=0.928, total=   0.3s\n",
            "[CV] algorithm=brute, leaf_size=30, n_neighbors=10 ...................\n",
            "[CV]  algorithm=brute, leaf_size=30, n_neighbors=10, score=0.928, total=   0.3s\n",
            "[CV] algorithm=brute, leaf_size=30, n_neighbors=10 ...................\n",
            "[CV]  algorithm=brute, leaf_size=30, n_neighbors=10, score=0.934, total=   0.3s\n",
            "[CV] algorithm=brute, leaf_size=30, n_neighbors=10 ...................\n",
            "[CV]  algorithm=brute, leaf_size=30, n_neighbors=10, score=0.932, total=   0.3s\n",
            "[CV] algorithm=brute, leaf_size=30, n_neighbors=10 ...................\n",
            "[CV]  algorithm=brute, leaf_size=30, n_neighbors=10, score=0.931, total=   0.3s\n",
            "[CV] algorithm=brute, leaf_size=30, n_neighbors=10 ...................\n",
            "[CV]  algorithm=brute, leaf_size=30, n_neighbors=10, score=0.922, total=   0.3s\n",
            "[CV] algorithm=brute, leaf_size=30, n_neighbors=11 ...................\n",
            "[CV]  algorithm=brute, leaf_size=30, n_neighbors=11, score=0.932, total=   0.3s\n",
            "[CV] algorithm=brute, leaf_size=30, n_neighbors=11 ...................\n",
            "[CV]  algorithm=brute, leaf_size=30, n_neighbors=11, score=0.940, total=   0.3s\n",
            "[CV] algorithm=brute, leaf_size=30, n_neighbors=11 ...................\n",
            "[CV]  algorithm=brute, leaf_size=30, n_neighbors=11, score=0.928, total=   0.3s\n",
            "[CV] algorithm=brute, leaf_size=30, n_neighbors=11 ...................\n",
            "[CV]  algorithm=brute, leaf_size=30, n_neighbors=11, score=0.937, total=   0.3s\n",
            "[CV] algorithm=brute, leaf_size=30, n_neighbors=11 ...................\n",
            "[CV]  algorithm=brute, leaf_size=30, n_neighbors=11, score=0.924, total=   0.3s\n",
            "[CV] algorithm=brute, leaf_size=30, n_neighbors=12 ...................\n",
            "[CV]  algorithm=brute, leaf_size=30, n_neighbors=12, score=0.928, total=   0.3s\n",
            "[CV] algorithm=brute, leaf_size=30, n_neighbors=12 ...................\n",
            "[CV]  algorithm=brute, leaf_size=30, n_neighbors=12, score=0.939, total=   0.3s\n",
            "[CV] algorithm=brute, leaf_size=30, n_neighbors=12 ...................\n",
            "[CV]  algorithm=brute, leaf_size=30, n_neighbors=12, score=0.930, total=   0.3s\n",
            "[CV] algorithm=brute, leaf_size=30, n_neighbors=12 ...................\n",
            "[CV]  algorithm=brute, leaf_size=30, n_neighbors=12, score=0.935, total=   0.3s\n",
            "[CV] algorithm=brute, leaf_size=30, n_neighbors=12 ...................\n",
            "[CV]  algorithm=brute, leaf_size=30, n_neighbors=12, score=0.917, total=   0.3s\n",
            "[CV] algorithm=brute, leaf_size=30, n_neighbors=13 ...................\n",
            "[CV]  algorithm=brute, leaf_size=30, n_neighbors=13, score=0.926, total=   0.3s\n",
            "[CV] algorithm=brute, leaf_size=30, n_neighbors=13 ...................\n",
            "[CV]  algorithm=brute, leaf_size=30, n_neighbors=13, score=0.941, total=   0.3s\n",
            "[CV] algorithm=brute, leaf_size=30, n_neighbors=13 ...................\n",
            "[CV]  algorithm=brute, leaf_size=30, n_neighbors=13, score=0.927, total=   0.3s\n",
            "[CV] algorithm=brute, leaf_size=30, n_neighbors=13 ...................\n",
            "[CV]  algorithm=brute, leaf_size=30, n_neighbors=13, score=0.938, total=   0.3s\n",
            "[CV] algorithm=brute, leaf_size=30, n_neighbors=13 ...................\n",
            "[CV]  algorithm=brute, leaf_size=30, n_neighbors=13, score=0.922, total=   0.3s\n",
            "[CV] algorithm=brute, leaf_size=32, n_neighbors=3 ....................\n",
            "[CV]  algorithm=brute, leaf_size=32, n_neighbors=3, score=0.940, total=   0.2s\n",
            "[CV] algorithm=brute, leaf_size=32, n_neighbors=3 ....................\n",
            "[CV]  algorithm=brute, leaf_size=32, n_neighbors=3, score=0.944, total=   0.2s\n",
            "[CV] algorithm=brute, leaf_size=32, n_neighbors=3 ....................\n",
            "[CV]  algorithm=brute, leaf_size=32, n_neighbors=3, score=0.938, total=   0.2s\n",
            "[CV] algorithm=brute, leaf_size=32, n_neighbors=3 ....................\n",
            "[CV]  algorithm=brute, leaf_size=32, n_neighbors=3, score=0.939, total=   0.2s\n",
            "[CV] algorithm=brute, leaf_size=32, n_neighbors=3 ....................\n",
            "[CV]  algorithm=brute, leaf_size=32, n_neighbors=3, score=0.942, total=   0.2s\n",
            "[CV] algorithm=brute, leaf_size=32, n_neighbors=5 ....................\n",
            "[CV]  algorithm=brute, leaf_size=32, n_neighbors=5, score=0.937, total=   0.3s\n",
            "[CV] algorithm=brute, leaf_size=32, n_neighbors=5 ....................\n",
            "[CV]  algorithm=brute, leaf_size=32, n_neighbors=5, score=0.941, total=   0.3s\n",
            "[CV] algorithm=brute, leaf_size=32, n_neighbors=5 ....................\n",
            "[CV]  algorithm=brute, leaf_size=32, n_neighbors=5, score=0.931, total=   0.3s\n",
            "[CV] algorithm=brute, leaf_size=32, n_neighbors=5 ....................\n",
            "[CV]  algorithm=brute, leaf_size=32, n_neighbors=5, score=0.937, total=   0.3s\n",
            "[CV] algorithm=brute, leaf_size=32, n_neighbors=5 ....................\n",
            "[CV]  algorithm=brute, leaf_size=32, n_neighbors=5, score=0.933, total=   0.3s\n",
            "[CV] algorithm=brute, leaf_size=32, n_neighbors=7 ....................\n",
            "[CV]  algorithm=brute, leaf_size=32, n_neighbors=7, score=0.932, total=   0.3s\n",
            "[CV] algorithm=brute, leaf_size=32, n_neighbors=7 ....................\n",
            "[CV]  algorithm=brute, leaf_size=32, n_neighbors=7, score=0.938, total=   0.3s\n",
            "[CV] algorithm=brute, leaf_size=32, n_neighbors=7 ....................\n",
            "[CV]  algorithm=brute, leaf_size=32, n_neighbors=7, score=0.932, total=   0.3s\n",
            "[CV] algorithm=brute, leaf_size=32, n_neighbors=7 ....................\n",
            "[CV]  algorithm=brute, leaf_size=32, n_neighbors=7, score=0.928, total=   0.3s\n",
            "[CV] algorithm=brute, leaf_size=32, n_neighbors=7 ....................\n",
            "[CV]  algorithm=brute, leaf_size=32, n_neighbors=7, score=0.926, total=   0.3s\n",
            "[CV] algorithm=brute, leaf_size=32, n_neighbors=9 ....................\n",
            "[CV]  algorithm=brute, leaf_size=32, n_neighbors=9, score=0.930, total=   0.3s\n",
            "[CV] algorithm=brute, leaf_size=32, n_neighbors=9 ....................\n",
            "[CV]  algorithm=brute, leaf_size=32, n_neighbors=9, score=0.939, total=   0.3s\n",
            "[CV] algorithm=brute, leaf_size=32, n_neighbors=9 ....................\n",
            "[CV]  algorithm=brute, leaf_size=32, n_neighbors=9, score=0.930, total=   0.3s\n",
            "[CV] algorithm=brute, leaf_size=32, n_neighbors=9 ....................\n",
            "[CV]  algorithm=brute, leaf_size=32, n_neighbors=9, score=0.935, total=   0.3s\n",
            "[CV] algorithm=brute, leaf_size=32, n_neighbors=9 ....................\n",
            "[CV]  algorithm=brute, leaf_size=32, n_neighbors=9, score=0.928, total=   0.3s\n",
            "[CV] algorithm=brute, leaf_size=32, n_neighbors=10 ...................\n",
            "[CV]  algorithm=brute, leaf_size=32, n_neighbors=10, score=0.928, total=   0.3s\n",
            "[CV] algorithm=brute, leaf_size=32, n_neighbors=10 ...................\n",
            "[CV]  algorithm=brute, leaf_size=32, n_neighbors=10, score=0.934, total=   0.3s\n",
            "[CV] algorithm=brute, leaf_size=32, n_neighbors=10 ...................\n",
            "[CV]  algorithm=brute, leaf_size=32, n_neighbors=10, score=0.932, total=   0.3s\n",
            "[CV] algorithm=brute, leaf_size=32, n_neighbors=10 ...................\n",
            "[CV]  algorithm=brute, leaf_size=32, n_neighbors=10, score=0.931, total=   0.3s\n",
            "[CV] algorithm=brute, leaf_size=32, n_neighbors=10 ...................\n",
            "[CV]  algorithm=brute, leaf_size=32, n_neighbors=10, score=0.922, total=   0.3s\n",
            "[CV] algorithm=brute, leaf_size=32, n_neighbors=11 ...................\n",
            "[CV]  algorithm=brute, leaf_size=32, n_neighbors=11, score=0.932, total=   0.3s\n",
            "[CV] algorithm=brute, leaf_size=32, n_neighbors=11 ...................\n",
            "[CV]  algorithm=brute, leaf_size=32, n_neighbors=11, score=0.940, total=   0.3s\n",
            "[CV] algorithm=brute, leaf_size=32, n_neighbors=11 ...................\n",
            "[CV]  algorithm=brute, leaf_size=32, n_neighbors=11, score=0.928, total=   0.3s\n",
            "[CV] algorithm=brute, leaf_size=32, n_neighbors=11 ...................\n",
            "[CV]  algorithm=brute, leaf_size=32, n_neighbors=11, score=0.937, total=   0.3s\n",
            "[CV] algorithm=brute, leaf_size=32, n_neighbors=11 ...................\n",
            "[CV]  algorithm=brute, leaf_size=32, n_neighbors=11, score=0.924, total=   0.3s\n",
            "[CV] algorithm=brute, leaf_size=32, n_neighbors=12 ...................\n",
            "[CV]  algorithm=brute, leaf_size=32, n_neighbors=12, score=0.928, total=   0.3s\n",
            "[CV] algorithm=brute, leaf_size=32, n_neighbors=12 ...................\n",
            "[CV]  algorithm=brute, leaf_size=32, n_neighbors=12, score=0.939, total=   0.3s\n",
            "[CV] algorithm=brute, leaf_size=32, n_neighbors=12 ...................\n",
            "[CV]  algorithm=brute, leaf_size=32, n_neighbors=12, score=0.930, total=   0.3s\n",
            "[CV] algorithm=brute, leaf_size=32, n_neighbors=12 ...................\n",
            "[CV]  algorithm=brute, leaf_size=32, n_neighbors=12, score=0.935, total=   0.3s\n",
            "[CV] algorithm=brute, leaf_size=32, n_neighbors=12 ...................\n",
            "[CV]  algorithm=brute, leaf_size=32, n_neighbors=12, score=0.917, total=   0.3s\n",
            "[CV] algorithm=brute, leaf_size=32, n_neighbors=13 ...................\n",
            "[CV]  algorithm=brute, leaf_size=32, n_neighbors=13, score=0.926, total=   0.3s\n",
            "[CV] algorithm=brute, leaf_size=32, n_neighbors=13 ...................\n",
            "[CV]  algorithm=brute, leaf_size=32, n_neighbors=13, score=0.941, total=   0.3s\n",
            "[CV] algorithm=brute, leaf_size=32, n_neighbors=13 ...................\n",
            "[CV]  algorithm=brute, leaf_size=32, n_neighbors=13, score=0.927, total=   0.3s\n",
            "[CV] algorithm=brute, leaf_size=32, n_neighbors=13 ...................\n",
            "[CV]  algorithm=brute, leaf_size=32, n_neighbors=13, score=0.938, total=   0.3s\n",
            "[CV] algorithm=brute, leaf_size=32, n_neighbors=13 ...................\n",
            "[CV]  algorithm=brute, leaf_size=32, n_neighbors=13, score=0.922, total=   0.3s\n",
            "[CV] algorithm=brute, leaf_size=34, n_neighbors=3 ....................\n",
            "[CV]  algorithm=brute, leaf_size=34, n_neighbors=3, score=0.940, total=   0.2s\n",
            "[CV] algorithm=brute, leaf_size=34, n_neighbors=3 ....................\n",
            "[CV]  algorithm=brute, leaf_size=34, n_neighbors=3, score=0.944, total=   0.2s\n",
            "[CV] algorithm=brute, leaf_size=34, n_neighbors=3 ....................\n",
            "[CV]  algorithm=brute, leaf_size=34, n_neighbors=3, score=0.938, total=   0.2s\n",
            "[CV] algorithm=brute, leaf_size=34, n_neighbors=3 ....................\n",
            "[CV]  algorithm=brute, leaf_size=34, n_neighbors=3, score=0.939, total=   0.2s\n",
            "[CV] algorithm=brute, leaf_size=34, n_neighbors=3 ....................\n",
            "[CV]  algorithm=brute, leaf_size=34, n_neighbors=3, score=0.942, total=   0.3s\n",
            "[CV] algorithm=brute, leaf_size=34, n_neighbors=5 ....................\n",
            "[CV]  algorithm=brute, leaf_size=34, n_neighbors=5, score=0.937, total=   0.3s\n",
            "[CV] algorithm=brute, leaf_size=34, n_neighbors=5 ....................\n",
            "[CV]  algorithm=brute, leaf_size=34, n_neighbors=5, score=0.941, total=   0.3s\n",
            "[CV] algorithm=brute, leaf_size=34, n_neighbors=5 ....................\n",
            "[CV]  algorithm=brute, leaf_size=34, n_neighbors=5, score=0.931, total=   0.3s\n",
            "[CV] algorithm=brute, leaf_size=34, n_neighbors=5 ....................\n",
            "[CV]  algorithm=brute, leaf_size=34, n_neighbors=5, score=0.937, total=   0.3s\n",
            "[CV] algorithm=brute, leaf_size=34, n_neighbors=5 ....................\n",
            "[CV]  algorithm=brute, leaf_size=34, n_neighbors=5, score=0.933, total=   0.3s\n",
            "[CV] algorithm=brute, leaf_size=34, n_neighbors=7 ....................\n",
            "[CV]  algorithm=brute, leaf_size=34, n_neighbors=7, score=0.932, total=   0.3s\n",
            "[CV] algorithm=brute, leaf_size=34, n_neighbors=7 ....................\n",
            "[CV]  algorithm=brute, leaf_size=34, n_neighbors=7, score=0.938, total=   0.3s\n",
            "[CV] algorithm=brute, leaf_size=34, n_neighbors=7 ....................\n",
            "[CV]  algorithm=brute, leaf_size=34, n_neighbors=7, score=0.932, total=   0.3s\n",
            "[CV] algorithm=brute, leaf_size=34, n_neighbors=7 ....................\n",
            "[CV]  algorithm=brute, leaf_size=34, n_neighbors=7, score=0.928, total=   0.3s\n",
            "[CV] algorithm=brute, leaf_size=34, n_neighbors=7 ....................\n",
            "[CV]  algorithm=brute, leaf_size=34, n_neighbors=7, score=0.926, total=   0.3s\n",
            "[CV] algorithm=brute, leaf_size=34, n_neighbors=9 ....................\n",
            "[CV]  algorithm=brute, leaf_size=34, n_neighbors=9, score=0.930, total=   0.3s\n",
            "[CV] algorithm=brute, leaf_size=34, n_neighbors=9 ....................\n",
            "[CV]  algorithm=brute, leaf_size=34, n_neighbors=9, score=0.939, total=   0.3s\n",
            "[CV] algorithm=brute, leaf_size=34, n_neighbors=9 ....................\n",
            "[CV]  algorithm=brute, leaf_size=34, n_neighbors=9, score=0.930, total=   0.3s\n",
            "[CV] algorithm=brute, leaf_size=34, n_neighbors=9 ....................\n",
            "[CV]  algorithm=brute, leaf_size=34, n_neighbors=9, score=0.935, total=   0.3s\n",
            "[CV] algorithm=brute, leaf_size=34, n_neighbors=9 ....................\n",
            "[CV]  algorithm=brute, leaf_size=34, n_neighbors=9, score=0.928, total=   0.3s\n",
            "[CV] algorithm=brute, leaf_size=34, n_neighbors=10 ...................\n",
            "[CV]  algorithm=brute, leaf_size=34, n_neighbors=10, score=0.928, total=   0.3s\n",
            "[CV] algorithm=brute, leaf_size=34, n_neighbors=10 ...................\n",
            "[CV]  algorithm=brute, leaf_size=34, n_neighbors=10, score=0.934, total=   0.3s\n",
            "[CV] algorithm=brute, leaf_size=34, n_neighbors=10 ...................\n",
            "[CV]  algorithm=brute, leaf_size=34, n_neighbors=10, score=0.932, total=   0.3s\n",
            "[CV] algorithm=brute, leaf_size=34, n_neighbors=10 ...................\n",
            "[CV]  algorithm=brute, leaf_size=34, n_neighbors=10, score=0.931, total=   0.3s\n",
            "[CV] algorithm=brute, leaf_size=34, n_neighbors=10 ...................\n",
            "[CV]  algorithm=brute, leaf_size=34, n_neighbors=10, score=0.922, total=   0.3s\n",
            "[CV] algorithm=brute, leaf_size=34, n_neighbors=11 ...................\n",
            "[CV]  algorithm=brute, leaf_size=34, n_neighbors=11, score=0.932, total=   0.3s\n",
            "[CV] algorithm=brute, leaf_size=34, n_neighbors=11 ...................\n",
            "[CV]  algorithm=brute, leaf_size=34, n_neighbors=11, score=0.940, total=   0.3s\n",
            "[CV] algorithm=brute, leaf_size=34, n_neighbors=11 ...................\n",
            "[CV]  algorithm=brute, leaf_size=34, n_neighbors=11, score=0.928, total=   0.3s\n",
            "[CV] algorithm=brute, leaf_size=34, n_neighbors=11 ...................\n",
            "[CV]  algorithm=brute, leaf_size=34, n_neighbors=11, score=0.937, total=   0.3s\n",
            "[CV] algorithm=brute, leaf_size=34, n_neighbors=11 ...................\n",
            "[CV]  algorithm=brute, leaf_size=34, n_neighbors=11, score=0.924, total=   0.3s\n",
            "[CV] algorithm=brute, leaf_size=34, n_neighbors=12 ...................\n",
            "[CV]  algorithm=brute, leaf_size=34, n_neighbors=12, score=0.928, total=   0.3s\n",
            "[CV] algorithm=brute, leaf_size=34, n_neighbors=12 ...................\n",
            "[CV]  algorithm=brute, leaf_size=34, n_neighbors=12, score=0.939, total=   0.3s\n",
            "[CV] algorithm=brute, leaf_size=34, n_neighbors=12 ...................\n",
            "[CV]  algorithm=brute, leaf_size=34, n_neighbors=12, score=0.930, total=   0.3s\n",
            "[CV] algorithm=brute, leaf_size=34, n_neighbors=12 ...................\n",
            "[CV]  algorithm=brute, leaf_size=34, n_neighbors=12, score=0.935, total=   0.3s\n",
            "[CV] algorithm=brute, leaf_size=34, n_neighbors=12 ...................\n",
            "[CV]  algorithm=brute, leaf_size=34, n_neighbors=12, score=0.917, total=   0.3s\n",
            "[CV] algorithm=brute, leaf_size=34, n_neighbors=13 ...................\n",
            "[CV]  algorithm=brute, leaf_size=34, n_neighbors=13, score=0.926, total=   0.3s\n",
            "[CV] algorithm=brute, leaf_size=34, n_neighbors=13 ...................\n",
            "[CV]  algorithm=brute, leaf_size=34, n_neighbors=13, score=0.941, total=   0.3s\n",
            "[CV] algorithm=brute, leaf_size=34, n_neighbors=13 ...................\n",
            "[CV]  algorithm=brute, leaf_size=34, n_neighbors=13, score=0.927, total=   0.3s\n",
            "[CV] algorithm=brute, leaf_size=34, n_neighbors=13 ...................\n",
            "[CV]  algorithm=brute, leaf_size=34, n_neighbors=13, score=0.938, total=   0.3s\n",
            "[CV] algorithm=brute, leaf_size=34, n_neighbors=13 ...................\n",
            "[CV]  algorithm=brute, leaf_size=34, n_neighbors=13, score=0.922, total=   0.3s\n",
            "[CV] algorithm=brute, leaf_size=35, n_neighbors=3 ....................\n",
            "[CV]  algorithm=brute, leaf_size=35, n_neighbors=3, score=0.940, total=   0.2s\n",
            "[CV] algorithm=brute, leaf_size=35, n_neighbors=3 ....................\n",
            "[CV]  algorithm=brute, leaf_size=35, n_neighbors=3, score=0.944, total=   0.2s\n",
            "[CV] algorithm=brute, leaf_size=35, n_neighbors=3 ....................\n",
            "[CV]  algorithm=brute, leaf_size=35, n_neighbors=3, score=0.938, total=   0.3s\n",
            "[CV] algorithm=brute, leaf_size=35, n_neighbors=3 ....................\n",
            "[CV]  algorithm=brute, leaf_size=35, n_neighbors=3, score=0.939, total=   0.3s\n",
            "[CV] algorithm=brute, leaf_size=35, n_neighbors=3 ....................\n",
            "[CV]  algorithm=brute, leaf_size=35, n_neighbors=3, score=0.942, total=   0.2s\n",
            "[CV] algorithm=brute, leaf_size=35, n_neighbors=5 ....................\n",
            "[CV]  algorithm=brute, leaf_size=35, n_neighbors=5, score=0.937, total=   0.3s\n",
            "[CV] algorithm=brute, leaf_size=35, n_neighbors=5 ....................\n",
            "[CV]  algorithm=brute, leaf_size=35, n_neighbors=5, score=0.941, total=   0.3s\n",
            "[CV] algorithm=brute, leaf_size=35, n_neighbors=5 ....................\n",
            "[CV]  algorithm=brute, leaf_size=35, n_neighbors=5, score=0.931, total=   0.3s\n",
            "[CV] algorithm=brute, leaf_size=35, n_neighbors=5 ....................\n",
            "[CV]  algorithm=brute, leaf_size=35, n_neighbors=5, score=0.937, total=   0.3s\n",
            "[CV] algorithm=brute, leaf_size=35, n_neighbors=5 ....................\n",
            "[CV]  algorithm=brute, leaf_size=35, n_neighbors=5, score=0.933, total=   0.3s\n",
            "[CV] algorithm=brute, leaf_size=35, n_neighbors=7 ....................\n",
            "[CV]  algorithm=brute, leaf_size=35, n_neighbors=7, score=0.932, total=   0.3s\n",
            "[CV] algorithm=brute, leaf_size=35, n_neighbors=7 ....................\n",
            "[CV]  algorithm=brute, leaf_size=35, n_neighbors=7, score=0.938, total=   0.3s\n",
            "[CV] algorithm=brute, leaf_size=35, n_neighbors=7 ....................\n",
            "[CV]  algorithm=brute, leaf_size=35, n_neighbors=7, score=0.932, total=   0.3s\n",
            "[CV] algorithm=brute, leaf_size=35, n_neighbors=7 ....................\n",
            "[CV]  algorithm=brute, leaf_size=35, n_neighbors=7, score=0.928, total=   0.3s\n",
            "[CV] algorithm=brute, leaf_size=35, n_neighbors=7 ....................\n",
            "[CV]  algorithm=brute, leaf_size=35, n_neighbors=7, score=0.926, total=   0.3s\n",
            "[CV] algorithm=brute, leaf_size=35, n_neighbors=9 ....................\n",
            "[CV]  algorithm=brute, leaf_size=35, n_neighbors=9, score=0.930, total=   0.3s\n",
            "[CV] algorithm=brute, leaf_size=35, n_neighbors=9 ....................\n",
            "[CV]  algorithm=brute, leaf_size=35, n_neighbors=9, score=0.939, total=   0.3s\n",
            "[CV] algorithm=brute, leaf_size=35, n_neighbors=9 ....................\n",
            "[CV]  algorithm=brute, leaf_size=35, n_neighbors=9, score=0.930, total=   0.3s\n",
            "[CV] algorithm=brute, leaf_size=35, n_neighbors=9 ....................\n",
            "[CV]  algorithm=brute, leaf_size=35, n_neighbors=9, score=0.935, total=   0.3s\n",
            "[CV] algorithm=brute, leaf_size=35, n_neighbors=9 ....................\n",
            "[CV]  algorithm=brute, leaf_size=35, n_neighbors=9, score=0.928, total=   0.3s\n",
            "[CV] algorithm=brute, leaf_size=35, n_neighbors=10 ...................\n",
            "[CV]  algorithm=brute, leaf_size=35, n_neighbors=10, score=0.928, total=   0.3s\n",
            "[CV] algorithm=brute, leaf_size=35, n_neighbors=10 ...................\n",
            "[CV]  algorithm=brute, leaf_size=35, n_neighbors=10, score=0.934, total=   0.3s\n",
            "[CV] algorithm=brute, leaf_size=35, n_neighbors=10 ...................\n",
            "[CV]  algorithm=brute, leaf_size=35, n_neighbors=10, score=0.932, total=   0.3s\n",
            "[CV] algorithm=brute, leaf_size=35, n_neighbors=10 ...................\n",
            "[CV]  algorithm=brute, leaf_size=35, n_neighbors=10, score=0.931, total=   0.3s\n",
            "[CV] algorithm=brute, leaf_size=35, n_neighbors=10 ...................\n",
            "[CV]  algorithm=brute, leaf_size=35, n_neighbors=10, score=0.922, total=   0.3s\n",
            "[CV] algorithm=brute, leaf_size=35, n_neighbors=11 ...................\n",
            "[CV]  algorithm=brute, leaf_size=35, n_neighbors=11, score=0.932, total=   0.3s\n",
            "[CV] algorithm=brute, leaf_size=35, n_neighbors=11 ...................\n",
            "[CV]  algorithm=brute, leaf_size=35, n_neighbors=11, score=0.940, total=   0.3s\n",
            "[CV] algorithm=brute, leaf_size=35, n_neighbors=11 ...................\n",
            "[CV]  algorithm=brute, leaf_size=35, n_neighbors=11, score=0.928, total=   0.3s\n",
            "[CV] algorithm=brute, leaf_size=35, n_neighbors=11 ...................\n",
            "[CV]  algorithm=brute, leaf_size=35, n_neighbors=11, score=0.937, total=   0.3s\n",
            "[CV] algorithm=brute, leaf_size=35, n_neighbors=11 ...................\n",
            "[CV]  algorithm=brute, leaf_size=35, n_neighbors=11, score=0.924, total=   0.3s\n",
            "[CV] algorithm=brute, leaf_size=35, n_neighbors=12 ...................\n",
            "[CV]  algorithm=brute, leaf_size=35, n_neighbors=12, score=0.928, total=   0.3s\n",
            "[CV] algorithm=brute, leaf_size=35, n_neighbors=12 ...................\n",
            "[CV]  algorithm=brute, leaf_size=35, n_neighbors=12, score=0.939, total=   0.3s\n",
            "[CV] algorithm=brute, leaf_size=35, n_neighbors=12 ...................\n",
            "[CV]  algorithm=brute, leaf_size=35, n_neighbors=12, score=0.930, total=   0.3s\n",
            "[CV] algorithm=brute, leaf_size=35, n_neighbors=12 ...................\n",
            "[CV]  algorithm=brute, leaf_size=35, n_neighbors=12, score=0.935, total=   0.3s\n",
            "[CV] algorithm=brute, leaf_size=35, n_neighbors=12 ...................\n",
            "[CV]  algorithm=brute, leaf_size=35, n_neighbors=12, score=0.917, total=   0.3s\n",
            "[CV] algorithm=brute, leaf_size=35, n_neighbors=13 ...................\n",
            "[CV]  algorithm=brute, leaf_size=35, n_neighbors=13, score=0.926, total=   0.3s\n",
            "[CV] algorithm=brute, leaf_size=35, n_neighbors=13 ...................\n",
            "[CV]  algorithm=brute, leaf_size=35, n_neighbors=13, score=0.941, total=   0.3s\n",
            "[CV] algorithm=brute, leaf_size=35, n_neighbors=13 ...................\n",
            "[CV]  algorithm=brute, leaf_size=35, n_neighbors=13, score=0.927, total=   0.3s\n",
            "[CV] algorithm=brute, leaf_size=35, n_neighbors=13 ...................\n",
            "[CV]  algorithm=brute, leaf_size=35, n_neighbors=13, score=0.938, total=   0.3s\n",
            "[CV] algorithm=brute, leaf_size=35, n_neighbors=13 ...................\n",
            "[CV]  algorithm=brute, leaf_size=35, n_neighbors=13, score=0.922, total=   0.3s\n"
          ],
          "name": "stdout"
        },
        {
          "output_type": "stream",
          "text": [
            "[Parallel(n_jobs=1)]: Done 960 out of 960 | elapsed:  7.9min finished\n"
          ],
          "name": "stderr"
        },
        {
          "output_type": "execute_result",
          "data": {
            "text/plain": [
              "{'algorithm': 'ball_tree', 'leaf_size': 18, 'n_neighbors': 3}"
            ]
          },
          "metadata": {
            "tags": []
          },
          "execution_count": 120
        }
      ]
    },
    {
      "cell_type": "code",
      "metadata": {
        "colab": {
          "base_uri": "https://localhost:8080/"
        },
        "id": "CDlV8_ediu0L",
        "outputId": "785f396b-d9dc-4475-ec39-7f8d751453fd"
      },
      "source": [
        "knn1 = KNeighborsClassifier(algorithm=\"ball_tree\",leaf_size = 18, n_neighbors=3)\n",
        "knn1.fit(x_train,y_train)"
      ],
      "execution_count": 121,
      "outputs": [
        {
          "output_type": "execute_result",
          "data": {
            "text/plain": [
              "KNeighborsClassifier(algorithm='ball_tree', leaf_size=18, metric='minkowski',\n",
              "                     metric_params=None, n_jobs=None, n_neighbors=3, p=2,\n",
              "                     weights='uniform')"
            ]
          },
          "metadata": {
            "tags": []
          },
          "execution_count": 121
        }
      ]
    },
    {
      "cell_type": "code",
      "metadata": {
        "colab": {
          "base_uri": "https://localhost:8080/"
        },
        "id": "tsd14IDZiuw2",
        "outputId": "ffbd6eb0-a39d-4fac-8567-86044208ea81"
      },
      "source": [
        "y_pred_knn1 = knn1.predict(x_test);y_pred_knn1"
      ],
      "execution_count": 122,
      "outputs": [
        {
          "output_type": "execute_result",
          "data": {
            "text/plain": [
              "array([-1,  1, -1, ...,  1,  1,  1])"
            ]
          },
          "metadata": {
            "tags": []
          },
          "execution_count": 122
        }
      ]
    },
    {
      "cell_type": "code",
      "metadata": {
        "colab": {
          "base_uri": "https://localhost:8080/"
        },
        "id": "WoBCjTxiiuus",
        "outputId": "21e1d94c-07fe-4a3f-b9f2-913ec55a79f2"
      },
      "source": [
        "confusion_matrix(y_test,y_pred_knn1)"
      ],
      "execution_count": 123,
      "outputs": [
        {
          "output_type": "execute_result",
          "data": {
            "text/plain": [
              "array([[1361,  119],\n",
              "       [  75, 1762]])"
            ]
          },
          "metadata": {
            "tags": []
          },
          "execution_count": 123
        }
      ]
    },
    {
      "cell_type": "code",
      "metadata": {
        "colab": {
          "base_uri": "https://localhost:8080/"
        },
        "id": "YCehICmjiuqS",
        "outputId": "37695ab2-5874-4693-d531-87028f3507f1"
      },
      "source": [
        "accuracy_score(y_test,y_pred_knn1)"
      ],
      "execution_count": 124,
      "outputs": [
        {
          "output_type": "execute_result",
          "data": {
            "text/plain": [
              "0.9415134157371119"
            ]
          },
          "metadata": {
            "tags": []
          },
          "execution_count": 124
        }
      ]
    },
    {
      "cell_type": "code",
      "metadata": {
        "colab": {
          "base_uri": "https://localhost:8080/"
        },
        "id": "ppyiiLsYiula",
        "outputId": "79bcb76e-8417-4596-b5f8-f16ae04bd87e"
      },
      "source": [
        "print(classification_report(y_test,y_pred_knn1))"
      ],
      "execution_count": 125,
      "outputs": [
        {
          "output_type": "stream",
          "text": [
            "              precision    recall  f1-score   support\n",
            "\n",
            "          -1       0.95      0.92      0.93      1480\n",
            "           1       0.94      0.96      0.95      1837\n",
            "\n",
            "    accuracy                           0.94      3317\n",
            "   macro avg       0.94      0.94      0.94      3317\n",
            "weighted avg       0.94      0.94      0.94      3317\n",
            "\n"
          ],
          "name": "stdout"
        }
      ]
    },
    {
      "cell_type": "code",
      "metadata": {
        "colab": {
          "base_uri": "https://localhost:8080/"
        },
        "id": "_fZ2YxuViuiO",
        "outputId": "f8084435-d524-4970-dd5e-c71b94fa4772"
      },
      "source": [
        "auc_knn1 = roc_auc_score(y_test,y_pred_knn1);auc_knn1"
      ],
      "execution_count": 126,
      "outputs": [
        {
          "output_type": "execute_result",
          "data": {
            "text/plain": [
              "0.9393835792787888"
            ]
          },
          "metadata": {
            "tags": []
          },
          "execution_count": 126
        }
      ]
    },
    {
      "cell_type": "code",
      "metadata": {
        "colab": {
          "base_uri": "https://localhost:8080/"
        },
        "id": "jMD4FL3-iufM",
        "outputId": "dbe22491-a301-48c3-ae05-91f443910906"
      },
      "source": [
        "y_pred_prob_knn1 = knn1.predict_proba(x_test);y_pred_prob_knn1"
      ],
      "execution_count": 127,
      "outputs": [
        {
          "output_type": "execute_result",
          "data": {
            "text/plain": [
              "array([[0.66666667, 0.33333333],\n",
              "       [0.        , 1.        ],\n",
              "       [1.        , 0.        ],\n",
              "       ...,\n",
              "       [0.        , 1.        ],\n",
              "       [0.        , 1.        ],\n",
              "       [0.        , 1.        ]])"
            ]
          },
          "metadata": {
            "tags": []
          },
          "execution_count": 127
        }
      ]
    },
    {
      "cell_type": "code",
      "metadata": {
        "colab": {
          "base_uri": "https://localhost:8080/",
          "height": 313
        },
        "id": "lM97yaWOiucL",
        "outputId": "06136aa5-4de0-4a67-99aa-8fd41daeb569"
      },
      "source": [
        "fpr,tpr,thresholds = roc_curve(y_test,y_pred_prob_knn1[:,1])\n",
        "\n",
        "# ROC curve\n",
        "plt.plot(fpr, tpr, color='orange', label='ROC')\n",
        "plt.plot([0, 1], [0, 1], color='darkblue', linestyle='--',label='ROC curve (area = %0.2f)' % auc_knn1)\n",
        "plt.xlabel('False Positive Rate')\n",
        "plt.ylabel('True Positive Rate')\n",
        "plt.title('Receiver Operating Characteristic (ROC) Curve')\n",
        "plt.legend()\n",
        "plt.show()\n",
        "print(roc_auc_score(y_test, y_pred_knn1))"
      ],
      "execution_count": 128,
      "outputs": [
        {
          "output_type": "display_data",
          "data": {
            "image/png": "[encoded data removed]",
            "text/plain": [
              "<Figure size 432x288 with 1 Axes>"
            ]
          },
          "metadata": {
            "tags": [],
            "needs_background": "light"
          }
        },
        {
          "output_type": "stream",
          "text": [
            "0.9393835792787888\n"
          ],
          "name": "stdout"
        }
      ]
    },
    {
      "cell_type": "markdown",
      "metadata": {
        "id": "W6eATGvSortM"
      },
      "source": [
        "## SVM"
      ]
    },
    {
      "cell_type": "code",
      "metadata": {
        "colab": {
          "base_uri": "https://localhost:8080/"
        },
        "id": "NPY3dS_9iuaZ",
        "outputId": "9293832b-cf29-446c-eef9-cad08792a4e8"
      },
      "source": [
        "from sklearn.svm import SVC\n",
        "sv = SVC(probability = True, random_state = 265)\n",
        "sv.fit(x_train,y_train)"
      ],
      "execution_count": 129,
      "outputs": [
        {
          "output_type": "execute_result",
          "data": {
            "text/plain": [
              "SVC(C=1.0, break_ties=False, cache_size=200, class_weight=None, coef0=0.0,\n",
              "    decision_function_shape='ovr', degree=3, gamma='scale', kernel='rbf',\n",
              "    max_iter=-1, probability=True, random_state=265, shrinking=True, tol=0.001,\n",
              "    verbose=False)"
            ]
          },
          "metadata": {
            "tags": []
          },
          "execution_count": 129
        }
      ]
    },
    {
      "cell_type": "code",
      "metadata": {
        "colab": {
          "base_uri": "https://localhost:8080/"
        },
        "id": "N2scWKMviuXm",
        "outputId": "b80d4ca4-563d-4d87-c998-b60452419db5"
      },
      "source": [
        "y_pred_sv = sv.predict(x_test);y_pred_sv"
      ],
      "execution_count": 130,
      "outputs": [
        {
          "output_type": "execute_result",
          "data": {
            "text/plain": [
              "array([-1,  1, -1, ...,  1,  1,  1])"
            ]
          },
          "metadata": {
            "tags": []
          },
          "execution_count": 130
        }
      ]
    },
    {
      "cell_type": "code",
      "metadata": {
        "colab": {
          "base_uri": "https://localhost:8080/"
        },
        "id": "I-Mq8bfEiuVf",
        "outputId": "9c54872f-a076-4579-b388-ce5e3e299ecd"
      },
      "source": [
        "confusion_matrix(y_test,y_pred_sv)"
      ],
      "execution_count": 131,
      "outputs": [
        {
          "output_type": "execute_result",
          "data": {
            "text/plain": [
              "array([[1354,  126],\n",
              "       [  59, 1778]])"
            ]
          },
          "metadata": {
            "tags": []
          },
          "execution_count": 131
        }
      ]
    },
    {
      "cell_type": "code",
      "metadata": {
        "colab": {
          "base_uri": "https://localhost:8080/"
        },
        "id": "izpFJ3ywpb0t",
        "outputId": "54faa4eb-c5b0-4825-89ab-544ff7e1b3f2"
      },
      "source": [
        "accuracy_score(y_test,y_pred_sv)"
      ],
      "execution_count": 132,
      "outputs": [
        {
          "output_type": "execute_result",
          "data": {
            "text/plain": [
              "0.9442267108833283"
            ]
          },
          "metadata": {
            "tags": []
          },
          "execution_count": 132
        }
      ]
    },
    {
      "cell_type": "code",
      "metadata": {
        "colab": {
          "base_uri": "https://localhost:8080/"
        },
        "id": "bvl7PSBSpbxB",
        "outputId": "153cb2ae-5b18-45ab-a701-fe4f27a5b7e6"
      },
      "source": [
        "print(classification_report(y_test,y_pred_sv))"
      ],
      "execution_count": 133,
      "outputs": [
        {
          "output_type": "stream",
          "text": [
            "              precision    recall  f1-score   support\n",
            "\n",
            "          -1       0.96      0.91      0.94      1480\n",
            "           1       0.93      0.97      0.95      1837\n",
            "\n",
            "    accuracy                           0.94      3317\n",
            "   macro avg       0.95      0.94      0.94      3317\n",
            "weighted avg       0.94      0.94      0.94      3317\n",
            "\n"
          ],
          "name": "stdout"
        }
      ]
    },
    {
      "cell_type": "code",
      "metadata": {
        "colab": {
          "base_uri": "https://localhost:8080/"
        },
        "id": "HcGX4GqIpbtm",
        "outputId": "a3b21a7d-a661-4ee9-a6b8-9d473708983e"
      },
      "source": [
        "auc_sv = roc_auc_score(y_test,y_pred_sv);auc_sv"
      ],
      "execution_count": 134,
      "outputs": [
        {
          "output_type": "execute_result",
          "data": {
            "text/plain": [
              "0.941373640924539"
            ]
          },
          "metadata": {
            "tags": []
          },
          "execution_count": 134
        }
      ]
    },
    {
      "cell_type": "code",
      "metadata": {
        "colab": {
          "base_uri": "https://localhost:8080/"
        },
        "id": "aAdc0fYKpbq2",
        "outputId": "d511b80c-f80f-47c2-c7b4-d3f1cd3d9a28"
      },
      "source": [
        "y_pred_prob_sv = sv.predict_proba(x_test);y_pred_prob_sv"
      ],
      "execution_count": 135,
      "outputs": [
        {
          "output_type": "execute_result",
          "data": {
            "text/plain": [
              "array([[6.97213442e-01, 3.02786558e-01],\n",
              "       [6.94651757e-02, 9.30534824e-01],\n",
              "       [9.99546703e-01, 4.53297055e-04],\n",
              "       ...,\n",
              "       [6.46968171e-02, 9.35303183e-01],\n",
              "       [2.40887379e-02, 9.75911262e-01],\n",
              "       [6.05365665e-02, 9.39463434e-01]])"
            ]
          },
          "metadata": {
            "tags": []
          },
          "execution_count": 135
        }
      ]
    },
    {
      "cell_type": "code",
      "metadata": {
        "colab": {
          "base_uri": "https://localhost:8080/",
          "height": 313
        },
        "id": "3YcS7bp3pboS",
        "outputId": "1dba1e5e-e641-4edf-daa6-b7895e5b5e77"
      },
      "source": [
        "fpr,tpr,thresholds = roc_curve(y_test,y_pred_prob_sv[:,1])\n",
        "\n",
        "# ROC curve\n",
        "plt.plot(fpr, tpr, color='orange', label='ROC')\n",
        "plt.plot([0, 1], [0, 1], color='darkblue', linestyle='--',label='ROC curve (area = %0.2f)' % auc_sv)\n",
        "plt.xlabel('False Positive Rate')\n",
        "plt.ylabel('True Positive Rate')\n",
        "plt.title('Receiver Operating Characteristic (ROC) Curve')\n",
        "plt.legend()\n",
        "plt.show()\n",
        "print(roc_auc_score(y_test, y_pred_sv))"
      ],
      "execution_count": 136,
      "outputs": [
        {
          "output_type": "display_data",
          "data": {
            "image/png": "[encoded data removed]",
            "text/plain": [
              "<Figure size 432x288 with 1 Axes>"
            ]
          },
          "metadata": {
            "tags": [],
            "needs_background": "light"
          }
        },
        {
          "output_type": "stream",
          "text": [
            "0.941373640924539\n"
          ],
          "name": "stdout"
        }
      ]
    },
    {
      "cell_type": "code",
      "metadata": {
        "id": "K6utvUbHpbl1"
      },
      "source": [
        "param_grid={'C':[0.1,1,0.2,0.5,0.001,0.05,0.02],'gamma':[1,0.5,0.001,0.1,0.01,0.0001]}"
      ],
      "execution_count": 137,
      "outputs": []
    },
    {
      "cell_type": "code",
      "metadata": {
        "colab": {
          "base_uri": "https://localhost:8080/"
        },
        "id": "pUs_Z5gypbjq",
        "outputId": "0ff598e8-5040-4d66-b873-70349884cebc"
      },
      "source": [
        "grid_sv = GridSearchCV(sv,param_grid, verbose=3, n_jobs=-1)\n",
        "grid_sv.fit(x_train,y_train)"
      ],
      "execution_count": 138,
      "outputs": [
        {
          "output_type": "stream",
          "text": [
            "Fitting 5 folds for each of 42 candidates, totalling 210 fits\n"
          ],
          "name": "stdout"
        },
        {
          "output_type": "stream",
          "text": [
            "[Parallel(n_jobs=-1)]: Using backend LokyBackend with 2 concurrent workers.\n",
            "[Parallel(n_jobs=-1)]: Done  28 tasks      | elapsed:  4.6min\n",
            "[Parallel(n_jobs=-1)]: Done 124 tasks      | elapsed: 17.6min\n",
            "[Parallel(n_jobs=-1)]: Done 210 out of 210 | elapsed: 32.5min finished\n"
          ],
          "name": "stderr"
        },
        {
          "output_type": "execute_result",
          "data": {
            "text/plain": [
              "GridSearchCV(cv=None, error_score=nan,\n",
              "             estimator=SVC(C=1.0, break_ties=False, cache_size=200,\n",
              "                           class_weight=None, coef0=0.0,\n",
              "                           decision_function_shape='ovr', degree=3,\n",
              "                           gamma='scale', kernel='rbf', max_iter=-1,\n",
              "                           probability=True, random_state=265, shrinking=True,\n",
              "                           tol=0.001, verbose=False),\n",
              "             iid='deprecated', n_jobs=-1,\n",
              "             param_grid={'C': [0.1, 1, 0.2, 0.5, 0.001, 0.05, 0.02],\n",
              "                         'gamma': [1, 0.5, 0.001, 0.1, 0.01, 0.0001]},\n",
              "             pre_dispatch='2*n_jobs', refit=True, return_train_score=False,\n",
              "             scoring=None, verbose=3)"
            ]
          },
          "metadata": {
            "tags": []
          },
          "execution_count": 138
        }
      ]
    },
    {
      "cell_type": "code",
      "metadata": {
        "colab": {
          "base_uri": "https://localhost:8080/"
        },
        "id": "LiTTPHBwfPtC",
        "outputId": "73e0bd5b-c87b-4917-b634-321a49b31fb6"
      },
      "source": [
        "grid_sv.best_params_"
      ],
      "execution_count": 161,
      "outputs": [
        {
          "output_type": "execute_result",
          "data": {
            "text/plain": [
              "{'C': 1, 'gamma': 0.1}"
            ]
          },
          "metadata": {
            "tags": []
          },
          "execution_count": 161
        }
      ]
    },
    {
      "cell_type": "code",
      "metadata": {
        "colab": {
          "base_uri": "https://localhost:8080/"
        },
        "id": "L4khFEYvfffh",
        "outputId": "ea604f56-ca51-4a4e-ee86-67bc71693b33"
      },
      "source": [
        "sv1 = SVC(probability = True, random_state = 265,C = 1,gamma = 0.1)\n",
        "sv1.fit(x_train,y_train)"
      ],
      "execution_count": 163,
      "outputs": [
        {
          "output_type": "execute_result",
          "data": {
            "text/plain": [
              "SVC(C=1, break_ties=False, cache_size=200, class_weight=None, coef0=0.0,\n",
              "    decision_function_shape='ovr', degree=3, gamma=0.1, kernel='rbf',\n",
              "    max_iter=-1, probability=True, random_state=265, shrinking=True, tol=0.001,\n",
              "    verbose=False)"
            ]
          },
          "metadata": {
            "tags": []
          },
          "execution_count": 163
        }
      ]
    },
    {
      "cell_type": "code",
      "metadata": {
        "colab": {
          "base_uri": "https://localhost:8080/"
        },
        "id": "uwNFp02Rf7nY",
        "outputId": "c576f930-ef19-4d9e-d938-c46b737b1b0f"
      },
      "source": [
        "y_pred_sv1 = sv1.predict(x_test);y_pred_sv1"
      ],
      "execution_count": 164,
      "outputs": [
        {
          "output_type": "execute_result",
          "data": {
            "text/plain": [
              "array([-1,  1, -1, ...,  1,  1,  1])"
            ]
          },
          "metadata": {
            "tags": []
          },
          "execution_count": 164
        }
      ]
    },
    {
      "cell_type": "code",
      "metadata": {
        "colab": {
          "base_uri": "https://localhost:8080/"
        },
        "id": "4qmTawgsffcx",
        "outputId": "75530044-1d73-4104-9125-35523adf31ac"
      },
      "source": [
        "confusion_matrix(y_test,y_pred_sv1)"
      ],
      "execution_count": 165,
      "outputs": [
        {
          "output_type": "execute_result",
          "data": {
            "text/plain": [
              "array([[1380,  100],\n",
              "       [  40, 1797]])"
            ]
          },
          "metadata": {
            "tags": []
          },
          "execution_count": 165
        }
      ]
    },
    {
      "cell_type": "code",
      "metadata": {
        "colab": {
          "base_uri": "https://localhost:8080/"
        },
        "id": "7sj_KDfegQfQ",
        "outputId": "84c8731e-393e-4e79-c673-02974d6a329d"
      },
      "source": [
        "accuracy_score(y_test,y_pred_sv1)"
      ],
      "execution_count": 166,
      "outputs": [
        {
          "output_type": "execute_result",
          "data": {
            "text/plain": [
              "0.9577931866144106"
            ]
          },
          "metadata": {
            "tags": []
          },
          "execution_count": 166
        }
      ]
    },
    {
      "cell_type": "code",
      "metadata": {
        "colab": {
          "base_uri": "https://localhost:8080/"
        },
        "id": "fPKgGkzvgQc6",
        "outputId": "7a922390-02ac-4563-a130-e95ae8d7c81f"
      },
      "source": [
        "print(classification_report(y_test,y_pred_sv1))"
      ],
      "execution_count": 167,
      "outputs": [
        {
          "output_type": "stream",
          "text": [
            "              precision    recall  f1-score   support\n",
            "\n",
            "          -1       0.97      0.93      0.95      1480\n",
            "           1       0.95      0.98      0.96      1837\n",
            "\n",
            "    accuracy                           0.96      3317\n",
            "   macro avg       0.96      0.96      0.96      3317\n",
            "weighted avg       0.96      0.96      0.96      3317\n",
            "\n"
          ],
          "name": "stdout"
        }
      ]
    },
    {
      "cell_type": "code",
      "metadata": {
        "colab": {
          "base_uri": "https://localhost:8080/"
        },
        "id": "xXQtHnJmgQZt",
        "outputId": "ce01fb1f-f86b-479d-a3b6-19692b9a656c"
      },
      "source": [
        "auc_sv1 = roc_auc_score(y_test,y_pred_sv1);auc_sv1"
      ],
      "execution_count": 168,
      "outputs": [
        {
          "output_type": "execute_result",
          "data": {
            "text/plain": [
              "0.9553288999396784"
            ]
          },
          "metadata": {
            "tags": []
          },
          "execution_count": 168
        }
      ]
    },
    {
      "cell_type": "code",
      "metadata": {
        "colab": {
          "base_uri": "https://localhost:8080/"
        },
        "id": "UaBrwXk_g5Sl",
        "outputId": "283f4aa8-27c6-4a90-c877-fdc58c930efd"
      },
      "source": [
        "y_pred_prob_sv1 = sv1.predict_proba(x_test);y_pred_prob_sv1"
      ],
      "execution_count": 169,
      "outputs": [
        {
          "output_type": "execute_result",
          "data": {
            "text/plain": [
              "array([[0.80043569, 0.19956431],\n",
              "       [0.02878463, 0.97121537],\n",
              "       [0.99438219, 0.00561781],\n",
              "       ...,\n",
              "       [0.03873155, 0.96126845],\n",
              "       [0.02878153, 0.97121847],\n",
              "       [0.06263341, 0.93736659]])"
            ]
          },
          "metadata": {
            "tags": []
          },
          "execution_count": 169
        }
      ]
    },
    {
      "cell_type": "code",
      "metadata": {
        "colab": {
          "base_uri": "https://localhost:8080/",
          "height": 313
        },
        "id": "5VXYTyBXhJ1H",
        "outputId": "4c1f953f-ddf4-43eb-c9af-80c32d56239d"
      },
      "source": [
        "fpr,tpr,thresholds = roc_curve(y_test,y_pred_prob_sv1[:,1])\n",
        "\n",
        "# ROC curve\n",
        "plt.plot(fpr, tpr, color='orange', label='ROC')\n",
        "plt.plot([0, 1], [0, 1], color='darkblue', linestyle='--',label='ROC curve (area = %0.2f)' % auc_sv1)\n",
        "plt.xlabel('False Positive Rate')\n",
        "plt.ylabel('True Positive Rate')\n",
        "plt.title('Receiver Operating Characteristic (ROC) Curve')\n",
        "plt.legend()\n",
        "plt.show()\n",
        "print(roc_auc_score(y_test, y_pred_sv1))"
      ],
      "execution_count": 170,
      "outputs": [
        {
          "output_type": "display_data",
          "data": {
            "image/png": "[encoded data removed]",
            "text/plain": [
              "<Figure size 432x288 with 1 Axes>"
            ]
          },
          "metadata": {
            "tags": [],
            "needs_background": "light"
          }
        },
        {
          "output_type": "stream",
          "text": [
            "0.9553288999396784\n"
          ],
          "name": "stdout"
        }
      ]
    },
    {
      "cell_type": "markdown",
      "metadata": {
        "id": "s5Dfs9veS8Bu"
      },
      "source": [
        "## Naive Bayes"
      ]
    },
    {
      "cell_type": "code",
      "metadata": {
        "colab": {
          "base_uri": "https://localhost:8080/"
        },
        "id": "ejlLrU7OS6so",
        "outputId": "38658f2f-f6ff-4443-c1e4-2e75493306c1"
      },
      "source": [
        "from sklearn.naive_bayes import GaussianNB\n",
        "nb = GaussianNB()\n",
        "nb.fit(x_train,y_train)"
      ],
      "execution_count": 147,
      "outputs": [
        {
          "output_type": "execute_result",
          "data": {
            "text/plain": [
              "GaussianNB(priors=None, var_smoothing=1e-09)"
            ]
          },
          "metadata": {
            "tags": []
          },
          "execution_count": 147
        }
      ]
    },
    {
      "cell_type": "code",
      "metadata": {
        "colab": {
          "base_uri": "https://localhost:8080/"
        },
        "id": "-GWNjD2pdmK9",
        "outputId": "47da2c36-534d-4927-abcb-bcb5eb39367c"
      },
      "source": [
        "y_pred_nb = nb.predict(x_test);y_pred_nb"
      ],
      "execution_count": 151,
      "outputs": [
        {
          "output_type": "execute_result",
          "data": {
            "text/plain": [
              "array([-1, -1, -1, ..., -1,  1, -1])"
            ]
          },
          "metadata": {
            "tags": []
          },
          "execution_count": 151
        }
      ]
    },
    {
      "cell_type": "code",
      "metadata": {
        "colab": {
          "base_uri": "https://localhost:8080/"
        },
        "id": "l8rscqordmH7",
        "outputId": "7f6c8d5b-507a-455a-a9c0-940607537485"
      },
      "source": [
        "confusion_matrix(y_test,y_pred_nb)"
      ],
      "execution_count": 152,
      "outputs": [
        {
          "output_type": "execute_result",
          "data": {
            "text/plain": [
              "array([[1476,    4],\n",
              "       [1329,  508]])"
            ]
          },
          "metadata": {
            "tags": []
          },
          "execution_count": 152
        }
      ]
    },
    {
      "cell_type": "code",
      "metadata": {
        "colab": {
          "base_uri": "https://localhost:8080/"
        },
        "id": "f0IPMH0GdmFy",
        "outputId": "ae42a151-9a3c-43fa-b600-2d32ee264112"
      },
      "source": [
        "accuracy_score(y_test,y_pred_nb)"
      ],
      "execution_count": 153,
      "outputs": [
        {
          "output_type": "execute_result",
          "data": {
            "text/plain": [
              "0.5981308411214953"
            ]
          },
          "metadata": {
            "tags": []
          },
          "execution_count": 153
        }
      ]
    },
    {
      "cell_type": "code",
      "metadata": {
        "colab": {
          "base_uri": "https://localhost:8080/"
        },
        "id": "FPPrcbcJeKvf",
        "outputId": "a66df97f-8cc3-4a53-e37c-8659fbc8a63d"
      },
      "source": [
        "print(classification_report(y_test,y_pred_nb))"
      ],
      "execution_count": 154,
      "outputs": [
        {
          "output_type": "stream",
          "text": [
            "              precision    recall  f1-score   support\n",
            "\n",
            "          -1       0.53      1.00      0.69      1480\n",
            "           1       0.99      0.28      0.43      1837\n",
            "\n",
            "    accuracy                           0.60      3317\n",
            "   macro avg       0.76      0.64      0.56      3317\n",
            "weighted avg       0.78      0.60      0.55      3317\n",
            "\n"
          ],
          "name": "stdout"
        }
      ]
    },
    {
      "cell_type": "code",
      "metadata": {
        "colab": {
          "base_uri": "https://localhost:8080/"
        },
        "id": "HtT7R15Ie6ur",
        "outputId": "5ab09d7a-22fe-474a-dbe1-c115abbfa454"
      },
      "source": [
        "auc_nb = roc_auc_score(y_test,y_pred_nb);auc_nb"
      ],
      "execution_count": 158,
      "outputs": [
        {
          "output_type": "execute_result",
          "data": {
            "text/plain": [
              "0.6369175653606791"
            ]
          },
          "metadata": {
            "tags": []
          },
          "execution_count": 158
        }
      ]
    },
    {
      "cell_type": "code",
      "metadata": {
        "colab": {
          "base_uri": "https://localhost:8080/"
        },
        "id": "yhxsJTnTdmDB",
        "outputId": "4f08ace5-37a9-4bbc-aa9c-1bd5ab7305ea"
      },
      "source": [
        "y_pred_prob_nb = nb.predict_proba(x_test);y_pred_prob_nb"
      ],
      "execution_count": 155,
      "outputs": [
        {
          "output_type": "execute_result",
          "data": {
            "text/plain": [
              "array([[9.99999838e-01, 1.62388315e-07],\n",
              "       [9.99849340e-01, 1.50659969e-04],\n",
              "       [1.00000000e+00, 5.32313030e-11],\n",
              "       ...,\n",
              "       [9.98196206e-01, 1.80379415e-03],\n",
              "       [4.99917679e-01, 5.00082321e-01],\n",
              "       [9.94776801e-01, 5.22319879e-03]])"
            ]
          },
          "metadata": {
            "tags": []
          },
          "execution_count": 155
        }
      ]
    },
    {
      "cell_type": "code",
      "metadata": {
        "colab": {
          "base_uri": "https://localhost:8080/",
          "height": 313
        },
        "id": "ltBv5tvCeplv",
        "outputId": "6950a61d-826a-43c6-956f-7e64406fcaaf"
      },
      "source": [
        "fpr,tpr,thresholds = roc_curve(y_test,y_pred_prob_nb[:,1])\n",
        "\n",
        "# ROC curve\n",
        "plt.plot(fpr, tpr, color='orange', label='ROC')\n",
        "plt.plot([0, 1], [0, 1], color='darkblue', linestyle='--',label='ROC curve (area = %0.2f)' % auc_nb)\n",
        "plt.xlabel('False Positive Rate')\n",
        "plt.ylabel('True Positive Rate')\n",
        "plt.title('Receiver Operating Characteristic (ROC) Curve')\n",
        "plt.legend()\n",
        "plt.show()\n",
        "print(roc_auc_score(y_test, y_pred_nb))"
      ],
      "execution_count": 160,
      "outputs": [
        {
          "output_type": "display_data",
          "data": {
            "image/png": "[encoded data removed]",
            "text/plain": [
              "<Figure size 432x288 with 1 Axes>"
            ]
          },
          "metadata": {
            "tags": [],
            "needs_background": "light"
          }
        },
        {
          "output_type": "stream",
          "text": [
            "0.6369175653606791\n"
          ],
          "name": "stdout"
        }
      ]
    },
    {
      "cell_type": "markdown",
      "metadata": {
        "id": "8G7AGWnwfL3R"
      },
      "source": [
        "## Stacking"
      ]
    },
    {
      "cell_type": "code",
      "metadata": {
        "id": "GoCzuYIVpbb1"
      },
      "source": [
        "# let's divide our dataset into training set and hold out set by 50%\n",
        "train,val_train,test,val_test = train_test_split(X,y,test_size=0.5, random_state= 265)\n",
        "\n",
        "# let's split the training set again into training and test dataset \n",
        "x_train1,x_test1,y_train1,y_test1 =  train_test_split(train,test,test_size=0.2, random_state= 265)"
      ],
      "execution_count": 172,
      "outputs": []
    },
    {
      "cell_type": "code",
      "metadata": {
        "colab": {
          "base_uri": "https://localhost:8080/"
        },
        "id": "LJwD__05RR8i",
        "outputId": "8c56fbc3-69ec-4239-8314-c4990b276c21"
      },
      "source": [
        "xgb = XGBClassifier(random_state=265)\n",
        "print(xgb.fit(x_train1,y_train1))\n",
        "\n",
        "log_reg = LogisticRegression(random_state=265)\n",
        "print(log_reg.fit(x_train1,y_train1))\n",
        "\n",
        "dt = DecisionTreeClassifier(random_state = 265)\n",
        "print(dt.fit(x_train1,y_train1))\n",
        "\n",
        "rf = RandomForestClassifier(random_state = 265)\n",
        "print(rf.fit(x_train1,y_train1))\n",
        "\n",
        "ada = AdaBoostClassifier(random_state=265)\n",
        "print(ada.fit(x_train1,y_train1))\n",
        "\n",
        "gb = GradientBoostingClassifier(random_state = 265)\n",
        "print(gb.fit(x_train1,y_train1))\n",
        "\n",
        "knn = KNeighborsClassifier()\n",
        "print(knn.fit(x_train1,y_train1))\n",
        "\n",
        "svm = SVC(probability = True, random_state=265)\n",
        "print(svm.fit(x_train1,y_train1))\n",
        "\n",
        "nb = GaussianNB()\n",
        "print(nb.fit(x_train1,y_train1))"
      ],
      "execution_count": 174,
      "outputs": [
        {
          "output_type": "stream",
          "text": [
            "XGBClassifier(base_score=0.5, booster='gbtree', colsample_bylevel=1,\n",
            "              colsample_bynode=1, colsample_bytree=1, gamma=0,\n",
            "              learning_rate=0.1, max_delta_step=0, max_depth=3,\n",
            "              min_child_weight=1, missing=None, n_estimators=100, n_jobs=1,\n",
            "              nthread=None, objective='binary:logistic', random_state=265,\n",
            "              reg_alpha=0, reg_lambda=1, scale_pos_weight=1, seed=None,\n",
            "              silent=None, subsample=1, verbosity=1)\n",
            "LogisticRegression(C=1.0, class_weight=None, dual=False, fit_intercept=True,\n",
            "                   intercept_scaling=1, l1_ratio=None, max_iter=100,\n",
            "                   multi_class='auto', n_jobs=None, penalty='l2',\n",
            "                   random_state=265, solver='lbfgs', tol=0.0001, verbose=0,\n",
            "                   warm_start=False)\n",
            "DecisionTreeClassifier(ccp_alpha=0.0, class_weight=None, criterion='gini',\n",
            "                       max_depth=None, max_features=None, max_leaf_nodes=None,\n",
            "                       min_impurity_decrease=0.0, min_impurity_split=None,\n",
            "                       min_samples_leaf=1, min_samples_split=2,\n",
            "                       min_weight_fraction_leaf=0.0, presort='deprecated',\n",
            "                       random_state=265, splitter='best')\n",
            "RandomForestClassifier(bootstrap=True, ccp_alpha=0.0, class_weight=None,\n",
            "                       criterion='gini', max_depth=None, max_features='auto',\n",
            "                       max_leaf_nodes=None, max_samples=None,\n",
            "                       min_impurity_decrease=0.0, min_impurity_split=None,\n",
            "                       min_samples_leaf=1, min_samples_split=2,\n",
            "                       min_weight_fraction_leaf=0.0, n_estimators=100,\n",
            "                       n_jobs=None, oob_score=False, random_state=265,\n",
            "                       verbose=0, warm_start=False)\n",
            "AdaBoostClassifier(algorithm='SAMME.R', base_estimator=None, learning_rate=1.0,\n",
            "                   n_estimators=50, random_state=265)\n",
            "GradientBoostingClassifier(ccp_alpha=0.0, criterion='friedman_mse', init=None,\n",
            "                           learning_rate=0.1, loss='deviance', max_depth=3,\n",
            "                           max_features=None, max_leaf_nodes=None,\n",
            "                           min_impurity_decrease=0.0, min_impurity_split=None,\n",
            "                           min_samples_leaf=1, min_samples_split=2,\n",
            "                           min_weight_fraction_leaf=0.0, n_estimators=100,\n",
            "                           n_iter_no_change=None, presort='deprecated',\n",
            "                           random_state=265, subsample=1.0, tol=0.0001,\n",
            "                           validation_fraction=0.1, verbose=0,\n",
            "                           warm_start=False)\n",
            "KNeighborsClassifier(algorithm='auto', leaf_size=30, metric='minkowski',\n",
            "                     metric_params=None, n_jobs=None, n_neighbors=5, p=2,\n",
            "                     weights='uniform')\n",
            "SVC(C=1.0, break_ties=False, cache_size=200, class_weight=None, coef0=0.0,\n",
            "    decision_function_shape='ovr', degree=3, gamma='scale', kernel='rbf',\n",
            "    max_iter=-1, probability=True, random_state=265, shrinking=True, tol=0.001,\n",
            "    verbose=False)\n",
            "GaussianNB(priors=None, var_smoothing=1e-09)\n"
          ],
          "name": "stdout"
        }
      ]
    },
    {
      "cell_type": "code",
      "metadata": {
        "id": "OOw7cc8opbYO",
        "colab": {
          "base_uri": "https://localhost:8080/"
        },
        "outputId": "179b2960-1c54-4643-c2d5-271248d517dc"
      },
      "source": [
        "predict_val1 = knn.predict(val_train)\n",
        "predict_val2 = rf.predict(val_train)\n",
        "predict_val3 = gb.predict(val_train)\n",
        "predict_val4 = log_reg.predict(val_train)\n",
        "predict_val5 = ada.predict(val_train)\n",
        "predict_val6 = dt.predict(val_train)\n",
        "predict_val7 = nb.predict(val_train)\n",
        "predict_val8 = svm.predict(val_train)\n",
        "\n",
        "predict_val = np.column_stack((predict_val1,predict_val2,predict_val3,predict_val4,predict_val5,predict_val6,predict_val7,predict_val8))\n",
        "predict_val"
      ],
      "execution_count": 175,
      "outputs": [
        {
          "output_type": "execute_result",
          "data": {
            "text/plain": [
              "array([[-1,  1, -1, ...,  1, -1, -1],\n",
              "       [ 1,  1,  1, ...,  1, -1,  1],\n",
              "       [-1, -1, -1, ..., -1, -1, -1],\n",
              "       ...,\n",
              "       [-1, -1, -1, ..., -1, -1, -1],\n",
              "       [ 1,  1,  1, ...,  1, -1,  1],\n",
              "       [ 1,  1, -1, ...,  1, -1, -1]])"
            ]
          },
          "metadata": {
            "tags": []
          },
          "execution_count": 175
        }
      ]
    },
    {
      "cell_type": "code",
      "metadata": {
        "id": "EUYltj2cpbVz",
        "colab": {
          "base_uri": "https://localhost:8080/"
        },
        "outputId": "c91e54e0-b4f4-4b0f-c926-66ca9c25014b"
      },
      "source": [
        "predict_test1 = knn.predict(x_test1)\n",
        "predict_test2 = rf.predict(x_test1)\n",
        "predict_test3 = gb.predict(x_test1)\n",
        "predict_test4 = log_reg.predict(x_test1)\n",
        "predict_test5 = ada.predict(x_test1)\n",
        "predict_test6 = dt.predict(x_test1)\n",
        "predict_test7 = nb.predict(x_test1)\n",
        "predict_test8 = svm.predict(x_test1)\n",
        "\n",
        "predict_test = np.column_stack((predict_test1,predict_test2,predict_test3,predict_test4,predict_test5,predict_test6,predict_test7,predict_test8))\n",
        "predict_test"
      ],
      "execution_count": 179,
      "outputs": [
        {
          "output_type": "execute_result",
          "data": {
            "text/plain": [
              "array([[ 1,  1,  1, ...,  1, -1,  1],\n",
              "       [ 1,  1,  1, ...,  1, -1,  1],\n",
              "       [-1,  1,  1, ...,  1,  1,  1],\n",
              "       ...,\n",
              "       [-1, -1, -1, ..., -1, -1, -1],\n",
              "       [-1, -1, -1, ..., -1, -1, -1],\n",
              "       [ 1,  1,  1, ...,  1, -1,  1]])"
            ]
          },
          "metadata": {
            "tags": []
          },
          "execution_count": 179
        }
      ]
    },
    {
      "cell_type": "code",
      "metadata": {
        "colab": {
          "base_uri": "https://localhost:8080/"
        },
        "id": "PyxyKD5g-ehu",
        "outputId": "b7159dbc-db50-4426-9030-75eb3b9b9fe2"
      },
      "source": [
        "xg = xgb.fit(predict_val,val_test)\n",
        "xgb.score(predict_test,y_test1)"
      ],
      "execution_count": 182,
      "outputs": [
        {
          "output_type": "execute_result",
          "data": {
            "text/plain": [
              "0.9584086799276673"
            ]
          },
          "metadata": {
            "tags": []
          },
          "execution_count": 182
        }
      ]
    },
    {
      "cell_type": "markdown",
      "metadata": {
        "id": "4ag2a-UpoDuT"
      },
      "source": [
        "###### Random Forest gives better prediction compare to other models."
      ]
    }
  ]
}